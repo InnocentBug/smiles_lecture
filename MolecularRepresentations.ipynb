{
 "cells": [
  {
   "cell_type": "markdown",
   "id": "yjUA7r1kIShi",
   "metadata": {
    "id": "yjUA7r1kIShi"
   },
   "source": [
    "# Molecular Representations\n",
    "\n",
    "Please execute the first code cell as soon as you open this Notebook.\n",
    "This installs dependencies, and prepares the Notebookd for later interactive sessions during the lecture."
   ]
  },
  {
   "cell_type": "code",
   "execution_count": 18,
   "id": "f95c282a-f1aa-437b-82ed-8a93382a9b6e",
   "metadata": {
    "colab": {
     "base_uri": "https://localhost:8080/"
    },
    "id": "f95c282a-f1aa-437b-82ed-8a93382a9b6e",
    "outputId": "9d6d6581-aece-4b39-f858-772856201cf2"
   },
   "outputs": [
    {
     "name": "stdout",
     "output_type": "stream",
     "text": [
      "Cloning into 'smiles_lecture'...\n",
      "remote: Enumerating objects: 22, done.\u001b[K\n",
      "remote: Counting objects: 100% (22/22), done.\u001b[K\n",
      "remote: Compressing objects: 100% (17/17), done.\u001b[K\n",
      "Receiving objects: 100% (22/22), 6.72 KiB | 6.72 MiB/s, done.\n",
      "remote: Total 22 (delta 7), reused 16 (delta 4), pack-reused 0\u001b[K\n",
      "Resolving deltas: 100% (7/7), done.\n",
      "  Installing build dependencies ... \u001b[?25l\u001b[?25hdone\n",
      "  Getting requirements to build wheel ... \u001b[?25l\u001b[?25hdone\n",
      "  Preparing metadata (pyproject.toml) ... \u001b[?25l\u001b[?25hdone\n",
      "  Preparing metadata (setup.py) ... \u001b[?25l\u001b[?25hdone\n"
     ]
    }
   ],
   "source": [
    "!rm -rf smiles_lecture\n",
    "!git clone https://github.com/InnocentBug/smiles_lecture.git\n",
    "!pip install -r smiles_lecture/requirements.txt --quiet\n",
    "!cp smiles_lecture/util.py ./\n",
    "\n",
    "import rdkit\n",
    "import rdkit.Chem"
   ]
  },
  {
   "cell_type": "code",
   "execution_count": 70,
   "id": "PGWVPPRtI0dY",
   "metadata": {
    "id": "PGWVPPRtI0dY"
   },
   "outputs": [],
   "source": [
    "from util import get_iupac_name, render_mol"
   ]
  },
  {
   "cell_type": "markdown",
   "id": "mJqX95PvIpMB",
   "metadata": {
    "id": "mJqX95PvIpMB"
   },
   "source": [
    "## SMILES\n",
    "\n",
    "This is an introduction into the SMILES line notation.\n",
    "\n",
    "### Simple linear organic molecules\n",
    "\n",
    "Let's start with some simple alkanes, which have just a carbon backbone.\n",
    "With SMILES we can omit the hydrogens and write carbon simply as `C`."
   ]
  },
  {
   "cell_type": "code",
   "execution_count": 71,
   "id": "03194f7c-e7a9-4ab1-8a19-07c938b7a3bb",
   "metadata": {
    "colab": {
     "base_uri": "https://localhost:8080/",
     "height": 188
    },
    "id": "03194f7c-e7a9-4ab1-8a19-07c938b7a3bb",
    "outputId": "c2db0547-c84e-43e8-b4d3-20e620c7d156"
   },
   "outputs": [
    {
     "name": "stdout",
     "output_type": "stream",
     "text": [
      "methane C\n"
     ]
    },
    {
     "data": {
      "image/svg+xml": [
       "<svg xmlns=\"http://www.w3.org/2000/svg\" xmlns:rdkit=\"http://www.rdkit.org/xml\" xmlns:xlink=\"http://www.w3.org/1999/xlink\" version=\"1.1\" baseProfile=\"full\" xml:space=\"preserve\" width=\"450px\" height=\"150px\" viewBox=\"0 0 450 150\">\n",
       "<!-- END OF HEADER -->\n",
       "<rect style=\"opacity:1.0;fill:#FFFFFF;stroke:none\" width=\"450.0\" height=\"150.0\" x=\"0.0\" y=\"0.0\"> </rect>\n",
       "<path class=\"atom-0\" d=\"M 191.1 68.0 Q 191.1 61.0, 194.4 57.3 Q 197.7 53.6, 204.0 53.6 Q 209.8 53.6, 213.0 57.7 L 210.3 59.9 Q 208.0 56.9, 204.0 56.9 Q 199.7 56.9, 197.4 59.8 Q 195.2 62.6, 195.2 68.0 Q 195.2 73.6, 197.5 76.5 Q 199.9 79.4, 204.4 79.4 Q 207.6 79.4, 211.2 77.5 L 212.3 80.5 Q 210.8 81.5, 208.6 82.0 Q 206.4 82.6, 203.9 82.6 Q 197.7 82.6, 194.4 78.8 Q 191.1 75.1, 191.1 68.0 \" fill=\"#000000\"/>\n",
       "<path class=\"atom-0\" d=\"M 216.7 53.9 L 220.6 53.9 L 220.6 66.0 L 235.1 66.0 L 235.1 53.9 L 238.9 53.9 L 238.9 82.2 L 235.1 82.2 L 235.1 69.2 L 220.6 69.2 L 220.6 82.2 L 216.7 82.2 L 216.7 53.9 \" fill=\"#000000\"/>\n",
       "<path class=\"atom-0\" d=\"M 256.6 90.0 L 258.9 90.0 L 258.9 92.1 L 256.6 92.1 L 256.6 96.4 L 254.2 96.4 L 254.2 92.1 L 244.5 92.1 L 244.5 90.4 L 252.7 77.7 L 256.6 77.7 L 256.6 90.0 M 247.6 90.0 L 254.2 90.0 L 254.2 79.4 L 247.6 90.0 \" fill=\"#000000\"/>\n",
       "</svg>"
      ],
      "text/plain": [
       "<IPython.core.display.SVG object>"
      ]
     },
     "execution_count": 71,
     "metadata": {},
     "output_type": "execute_result"
    }
   ],
   "source": [
    "smiles = \"C\"\n",
    "print(get_iupac_name(smiles), smiles)\n",
    "mol = rdkit.Chem.MolFromSmiles(smiles)\n",
    "render_mol(mol)"
   ]
  },
  {
   "cell_type": "code",
   "execution_count": 72,
   "id": "HYCnxaCuKRgO",
   "metadata": {
    "colab": {
     "base_uri": "https://localhost:8080/",
     "height": 188
    },
    "id": "HYCnxaCuKRgO",
    "outputId": "e58bb378-d9ee-48df-85a2-ef7e9098e60d"
   },
   "outputs": [
    {
     "name": "stdout",
     "output_type": "stream",
     "text": [
      "PROPANE CCC\n"
     ]
    },
    {
     "data": {
      "image/svg+xml": [
       "<svg xmlns=\"http://www.w3.org/2000/svg\" xmlns:rdkit=\"http://www.rdkit.org/xml\" xmlns:xlink=\"http://www.w3.org/1999/xlink\" version=\"1.1\" baseProfile=\"full\" xml:space=\"preserve\" width=\"450px\" height=\"150px\" viewBox=\"0 0 450 150\">\n",
       "<!-- END OF HEADER -->\n",
       "<rect style=\"opacity:1.0;fill:#FFFFFF;stroke:none\" width=\"450.0\" height=\"150.0\" x=\"0.0\" y=\"0.0\"> </rect>\n",
       "<path class=\"bond-0 atom-0 atom-1\" d=\"M 22.5,133.5 L 225.0,16.5\" style=\"fill:none;fill-rule:evenodd;stroke:#000000;stroke-width:2.0px;stroke-linecap:butt;stroke-linejoin:miter;stroke-opacity:1\"/>\n",
       "<path class=\"bond-1 atom-1 atom-2\" d=\"M 225.0,16.5 L 427.5,133.5\" style=\"fill:none;fill-rule:evenodd;stroke:#000000;stroke-width:2.0px;stroke-linecap:butt;stroke-linejoin:miter;stroke-opacity:1\"/>\n",
       "<path d=\"M 214.9,22.4 L 225.0,16.5 L 235.1,22.4\" style=\"fill:none;stroke:#000000;stroke-width:2.0px;stroke-linecap:butt;stroke-linejoin:miter;stroke-opacity:1;\"/>\n",
       "</svg>"
      ],
      "text/plain": [
       "<IPython.core.display.SVG object>"
      ]
     },
     "execution_count": 72,
     "metadata": {},
     "output_type": "execute_result"
    }
   ],
   "source": [
    "smiles = \"CCC\"\n",
    "print(get_iupac_name(smiles), smiles)\n",
    "mol = rdkit.Chem.MolFromSmiles(smiles)\n",
    "render_mol(mol)"
   ]
  },
  {
   "cell_type": "code",
   "execution_count": 73,
   "id": "IdGSwWj-KhMm",
   "metadata": {
    "colab": {
     "base_uri": "https://localhost:8080/",
     "height": 188
    },
    "id": "IdGSwWj-KhMm",
    "outputId": "961c7dbb-c8dd-4f36-a182-d4c244ddd217"
   },
   "outputs": [
    {
     "name": "stdout",
     "output_type": "stream",
     "text": [
      "Hexane CCCCCC\n"
     ]
    },
    {
     "data": {
      "image/svg+xml": [
       "<svg xmlns=\"http://www.w3.org/2000/svg\" xmlns:rdkit=\"http://www.rdkit.org/xml\" xmlns:xlink=\"http://www.w3.org/1999/xlink\" version=\"1.1\" baseProfile=\"full\" xml:space=\"preserve\" width=\"450px\" height=\"150px\" viewBox=\"0 0 450 150\">\n",
       "<!-- END OF HEADER -->\n",
       "<rect style=\"opacity:1.0;fill:#FFFFFF;stroke:none\" width=\"450.0\" height=\"150.0\" x=\"0.0\" y=\"0.0\"> </rect>\n",
       "<path class=\"bond-0 atom-0 atom-1\" d=\"M 22.5,88.0 L 105.4,45.6\" style=\"fill:none;fill-rule:evenodd;stroke:#000000;stroke-width:2.0px;stroke-linecap:butt;stroke-linejoin:miter;stroke-opacity:1\"/>\n",
       "<path class=\"bond-1 atom-1 atom-2\" d=\"M 105.4,45.6 L 183.6,96.2\" style=\"fill:none;fill-rule:evenodd;stroke:#000000;stroke-width:2.0px;stroke-linecap:butt;stroke-linejoin:miter;stroke-opacity:1\"/>\n",
       "<path class=\"bond-2 atom-2 atom-3\" d=\"M 183.6,96.2 L 266.4,53.8\" style=\"fill:none;fill-rule:evenodd;stroke:#000000;stroke-width:2.0px;stroke-linecap:butt;stroke-linejoin:miter;stroke-opacity:1\"/>\n",
       "<path class=\"bond-3 atom-3 atom-4\" d=\"M 266.4,53.8 L 344.6,104.4\" style=\"fill:none;fill-rule:evenodd;stroke:#000000;stroke-width:2.0px;stroke-linecap:butt;stroke-linejoin:miter;stroke-opacity:1\"/>\n",
       "<path class=\"bond-4 atom-4 atom-5\" d=\"M 344.6,104.4 L 427.5,62.0\" style=\"fill:none;fill-rule:evenodd;stroke:#000000;stroke-width:2.0px;stroke-linecap:butt;stroke-linejoin:miter;stroke-opacity:1\"/>\n",
       "<path d=\"M 101.2,47.7 L 105.4,45.6 L 109.3,48.1\" style=\"fill:none;stroke:#000000;stroke-width:2.0px;stroke-linecap:butt;stroke-linejoin:miter;stroke-opacity:1;\"/>\n",
       "<path d=\"M 179.6,93.7 L 183.6,96.2 L 187.7,94.1\" style=\"fill:none;stroke:#000000;stroke-width:2.0px;stroke-linecap:butt;stroke-linejoin:miter;stroke-opacity:1;\"/>\n",
       "<path d=\"M 262.3,55.9 L 266.4,53.8 L 270.4,56.3\" style=\"fill:none;stroke:#000000;stroke-width:2.0px;stroke-linecap:butt;stroke-linejoin:miter;stroke-opacity:1;\"/>\n",
       "<path d=\"M 340.7,101.9 L 344.6,104.4 L 348.8,102.3\" style=\"fill:none;stroke:#000000;stroke-width:2.0px;stroke-linecap:butt;stroke-linejoin:miter;stroke-opacity:1;\"/>\n",
       "</svg>"
      ],
      "text/plain": [
       "<IPython.core.display.SVG object>"
      ]
     },
     "execution_count": 73,
     "metadata": {},
     "output_type": "execute_result"
    }
   ],
   "source": [
    "smiles = \"CCCCCC\"\n",
    "print(get_iupac_name(smiles), smiles)\n",
    "mol = rdkit.Chem.MolFromSmiles(smiles)\n",
    "render_mol(mol)"
   ]
  },
  {
   "cell_type": "markdown",
   "id": "zD8NMYA2Kmfd",
   "metadata": {
    "id": "zD8NMYA2Kmfd"
   },
   "source": [
    "Similarly, we can use any of the organic subset as letter: `B, C, N, O, P, S, F, Cl, Br, I`\n",
    "\n",
    "This can create some more interesting molecules."
   ]
  },
  {
   "cell_type": "code",
   "execution_count": 74,
   "id": "s-VmvmAnK661",
   "metadata": {
    "colab": {
     "base_uri": "https://localhost:8080/",
     "height": 188
    },
    "id": "s-VmvmAnK661",
    "outputId": "c70271ad-6259-4244-d492-a4e5d4541bef"
   },
   "outputs": [
    {
     "name": "stdout",
     "output_type": "stream",
     "text": [
      "Propane-1,3-diol OCCCO\n"
     ]
    },
    {
     "data": {
      "image/svg+xml": [
       "<svg xmlns=\"http://www.w3.org/2000/svg\" xmlns:rdkit=\"http://www.rdkit.org/xml\" xmlns:xlink=\"http://www.w3.org/1999/xlink\" version=\"1.1\" baseProfile=\"full\" xml:space=\"preserve\" width=\"450px\" height=\"150px\" viewBox=\"0 0 450 150\">\n",
       "<!-- END OF HEADER -->\n",
       "<rect style=\"opacity:1.0;fill:#FFFFFF;stroke:none\" width=\"450.0\" height=\"150.0\" x=\"0.0\" y=\"0.0\"> </rect>\n",
       "<path class=\"bond-0 atom-0 atom-1\" d=\"M 76.8,67.0 L 110.2,86.3\" style=\"fill:none;fill-rule:evenodd;stroke:#FF0000;stroke-width:2.0px;stroke-linecap:butt;stroke-linejoin:miter;stroke-opacity:1\"/>\n",
       "<path class=\"bond-0 atom-0 atom-1\" d=\"M 110.2,86.3 L 143.5,105.5\" style=\"fill:none;fill-rule:evenodd;stroke:#000000;stroke-width:2.0px;stroke-linecap:butt;stroke-linejoin:miter;stroke-opacity:1\"/>\n",
       "<path class=\"bond-1 atom-1 atom-2\" d=\"M 143.5,105.5 L 225.7,58.1\" style=\"fill:none;fill-rule:evenodd;stroke:#000000;stroke-width:2.0px;stroke-linecap:butt;stroke-linejoin:miter;stroke-opacity:1\"/>\n",
       "<path class=\"bond-2 atom-2 atom-3\" d=\"M 225.7,58.1 L 307.8,105.5\" style=\"fill:none;fill-rule:evenodd;stroke:#000000;stroke-width:2.0px;stroke-linecap:butt;stroke-linejoin:miter;stroke-opacity:1\"/>\n",
       "<path class=\"bond-3 atom-3 atom-4\" d=\"M 307.8,105.5 L 341.2,86.3\" style=\"fill:none;fill-rule:evenodd;stroke:#000000;stroke-width:2.0px;stroke-linecap:butt;stroke-linejoin:miter;stroke-opacity:1\"/>\n",
       "<path class=\"bond-3 atom-3 atom-4\" d=\"M 341.2,86.3 L 374.5,67.0\" style=\"fill:none;fill-rule:evenodd;stroke:#FF0000;stroke-width:2.0px;stroke-linecap:butt;stroke-linejoin:miter;stroke-opacity:1\"/>\n",
       "<path d=\"M 141.8,104.5 L 143.5,105.5 L 147.6,103.1\" style=\"fill:none;stroke:#000000;stroke-width:2.0px;stroke-linecap:butt;stroke-linejoin:miter;stroke-opacity:1;\"/>\n",
       "<path d=\"M 221.6,60.4 L 225.7,58.1 L 229.8,60.4\" style=\"fill:none;stroke:#000000;stroke-width:2.0px;stroke-linecap:butt;stroke-linejoin:miter;stroke-opacity:1;\"/>\n",
       "<path d=\"M 303.7,103.1 L 307.8,105.5 L 309.5,104.5\" style=\"fill:none;stroke:#000000;stroke-width:2.0px;stroke-linecap:butt;stroke-linejoin:miter;stroke-opacity:1;\"/>\n",
       "<path class=\"atom-0\" d=\"M 22.5 44.8 L 26.1 44.8 L 26.1 56.2 L 39.9 56.2 L 39.9 44.8 L 43.5 44.8 L 43.5 71.7 L 39.9 71.7 L 39.9 59.3 L 26.1 59.3 L 26.1 71.7 L 22.5 71.7 L 22.5 44.8 \" fill=\"#FF0000\"/>\n",
       "<path class=\"atom-0\" d=\"M 49.0 58.2 Q 49.0 51.7, 52.2 48.1 Q 55.4 44.5, 61.4 44.5 Q 67.3 44.5, 70.5 48.1 Q 73.7 51.7, 73.7 58.2 Q 73.7 64.7, 70.5 68.4 Q 67.2 72.1, 61.4 72.1 Q 55.4 72.1, 52.2 68.4 Q 49.0 64.7, 49.0 58.2 M 61.4 69.0 Q 65.5 69.0, 67.7 66.3 Q 69.9 63.5, 69.9 58.2 Q 69.9 52.9, 67.7 50.2 Q 65.5 47.5, 61.4 47.5 Q 57.3 47.5, 55.0 50.2 Q 52.8 52.8, 52.8 58.2 Q 52.8 63.6, 55.0 66.3 Q 57.3 69.0, 61.4 69.0 \" fill=\"#FF0000\"/>\n",
       "<path class=\"atom-4\" d=\"M 377.6 58.2 Q 377.6 51.7, 380.8 48.1 Q 384.0 44.5, 390.0 44.5 Q 395.9 44.5, 399.1 48.1 Q 402.3 51.7, 402.3 58.2 Q 402.3 64.7, 399.1 68.4 Q 395.8 72.1, 390.0 72.1 Q 384.0 72.1, 380.8 68.4 Q 377.6 64.7, 377.6 58.2 M 390.0 69.0 Q 394.1 69.0, 396.3 66.3 Q 398.5 63.5, 398.5 58.2 Q 398.5 52.9, 396.3 50.2 Q 394.1 47.5, 390.0 47.5 Q 385.9 47.5, 383.6 50.2 Q 381.4 52.8, 381.4 58.2 Q 381.4 63.6, 383.6 66.3 Q 385.9 69.0, 390.0 69.0 \" fill=\"#FF0000\"/>\n",
       "<path class=\"atom-4\" d=\"M 406.5 44.8 L 410.1 44.8 L 410.1 56.2 L 423.9 56.2 L 423.9 44.8 L 427.5 44.8 L 427.5 71.7 L 423.9 71.7 L 423.9 59.3 L 410.1 59.3 L 410.1 71.7 L 406.5 71.7 L 406.5 44.8 \" fill=\"#FF0000\"/>\n",
       "</svg>"
      ],
      "text/plain": [
       "<IPython.core.display.SVG object>"
      ]
     },
     "execution_count": 74,
     "metadata": {},
     "output_type": "execute_result"
    }
   ],
   "source": [
    "smiles = \"OCCCO\"\n",
    "print(get_iupac_name(smiles), smiles)\n",
    "mol = rdkit.Chem.MolFromSmiles(smiles)\n",
    "render_mol(mol)"
   ]
  },
  {
   "cell_type": "code",
   "execution_count": 75,
   "id": "3_IXyhwNLJs_",
   "metadata": {
    "colab": {
     "base_uri": "https://localhost:8080/",
     "height": 188
    },
    "id": "3_IXyhwNLJs_",
    "outputId": "0c726af2-b3f6-44be-f5f4-df80e7ec3cde"
   },
   "outputs": [
    {
     "name": "stdout",
     "output_type": "stream",
     "text": [
      "Ethanamine CCN\n"
     ]
    },
    {
     "data": {
      "image/svg+xml": [
       "<svg xmlns=\"http://www.w3.org/2000/svg\" xmlns:rdkit=\"http://www.rdkit.org/xml\" xmlns:xlink=\"http://www.w3.org/1999/xlink\" version=\"1.1\" baseProfile=\"full\" xml:space=\"preserve\" width=\"450px\" height=\"150px\" viewBox=\"0 0 450 150\">\n",
       "<!-- END OF HEADER -->\n",
       "<rect style=\"opacity:1.0;fill:#FFFFFF;stroke:none\" width=\"450.0\" height=\"150.0\" x=\"0.0\" y=\"0.0\"> </rect>\n",
       "<path class=\"bond-0 atom-0 atom-1\" d=\"M 47.5,103.9 L 196.8,17.7\" style=\"fill:none;fill-rule:evenodd;stroke:#000000;stroke-width:2.0px;stroke-linecap:butt;stroke-linejoin:miter;stroke-opacity:1\"/>\n",
       "<path class=\"bond-1 atom-1 atom-2\" d=\"M 196.8,17.7 L 263.2,56.1\" style=\"fill:none;fill-rule:evenodd;stroke:#000000;stroke-width:2.0px;stroke-linecap:butt;stroke-linejoin:miter;stroke-opacity:1\"/>\n",
       "<path class=\"bond-1 atom-1 atom-2\" d=\"M 263.2,56.1 L 329.7,94.4\" style=\"fill:none;fill-rule:evenodd;stroke:#0000FF;stroke-width:2.0px;stroke-linecap:butt;stroke-linejoin:miter;stroke-opacity:1\"/>\n",
       "<path d=\"M 189.3,22.1 L 196.8,17.7 L 200.1,19.7\" style=\"fill:none;stroke:#000000;stroke-width:2.0px;stroke-linecap:butt;stroke-linejoin:miter;stroke-opacity:1;\"/>\n",
       "<path class=\"atom-2\" d=\"M 339.8 89.8 L 349.1 104.8 Q 350.0 106.3, 351.5 108.9 Q 353.0 111.6, 353.1 111.8 L 353.1 89.8 L 356.8 89.8 L 356.8 118.1 L 352.9 118.1 L 343.0 101.7 Q 341.8 99.8, 340.6 97.6 Q 339.4 95.4, 339.0 94.7 L 339.0 118.1 L 335.3 118.1 L 335.3 89.8 L 339.8 89.8 \" fill=\"#0000FF\"/>\n",
       "<path class=\"atom-2\" d=\"M 362.2 89.8 L 366.1 89.8 L 366.1 101.8 L 380.6 101.8 L 380.6 89.8 L 384.4 89.8 L 384.4 118.1 L 380.6 118.1 L 380.6 105.0 L 366.1 105.0 L 366.1 118.1 L 362.2 118.1 L 362.2 89.8 \" fill=\"#0000FF\"/>\n",
       "<path class=\"atom-2\" d=\"M 389.9 117.1 Q 390.6 115.3, 392.3 114.4 Q 393.9 113.4, 396.2 113.4 Q 399.0 113.4, 400.6 114.9 Q 402.2 116.4, 402.2 119.1 Q 402.2 121.9, 400.1 124.5 Q 398.1 127.1, 393.8 130.1 L 402.5 130.1 L 402.5 132.3 L 389.9 132.3 L 389.9 130.5 Q 393.4 128.0, 395.4 126.2 Q 397.5 124.3, 398.5 122.6 Q 399.5 121.0, 399.5 119.3 Q 399.5 117.5, 398.6 116.5 Q 397.7 115.5, 396.2 115.5 Q 394.7 115.5, 393.7 116.1 Q 392.7 116.7, 391.9 118.0 L 389.9 117.1 \" fill=\"#0000FF\"/>\n",
       "</svg>"
      ],
      "text/plain": [
       "<IPython.core.display.SVG object>"
      ]
     },
     "execution_count": 75,
     "metadata": {},
     "output_type": "execute_result"
    }
   ],
   "source": [
    "smiles = \"CCN\"\n",
    "print(get_iupac_name(smiles), smiles)\n",
    "mol = rdkit.Chem.MolFromSmiles(smiles)\n",
    "render_mol(mol)"
   ]
  },
  {
   "cell_type": "markdown",
   "id": "DD0ZZFweLbMV",
   "metadata": {
    "id": "DD0ZZFweLbMV"
   },
   "source": [
    "### More complicated atoms\n",
    "\n",
    "All other atoms have to be enclosed in square brackets:"
   ]
  },
  {
   "cell_type": "code",
   "execution_count": 76,
   "id": "HqImHnaFLo1y",
   "metadata": {
    "colab": {
     "base_uri": "https://localhost:8080/",
     "height": 188
    },
    "id": "HqImHnaFLo1y",
    "outputId": "901274c5-761d-4c67-e93c-10e5249f3f4a"
   },
   "outputs": [
    {
     "name": "stdout",
     "output_type": "stream",
     "text": [
      "Sodium [Na]\n"
     ]
    },
    {
     "data": {
      "image/svg+xml": [
       "<svg xmlns=\"http://www.w3.org/2000/svg\" xmlns:rdkit=\"http://www.rdkit.org/xml\" xmlns:xlink=\"http://www.w3.org/1999/xlink\" version=\"1.1\" baseProfile=\"full\" xml:space=\"preserve\" width=\"450px\" height=\"150px\" viewBox=\"0 0 450 150\">\n",
       "<!-- END OF HEADER -->\n",
       "<rect style=\"opacity:1.0;fill:#FFFFFF;stroke:none\" width=\"450.0\" height=\"150.0\" x=\"0.0\" y=\"0.0\"> </rect>\n",
       "<path class=\"atom-0\" d=\"M 203.9 60.6 L 213.2 75.6 Q 214.1 77.1, 215.6 79.8 Q 217.1 82.4, 217.2 82.6 L 217.2 60.6 L 220.9 60.6 L 220.9 88.9 L 217.0 88.9 L 207.1 72.5 Q 205.9 70.6, 204.7 68.4 Q 203.5 66.2, 203.1 65.5 L 203.1 88.9 L 199.4 88.9 L 199.4 60.6 L 203.9 60.6 \" fill=\"#000000\"/>\n",
       "<path class=\"atom-0\" d=\"M 226.2 83.4 Q 226.2 80.1, 228.8 78.3 Q 231.4 76.5, 236.3 76.5 L 239.3 76.5 L 239.3 75.7 Q 239.3 73.1, 238.2 72.0 Q 237.2 71.0, 234.6 71.0 Q 233.0 71.0, 231.7 71.3 Q 230.4 71.6, 228.4 72.4 L 227.3 69.8 Q 231.1 68.0, 234.7 68.0 Q 239.1 68.0, 241.1 69.9 Q 243.1 71.7, 243.1 75.8 L 243.1 88.9 L 240.2 88.9 Q 240.1 88.8, 240.0 88.2 Q 239.9 87.5, 239.6 86.5 Q 236.8 89.4, 232.9 89.4 Q 229.8 89.4, 228.0 87.8 Q 226.2 86.1, 226.2 83.4 M 229.9 83.3 Q 229.9 84.8, 230.9 85.6 Q 231.8 86.4, 233.6 86.4 Q 235.2 86.4, 236.8 85.7 Q 238.3 85.0, 239.3 83.7 L 239.3 79.3 L 236.5 79.3 Q 233.2 79.3, 231.6 80.3 Q 229.9 81.3, 229.9 83.3 \" fill=\"#000000\"/>\n",
       "<path class=\"atom-0\" d=\"M 251.1,74.8 L 251.1,74.9 L 251.0,75.1 L 251.0,75.3 L 251.0,75.4 L 250.9,75.6 L 250.8,75.7 L 250.7,75.9 L 250.6,76.0 L 250.5,76.2 L 250.4,76.3 L 250.2,76.4 L 250.1,76.5 L 249.9,76.6 L 249.8,76.6 L 249.6,76.7 L 249.5,76.7 L 249.3,76.7 L 249.1,76.8 L 248.9,76.8 L 248.8,76.7 L 248.6,76.7 L 248.4,76.7 L 248.3,76.6 L 248.1,76.5 L 248.0,76.4 L 247.8,76.3 L 247.7,76.2 L 247.6,76.1 L 247.5,76.0 L 247.4,75.8 L 247.3,75.7 L 247.2,75.5 L 247.2,75.4 L 247.1,75.2 L 247.1,75.0 L 247.1,74.8 L 247.1,74.7 L 247.1,74.5 L 247.1,74.3 L 247.2,74.2 L 247.2,74.0 L 247.3,73.8 L 247.4,73.7 L 247.5,73.6 L 247.6,73.4 L 247.7,73.3 L 247.8,73.2 L 248.0,73.1 L 248.1,73.0 L 248.3,72.9 L 248.4,72.9 L 248.6,72.8 L 248.8,72.8 L 248.9,72.8 L 249.1,72.8 L 249.3,72.8 L 249.5,72.8 L 249.6,72.8 L 249.8,72.9 L 249.9,73.0 L 250.1,73.0 L 250.2,73.1 L 250.4,73.2 L 250.5,73.4 L 250.6,73.5 L 250.7,73.6 L 250.8,73.8 L 250.9,73.9 L 251.0,74.1 L 251.0,74.2 L 251.0,74.4 L 251.1,74.6 L 251.1,74.8 L 249.1,74.8 Z\" style=\"fill:#000000;fill-rule:evenodd;fill-opacity:1;stroke:#000000;stroke-width:0.0px;stroke-linecap:butt;stroke-linejoin:miter;stroke-opacity:1;\"/>\n",
       "</svg>"
      ],
      "text/plain": [
       "<IPython.core.display.SVG object>"
      ]
     },
     "execution_count": 76,
     "metadata": {},
     "output_type": "execute_result"
    }
   ],
   "source": [
    "smiles = \"[Na]\"\n",
    "print(get_iupac_name(smiles), smiles)\n",
    "mol = rdkit.Chem.MolFromSmiles(smiles)\n",
    "render_mol(mol)"
   ]
  },
  {
   "cell_type": "markdown",
   "id": "FEJuSeKiLvxU",
   "metadata": {
    "id": "FEJuSeKiLvxU"
   },
   "source": [
    "Charged atoms append the charge as `+` or `-` at the end inside the square brackets."
   ]
  },
  {
   "cell_type": "code",
   "execution_count": 77,
   "id": "ozZjTJs2MFgM",
   "metadata": {
    "colab": {
     "base_uri": "https://localhost:8080/",
     "height": 188
    },
    "id": "ozZjTJs2MFgM",
    "outputId": "be1ecb30-c770-4ddc-c11e-5c328f8d04ab"
   },
   "outputs": [
    {
     "name": "stdout",
     "output_type": "stream",
     "text": [
      "sodium(+1) cation [Na+]\n"
     ]
    },
    {
     "data": {
      "image/svg+xml": [
       "<svg xmlns=\"http://www.w3.org/2000/svg\" xmlns:rdkit=\"http://www.rdkit.org/xml\" xmlns:xlink=\"http://www.w3.org/1999/xlink\" version=\"1.1\" baseProfile=\"full\" xml:space=\"preserve\" width=\"450px\" height=\"150px\" viewBox=\"0 0 450 150\">\n",
       "<!-- END OF HEADER -->\n",
       "<rect style=\"opacity:1.0;fill:#FFFFFF;stroke:none\" width=\"450.0\" height=\"150.0\" x=\"0.0\" y=\"0.0\"> </rect>\n",
       "<path class=\"atom-0\" d=\"M 199.0 60.6 L 208.3 75.6 Q 209.2 77.1, 210.7 79.8 Q 212.2 82.4, 212.3 82.6 L 212.3 60.6 L 216.0 60.6 L 216.0 88.9 L 212.1 88.9 L 202.2 72.5 Q 201.0 70.6, 199.8 68.4 Q 198.6 66.2, 198.2 65.5 L 198.2 88.9 L 194.5 88.9 L 194.5 60.6 L 199.0 60.6 \" fill=\"#000000\"/>\n",
       "<path class=\"atom-0\" d=\"M 221.2 83.4 Q 221.2 80.1, 223.9 78.3 Q 226.5 76.5, 231.4 76.5 L 234.4 76.5 L 234.4 75.7 Q 234.4 73.1, 233.3 72.0 Q 232.3 71.0, 229.7 71.0 Q 228.1 71.0, 226.8 71.3 Q 225.5 71.6, 223.5 72.4 L 222.4 69.8 Q 226.2 68.0, 229.8 68.0 Q 234.2 68.0, 236.2 69.9 Q 238.2 71.7, 238.2 75.8 L 238.2 88.9 L 235.2 88.9 Q 235.2 88.8, 235.1 88.2 Q 235.0 87.5, 234.7 86.5 Q 231.8 89.4, 228.0 89.4 Q 224.9 89.4, 223.1 87.8 Q 221.2 86.1, 221.2 83.4 M 225.0 83.3 Q 225.0 84.8, 226.0 85.6 Q 226.9 86.4, 228.7 86.4 Q 230.3 86.4, 231.8 85.7 Q 233.4 85.0, 234.4 83.7 L 234.4 79.3 L 231.6 79.3 Q 228.3 79.3, 226.6 80.3 Q 225.0 81.3, 225.0 83.3 \" fill=\"#000000\"/>\n",
       "<path class=\"atom-0\" d=\"M 243.1 69.2 L 248.1 69.2 L 248.1 63.9 L 250.3 63.9 L 250.3 69.2 L 255.5 69.2 L 255.5 71.1 L 250.3 71.1 L 250.3 76.3 L 248.1 76.3 L 248.1 71.1 L 243.1 71.1 L 243.1 69.2 \" fill=\"#000000\"/>\n",
       "</svg>"
      ],
      "text/plain": [
       "<IPython.core.display.SVG object>"
      ]
     },
     "execution_count": 77,
     "metadata": {},
     "output_type": "execute_result"
    }
   ],
   "source": [
    "smiles = \"[Na+]\"\n",
    "print(get_iupac_name(smiles), smiles)\n",
    "mol = rdkit.Chem.MolFromSmiles(smiles)\n",
    "render_mol(mol)"
   ]
  },
  {
   "cell_type": "code",
   "execution_count": 78,
   "id": "3QEidKqyMQMj",
   "metadata": {
    "colab": {
     "base_uri": "https://localhost:8080/",
     "height": 188
    },
    "id": "3QEidKqyMQMj",
    "outputId": "6f7c305b-c94f-4ff1-9f89-906ae93fd953"
   },
   "outputs": [
    {
     "name": "stdout",
     "output_type": "stream",
     "text": [
      "chloride [Cl-]\n"
     ]
    },
    {
     "data": {
      "image/svg+xml": [
       "<svg xmlns=\"http://www.w3.org/2000/svg\" xmlns:rdkit=\"http://www.rdkit.org/xml\" xmlns:xlink=\"http://www.w3.org/1999/xlink\" version=\"1.1\" baseProfile=\"full\" xml:space=\"preserve\" width=\"450px\" height=\"150px\" viewBox=\"0 0 450 150\">\n",
       "<!-- END OF HEADER -->\n",
       "<rect style=\"opacity:1.0;fill:#FFFFFF;stroke:none\" width=\"450.0\" height=\"150.0\" x=\"0.0\" y=\"0.0\"> </rect>\n",
       "<path class=\"atom-0\" d=\"M 203.5 75.8 Q 203.5 68.8, 206.8 65.1 Q 210.1 61.4, 216.4 61.4 Q 222.3 61.4, 225.4 65.5 L 222.7 67.6 Q 220.5 64.6, 216.4 64.6 Q 212.1 64.6, 209.9 67.5 Q 207.6 70.4, 207.6 75.8 Q 207.6 81.4, 209.9 84.3 Q 212.3 87.2, 216.9 87.2 Q 220.0 87.2, 223.6 85.3 L 224.7 88.3 Q 223.3 89.2, 221.0 89.8 Q 218.8 90.4, 216.3 90.4 Q 210.1 90.4, 206.8 86.6 Q 203.5 82.8, 203.5 75.8 \" fill=\"#00CC00\"/>\n",
       "<path class=\"atom-0\" d=\"M 228.3 59.6 L 232.0 59.6 L 232.0 90.0 L 228.3 90.0 L 228.3 59.6 \" fill=\"#00CC00\"/>\n",
       "<path class=\"atom-0\" d=\"M 236.8 65.3 L 246.5 65.3 L 246.5 67.5 L 236.8 67.5 L 236.8 65.3 \" fill=\"#00CC00\"/>\n",
       "</svg>"
      ],
      "text/plain": [
       "<IPython.core.display.SVG object>"
      ]
     },
     "execution_count": 78,
     "metadata": {},
     "output_type": "execute_result"
    }
   ],
   "source": [
    "smiles = \"[Cl-]\"\n",
    "print(get_iupac_name(smiles), smiles)\n",
    "mol = rdkit.Chem.MolFromSmiles(smiles)\n",
    "render_mol(mol)"
   ]
  },
  {
   "cell_type": "markdown",
   "id": "huXKfHbAMYE8",
   "metadata": {
    "id": "huXKfHbAMYE8"
   },
   "source": [
    "Hydrogens, can be explictly listed either stand alone, or explictly listed for an atom."
   ]
  },
  {
   "cell_type": "code",
   "execution_count": 79,
   "id": "-nNMsiHKMh7r",
   "metadata": {
    "colab": {
     "base_uri": "https://localhost:8080/",
     "height": 206
    },
    "id": "-nNMsiHKMh7r",
    "outputId": "430af9e1-e242-4272-d8e6-d399778f61d4"
   },
   "outputs": [
    {
     "name": "stdout",
     "output_type": "stream",
     "text": [
      "Hydrogen [H]\n"
     ]
    },
    {
     "name": "stderr",
     "output_type": "stream",
     "text": [
      "[15:41:54] WARNING: not removing hydrogen atom without neighbors\n"
     ]
    },
    {
     "data": {
      "image/svg+xml": [
       "<svg xmlns=\"http://www.w3.org/2000/svg\" xmlns:rdkit=\"http://www.rdkit.org/xml\" xmlns:xlink=\"http://www.w3.org/1999/xlink\" version=\"1.1\" baseProfile=\"full\" xml:space=\"preserve\" width=\"450px\" height=\"150px\" viewBox=\"0 0 450 150\">\n",
       "<!-- END OF HEADER -->\n",
       "<rect style=\"opacity:1.0;fill:#FFFFFF;stroke:none\" width=\"450.0\" height=\"150.0\" x=\"0.0\" y=\"0.0\"> </rect>\n",
       "<path class=\"atom-0\" d=\"M 210.2 60.8 L 214.0 60.8 L 214.0 72.9 L 228.5 72.9 L 228.5 60.8 L 232.3 60.8 L 232.3 89.2 L 228.5 89.2 L 228.5 76.1 L 214.0 76.1 L 214.0 89.2 L 210.2 89.2 L 210.2 60.8 \" fill=\"#000000\"/>\n",
       "<path class=\"atom-0\" d=\"M 240.3,75.0 L 240.3,75.2 L 240.3,75.3 L 240.3,75.5 L 240.2,75.7 L 240.1,75.8 L 240.1,76.0 L 240.0,76.1 L 239.9,76.3 L 239.8,76.4 L 239.6,76.5 L 239.5,76.6 L 239.4,76.7 L 239.2,76.8 L 239.0,76.9 L 238.9,76.9 L 238.7,77.0 L 238.5,77.0 L 238.4,77.0 L 238.2,77.0 L 238.0,77.0 L 237.9,76.9 L 237.7,76.9 L 237.5,76.8 L 237.4,76.8 L 237.2,76.7 L 237.1,76.6 L 237.0,76.5 L 236.8,76.3 L 236.7,76.2 L 236.6,76.1 L 236.5,75.9 L 236.5,75.8 L 236.4,75.6 L 236.4,75.4 L 236.3,75.3 L 236.3,75.1 L 236.3,74.9 L 236.3,74.7 L 236.4,74.6 L 236.4,74.4 L 236.5,74.2 L 236.5,74.1 L 236.6,73.9 L 236.7,73.8 L 236.8,73.7 L 237.0,73.5 L 237.1,73.4 L 237.2,73.3 L 237.4,73.2 L 237.5,73.2 L 237.7,73.1 L 237.9,73.1 L 238.0,73.0 L 238.2,73.0 L 238.4,73.0 L 238.5,73.0 L 238.7,73.0 L 238.9,73.1 L 239.0,73.1 L 239.2,73.2 L 239.4,73.3 L 239.5,73.4 L 239.6,73.5 L 239.8,73.6 L 239.9,73.7 L 240.0,73.9 L 240.1,74.0 L 240.1,74.2 L 240.2,74.3 L 240.3,74.5 L 240.3,74.7 L 240.3,74.8 L 240.3,75.0 L 238.3,75.0 Z\" style=\"fill:#000000;fill-rule:evenodd;fill-opacity:1;stroke:#000000;stroke-width:0.0px;stroke-linecap:butt;stroke-linejoin:miter;stroke-opacity:1;\"/>\n",
       "</svg>"
      ],
      "text/plain": [
       "<IPython.core.display.SVG object>"
      ]
     },
     "execution_count": 79,
     "metadata": {},
     "output_type": "execute_result"
    }
   ],
   "source": [
    "smiles = \"[H]\"\n",
    "print(get_iupac_name(smiles), smiles)\n",
    "mol = rdkit.Chem.MolFromSmiles(smiles)\n",
    "render_mol(mol)"
   ]
  },
  {
   "cell_type": "code",
   "execution_count": 80,
   "id": "oxJeA2NLMmZq",
   "metadata": {
    "colab": {
     "base_uri": "https://localhost:8080/",
     "height": 188
    },
    "id": "oxJeA2NLMmZq",
    "outputId": "e9324643-d8b1-4019-dbff-bdb0a0500184"
   },
   "outputs": [
    {
     "name": "stdout",
     "output_type": "stream",
     "text": [
      "Molecular hydrogen [H][H]\n"
     ]
    },
    {
     "data": {
      "image/svg+xml": [
       "<svg xmlns=\"http://www.w3.org/2000/svg\" xmlns:rdkit=\"http://www.rdkit.org/xml\" xmlns:xlink=\"http://www.w3.org/1999/xlink\" version=\"1.1\" baseProfile=\"full\" xml:space=\"preserve\" width=\"450px\" height=\"150px\" viewBox=\"0 0 450 150\">\n",
       "<!-- END OF HEADER -->\n",
       "<rect style=\"opacity:1.0;fill:#FFFFFF;stroke:none\" width=\"450.0\" height=\"150.0\" x=\"0.0\" y=\"0.0\"> </rect>\n",
       "<path class=\"bond-0 atom-0 atom-1\" d=\"M 368.7,75.0 L 81.3,75.0\" style=\"fill:none;fill-rule:evenodd;stroke:#000000;stroke-width:2.0px;stroke-linecap:butt;stroke-linejoin:miter;stroke-opacity:1\"/>\n",
       "<path class=\"atom-0\" d=\"M 379.7 60.8 L 383.5 60.8 L 383.5 72.9 L 398.0 72.9 L 398.0 60.8 L 401.8 60.8 L 401.8 89.2 L 398.0 89.2 L 398.0 76.1 L 383.5 76.1 L 383.5 89.2 L 379.7 89.2 L 379.7 60.8 \" fill=\"#000000\"/>\n",
       "<path class=\"atom-1\" d=\"M 48.2 60.8 L 52.0 60.8 L 52.0 72.9 L 66.5 72.9 L 66.5 60.8 L 70.3 60.8 L 70.3 89.2 L 66.5 89.2 L 66.5 76.1 L 52.0 76.1 L 52.0 89.2 L 48.2 89.2 L 48.2 60.8 \" fill=\"#000000\"/>\n",
       "</svg>"
      ],
      "text/plain": [
       "<IPython.core.display.SVG object>"
      ]
     },
     "execution_count": 80,
     "metadata": {},
     "output_type": "execute_result"
    }
   ],
   "source": [
    "smiles = \"[H][H]\"\n",
    "print(get_iupac_name(smiles), smiles)\n",
    "mol = rdkit.Chem.MolFromSmiles(smiles)\n",
    "render_mol(mol)"
   ]
  },
  {
   "cell_type": "code",
   "execution_count": 81,
   "id": "aAZz3UXSMvWb",
   "metadata": {
    "colab": {
     "base_uri": "https://localhost:8080/",
     "height": 188
    },
    "id": "aAZz3UXSMvWb",
    "outputId": "ed8d9191-b3b4-42d9-c33c-337119ab7b6d"
   },
   "outputs": [
    {
     "name": "stdout",
     "output_type": "stream",
     "text": [
      "$l^{1}-azane\n",
      "azane [NH3]\n"
     ]
    },
    {
     "data": {
      "image/svg+xml": [
       "<svg xmlns=\"http://www.w3.org/2000/svg\" xmlns:rdkit=\"http://www.rdkit.org/xml\" xmlns:xlink=\"http://www.w3.org/1999/xlink\" version=\"1.1\" baseProfile=\"full\" xml:space=\"preserve\" width=\"450px\" height=\"150px\" viewBox=\"0 0 450 150\">\n",
       "<!-- END OF HEADER -->\n",
       "<rect style=\"opacity:1.0;fill:#FFFFFF;stroke:none\" width=\"450.0\" height=\"150.0\" x=\"0.0\" y=\"0.0\"> </rect>\n",
       "<path class=\"atom-0\" d=\"M 195.9 53.6 L 205.2 68.6 Q 206.1 70.1, 207.6 72.8 Q 209.1 75.5, 209.2 75.6 L 209.2 53.6 L 212.9 53.6 L 212.9 81.9 L 209.0 81.9 L 199.1 65.5 Q 197.9 63.6, 196.7 61.4 Q 195.5 59.2, 195.1 58.5 L 195.1 81.9 L 191.4 81.9 L 191.4 53.6 L 195.9 53.6 \" fill=\"#0000FF\"/>\n",
       "<path class=\"atom-0\" d=\"M 218.3 53.6 L 222.2 53.6 L 222.2 65.7 L 236.7 65.7 L 236.7 53.6 L 240.5 53.6 L 240.5 81.9 L 236.7 81.9 L 236.7 68.9 L 222.2 68.9 L 222.2 81.9 L 218.3 81.9 L 218.3 53.6 \" fill=\"#0000FF\"/>\n",
       "<path class=\"atom-0\" d=\"M 255.0 86.3 Q 256.8 86.8, 257.7 88.0 Q 258.6 89.1, 258.6 91.0 Q 258.6 92.6, 257.8 93.8 Q 257.0 95.0, 255.5 95.7 Q 254.1 96.4, 252.2 96.4 Q 250.2 96.4, 248.7 95.7 Q 247.2 95.0, 246.0 93.5 L 247.5 92.0 Q 248.7 93.3, 249.6 93.8 Q 250.6 94.3, 252.2 94.3 Q 253.9 94.3, 254.9 93.4 Q 255.9 92.4, 255.9 91.0 Q 255.9 89.1, 254.8 88.2 Q 253.8 87.3, 251.5 87.3 L 250.1 87.3 L 250.1 85.4 L 251.3 85.4 Q 253.4 85.4, 254.4 84.5 Q 255.5 83.6, 255.5 82.0 Q 255.5 80.8, 254.6 80.1 Q 253.7 79.3, 252.2 79.3 Q 250.6 79.3, 249.7 79.9 Q 248.7 80.4, 248.0 81.8 L 246.1 80.8 Q 246.8 79.3, 248.4 78.3 Q 250.0 77.2, 252.2 77.2 Q 254.9 77.2, 256.5 78.5 Q 258.2 79.8, 258.2 82.0 Q 258.2 83.5, 257.3 84.6 Q 256.5 85.7, 255.0 86.3 \" fill=\"#0000FF\"/>\n",
       "</svg>"
      ],
      "text/plain": [
       "<IPython.core.display.SVG object>"
      ]
     },
     "execution_count": 81,
     "metadata": {},
     "output_type": "execute_result"
    }
   ],
   "source": [
    "smiles = \"[NH3]\"\n",
    "print(get_iupac_name(smiles), smiles)\n",
    "mol = rdkit.Chem.MolFromSmiles(smiles)\n",
    "render_mol(mol)"
   ]
  },
  {
   "cell_type": "code",
   "execution_count": 82,
   "id": "7ZuaN9isNMfo",
   "metadata": {
    "colab": {
     "base_uri": "https://localhost:8080/",
     "height": 188
    },
    "id": "7ZuaN9isNMfo",
    "outputId": "aedfaf86-5aab-4d18-f365-1e7ef77a76d2"
   },
   "outputs": [
    {
     "name": "stdout",
     "output_type": "stream",
     "text": [
      "azanium\n",
      "nitrogen(+1) dihydride cation [NH4+]\n"
     ]
    },
    {
     "data": {
      "image/svg+xml": [
       "<svg xmlns=\"http://www.w3.org/2000/svg\" xmlns:rdkit=\"http://www.rdkit.org/xml\" xmlns:xlink=\"http://www.w3.org/1999/xlink\" version=\"1.1\" baseProfile=\"full\" xml:space=\"preserve\" width=\"450px\" height=\"150px\" viewBox=\"0 0 450 150\">\n",
       "<!-- END OF HEADER -->\n",
       "<rect style=\"opacity:1.0;fill:#FFFFFF;stroke:none\" width=\"450.0\" height=\"150.0\" x=\"0.0\" y=\"0.0\"> </rect>\n",
       "<path class=\"atom-0\" d=\"M 195.0 53.8 L 204.3 68.8 Q 205.2 70.3, 206.7 73.0 Q 208.2 75.7, 208.2 75.8 L 208.2 53.8 L 212.0 53.8 L 212.0 82.2 L 208.1 82.2 L 198.2 65.8 Q 197.0 63.8, 195.8 61.6 Q 194.6 59.4, 194.2 58.8 L 194.2 82.2 L 190.5 82.2 L 190.5 53.8 L 195.0 53.8 \" fill=\"#0000FF\"/>\n",
       "<path class=\"atom-0\" d=\"M 217.4 53.8 L 221.3 53.8 L 221.3 65.9 L 235.7 65.9 L 235.7 53.8 L 239.6 53.8 L 239.6 82.2 L 235.7 82.2 L 235.7 69.1 L 221.3 69.1 L 221.3 82.2 L 217.4 82.2 L 217.4 53.8 \" fill=\"#0000FF\"/>\n",
       "<path class=\"atom-0\" d=\"M 257.2 89.9 L 259.5 89.9 L 259.5 92.0 L 257.2 92.0 L 257.2 96.3 L 254.8 96.3 L 254.8 92.0 L 245.1 92.0 L 245.1 90.3 L 253.3 77.6 L 257.2 77.6 L 257.2 89.9 M 248.2 89.9 L 254.8 89.9 L 254.8 79.3 L 248.2 89.9 \" fill=\"#0000FF\"/>\n",
       "<path class=\"atom-0\" d=\"M 246.1 58.9 L 251.1 58.9 L 251.1 53.7 L 253.3 53.7 L 253.3 58.9 L 258.4 58.9 L 258.4 60.8 L 253.3 60.8 L 253.3 66.1 L 251.1 66.1 L 251.1 60.8 L 246.1 60.8 L 246.1 58.9 \" fill=\"#0000FF\"/>\n",
       "</svg>"
      ],
      "text/plain": [
       "<IPython.core.display.SVG object>"
      ]
     },
     "execution_count": 82,
     "metadata": {},
     "output_type": "execute_result"
    }
   ],
   "source": [
    "smiles = \"[NH4+]\"\n",
    "print(get_iupac_name(smiles), smiles)\n",
    "mol = rdkit.Chem.MolFromSmiles(smiles)\n",
    "render_mol(mol)"
   ]
  },
  {
   "cell_type": "markdown",
   "id": "1683c490-0978-4fbe-9831-95dd37c02ac6",
   "metadata": {},
   "source": [
    "### SMILES Bond Notation\n",
    "\n",
    "With SMILES we can define bonds with special charactes.\n",
    "\n",
    " - `-` is the single bond, it can usually be omitted"
   ]
  },
  {
   "cell_type": "code",
   "execution_count": 83,
   "id": "9acfda2c-99cd-4f9c-83c7-5c8a604f8863",
   "metadata": {},
   "outputs": [
    {
     "name": "stdout",
     "output_type": "stream",
     "text": [
      "BUTANE C-C-CC\n"
     ]
    },
    {
     "data": {
      "image/svg+xml": [
       "<svg xmlns=\"http://www.w3.org/2000/svg\" xmlns:rdkit=\"http://www.rdkit.org/xml\" xmlns:xlink=\"http://www.w3.org/1999/xlink\" version=\"1.1\" baseProfile=\"full\" xml:space=\"preserve\" width=\"450px\" height=\"150px\" viewBox=\"0 0 450 150\">\n",
       "<!-- END OF HEADER -->\n",
       "<rect style=\"opacity:1.0;fill:#FFFFFF;stroke:none\" width=\"450.0\" height=\"150.0\" x=\"0.0\" y=\"0.0\"> </rect>\n",
       "<path class=\"bond-0 atom-0 atom-1\" d=\"M 22.5,89.0 L 163.7,28.9\" style=\"fill:none;fill-rule:evenodd;stroke:#000000;stroke-width:2.0px;stroke-linecap:butt;stroke-linejoin:miter;stroke-opacity:1\"/>\n",
       "<path class=\"bond-1 atom-1 atom-2\" d=\"M 163.7,28.9 L 286.3,121.1\" style=\"fill:none;fill-rule:evenodd;stroke:#000000;stroke-width:2.0px;stroke-linecap:butt;stroke-linejoin:miter;stroke-opacity:1\"/>\n",
       "<path class=\"bond-2 atom-2 atom-3\" d=\"M 286.3,121.1 L 427.5,61.0\" style=\"fill:none;fill-rule:evenodd;stroke:#000000;stroke-width:2.0px;stroke-linecap:butt;stroke-linejoin:miter;stroke-opacity:1\"/>\n",
       "<path d=\"M 156.6,31.9 L 163.7,28.9 L 169.8,33.5\" style=\"fill:none;stroke:#000000;stroke-width:2.0px;stroke-linecap:butt;stroke-linejoin:miter;stroke-opacity:1;\"/>\n",
       "<path d=\"M 280.2,116.5 L 286.3,121.1 L 293.4,118.1\" style=\"fill:none;stroke:#000000;stroke-width:2.0px;stroke-linecap:butt;stroke-linejoin:miter;stroke-opacity:1;\"/>\n",
       "</svg>"
      ],
      "text/plain": [
       "<IPython.core.display.SVG object>"
      ]
     },
     "execution_count": 83,
     "metadata": {},
     "output_type": "execute_result"
    }
   ],
   "source": [
    "smiles = \"C-C-CC\"\n",
    "print(get_iupac_name(smiles), smiles)\n",
    "mol = rdkit.Chem.MolFromSmiles(smiles)\n",
    "render_mol(mol)"
   ]
  },
  {
   "cell_type": "markdown",
   "id": "1da82afc-a4b0-47d2-82b5-41b9c18ee3b8",
   "metadata": {},
   "source": [
    "- `.` is the no bond marker. Usually atoms adjacent to one another are bonded, but we can prevent this.smiles = \"[NH4+]\"\n",
    "print(get_iupac_name(smiles), smiles)\n",
    "mol = rdkit.Chem.MolFromSmiles(smiles)\n",
    "render_mol(mol)"
   ]
  },
  {
   "cell_type": "code",
   "execution_count": 84,
   "id": "da9ba299-f80d-43f1-9278-72e4be45b69b",
   "metadata": {},
   "outputs": [
    {
     "data": {
      "image/svg+xml": [
       "<svg xmlns=\"http://www.w3.org/2000/svg\" xmlns:rdkit=\"http://www.rdkit.org/xml\" xmlns:xlink=\"http://www.w3.org/1999/xlink\" version=\"1.1\" baseProfile=\"full\" xml:space=\"preserve\" width=\"450px\" height=\"150px\" viewBox=\"0 0 450 150\">\n",
       "<!-- END OF HEADER -->\n",
       "<rect style=\"opacity:1.0;fill:#FFFFFF;stroke:none\" width=\"450.0\" height=\"150.0\" x=\"0.0\" y=\"0.0\"> </rect>\n",
       "<path class=\"bond-0 atom-0 atom-1\" d=\"M 158.9,142.5 L 225.0,104.3\" style=\"fill:none;fill-rule:evenodd;stroke:#000000;stroke-width:2.0px;stroke-linecap:butt;stroke-linejoin:miter;stroke-opacity:1\"/>\n",
       "<path class=\"bond-1 atom-1 atom-2\" d=\"M 225.0,104.3 L 291.1,142.5\" style=\"fill:none;fill-rule:evenodd;stroke:#000000;stroke-width:2.0px;stroke-linecap:butt;stroke-linejoin:miter;stroke-opacity:1\"/>\n",
       "<path class=\"bond-2 atom-3 atom-4\" d=\"M 124.2,37.4 L 194.5,7.5\" style=\"fill:none;fill-rule:evenodd;stroke:#000000;stroke-width:2.0px;stroke-linecap:butt;stroke-linejoin:miter;stroke-opacity:1\"/>\n",
       "<path class=\"bond-3 atom-4 atom-5\" d=\"M 194.5,7.5 L 255.5,53.4\" style=\"fill:none;fill-rule:evenodd;stroke:#000000;stroke-width:2.0px;stroke-linecap:butt;stroke-linejoin:miter;stroke-opacity:1\"/>\n",
       "<path class=\"bond-4 atom-5 atom-6\" d=\"M 255.5,53.4 L 325.8,23.5\" style=\"fill:none;fill-rule:evenodd;stroke:#000000;stroke-width:2.0px;stroke-linecap:butt;stroke-linejoin:miter;stroke-opacity:1\"/>\n",
       "<path d=\"M 221.7,106.2 L 225.0,104.3 L 228.3,106.2\" style=\"fill:none;stroke:#000000;stroke-width:2.0px;stroke-linecap:butt;stroke-linejoin:miter;stroke-opacity:1;\"/>\n",
       "<path d=\"M 191.0,9.0 L 194.5,7.5 L 197.5,9.8\" style=\"fill:none;stroke:#000000;stroke-width:2.0px;stroke-linecap:butt;stroke-linejoin:miter;stroke-opacity:1;\"/>\n",
       "<path d=\"M 252.5,51.1 L 255.5,53.4 L 259.0,51.9\" style=\"fill:none;stroke:#000000;stroke-width:2.0px;stroke-linecap:butt;stroke-linejoin:miter;stroke-opacity:1;\"/>\n",
       "</svg>"
      ],
      "text/plain": [
       "<IPython.core.display.SVG object>"
      ]
     },
     "execution_count": 84,
     "metadata": {},
     "output_type": "execute_result"
    }
   ],
   "source": [
    "smiles = \"CCC.CCCC\"\n",
    "mol = rdkit.Chem.MolFromSmiles(smiles)\n",
    "render_mol(mol)"
   ]
  },
  {
   "cell_type": "markdown",
   "id": "dfcab9f1-4eab-4eea-8244-918d31758608",
   "metadata": {},
   "source": [
    "This can be usefule for example to write down ionic bonds, like table salt."
   ]
  },
  {
   "cell_type": "code",
   "execution_count": 85,
   "id": "c352f1e8-fdc6-4cc4-a859-41797fd2de22",
   "metadata": {},
   "outputs": [
    {
     "name": "stdout",
     "output_type": "stream",
     "text": [
      "Sodium chloride [Na+].[Cl-]\n"
     ]
    },
    {
     "data": {
      "image/svg+xml": [
       "<svg xmlns=\"http://www.w3.org/2000/svg\" xmlns:rdkit=\"http://www.rdkit.org/xml\" xmlns:xlink=\"http://www.w3.org/1999/xlink\" version=\"1.1\" baseProfile=\"full\" xml:space=\"preserve\" width=\"450px\" height=\"150px\" viewBox=\"0 0 450 150\">\n",
       "<!-- END OF HEADER -->\n",
       "<rect style=\"opacity:1.0;fill:#FFFFFF;stroke:none\" width=\"450.0\" height=\"150.0\" x=\"0.0\" y=\"0.0\"> </rect>\n",
       "<path class=\"atom-0\" d=\"M 71.9 60.7 L 81.2 75.7 Q 82.1 77.1, 83.6 79.8 Q 85.1 82.5, 85.1 82.7 L 85.1 60.7 L 88.9 60.7 L 88.9 89.0 L 85.0 89.0 L 75.1 72.6 Q 73.9 70.7, 72.7 68.5 Q 71.5 66.3, 71.1 65.6 L 71.1 89.0 L 67.4 89.0 L 67.4 60.7 L 71.9 60.7 \" fill=\"#000000\"/>\n",
       "<path class=\"atom-0\" d=\"M 94.1 83.4 Q 94.1 80.1, 96.8 78.3 Q 99.4 76.5, 104.2 76.5 L 107.3 76.5 L 107.3 75.7 Q 107.3 73.2, 106.2 72.1 Q 105.2 71.0, 102.6 71.0 Q 101.0 71.0, 99.7 71.3 Q 98.4 71.6, 96.4 72.5 L 95.3 69.9 Q 99.0 68.1, 102.7 68.1 Q 107.0 68.1, 109.0 69.9 Q 111.0 71.8, 111.0 75.8 L 111.0 89.0 L 108.1 89.0 Q 108.1 88.8, 108.0 88.2 Q 107.8 87.6, 107.6 86.6 Q 104.7 89.5, 100.9 89.5 Q 97.8 89.5, 96.0 87.8 Q 94.1 86.2, 94.1 83.4 M 97.9 83.3 Q 97.9 84.9, 98.8 85.7 Q 99.8 86.5, 101.6 86.5 Q 103.2 86.5, 104.7 85.8 Q 106.2 85.0, 107.3 83.7 L 107.3 79.3 L 104.5 79.3 Q 101.2 79.3, 99.5 80.3 Q 97.9 81.3, 97.9 83.3 \" fill=\"#000000\"/>\n",
       "<path class=\"atom-0\" d=\"M 116.0 69.2 L 121.0 69.2 L 121.0 64.0 L 123.2 64.0 L 123.2 69.2 L 128.4 69.2 L 128.4 71.1 L 123.2 71.1 L 123.2 76.4 L 121.0 76.4 L 121.0 71.1 L 116.0 71.1 L 116.0 69.2 \" fill=\"#000000\"/>\n",
       "<path class=\"atom-1\" d=\"M 339.6 75.8 Q 339.6 68.8, 342.9 65.1 Q 346.2 61.4, 352.5 61.4 Q 358.4 61.4, 361.5 65.5 L 358.8 67.6 Q 356.6 64.6, 352.5 64.6 Q 348.2 64.6, 346.0 67.5 Q 343.7 70.4, 343.7 75.8 Q 343.7 81.4, 346.0 84.3 Q 348.4 87.2, 353.0 87.2 Q 356.1 87.2, 359.7 85.3 L 360.8 88.3 Q 359.4 89.2, 357.1 89.8 Q 354.9 90.4, 352.4 90.4 Q 346.2 90.4, 342.9 86.6 Q 339.6 82.8, 339.6 75.8 \" fill=\"#00CC00\"/>\n",
       "<path class=\"atom-1\" d=\"M 364.4 59.6 L 368.1 59.6 L 368.1 90.0 L 364.4 90.0 L 364.4 59.6 \" fill=\"#00CC00\"/>\n",
       "<path class=\"atom-1\" d=\"M 372.9 65.3 L 382.6 65.3 L 382.6 67.5 L 372.9 67.5 L 372.9 65.3 \" fill=\"#00CC00\"/>\n",
       "</svg>"
      ],
      "text/plain": [
       "<IPython.core.display.SVG object>"
      ]
     },
     "execution_count": 85,
     "metadata": {},
     "output_type": "execute_result"
    }
   ],
   "source": [
    "smiles = \"[Na+].[Cl-]\"\n",
    "print(get_iupac_name(smiles), smiles)\n",
    "mol = rdkit.Chem.MolFromSmiles(smiles)\n",
    "render_mol(mol)"
   ]
  },
  {
   "cell_type": "markdown",
   "id": "8a23d02f-99c3-42ff-a030-ceb275343667",
   "metadata": {},
   "source": [
    "Further bonds are:\n",
    " - `=` double bond\n",
    " - `#` triple bond\n",
    " - `$` quadruple bond\n",
    " - `:` aromatic bond\n",
    " - `/`, `\\` stereochemistry bonds"
   ]
  },
  {
   "cell_type": "code",
   "execution_count": 86,
   "id": "fe62e1df-230c-4980-b802-14d4b5089370",
   "metadata": {},
   "outputs": [
    {
     "name": "stdout",
     "output_type": "stream",
     "text": [
      "carbon dioxide O=C=O\n"
     ]
    },
    {
     "data": {
      "image/svg+xml": [
       "<svg xmlns=\"http://www.w3.org/2000/svg\" xmlns:rdkit=\"http://www.rdkit.org/xml\" xmlns:xlink=\"http://www.w3.org/1999/xlink\" version=\"1.1\" baseProfile=\"full\" xml:space=\"preserve\" width=\"450px\" height=\"150px\" viewBox=\"0 0 450 150\">\n",
       "<!-- END OF HEADER -->\n",
       "<rect style=\"opacity:1.0;fill:#FFFFFF;stroke:none\" width=\"450.0\" height=\"150.0\" x=\"0.0\" y=\"0.0\"> </rect>\n",
       "<path class=\"bond-0 atom-0 atom-1\" d=\"M 385.3,88.2 L 313.6,88.2\" style=\"fill:none;fill-rule:evenodd;stroke:#FF0000;stroke-width:2.0px;stroke-linecap:butt;stroke-linejoin:miter;stroke-opacity:1\"/>\n",
       "<path class=\"bond-0 atom-0 atom-1\" d=\"M 313.6,88.2 L 241.8,88.2\" style=\"fill:none;fill-rule:evenodd;stroke:#000000;stroke-width:2.0px;stroke-linecap:butt;stroke-linejoin:miter;stroke-opacity:1\"/>\n",
       "<path class=\"bond-0 atom-0 atom-1\" d=\"M 385.3,61.3 L 313.6,61.3\" style=\"fill:none;fill-rule:evenodd;stroke:#FF0000;stroke-width:2.0px;stroke-linecap:butt;stroke-linejoin:miter;stroke-opacity:1\"/>\n",
       "<path class=\"bond-0 atom-0 atom-1\" d=\"M 313.6,61.3 L 241.8,61.3\" style=\"fill:none;fill-rule:evenodd;stroke:#000000;stroke-width:2.0px;stroke-linecap:butt;stroke-linejoin:miter;stroke-opacity:1\"/>\n",
       "<path class=\"bond-1 atom-1 atom-2\" d=\"M 208.2,88.2 L 136.4,88.2\" style=\"fill:none;fill-rule:evenodd;stroke:#000000;stroke-width:2.0px;stroke-linecap:butt;stroke-linejoin:miter;stroke-opacity:1\"/>\n",
       "<path class=\"bond-1 atom-1 atom-2\" d=\"M 136.4,88.2 L 64.7,88.2\" style=\"fill:none;fill-rule:evenodd;stroke:#FF0000;stroke-width:2.0px;stroke-linecap:butt;stroke-linejoin:miter;stroke-opacity:1\"/>\n",
       "<path class=\"bond-1 atom-1 atom-2\" d=\"M 208.2,61.3 L 136.4,61.3\" style=\"fill:none;fill-rule:evenodd;stroke:#000000;stroke-width:2.0px;stroke-linecap:butt;stroke-linejoin:miter;stroke-opacity:1\"/>\n",
       "<path class=\"bond-1 atom-1 atom-2\" d=\"M 136.4,61.3 L 64.7,61.3\" style=\"fill:none;fill-rule:evenodd;stroke:#FF0000;stroke-width:2.0px;stroke-linecap:butt;stroke-linejoin:miter;stroke-opacity:1\"/>\n",
       "<path class=\"atom-0\" d=\"M 391.2 74.9 Q 391.2 68.1, 394.6 64.3 Q 397.9 60.5, 404.2 60.5 Q 410.5 60.5, 413.8 64.3 Q 417.2 68.1, 417.2 74.9 Q 417.2 81.7, 413.8 85.7 Q 410.4 89.5, 404.2 89.5 Q 398.0 89.5, 394.6 85.7 Q 391.2 81.8, 391.2 74.9 M 404.2 86.3 Q 408.5 86.3, 410.8 83.5 Q 413.2 80.5, 413.2 74.9 Q 413.2 69.3, 410.8 66.5 Q 408.5 63.7, 404.2 63.7 Q 399.9 63.7, 397.5 66.5 Q 395.2 69.3, 395.2 74.9 Q 395.2 80.6, 397.5 83.5 Q 399.9 86.3, 404.2 86.3 \" fill=\"#FF0000\"/>\n",
       "<path class=\"atom-1\" d=\"M 214.1 74.9 Q 214.1 67.9, 217.4 64.2 Q 220.7 60.5, 227.0 60.5 Q 232.8 60.5, 235.9 64.6 L 233.3 66.7 Q 231.0 63.7, 227.0 63.7 Q 222.7 63.7, 220.4 66.6 Q 218.2 69.5, 218.2 74.9 Q 218.2 80.5, 220.5 83.4 Q 222.8 86.3, 227.4 86.3 Q 230.5 86.3, 234.2 84.4 L 235.3 87.4 Q 233.8 88.3, 231.6 88.9 Q 229.3 89.5, 226.8 89.5 Q 220.7 89.5, 217.4 85.7 Q 214.1 81.9, 214.1 74.9 \" fill=\"#000000\"/>\n",
       "<path class=\"atom-2\" d=\"M 32.8 74.9 Q 32.8 68.1, 36.2 64.3 Q 39.5 60.5, 45.8 60.5 Q 52.1 60.5, 55.4 64.3 Q 58.8 68.1, 58.8 74.9 Q 58.8 81.7, 55.4 85.7 Q 52.0 89.5, 45.8 89.5 Q 39.6 89.5, 36.2 85.7 Q 32.8 81.8, 32.8 74.9 M 45.8 86.3 Q 50.1 86.3, 52.4 83.5 Q 54.8 80.5, 54.8 74.9 Q 54.8 69.3, 52.4 66.5 Q 50.1 63.7, 45.8 63.7 Q 41.5 63.7, 39.1 66.5 Q 36.8 69.3, 36.8 74.9 Q 36.8 80.6, 39.1 83.5 Q 41.5 86.3, 45.8 86.3 \" fill=\"#FF0000\"/>\n",
       "</svg>"
      ],
      "text/plain": [
       "<IPython.core.display.SVG object>"
      ]
     },
     "execution_count": 86,
     "metadata": {},
     "output_type": "execute_result"
    }
   ],
   "source": [
    "smiles = \"O=C=O\"\n",
    "print(get_iupac_name(smiles), smiles)\n",
    "mol = rdkit.Chem.MolFromSmiles(smiles)\n",
    "render_mol(mol)"
   ]
  },
  {
   "cell_type": "code",
   "execution_count": 87,
   "id": "741f385a-0a9d-46ea-b006-72010b1f773f",
   "metadata": {},
   "outputs": [
    {
     "name": "stdout",
     "output_type": "stream",
     "text": [
      "Acetylene C#C\n"
     ]
    },
    {
     "data": {
      "image/svg+xml": [
       "<svg xmlns=\"http://www.w3.org/2000/svg\" xmlns:rdkit=\"http://www.rdkit.org/xml\" xmlns:xlink=\"http://www.w3.org/1999/xlink\" version=\"1.1\" baseProfile=\"full\" xml:space=\"preserve\" width=\"450px\" height=\"150px\" viewBox=\"0 0 450 150\">\n",
       "<!-- END OF HEADER -->\n",
       "<rect style=\"opacity:1.0;fill:#FFFFFF;stroke:none\" width=\"450.0\" height=\"150.0\" x=\"0.0\" y=\"0.0\"> </rect>\n",
       "<path class=\"bond-0 atom-0 atom-1\" d=\"M 427.5,75.0 L 22.5,75.0\" style=\"fill:none;fill-rule:evenodd;stroke:#000000;stroke-width:2.0px;stroke-linecap:butt;stroke-linejoin:miter;stroke-opacity:1\"/>\n",
       "<path class=\"bond-0 atom-0 atom-1\" d=\"M 427.5,135.8 L 22.5,135.8\" style=\"fill:none;fill-rule:evenodd;stroke:#000000;stroke-width:2.0px;stroke-linecap:butt;stroke-linejoin:miter;stroke-opacity:1\"/>\n",
       "<path class=\"bond-0 atom-0 atom-1\" d=\"M 427.5,14.3 L 22.5,14.3\" style=\"fill:none;fill-rule:evenodd;stroke:#000000;stroke-width:2.0px;stroke-linecap:butt;stroke-linejoin:miter;stroke-opacity:1\"/>\n",
       "</svg>"
      ],
      "text/plain": [
       "<IPython.core.display.SVG object>"
      ]
     },
     "execution_count": 87,
     "metadata": {},
     "output_type": "execute_result"
    }
   ],
   "source": [
    "smiles = \"C#C\"\n",
    "print(get_iupac_name(smiles), smiles)\n",
    "mol = rdkit.Chem.MolFromSmiles(smiles)\n",
    "render_mol(mol)"
   ]
  },
  {
   "cell_type": "code",
   "execution_count": 88,
   "id": "de8194b1-009b-413f-b410-1d9a334e4693",
   "metadata": {},
   "outputs": [
    {
     "name": "stdout",
     "output_type": "stream",
     "text": [
      "Cyanic acid N#CO\n"
     ]
    },
    {
     "data": {
      "image/svg+xml": [
       "<svg xmlns=\"http://www.w3.org/2000/svg\" xmlns:rdkit=\"http://www.rdkit.org/xml\" xmlns:xlink=\"http://www.w3.org/1999/xlink\" version=\"1.1\" baseProfile=\"full\" xml:space=\"preserve\" width=\"450px\" height=\"150px\" viewBox=\"0 0 450 150\">\n",
       "<!-- END OF HEADER -->\n",
       "<rect style=\"opacity:1.0;fill:#FFFFFF;stroke:none\" width=\"450.0\" height=\"150.0\" x=\"0.0\" y=\"0.0\"> </rect>\n",
       "<path class=\"bond-0 atom-0 atom-1\" d=\"M 385.0,75.0 L 312.5,75.0\" style=\"fill:none;fill-rule:evenodd;stroke:#0000FF;stroke-width:2.0px;stroke-linecap:butt;stroke-linejoin:miter;stroke-opacity:1\"/>\n",
       "<path class=\"bond-0 atom-0 atom-1\" d=\"M 312.5,75.0 L 240.1,75.0\" style=\"fill:none;fill-rule:evenodd;stroke:#000000;stroke-width:2.0px;stroke-linecap:butt;stroke-linejoin:miter;stroke-opacity:1\"/>\n",
       "<path class=\"bond-0 atom-0 atom-1\" d=\"M 385.0,99.1 L 312.5,99.1\" style=\"fill:none;fill-rule:evenodd;stroke:#0000FF;stroke-width:2.0px;stroke-linecap:butt;stroke-linejoin:miter;stroke-opacity:1\"/>\n",
       "<path class=\"bond-0 atom-0 atom-1\" d=\"M 312.5,99.1 L 240.1,99.1\" style=\"fill:none;fill-rule:evenodd;stroke:#000000;stroke-width:2.0px;stroke-linecap:butt;stroke-linejoin:miter;stroke-opacity:1\"/>\n",
       "<path class=\"bond-0 atom-0 atom-1\" d=\"M 385.0,50.9 L 312.5,50.9\" style=\"fill:none;fill-rule:evenodd;stroke:#0000FF;stroke-width:2.0px;stroke-linecap:butt;stroke-linejoin:miter;stroke-opacity:1\"/>\n",
       "<path class=\"bond-0 atom-0 atom-1\" d=\"M 312.5,50.9 L 240.1,50.9\" style=\"fill:none;fill-rule:evenodd;stroke:#000000;stroke-width:2.0px;stroke-linecap:butt;stroke-linejoin:miter;stroke-opacity:1\"/>\n",
       "<path class=\"bond-1 atom-1 atom-2\" d=\"M 240.1,75.0 L 168.8,75.0\" style=\"fill:none;fill-rule:evenodd;stroke:#000000;stroke-width:2.0px;stroke-linecap:butt;stroke-linejoin:miter;stroke-opacity:1\"/>\n",
       "<path class=\"bond-1 atom-1 atom-2\" d=\"M 168.8,75.0 L 97.5,75.0\" style=\"fill:none;fill-rule:evenodd;stroke:#FF0000;stroke-width:2.0px;stroke-linecap:butt;stroke-linejoin:miter;stroke-opacity:1\"/>\n",
       "<path d=\"M 243.7,75.0 L 240.1,75.0 L 236.5,75.0\" style=\"fill:none;stroke:#000000;stroke-width:2.0px;stroke-linecap:butt;stroke-linejoin:miter;stroke-opacity:1;\"/>\n",
       "<path class=\"atom-0\" d=\"M 394.8 60.8 L 404.0 75.8 Q 405.0 77.3, 406.4 80.0 Q 407.9 82.7, 408.0 82.8 L 408.0 60.8 L 411.8 60.8 L 411.8 89.2 L 407.9 89.2 L 397.9 72.8 Q 396.8 70.8, 395.5 68.6 Q 394.3 66.4, 394.0 65.8 L 394.0 89.2 L 390.3 89.2 L 390.3 60.8 L 394.8 60.8 \" fill=\"#0000FF\"/>\n",
       "<path class=\"atom-2\" d=\"M 38.2 61.0 L 42.1 61.0 L 42.1 73.0 L 56.6 73.0 L 56.6 61.0 L 60.4 61.0 L 60.4 89.3 L 56.6 89.3 L 56.6 76.2 L 42.1 76.2 L 42.1 89.3 L 38.2 89.3 L 38.2 61.0 \" fill=\"#FF0000\"/>\n",
       "<path class=\"atom-2\" d=\"M 66.2 75.1 Q 66.2 68.3, 69.6 64.5 Q 72.9 60.7, 79.2 60.7 Q 85.5 60.7, 88.9 64.5 Q 92.2 68.3, 92.2 75.1 Q 92.2 82.0, 88.8 85.9 Q 85.4 89.8, 79.2 89.8 Q 73.0 89.8, 69.6 85.9 Q 66.2 82.0, 66.2 75.1 M 79.2 86.6 Q 83.5 86.6, 85.9 83.7 Q 88.2 80.8, 88.2 75.1 Q 88.2 69.5, 85.9 66.7 Q 83.5 63.9, 79.2 63.9 Q 74.9 63.9, 72.5 66.7 Q 70.2 69.5, 70.2 75.1 Q 70.2 80.8, 72.5 83.7 Q 74.9 86.6, 79.2 86.6 \" fill=\"#FF0000\"/>\n",
       "</svg>"
      ],
      "text/plain": [
       "<IPython.core.display.SVG object>"
      ]
     },
     "execution_count": 88,
     "metadata": {},
     "output_type": "execute_result"
    }
   ],
   "source": [
    "smiles = \"N#CO\"\n",
    "print(get_iupac_name(smiles), smiles)\n",
    "mol = rdkit.Chem.MolFromSmiles(smiles)\n",
    "render_mol(mol)"
   ]
  },
  {
   "cell_type": "markdown",
   "id": "1fd3c2aa-b417-4d1f-939e-2c37ce1f3718",
   "metadata": {},
   "source": [
    "### Branches\n",
    "\n",
    "Branches can be marked by enclosing a branch in round brackets.\n",
    "Branches can be nested."
   ]
  },
  {
   "cell_type": "code",
   "execution_count": 89,
   "id": "ead8c954-977b-4653-83db-c25a4a2ddadf",
   "metadata": {},
   "outputs": [
    {
     "name": "stdout",
     "output_type": "stream",
     "text": [
      "3-Ethylpentane CCC(CC)CC\n"
     ]
    },
    {
     "data": {
      "image/svg+xml": [
       "<svg xmlns=\"http://www.w3.org/2000/svg\" xmlns:rdkit=\"http://www.rdkit.org/xml\" xmlns:xlink=\"http://www.w3.org/1999/xlink\" version=\"1.1\" baseProfile=\"full\" xml:space=\"preserve\" width=\"450px\" height=\"150px\" viewBox=\"0 0 450 150\">\n",
       "<!-- END OF HEADER -->\n",
       "<rect style=\"opacity:1.0;fill:#FFFFFF;stroke:none\" width=\"450.0\" height=\"150.0\" x=\"0.0\" y=\"0.0\"> </rect>\n",
       "<path class=\"bond-0 atom-0 atom-1\" d=\"M 341.9,69.4 L 291.0,116.3\" style=\"fill:none;fill-rule:evenodd;stroke:#000000;stroke-width:2.0px;stroke-linecap:butt;stroke-linejoin:miter;stroke-opacity:1\"/>\n",
       "<path class=\"bond-1 atom-1 atom-2\" d=\"M 291.0,116.3 L 225.0,95.6\" style=\"fill:none;fill-rule:evenodd;stroke:#000000;stroke-width:2.0px;stroke-linecap:butt;stroke-linejoin:miter;stroke-opacity:1\"/>\n",
       "<path class=\"bond-2 atom-2 atom-3\" d=\"M 225.0,95.6 L 174.1,142.5\" style=\"fill:none;fill-rule:evenodd;stroke:#000000;stroke-width:2.0px;stroke-linecap:butt;stroke-linejoin:miter;stroke-opacity:1\"/>\n",
       "<path class=\"bond-3 atom-3 atom-4\" d=\"M 174.1,142.5 L 108.1,121.9\" style=\"fill:none;fill-rule:evenodd;stroke:#000000;stroke-width:2.0px;stroke-linecap:butt;stroke-linejoin:miter;stroke-opacity:1\"/>\n",
       "<path class=\"bond-4 atom-2 atom-5\" d=\"M 225.0,95.6 L 209.9,28.1\" style=\"fill:none;fill-rule:evenodd;stroke:#000000;stroke-width:2.0px;stroke-linecap:butt;stroke-linejoin:miter;stroke-opacity:1\"/>\n",
       "<path class=\"bond-5 atom-5 atom-6\" d=\"M 209.9,28.1 L 143.8,7.5\" style=\"fill:none;fill-rule:evenodd;stroke:#000000;stroke-width:2.0px;stroke-linecap:butt;stroke-linejoin:miter;stroke-opacity:1\"/>\n",
       "<path d=\"M 293.6,113.9 L 291.0,116.3 L 287.7,115.2\" style=\"fill:none;stroke:#000000;stroke-width:2.0px;stroke-linecap:butt;stroke-linejoin:miter;stroke-opacity:1;\"/>\n",
       "<path d=\"M 176.7,140.2 L 174.1,142.5 L 170.8,141.5\" style=\"fill:none;stroke:#000000;stroke-width:2.0px;stroke-linecap:butt;stroke-linejoin:miter;stroke-opacity:1;\"/>\n",
       "<path d=\"M 210.6,31.5 L 209.9,28.1 L 206.6,27.1\" style=\"fill:none;stroke:#000000;stroke-width:2.0px;stroke-linecap:butt;stroke-linejoin:miter;stroke-opacity:1;\"/>\n",
       "</svg>"
      ],
      "text/plain": [
       "<IPython.core.display.SVG object>"
      ]
     },
     "execution_count": 89,
     "metadata": {},
     "output_type": "execute_result"
    }
   ],
   "source": [
    "smiles = \"CCC(CC)CC\"\n",
    "print(get_iupac_name(smiles), smiles)\n",
    "mol = rdkit.Chem.MolFromSmiles(smiles)\n",
    "render_mol(mol)"
   ]
  },
  {
   "cell_type": "code",
   "execution_count": 90,
   "id": "8acd014d-5232-4902-8ee7-74da4ab7e77e",
   "metadata": {},
   "outputs": [
    {
     "name": "stdout",
     "output_type": "stream",
     "text": [
      "<h1>Page not found (404)</h1>\n",
      "\n",
      " CC(=CCCC(=CCCC(=CCCC(=CCCC(=CCCC=C(C)C)C)C)C)C)C Squalene\n"
     ]
    },
    {
     "data": {
      "image/svg+xml": [
       "<svg xmlns=\"http://www.w3.org/2000/svg\" xmlns:rdkit=\"http://www.rdkit.org/xml\" xmlns:xlink=\"http://www.w3.org/1999/xlink\" version=\"1.1\" baseProfile=\"full\" xml:space=\"preserve\" width=\"450px\" height=\"150px\" viewBox=\"0 0 450 150\">\n",
       "<!-- END OF HEADER -->\n",
       "<rect style=\"opacity:1.0;fill:#FFFFFF;stroke:none\" width=\"450.0\" height=\"150.0\" x=\"0.0\" y=\"0.0\"> </rect>\n",
       "<path class=\"bond-0 atom-0 atom-1\" d=\"M 22.5,77.4 L 45.4,79.3\" style=\"fill:none;fill-rule:evenodd;stroke:#000000;stroke-width:2.0px;stroke-linecap:butt;stroke-linejoin:miter;stroke-opacity:1\"/>\n",
       "<path class=\"bond-1 atom-1 atom-2\" d=\"M 45.4,79.3 L 58.5,60.5\" style=\"fill:none;fill-rule:evenodd;stroke:#000000;stroke-width:2.0px;stroke-linecap:butt;stroke-linejoin:miter;stroke-opacity:1\"/>\n",
       "<path class=\"bond-1 atom-1 atom-2\" d=\"M 49.3,79.7 L 60.1,64.1\" style=\"fill:none;fill-rule:evenodd;stroke:#000000;stroke-width:2.0px;stroke-linecap:butt;stroke-linejoin:miter;stroke-opacity:1\"/>\n",
       "<path class=\"bond-2 atom-2 atom-3\" d=\"M 58.5,60.5 L 81.3,62.4\" style=\"fill:none;fill-rule:evenodd;stroke:#000000;stroke-width:2.0px;stroke-linecap:butt;stroke-linejoin:miter;stroke-opacity:1\"/>\n",
       "<path class=\"bond-3 atom-3 atom-4\" d=\"M 81.3,62.4 L 94.4,43.6\" style=\"fill:none;fill-rule:evenodd;stroke:#000000;stroke-width:2.0px;stroke-linecap:butt;stroke-linejoin:miter;stroke-opacity:1\"/>\n",
       "<path class=\"bond-4 atom-4 atom-5\" d=\"M 94.4,43.6 L 117.3,45.5\" style=\"fill:none;fill-rule:evenodd;stroke:#000000;stroke-width:2.0px;stroke-linecap:butt;stroke-linejoin:miter;stroke-opacity:1\"/>\n",
       "<path class=\"bond-5 atom-5 atom-6\" d=\"M 117.3,45.5 L 127.0,66.3\" style=\"fill:none;fill-rule:evenodd;stroke:#000000;stroke-width:2.0px;stroke-linecap:butt;stroke-linejoin:miter;stroke-opacity:1\"/>\n",
       "<path class=\"bond-5 atom-5 atom-6\" d=\"M 121.2,45.9 L 129.3,63.0\" style=\"fill:none;fill-rule:evenodd;stroke:#000000;stroke-width:2.0px;stroke-linecap:butt;stroke-linejoin:miter;stroke-opacity:1\"/>\n",
       "<path class=\"bond-6 atom-6 atom-7\" d=\"M 127.0,66.3 L 149.9,68.2\" style=\"fill:none;fill-rule:evenodd;stroke:#000000;stroke-width:2.0px;stroke-linecap:butt;stroke-linejoin:miter;stroke-opacity:1\"/>\n",
       "<path class=\"bond-7 atom-7 atom-8\" d=\"M 149.9,68.2 L 159.6,89.0\" style=\"fill:none;fill-rule:evenodd;stroke:#000000;stroke-width:2.0px;stroke-linecap:butt;stroke-linejoin:miter;stroke-opacity:1\"/>\n",
       "<path class=\"bond-8 atom-8 atom-9\" d=\"M 159.6,89.0 L 182.5,90.9\" style=\"fill:none;fill-rule:evenodd;stroke:#000000;stroke-width:2.0px;stroke-linecap:butt;stroke-linejoin:miter;stroke-opacity:1\"/>\n",
       "<path class=\"bond-9 atom-9 atom-10\" d=\"M 182.5,90.9 L 195.6,72.1\" style=\"fill:none;fill-rule:evenodd;stroke:#000000;stroke-width:2.0px;stroke-linecap:butt;stroke-linejoin:miter;stroke-opacity:1\"/>\n",
       "<path class=\"bond-9 atom-9 atom-10\" d=\"M 186.5,91.3 L 197.3,75.7\" style=\"fill:none;fill-rule:evenodd;stroke:#000000;stroke-width:2.0px;stroke-linecap:butt;stroke-linejoin:miter;stroke-opacity:1\"/>\n",
       "<path class=\"bond-10 atom-10 atom-11\" d=\"M 195.6,72.1 L 218.4,74.0\" style=\"fill:none;fill-rule:evenodd;stroke:#000000;stroke-width:2.0px;stroke-linecap:butt;stroke-linejoin:miter;stroke-opacity:1\"/>\n",
       "<path class=\"bond-11 atom-11 atom-12\" d=\"M 218.4,74.0 L 231.6,55.2\" style=\"fill:none;fill-rule:evenodd;stroke:#000000;stroke-width:2.0px;stroke-linecap:butt;stroke-linejoin:miter;stroke-opacity:1\"/>\n",
       "<path class=\"bond-12 atom-12 atom-13\" d=\"M 231.6,55.2 L 254.4,57.1\" style=\"fill:none;fill-rule:evenodd;stroke:#000000;stroke-width:2.0px;stroke-linecap:butt;stroke-linejoin:miter;stroke-opacity:1\"/>\n",
       "<path class=\"bond-13 atom-13 atom-14\" d=\"M 254.4,57.1 L 264.2,77.9\" style=\"fill:none;fill-rule:evenodd;stroke:#000000;stroke-width:2.0px;stroke-linecap:butt;stroke-linejoin:miter;stroke-opacity:1\"/>\n",
       "<path class=\"bond-13 atom-13 atom-14\" d=\"M 258.4,57.5 L 266.4,74.6\" style=\"fill:none;fill-rule:evenodd;stroke:#000000;stroke-width:2.0px;stroke-linecap:butt;stroke-linejoin:miter;stroke-opacity:1\"/>\n",
       "<path class=\"bond-14 atom-14 atom-15\" d=\"M 264.2,77.9 L 287.0,79.8\" style=\"fill:none;fill-rule:evenodd;stroke:#000000;stroke-width:2.0px;stroke-linecap:butt;stroke-linejoin:miter;stroke-opacity:1\"/>\n",
       "<path class=\"bond-15 atom-15 atom-16\" d=\"M 287.0,79.8 L 296.8,100.6\" style=\"fill:none;fill-rule:evenodd;stroke:#000000;stroke-width:2.0px;stroke-linecap:butt;stroke-linejoin:miter;stroke-opacity:1\"/>\n",
       "<path class=\"bond-16 atom-16 atom-17\" d=\"M 296.8,100.6 L 319.6,102.5\" style=\"fill:none;fill-rule:evenodd;stroke:#000000;stroke-width:2.0px;stroke-linecap:butt;stroke-linejoin:miter;stroke-opacity:1\"/>\n",
       "<path class=\"bond-17 atom-17 atom-18\" d=\"M 319.6,102.5 L 332.7,83.7\" style=\"fill:none;fill-rule:evenodd;stroke:#000000;stroke-width:2.0px;stroke-linecap:butt;stroke-linejoin:miter;stroke-opacity:1\"/>\n",
       "<path class=\"bond-17 atom-17 atom-18\" d=\"M 323.6,102.9 L 334.4,87.3\" style=\"fill:none;fill-rule:evenodd;stroke:#000000;stroke-width:2.0px;stroke-linecap:butt;stroke-linejoin:miter;stroke-opacity:1\"/>\n",
       "<path class=\"bond-18 atom-18 atom-19\" d=\"M 332.7,83.7 L 355.6,85.6\" style=\"fill:none;fill-rule:evenodd;stroke:#000000;stroke-width:2.0px;stroke-linecap:butt;stroke-linejoin:miter;stroke-opacity:1\"/>\n",
       "<path class=\"bond-19 atom-19 atom-20\" d=\"M 355.6,85.6 L 368.7,66.8\" style=\"fill:none;fill-rule:evenodd;stroke:#000000;stroke-width:2.0px;stroke-linecap:butt;stroke-linejoin:miter;stroke-opacity:1\"/>\n",
       "<path class=\"bond-20 atom-20 atom-21\" d=\"M 368.7,66.8 L 391.5,68.7\" style=\"fill:none;fill-rule:evenodd;stroke:#000000;stroke-width:2.0px;stroke-linecap:butt;stroke-linejoin:miter;stroke-opacity:1\"/>\n",
       "<path class=\"bond-21 atom-21 atom-22\" d=\"M 391.5,68.7 L 404.6,49.9\" style=\"fill:none;fill-rule:evenodd;stroke:#000000;stroke-width:2.0px;stroke-linecap:butt;stroke-linejoin:miter;stroke-opacity:1\"/>\n",
       "<path class=\"bond-21 atom-21 atom-22\" d=\"M 389.9,65.1 L 400.7,49.6\" style=\"fill:none;fill-rule:evenodd;stroke:#000000;stroke-width:2.0px;stroke-linecap:butt;stroke-linejoin:miter;stroke-opacity:1\"/>\n",
       "<path class=\"bond-22 atom-22 atom-23\" d=\"M 404.6,49.9 L 427.5,51.8\" style=\"fill:none;fill-rule:evenodd;stroke:#000000;stroke-width:2.0px;stroke-linecap:butt;stroke-linejoin:miter;stroke-opacity:1\"/>\n",
       "<path class=\"bond-23 atom-22 atom-24\" d=\"M 404.6,49.9 L 394.9,29.1\" style=\"fill:none;fill-rule:evenodd;stroke:#000000;stroke-width:2.0px;stroke-linecap:butt;stroke-linejoin:miter;stroke-opacity:1\"/>\n",
       "<path class=\"bond-24 atom-17 atom-25\" d=\"M 319.6,102.5 L 329.4,123.3\" style=\"fill:none;fill-rule:evenodd;stroke:#000000;stroke-width:2.0px;stroke-linecap:butt;stroke-linejoin:miter;stroke-opacity:1\"/>\n",
       "<path class=\"bond-25 atom-13 atom-26\" d=\"M 254.4,57.1 L 267.5,38.3\" style=\"fill:none;fill-rule:evenodd;stroke:#000000;stroke-width:2.0px;stroke-linecap:butt;stroke-linejoin:miter;stroke-opacity:1\"/>\n",
       "<path class=\"bond-26 atom-9 atom-27\" d=\"M 182.5,90.9 L 192.2,111.7\" style=\"fill:none;fill-rule:evenodd;stroke:#000000;stroke-width:2.0px;stroke-linecap:butt;stroke-linejoin:miter;stroke-opacity:1\"/>\n",
       "<path class=\"bond-27 atom-5 atom-28\" d=\"M 117.3,45.5 L 130.4,26.7\" style=\"fill:none;fill-rule:evenodd;stroke:#000000;stroke-width:2.0px;stroke-linecap:butt;stroke-linejoin:miter;stroke-opacity:1\"/>\n",
       "<path class=\"bond-28 atom-1 atom-29\" d=\"M 45.4,79.3 L 55.1,100.1\" style=\"fill:none;fill-rule:evenodd;stroke:#000000;stroke-width:2.0px;stroke-linecap:butt;stroke-linejoin:miter;stroke-opacity:1\"/>\n",
       "<path d=\"M 57.8,61.5 L 58.5,60.5 L 59.6,60.6\" style=\"fill:none;stroke:#000000;stroke-width:2.0px;stroke-linecap:butt;stroke-linejoin:miter;stroke-opacity:1;\"/>\n",
       "<path d=\"M 80.2,62.3 L 81.3,62.4 L 82.0,61.5\" style=\"fill:none;stroke:#000000;stroke-width:2.0px;stroke-linecap:butt;stroke-linejoin:miter;stroke-opacity:1;\"/>\n",
       "<path d=\"M 93.8,44.6 L 94.4,43.6 L 95.6,43.7\" style=\"fill:none;stroke:#000000;stroke-width:2.0px;stroke-linecap:butt;stroke-linejoin:miter;stroke-opacity:1;\"/>\n",
       "<path d=\"M 126.5,65.3 L 127.0,66.3 L 128.2,66.4\" style=\"fill:none;stroke:#000000;stroke-width:2.0px;stroke-linecap:butt;stroke-linejoin:miter;stroke-opacity:1;\"/>\n",
       "<path d=\"M 148.7,68.1 L 149.9,68.2 L 150.4,69.3\" style=\"fill:none;stroke:#000000;stroke-width:2.0px;stroke-linecap:butt;stroke-linejoin:miter;stroke-opacity:1;\"/>\n",
       "<path d=\"M 159.1,88.0 L 159.6,89.0 L 160.8,89.1\" style=\"fill:none;stroke:#000000;stroke-width:2.0px;stroke-linecap:butt;stroke-linejoin:miter;stroke-opacity:1;\"/>\n",
       "<path d=\"M 194.9,73.0 L 195.6,72.1 L 196.7,72.2\" style=\"fill:none;stroke:#000000;stroke-width:2.0px;stroke-linecap:butt;stroke-linejoin:miter;stroke-opacity:1;\"/>\n",
       "<path d=\"M 217.3,73.9 L 218.4,74.0 L 219.1,73.1\" style=\"fill:none;stroke:#000000;stroke-width:2.0px;stroke-linecap:butt;stroke-linejoin:miter;stroke-opacity:1;\"/>\n",
       "<path d=\"M 230.9,56.1 L 231.6,55.2 L 232.7,55.3\" style=\"fill:none;stroke:#000000;stroke-width:2.0px;stroke-linecap:butt;stroke-linejoin:miter;stroke-opacity:1;\"/>\n",
       "<path d=\"M 263.7,76.9 L 264.2,77.9 L 265.3,78.0\" style=\"fill:none;stroke:#000000;stroke-width:2.0px;stroke-linecap:butt;stroke-linejoin:miter;stroke-opacity:1;\"/>\n",
       "<path d=\"M 285.9,79.7 L 287.0,79.8 L 287.5,80.9\" style=\"fill:none;stroke:#000000;stroke-width:2.0px;stroke-linecap:butt;stroke-linejoin:miter;stroke-opacity:1;\"/>\n",
       "<path d=\"M 296.3,99.6 L 296.8,100.6 L 297.9,100.7\" style=\"fill:none;stroke:#000000;stroke-width:2.0px;stroke-linecap:butt;stroke-linejoin:miter;stroke-opacity:1;\"/>\n",
       "<path d=\"M 332.1,84.6 L 332.7,83.7 L 333.9,83.8\" style=\"fill:none;stroke:#000000;stroke-width:2.0px;stroke-linecap:butt;stroke-linejoin:miter;stroke-opacity:1;\"/>\n",
       "<path d=\"M 354.4,85.5 L 355.6,85.6 L 356.2,84.7\" style=\"fill:none;stroke:#000000;stroke-width:2.0px;stroke-linecap:butt;stroke-linejoin:miter;stroke-opacity:1;\"/>\n",
       "<path d=\"M 368.0,67.7 L 368.7,66.8 L 369.8,66.9\" style=\"fill:none;stroke:#000000;stroke-width:2.0px;stroke-linecap:butt;stroke-linejoin:miter;stroke-opacity:1;\"/>\n",
       "<path d=\"M 390.4,68.6 L 391.5,68.7 L 392.2,67.8\" style=\"fill:none;stroke:#000000;stroke-width:2.0px;stroke-linecap:butt;stroke-linejoin:miter;stroke-opacity:1;\"/>\n",
       "</svg>"
      ],
      "text/plain": [
       "<IPython.core.display.SVG object>"
      ]
     },
     "execution_count": 90,
     "metadata": {},
     "output_type": "execute_result"
    }
   ],
   "source": [
    "smiles = \"CC(=CCCC(=CCCC(=CCCC(=CCCC(=CCCC=C(C)C)C)C)C)C)C\"\n",
    "print(get_iupac_name(smiles), smiles, \"Squalene\")\n",
    "mol = rdkit.Chem.MolFromSmiles(smiles)\n",
    "render_mol(mol)"
   ]
  },
  {
   "cell_type": "markdown",
   "id": "e9cc51b2-d9d2-4059-bdfa-ee6acfbaed42",
   "metadata": {},
   "source": [
    "### Rings\n",
    "\n",
    "Rings are created by breaking a ring at an arbritrary point. And inserting an integer number at that point."
   ]
  },
  {
   "cell_type": "code",
   "execution_count": 91,
   "id": "9ec1ee84-fdc4-491a-8258-f93ab6c981c1",
   "metadata": {},
   "outputs": [
    {
     "name": "stdout",
     "output_type": "stream",
     "text": [
      "Cyclohexane C1CCCCC1\n"
     ]
    },
    {
     "data": {
      "image/svg+xml": [
       "<svg xmlns=\"http://www.w3.org/2000/svg\" xmlns:rdkit=\"http://www.rdkit.org/xml\" xmlns:xlink=\"http://www.w3.org/1999/xlink\" version=\"1.1\" baseProfile=\"full\" xml:space=\"preserve\" width=\"450px\" height=\"150px\" viewBox=\"0 0 450 150\">\n",
       "<!-- END OF HEADER -->\n",
       "<rect style=\"opacity:1.0;fill:#FFFFFF;stroke:none\" width=\"450.0\" height=\"150.0\" x=\"0.0\" y=\"0.0\"> </rect>\n",
       "<path class=\"bond-0 atom-0 atom-1\" d=\"M 302.9,75.0 L 264.0,142.5\" style=\"fill:none;fill-rule:evenodd;stroke:#000000;stroke-width:2.0px;stroke-linecap:butt;stroke-linejoin:miter;stroke-opacity:1\"/>\n",
       "<path class=\"bond-1 atom-1 atom-2\" d=\"M 264.0,142.5 L 186.0,142.5\" style=\"fill:none;fill-rule:evenodd;stroke:#000000;stroke-width:2.0px;stroke-linecap:butt;stroke-linejoin:miter;stroke-opacity:1\"/>\n",
       "<path class=\"bond-2 atom-2 atom-3\" d=\"M 186.0,142.5 L 147.1,75.0\" style=\"fill:none;fill-rule:evenodd;stroke:#000000;stroke-width:2.0px;stroke-linecap:butt;stroke-linejoin:miter;stroke-opacity:1\"/>\n",
       "<path class=\"bond-3 atom-3 atom-4\" d=\"M 147.1,75.0 L 186.0,7.5\" style=\"fill:none;fill-rule:evenodd;stroke:#000000;stroke-width:2.0px;stroke-linecap:butt;stroke-linejoin:miter;stroke-opacity:1\"/>\n",
       "<path class=\"bond-4 atom-4 atom-5\" d=\"M 186.0,7.5 L 264.0,7.5\" style=\"fill:none;fill-rule:evenodd;stroke:#000000;stroke-width:2.0px;stroke-linecap:butt;stroke-linejoin:miter;stroke-opacity:1\"/>\n",
       "<path class=\"bond-5 atom-5 atom-0\" d=\"M 264.0,7.5 L 302.9,75.0\" style=\"fill:none;fill-rule:evenodd;stroke:#000000;stroke-width:2.0px;stroke-linecap:butt;stroke-linejoin:miter;stroke-opacity:1\"/>\n",
       "<path d=\"M 301.0,78.4 L 302.9,75.0 L 301.0,71.6\" style=\"fill:none;stroke:#000000;stroke-width:2.0px;stroke-linecap:butt;stroke-linejoin:miter;stroke-opacity:1;\"/>\n",
       "<path d=\"M 265.9,139.1 L 264.0,142.5 L 260.1,142.5\" style=\"fill:none;stroke:#000000;stroke-width:2.0px;stroke-linecap:butt;stroke-linejoin:miter;stroke-opacity:1;\"/>\n",
       "<path d=\"M 189.9,142.5 L 186.0,142.5 L 184.1,139.1\" style=\"fill:none;stroke:#000000;stroke-width:2.0px;stroke-linecap:butt;stroke-linejoin:miter;stroke-opacity:1;\"/>\n",
       "<path d=\"M 149.0,78.4 L 147.1,75.0 L 149.0,71.6\" style=\"fill:none;stroke:#000000;stroke-width:2.0px;stroke-linecap:butt;stroke-linejoin:miter;stroke-opacity:1;\"/>\n",
       "<path d=\"M 184.1,10.9 L 186.0,7.5 L 189.9,7.5\" style=\"fill:none;stroke:#000000;stroke-width:2.0px;stroke-linecap:butt;stroke-linejoin:miter;stroke-opacity:1;\"/>\n",
       "<path d=\"M 260.1,7.5 L 264.0,7.5 L 265.9,10.9\" style=\"fill:none;stroke:#000000;stroke-width:2.0px;stroke-linecap:butt;stroke-linejoin:miter;stroke-opacity:1;\"/>\n",
       "</svg>"
      ],
      "text/plain": [
       "<IPython.core.display.SVG object>"
      ]
     },
     "execution_count": 91,
     "metadata": {},
     "output_type": "execute_result"
    }
   ],
   "source": [
    "smiles = \"C1CCCCC1\"\n",
    "print(get_iupac_name(smiles), smiles)\n",
    "mol = rdkit.Chem.MolFromSmiles(smiles)\n",
    "render_mol(mol)"
   ]
  },
  {
   "cell_type": "markdown",
   "id": "8cf1ac61-55aa-45d9-bc8b-655d0db997b2",
   "metadata": {},
   "source": [
    "It is possible to use multiple and nested rings.\n",
    "But structures with rings, can easily challenge the 2D representation of"
   ]
  },
  {
   "cell_type": "code",
   "execution_count": 92,
   "id": "a4f5ad42-ee1c-4863-bf4e-37ed2e8140a3",
   "metadata": {
    "lines_to_next_cell": 2
   },
   "outputs": [
    {
     "name": "stdout",
     "output_type": "stream",
     "text": [
      "cubane C12C3C4C1C5C2C3C45\n"
     ]
    },
    {
     "data": {
      "image/svg+xml": [
       "<svg xmlns=\"http://www.w3.org/2000/svg\" xmlns:rdkit=\"http://www.rdkit.org/xml\" xmlns:xlink=\"http://www.w3.org/1999/xlink\" version=\"1.1\" baseProfile=\"full\" xml:space=\"preserve\" width=\"450px\" height=\"150px\" viewBox=\"0 0 450 150\">\n",
       "<!-- END OF HEADER -->\n",
       "<rect style=\"opacity:1.0;fill:#FFFFFF;stroke:none\" width=\"450.0\" height=\"150.0\" x=\"0.0\" y=\"0.0\"> </rect>\n",
       "<path class=\"bond-0 atom-0 atom-1\" d=\"M 292.5,142.5 L 157.5,142.5\" style=\"fill:none;fill-rule:evenodd;stroke:#000000;stroke-width:2.0px;stroke-linecap:butt;stroke-linejoin:miter;stroke-opacity:1\"/>\n",
       "<path class=\"bond-1 atom-1 atom-2\" d=\"M 157.5,142.5 L 157.5,7.5\" style=\"fill:none;fill-rule:evenodd;stroke:#000000;stroke-width:2.0px;stroke-linecap:butt;stroke-linejoin:miter;stroke-opacity:1\"/>\n",
       "<path class=\"bond-2 atom-2 atom-3\" d=\"M 157.5,7.5 L 292.5,7.5\" style=\"fill:none;fill-rule:evenodd;stroke:#000000;stroke-width:2.0px;stroke-linecap:butt;stroke-linejoin:miter;stroke-opacity:1\"/>\n",
       "<path class=\"bond-3 atom-3 atom-4\" d=\"M 292.5,7.5 L 427.5,7.5\" style=\"fill:none;fill-rule:evenodd;stroke:#000000;stroke-width:2.0px;stroke-linecap:butt;stroke-linejoin:miter;stroke-opacity:1\"/>\n",
       "<path class=\"bond-4 atom-4 atom-5\" d=\"M 427.5,7.5 L 427.5,142.5\" style=\"fill:none;fill-rule:evenodd;stroke:#000000;stroke-width:2.0px;stroke-linecap:butt;stroke-linejoin:miter;stroke-opacity:1\"/>\n",
       "<path class=\"bond-5 atom-5 atom-6\" d=\"M 427.5,142.5 L 22.5,142.5\" style=\"fill:none;fill-rule:evenodd;stroke:#000000;stroke-width:2.0px;stroke-linecap:butt;stroke-linejoin:miter;stroke-opacity:1\"/>\n",
       "<path class=\"bond-6 atom-6 atom-7\" d=\"M 22.5,142.5 L 22.5,7.5\" style=\"fill:none;fill-rule:evenodd;stroke:#000000;stroke-width:2.0px;stroke-linecap:butt;stroke-linejoin:miter;stroke-opacity:1\"/>\n",
       "<path class=\"bond-7 atom-3 atom-0\" d=\"M 292.5,7.5 L 292.5,142.5\" style=\"fill:none;fill-rule:evenodd;stroke:#000000;stroke-width:2.0px;stroke-linecap:butt;stroke-linejoin:miter;stroke-opacity:1\"/>\n",
       "<path class=\"bond-8 atom-5 atom-0\" d=\"M 427.5,142.5 L 292.5,142.5\" style=\"fill:none;fill-rule:evenodd;stroke:#000000;stroke-width:2.0px;stroke-linecap:butt;stroke-linejoin:miter;stroke-opacity:1\"/>\n",
       "<path class=\"bond-9 atom-6 atom-1\" d=\"M 22.5,142.5 L 157.5,142.5\" style=\"fill:none;fill-rule:evenodd;stroke:#000000;stroke-width:2.0px;stroke-linecap:butt;stroke-linejoin:miter;stroke-opacity:1\"/>\n",
       "<path class=\"bond-10 atom-7 atom-2\" d=\"M 22.5,7.5 L 157.5,7.5\" style=\"fill:none;fill-rule:evenodd;stroke:#000000;stroke-width:2.0px;stroke-linecap:butt;stroke-linejoin:miter;stroke-opacity:1\"/>\n",
       "<path class=\"bond-11 atom-7 atom-4\" d=\"M 22.5,7.5 L 427.5,7.5\" style=\"fill:none;fill-rule:evenodd;stroke:#000000;stroke-width:2.0px;stroke-linecap:butt;stroke-linejoin:miter;stroke-opacity:1\"/>\n",
       "</svg>"
      ],
      "text/plain": [
       "<IPython.core.display.SVG object>"
      ]
     },
     "execution_count": 92,
     "metadata": {},
     "output_type": "execute_result"
    }
   ],
   "source": [
    "smiles = \"C12C3C4C1C5C2C3C45\"\n",
    "print(get_iupac_name(smiles), smiles)\n",
    "mol = rdkit.Chem.MolFromSmiles(smiles)\n",
    "render_mol(mol)"
   ]
  },
  {
   "cell_type": "code",
   "execution_count": 93,
   "id": "2618f100-896c-47f5-a4eb-a495beae4896",
   "metadata": {},
   "outputs": [
    {
     "name": "stdout",
     "output_type": "stream",
     "text": [
      "ADAMANTANE C1C3CC2CC(CC1C2)C3\n"
     ]
    },
    {
     "data": {
      "image/svg+xml": [
       "<svg xmlns=\"http://www.w3.org/2000/svg\" xmlns:rdkit=\"http://www.rdkit.org/xml\" xmlns:xlink=\"http://www.w3.org/1999/xlink\" version=\"1.1\" baseProfile=\"full\" xml:space=\"preserve\" width=\"450px\" height=\"150px\" viewBox=\"0 0 450 150\">\n",
       "<!-- END OF HEADER -->\n",
       "<rect style=\"opacity:1.0;fill:#FFFFFF;stroke:none\" width=\"450.0\" height=\"150.0\" x=\"0.0\" y=\"0.0\"> </rect>\n",
       "<path class=\"bond-0 atom-0 atom-1\" d=\"M 188.9,77.5 L 220.6,12.5\" style=\"fill:none;fill-rule:evenodd;stroke:#000000;stroke-width:2.0px;stroke-linecap:butt;stroke-linejoin:miter;stroke-opacity:1\"/>\n",
       "<path class=\"bond-1 atom-1 atom-2\" d=\"M 220.6,12.5 L 148.5,17.6\" style=\"fill:none;fill-rule:evenodd;stroke:#000000;stroke-width:2.0px;stroke-linecap:butt;stroke-linejoin:miter;stroke-opacity:1\"/>\n",
       "<path class=\"bond-2 atom-2 atom-3\" d=\"M 148.5,17.6 L 116.8,82.5\" style=\"fill:none;fill-rule:evenodd;stroke:#000000;stroke-width:2.0px;stroke-linecap:butt;stroke-linejoin:miter;stroke-opacity:1\"/>\n",
       "<path class=\"bond-3 atom-3 atom-4\" d=\"M 116.8,82.5 L 273.2,107.9\" style=\"fill:none;fill-rule:evenodd;stroke:#000000;stroke-width:2.0px;stroke-linecap:butt;stroke-linejoin:miter;stroke-opacity:1\"/>\n",
       "<path class=\"bond-4 atom-4 atom-5\" d=\"M 273.2,107.9 L 333.2,67.5\" style=\"fill:none;fill-rule:evenodd;stroke:#000000;stroke-width:2.0px;stroke-linecap:butt;stroke-linejoin:miter;stroke-opacity:1\"/>\n",
       "<path class=\"bond-5 atom-5 atom-6\" d=\"M 333.2,67.5 L 301.5,132.4\" style=\"fill:none;fill-rule:evenodd;stroke:#000000;stroke-width:2.0px;stroke-linecap:butt;stroke-linejoin:miter;stroke-opacity:1\"/>\n",
       "<path class=\"bond-6 atom-6 atom-7\" d=\"M 301.5,132.4 L 229.4,137.5\" style=\"fill:none;fill-rule:evenodd;stroke:#000000;stroke-width:2.0px;stroke-linecap:butt;stroke-linejoin:miter;stroke-opacity:1\"/>\n",
       "<path class=\"bond-7 atom-7 atom-8\" d=\"M 229.4,137.5 L 157.2,142.5\" style=\"fill:none;fill-rule:evenodd;stroke:#000000;stroke-width:2.0px;stroke-linecap:butt;stroke-linejoin:miter;stroke-opacity:1\"/>\n",
       "<path class=\"bond-8 atom-5 atom-9\" d=\"M 333.2,67.5 L 292.8,7.5\" style=\"fill:none;fill-rule:evenodd;stroke:#000000;stroke-width:2.0px;stroke-linecap:butt;stroke-linejoin:miter;stroke-opacity:1\"/>\n",
       "<path class=\"bond-9 atom-7 atom-0\" d=\"M 229.4,137.5 L 188.9,77.5\" style=\"fill:none;fill-rule:evenodd;stroke:#000000;stroke-width:2.0px;stroke-linecap:butt;stroke-linejoin:miter;stroke-opacity:1\"/>\n",
       "<path class=\"bond-10 atom-8 atom-3\" d=\"M 157.2,142.5 L 116.8,82.5\" style=\"fill:none;fill-rule:evenodd;stroke:#000000;stroke-width:2.0px;stroke-linecap:butt;stroke-linejoin:miter;stroke-opacity:1\"/>\n",
       "<path class=\"bond-11 atom-9 atom-1\" d=\"M 292.8,7.5 L 220.6,12.5\" style=\"fill:none;fill-rule:evenodd;stroke:#000000;stroke-width:2.0px;stroke-linecap:butt;stroke-linejoin:miter;stroke-opacity:1\"/>\n",
       "<path d=\"M 190.5,74.3 L 188.9,77.5 L 191.0,80.5\" style=\"fill:none;stroke:#000000;stroke-width:2.0px;stroke-linecap:butt;stroke-linejoin:miter;stroke-opacity:1;\"/>\n",
       "<path d=\"M 152.1,17.3 L 148.5,17.6 L 146.9,20.8\" style=\"fill:none;stroke:#000000;stroke-width:2.0px;stroke-linecap:butt;stroke-linejoin:miter;stroke-opacity:1;\"/>\n",
       "<path d=\"M 265.4,106.6 L 273.2,107.9 L 276.2,105.9\" style=\"fill:none;stroke:#000000;stroke-width:2.0px;stroke-linecap:butt;stroke-linejoin:miter;stroke-opacity:1;\"/>\n",
       "<path d=\"M 303.1,129.2 L 301.5,132.4 L 297.9,132.7\" style=\"fill:none;stroke:#000000;stroke-width:2.0px;stroke-linecap:butt;stroke-linejoin:miter;stroke-opacity:1;\"/>\n",
       "<path d=\"M 160.8,142.2 L 157.2,142.5 L 155.2,139.5\" style=\"fill:none;stroke:#000000;stroke-width:2.0px;stroke-linecap:butt;stroke-linejoin:miter;stroke-opacity:1;\"/>\n",
       "<path d=\"M 294.8,10.5 L 292.8,7.5 L 289.2,7.8\" style=\"fill:none;stroke:#000000;stroke-width:2.0px;stroke-linecap:butt;stroke-linejoin:miter;stroke-opacity:1;\"/>\n",
       "</svg>"
      ],
      "text/plain": [
       "<IPython.core.display.SVG object>"
      ]
     },
     "execution_count": 93,
     "metadata": {},
     "output_type": "execute_result"
    }
   ],
   "source": [
    "smiles = \"C1C3CC2CC(CC1C2)C3\"\n",
    "print(get_iupac_name(smiles), smiles)\n",
    "mol = rdkit.Chem.MolFromSmiles(smiles)\n",
    "render_mol(mol)"
   ]
  },
  {
   "cell_type": "markdown",
   "id": "052dad15-35c8-4af0-bd52-216148bc5278",
   "metadata": {},
   "source": [
    "2 digit number are preceded by the `%` symbol"
   ]
  },
  {
   "cell_type": "code",
   "execution_count": 94,
   "id": "b1ef9c25-0af7-4ff0-8ea2-21f3eaffe0f3",
   "metadata": {},
   "outputs": [
    {
     "name": "stdout",
     "output_type": "stream",
     "text": [
      "1,2,3,4,4a,5,6,7,8,8a-decahydronaphthalene C%32CCC%11CCCCC%11C%32\n"
     ]
    },
    {
     "data": {
      "image/svg+xml": [
       "<svg xmlns=\"http://www.w3.org/2000/svg\" xmlns:rdkit=\"http://www.rdkit.org/xml\" xmlns:xlink=\"http://www.w3.org/1999/xlink\" version=\"1.1\" baseProfile=\"full\" xml:space=\"preserve\" width=\"450px\" height=\"150px\" viewBox=\"0 0 450 150\">\n",
       "<!-- END OF HEADER -->\n",
       "<rect style=\"opacity:1.0;fill:#FFFFFF;stroke:none\" width=\"450.0\" height=\"150.0\" x=\"0.0\" y=\"0.0\"> </rect>\n",
       "<path class=\"bond-0 atom-0 atom-1\" d=\"M 108.1,108.8 L 108.1,41.2\" style=\"fill:none;fill-rule:evenodd;stroke:#000000;stroke-width:2.0px;stroke-linecap:butt;stroke-linejoin:miter;stroke-opacity:1\"/>\n",
       "<path class=\"bond-1 atom-1 atom-2\" d=\"M 108.1,41.2 L 166.5,7.5\" style=\"fill:none;fill-rule:evenodd;stroke:#000000;stroke-width:2.0px;stroke-linecap:butt;stroke-linejoin:miter;stroke-opacity:1\"/>\n",
       "<path class=\"bond-2 atom-2 atom-3\" d=\"M 166.5,7.5 L 225.0,41.2\" style=\"fill:none;fill-rule:evenodd;stroke:#000000;stroke-width:2.0px;stroke-linecap:butt;stroke-linejoin:miter;stroke-opacity:1\"/>\n",
       "<path class=\"bond-3 atom-3 atom-4\" d=\"M 225.0,41.2 L 283.5,7.5\" style=\"fill:none;fill-rule:evenodd;stroke:#000000;stroke-width:2.0px;stroke-linecap:butt;stroke-linejoin:miter;stroke-opacity:1\"/>\n",
       "<path class=\"bond-4 atom-4 atom-5\" d=\"M 283.5,7.5 L 341.9,41.3\" style=\"fill:none;fill-rule:evenodd;stroke:#000000;stroke-width:2.0px;stroke-linecap:butt;stroke-linejoin:miter;stroke-opacity:1\"/>\n",
       "<path class=\"bond-5 atom-5 atom-6\" d=\"M 341.9,41.3 L 341.9,108.8\" style=\"fill:none;fill-rule:evenodd;stroke:#000000;stroke-width:2.0px;stroke-linecap:butt;stroke-linejoin:miter;stroke-opacity:1\"/>\n",
       "<path class=\"bond-6 atom-6 atom-7\" d=\"M 341.9,108.8 L 283.5,142.5\" style=\"fill:none;fill-rule:evenodd;stroke:#000000;stroke-width:2.0px;stroke-linecap:butt;stroke-linejoin:miter;stroke-opacity:1\"/>\n",
       "<path class=\"bond-7 atom-7 atom-8\" d=\"M 283.5,142.5 L 225.0,108.8\" style=\"fill:none;fill-rule:evenodd;stroke:#000000;stroke-width:2.0px;stroke-linecap:butt;stroke-linejoin:miter;stroke-opacity:1\"/>\n",
       "<path class=\"bond-8 atom-8 atom-9\" d=\"M 225.0,108.8 L 166.5,142.5\" style=\"fill:none;fill-rule:evenodd;stroke:#000000;stroke-width:2.0px;stroke-linecap:butt;stroke-linejoin:miter;stroke-opacity:1\"/>\n",
       "<path class=\"bond-9 atom-8 atom-3\" d=\"M 225.0,108.8 L 225.0,41.2\" style=\"fill:none;fill-rule:evenodd;stroke:#000000;stroke-width:2.0px;stroke-linecap:butt;stroke-linejoin:miter;stroke-opacity:1\"/>\n",
       "<path class=\"bond-10 atom-9 atom-0\" d=\"M 166.5,142.5 L 108.1,108.8\" style=\"fill:none;fill-rule:evenodd;stroke:#000000;stroke-width:2.0px;stroke-linecap:butt;stroke-linejoin:miter;stroke-opacity:1\"/>\n",
       "<path d=\"M 108.1,105.4 L 108.1,108.8 L 111.0,110.4\" style=\"fill:none;stroke:#000000;stroke-width:2.0px;stroke-linecap:butt;stroke-linejoin:miter;stroke-opacity:1;\"/>\n",
       "<path d=\"M 108.1,44.6 L 108.1,41.2 L 111.0,39.6\" style=\"fill:none;stroke:#000000;stroke-width:2.0px;stroke-linecap:butt;stroke-linejoin:miter;stroke-opacity:1;\"/>\n",
       "<path d=\"M 163.6,9.2 L 166.5,7.5 L 169.5,9.2\" style=\"fill:none;stroke:#000000;stroke-width:2.0px;stroke-linecap:butt;stroke-linejoin:miter;stroke-opacity:1;\"/>\n",
       "<path d=\"M 280.5,9.2 L 283.5,7.5 L 286.4,9.2\" style=\"fill:none;stroke:#000000;stroke-width:2.0px;stroke-linecap:butt;stroke-linejoin:miter;stroke-opacity:1;\"/>\n",
       "<path d=\"M 339.0,39.6 L 341.9,41.3 L 341.9,44.6\" style=\"fill:none;stroke:#000000;stroke-width:2.0px;stroke-linecap:butt;stroke-linejoin:miter;stroke-opacity:1;\"/>\n",
       "<path d=\"M 341.9,105.4 L 341.9,108.8 L 339.0,110.4\" style=\"fill:none;stroke:#000000;stroke-width:2.0px;stroke-linecap:butt;stroke-linejoin:miter;stroke-opacity:1;\"/>\n",
       "<path d=\"M 286.4,140.8 L 283.5,142.5 L 280.5,140.8\" style=\"fill:none;stroke:#000000;stroke-width:2.0px;stroke-linecap:butt;stroke-linejoin:miter;stroke-opacity:1;\"/>\n",
       "<path d=\"M 169.5,140.8 L 166.5,142.5 L 163.6,140.8\" style=\"fill:none;stroke:#000000;stroke-width:2.0px;stroke-linecap:butt;stroke-linejoin:miter;stroke-opacity:1;\"/>\n",
       "</svg>"
      ],
      "text/plain": [
       "<IPython.core.display.SVG object>"
      ]
     },
     "execution_count": 94,
     "metadata": {},
     "output_type": "execute_result"
    }
   ],
   "source": [
    "smiles = \"C%32CCC%11CCCCC%11C%32\"\n",
    "print(get_iupac_name(smiles), smiles)\n",
    "mol = rdkit.Chem.MolFromSmiles(smiles)\n",
    "render_mol(mol)"
   ]
  },
  {
   "cell_type": "markdown",
   "id": "117e6369-ea84-469a-9e1f-609a353e056c",
   "metadata": {},
   "source": [
    "### Aromacity\n",
    "\n",
    "Aromatic rings can be specified in multiple different ways:\n",
    "\n",
    "- with lower case symbols of `b, c, n, o, p, s`"
   ]
  },
  {
   "cell_type": "code",
   "execution_count": 95,
   "id": "c036d883-bb78-4afe-b68a-765505613356",
   "metadata": {},
   "outputs": [
    {
     "name": "stdout",
     "output_type": "stream",
     "text": [
      "BENZENE c1ccccc1\n"
     ]
    },
    {
     "data": {
      "image/svg+xml": [
       "<svg xmlns=\"http://www.w3.org/2000/svg\" xmlns:rdkit=\"http://www.rdkit.org/xml\" xmlns:xlink=\"http://www.w3.org/1999/xlink\" version=\"1.1\" baseProfile=\"full\" xml:space=\"preserve\" width=\"450px\" height=\"150px\" viewBox=\"0 0 450 150\">\n",
       "<!-- END OF HEADER -->\n",
       "<rect style=\"opacity:1.0;fill:#FFFFFF;stroke:none\" width=\"450.0\" height=\"150.0\" x=\"0.0\" y=\"0.0\"> </rect>\n",
       "<path class=\"bond-0 atom-0 atom-1\" d=\"M 302.9,75.0 L 264.0,142.5\" style=\"fill:none;fill-rule:evenodd;stroke:#000000;stroke-width:2.0px;stroke-linecap:butt;stroke-linejoin:miter;stroke-opacity:1\"/>\n",
       "<path class=\"bond-0 atom-0 atom-1\" d=\"M 289.4,75.0 L 257.2,130.8\" style=\"fill:none;fill-rule:evenodd;stroke:#000000;stroke-width:2.0px;stroke-linecap:butt;stroke-linejoin:miter;stroke-opacity:1\"/>\n",
       "<path class=\"bond-1 atom-1 atom-2\" d=\"M 264.0,142.5 L 186.0,142.5\" style=\"fill:none;fill-rule:evenodd;stroke:#000000;stroke-width:2.0px;stroke-linecap:butt;stroke-linejoin:miter;stroke-opacity:1\"/>\n",
       "<path class=\"bond-2 atom-2 atom-3\" d=\"M 186.0,142.5 L 147.1,75.0\" style=\"fill:none;fill-rule:evenodd;stroke:#000000;stroke-width:2.0px;stroke-linecap:butt;stroke-linejoin:miter;stroke-opacity:1\"/>\n",
       "<path class=\"bond-2 atom-2 atom-3\" d=\"M 192.8,130.8 L 160.6,75.0\" style=\"fill:none;fill-rule:evenodd;stroke:#000000;stroke-width:2.0px;stroke-linecap:butt;stroke-linejoin:miter;stroke-opacity:1\"/>\n",
       "<path class=\"bond-3 atom-3 atom-4\" d=\"M 147.1,75.0 L 186.0,7.5\" style=\"fill:none;fill-rule:evenodd;stroke:#000000;stroke-width:2.0px;stroke-linecap:butt;stroke-linejoin:miter;stroke-opacity:1\"/>\n",
       "<path class=\"bond-4 atom-4 atom-5\" d=\"M 186.0,7.5 L 264.0,7.5\" style=\"fill:none;fill-rule:evenodd;stroke:#000000;stroke-width:2.0px;stroke-linecap:butt;stroke-linejoin:miter;stroke-opacity:1\"/>\n",
       "<path class=\"bond-4 atom-4 atom-5\" d=\"M 192.8,19.2 L 257.2,19.2\" style=\"fill:none;fill-rule:evenodd;stroke:#000000;stroke-width:2.0px;stroke-linecap:butt;stroke-linejoin:miter;stroke-opacity:1\"/>\n",
       "<path class=\"bond-5 atom-5 atom-0\" d=\"M 264.0,7.5 L 302.9,75.0\" style=\"fill:none;fill-rule:evenodd;stroke:#000000;stroke-width:2.0px;stroke-linecap:butt;stroke-linejoin:miter;stroke-opacity:1\"/>\n",
       "<path d=\"M 301.0,78.4 L 302.9,75.0 L 301.0,71.6\" style=\"fill:none;stroke:#000000;stroke-width:2.0px;stroke-linecap:butt;stroke-linejoin:miter;stroke-opacity:1;\"/>\n",
       "<path d=\"M 265.9,139.1 L 264.0,142.5 L 260.1,142.5\" style=\"fill:none;stroke:#000000;stroke-width:2.0px;stroke-linecap:butt;stroke-linejoin:miter;stroke-opacity:1;\"/>\n",
       "<path d=\"M 189.9,142.5 L 186.0,142.5 L 184.1,139.1\" style=\"fill:none;stroke:#000000;stroke-width:2.0px;stroke-linecap:butt;stroke-linejoin:miter;stroke-opacity:1;\"/>\n",
       "<path d=\"M 149.0,78.4 L 147.1,75.0 L 149.0,71.6\" style=\"fill:none;stroke:#000000;stroke-width:2.0px;stroke-linecap:butt;stroke-linejoin:miter;stroke-opacity:1;\"/>\n",
       "<path d=\"M 184.1,10.9 L 186.0,7.5 L 189.9,7.5\" style=\"fill:none;stroke:#000000;stroke-width:2.0px;stroke-linecap:butt;stroke-linejoin:miter;stroke-opacity:1;\"/>\n",
       "<path d=\"M 260.1,7.5 L 264.0,7.5 L 265.9,10.9\" style=\"fill:none;stroke:#000000;stroke-width:2.0px;stroke-linecap:butt;stroke-linejoin:miter;stroke-opacity:1;\"/>\n",
       "</svg>"
      ],
      "text/plain": [
       "<IPython.core.display.SVG object>"
      ]
     },
     "execution_count": 95,
     "metadata": {},
     "output_type": "execute_result"
    }
   ],
   "source": [
    "smiles = \"c1ccccc1\"\n",
    "print(get_iupac_name(smiles), smiles)\n",
    "mol = rdkit.Chem.MolFromSmiles(smiles)\n",
    "render_mol(mol)"
   ]
  },
  {
   "cell_type": "markdown",
   "id": "aa3a98cd-1997-46ae-b34d-ab3c31f8bc50",
   "metadata": {},
   "source": [
    "- with the aromatic bond symbol"
   ]
  },
  {
   "cell_type": "code",
   "execution_count": 96,
   "id": "1fbc0234-52fd-4b2c-998f-8d62019335d8",
   "metadata": {},
   "outputs": [
    {
     "name": "stdout",
     "output_type": "stream",
     "text": [
      "<h1>Page not found (404)</h1>\n",
      " C:1C:C:C:C:C1\n"
     ]
    },
    {
     "data": {
      "image/svg+xml": [
       "<svg xmlns=\"http://www.w3.org/2000/svg\" xmlns:rdkit=\"http://www.rdkit.org/xml\" xmlns:xlink=\"http://www.w3.org/1999/xlink\" version=\"1.1\" baseProfile=\"full\" xml:space=\"preserve\" width=\"450px\" height=\"150px\" viewBox=\"0 0 450 150\">\n",
       "<!-- END OF HEADER -->\n",
       "<rect style=\"opacity:1.0;fill:#FFFFFF;stroke:none\" width=\"450.0\" height=\"150.0\" x=\"0.0\" y=\"0.0\"> </rect>\n",
       "<path class=\"bond-0 atom-0 atom-1\" d=\"M 302.9,75.0 L 264.0,142.5\" style=\"fill:none;fill-rule:evenodd;stroke:#000000;stroke-width:2.0px;stroke-linecap:butt;stroke-linejoin:miter;stroke-opacity:1\"/>\n",
       "<path class=\"bond-0 atom-0 atom-1\" d=\"M 289.4,75.0 L 257.2,130.8\" style=\"fill:none;fill-rule:evenodd;stroke:#000000;stroke-width:2.0px;stroke-linecap:butt;stroke-linejoin:miter;stroke-opacity:1\"/>\n",
       "<path class=\"bond-1 atom-1 atom-2\" d=\"M 264.0,142.5 L 186.0,142.5\" style=\"fill:none;fill-rule:evenodd;stroke:#000000;stroke-width:2.0px;stroke-linecap:butt;stroke-linejoin:miter;stroke-opacity:1\"/>\n",
       "<path class=\"bond-2 atom-2 atom-3\" d=\"M 186.0,142.5 L 147.1,75.0\" style=\"fill:none;fill-rule:evenodd;stroke:#000000;stroke-width:2.0px;stroke-linecap:butt;stroke-linejoin:miter;stroke-opacity:1\"/>\n",
       "<path class=\"bond-2 atom-2 atom-3\" d=\"M 192.8,130.8 L 160.6,75.0\" style=\"fill:none;fill-rule:evenodd;stroke:#000000;stroke-width:2.0px;stroke-linecap:butt;stroke-linejoin:miter;stroke-opacity:1\"/>\n",
       "<path class=\"bond-3 atom-3 atom-4\" d=\"M 147.1,75.0 L 186.0,7.5\" style=\"fill:none;fill-rule:evenodd;stroke:#000000;stroke-width:2.0px;stroke-linecap:butt;stroke-linejoin:miter;stroke-opacity:1\"/>\n",
       "<path class=\"bond-4 atom-4 atom-5\" d=\"M 186.0,7.5 L 264.0,7.5\" style=\"fill:none;fill-rule:evenodd;stroke:#000000;stroke-width:2.0px;stroke-linecap:butt;stroke-linejoin:miter;stroke-opacity:1\"/>\n",
       "<path class=\"bond-4 atom-4 atom-5\" d=\"M 192.8,19.2 L 257.2,19.2\" style=\"fill:none;fill-rule:evenodd;stroke:#000000;stroke-width:2.0px;stroke-linecap:butt;stroke-linejoin:miter;stroke-opacity:1\"/>\n",
       "<path class=\"bond-5 atom-0 atom-5\" d=\"M 302.9,75.0 L 264.0,7.5\" style=\"fill:none;fill-rule:evenodd;stroke:#000000;stroke-width:2.0px;stroke-linecap:butt;stroke-linejoin:miter;stroke-opacity:1\"/>\n",
       "<path d=\"M 301.0,78.4 L 302.9,75.0 L 301.0,71.6\" style=\"fill:none;stroke:#000000;stroke-width:2.0px;stroke-linecap:butt;stroke-linejoin:miter;stroke-opacity:1;\"/>\n",
       "<path d=\"M 265.9,139.1 L 264.0,142.5 L 260.1,142.5\" style=\"fill:none;stroke:#000000;stroke-width:2.0px;stroke-linecap:butt;stroke-linejoin:miter;stroke-opacity:1;\"/>\n",
       "<path d=\"M 189.9,142.5 L 186.0,142.5 L 184.1,139.1\" style=\"fill:none;stroke:#000000;stroke-width:2.0px;stroke-linecap:butt;stroke-linejoin:miter;stroke-opacity:1;\"/>\n",
       "<path d=\"M 149.0,78.4 L 147.1,75.0 L 149.0,71.6\" style=\"fill:none;stroke:#000000;stroke-width:2.0px;stroke-linecap:butt;stroke-linejoin:miter;stroke-opacity:1;\"/>\n",
       "<path d=\"M 184.1,10.9 L 186.0,7.5 L 189.9,7.5\" style=\"fill:none;stroke:#000000;stroke-width:2.0px;stroke-linecap:butt;stroke-linejoin:miter;stroke-opacity:1;\"/>\n",
       "<path d=\"M 260.1,7.5 L 264.0,7.5 L 265.9,10.9\" style=\"fill:none;stroke:#000000;stroke-width:2.0px;stroke-linecap:butt;stroke-linejoin:miter;stroke-opacity:1;\"/>\n",
       "</svg>"
      ],
      "text/plain": [
       "<IPython.core.display.SVG object>"
      ]
     },
     "execution_count": 96,
     "metadata": {},
     "output_type": "execute_result"
    }
   ],
   "source": [
    "smiles = \"C:1C:C:C:C:C1\"\n",
    "print(get_iupac_name(smiles), smiles)\n",
    "mol = rdkit.Chem.MolFromSmiles(smiles)\n",
    "render_mol(mol)"
   ]
  },
  {
   "cell_type": "markdown",
   "id": "dfefce7f-c815-46ca-b685-4778c410d6ef",
   "metadata": {},
   "source": [
    "- with the Kekule notation of alternating double and single bonds"
   ]
  },
  {
   "cell_type": "code",
   "execution_count": 97,
   "id": "36ad59ab-52b9-4efb-b911-fe83859332f9",
   "metadata": {},
   "outputs": [
    {
     "name": "stdout",
     "output_type": "stream",
     "text": [
      "BENZENE C1=CC=CC=C1\n"
     ]
    },
    {
     "data": {
      "image/svg+xml": [
       "<svg xmlns=\"http://www.w3.org/2000/svg\" xmlns:rdkit=\"http://www.rdkit.org/xml\" xmlns:xlink=\"http://www.w3.org/1999/xlink\" version=\"1.1\" baseProfile=\"full\" xml:space=\"preserve\" width=\"450px\" height=\"150px\" viewBox=\"0 0 450 150\">\n",
       "<!-- END OF HEADER -->\n",
       "<rect style=\"opacity:1.0;fill:#FFFFFF;stroke:none\" width=\"450.0\" height=\"150.0\" x=\"0.0\" y=\"0.0\"> </rect>\n",
       "<path class=\"bond-0 atom-0 atom-1\" d=\"M 302.9,75.0 L 264.0,142.5\" style=\"fill:none;fill-rule:evenodd;stroke:#000000;stroke-width:2.0px;stroke-linecap:butt;stroke-linejoin:miter;stroke-opacity:1\"/>\n",
       "<path class=\"bond-0 atom-0 atom-1\" d=\"M 289.4,75.0 L 257.2,130.8\" style=\"fill:none;fill-rule:evenodd;stroke:#000000;stroke-width:2.0px;stroke-linecap:butt;stroke-linejoin:miter;stroke-opacity:1\"/>\n",
       "<path class=\"bond-1 atom-1 atom-2\" d=\"M 264.0,142.5 L 186.0,142.5\" style=\"fill:none;fill-rule:evenodd;stroke:#000000;stroke-width:2.0px;stroke-linecap:butt;stroke-linejoin:miter;stroke-opacity:1\"/>\n",
       "<path class=\"bond-2 atom-2 atom-3\" d=\"M 186.0,142.5 L 147.1,75.0\" style=\"fill:none;fill-rule:evenodd;stroke:#000000;stroke-width:2.0px;stroke-linecap:butt;stroke-linejoin:miter;stroke-opacity:1\"/>\n",
       "<path class=\"bond-2 atom-2 atom-3\" d=\"M 192.8,130.8 L 160.6,75.0\" style=\"fill:none;fill-rule:evenodd;stroke:#000000;stroke-width:2.0px;stroke-linecap:butt;stroke-linejoin:miter;stroke-opacity:1\"/>\n",
       "<path class=\"bond-3 atom-3 atom-4\" d=\"M 147.1,75.0 L 186.0,7.5\" style=\"fill:none;fill-rule:evenodd;stroke:#000000;stroke-width:2.0px;stroke-linecap:butt;stroke-linejoin:miter;stroke-opacity:1\"/>\n",
       "<path class=\"bond-4 atom-4 atom-5\" d=\"M 186.0,7.5 L 264.0,7.5\" style=\"fill:none;fill-rule:evenodd;stroke:#000000;stroke-width:2.0px;stroke-linecap:butt;stroke-linejoin:miter;stroke-opacity:1\"/>\n",
       "<path class=\"bond-4 atom-4 atom-5\" d=\"M 192.8,19.2 L 257.2,19.2\" style=\"fill:none;fill-rule:evenodd;stroke:#000000;stroke-width:2.0px;stroke-linecap:butt;stroke-linejoin:miter;stroke-opacity:1\"/>\n",
       "<path class=\"bond-5 atom-5 atom-0\" d=\"M 264.0,7.5 L 302.9,75.0\" style=\"fill:none;fill-rule:evenodd;stroke:#000000;stroke-width:2.0px;stroke-linecap:butt;stroke-linejoin:miter;stroke-opacity:1\"/>\n",
       "<path d=\"M 301.0,78.4 L 302.9,75.0 L 301.0,71.6\" style=\"fill:none;stroke:#000000;stroke-width:2.0px;stroke-linecap:butt;stroke-linejoin:miter;stroke-opacity:1;\"/>\n",
       "<path d=\"M 265.9,139.1 L 264.0,142.5 L 260.1,142.5\" style=\"fill:none;stroke:#000000;stroke-width:2.0px;stroke-linecap:butt;stroke-linejoin:miter;stroke-opacity:1;\"/>\n",
       "<path d=\"M 189.9,142.5 L 186.0,142.5 L 184.1,139.1\" style=\"fill:none;stroke:#000000;stroke-width:2.0px;stroke-linecap:butt;stroke-linejoin:miter;stroke-opacity:1;\"/>\n",
       "<path d=\"M 149.0,78.4 L 147.1,75.0 L 149.0,71.6\" style=\"fill:none;stroke:#000000;stroke-width:2.0px;stroke-linecap:butt;stroke-linejoin:miter;stroke-opacity:1;\"/>\n",
       "<path d=\"M 184.1,10.9 L 186.0,7.5 L 189.9,7.5\" style=\"fill:none;stroke:#000000;stroke-width:2.0px;stroke-linecap:butt;stroke-linejoin:miter;stroke-opacity:1;\"/>\n",
       "<path d=\"M 260.1,7.5 L 264.0,7.5 L 265.9,10.9\" style=\"fill:none;stroke:#000000;stroke-width:2.0px;stroke-linecap:butt;stroke-linejoin:miter;stroke-opacity:1;\"/>\n",
       "</svg>"
      ],
      "text/plain": [
       "<IPython.core.display.SVG object>"
      ]
     },
     "execution_count": 97,
     "metadata": {},
     "output_type": "execute_result"
    }
   ],
   "source": [
    "smiles = \"C1=CC=CC=C1\"\n",
    "print(get_iupac_name(smiles), smiles)\n",
    "mol = rdkit.Chem.MolFromSmiles(smiles)\n",
    "render_mol(mol)"
   ]
  },
  {
   "cell_type": "markdown",
   "id": "bf9ee318-c24a-41ff-a4d6-d03d124cc707",
   "metadata": {},
   "source": [
    "Aromatic rings that are bonded with a single bond, need to spell out the single bond. It may not be omitted."
   ]
  },
  {
   "cell_type": "code",
   "execution_count": 98,
   "id": "0b6a2064-2714-43ae-9ded-734055095fcd",
   "metadata": {},
   "outputs": [
    {
     "name": "stdout",
     "output_type": "stream",
     "text": [
      "Phenylbenzene c1ccccc1-c2ccccc2\n"
     ]
    },
    {
     "data": {
      "image/svg+xml": [
       "<svg xmlns=\"http://www.w3.org/2000/svg\" xmlns:rdkit=\"http://www.rdkit.org/xml\" xmlns:xlink=\"http://www.w3.org/1999/xlink\" version=\"1.1\" baseProfile=\"full\" xml:space=\"preserve\" width=\"450px\" height=\"150px\" viewBox=\"0 0 450 150\">\n",
       "<!-- END OF HEADER -->\n",
       "<rect style=\"opacity:1.0;fill:#FFFFFF;stroke:none\" width=\"450.0\" height=\"150.0\" x=\"0.0\" y=\"0.0\"> </rect>\n",
       "<path class=\"bond-0 atom-0 atom-1\" d=\"M 147.1,142.5 L 69.1,142.5\" style=\"fill:none;fill-rule:evenodd;stroke:#000000;stroke-width:2.0px;stroke-linecap:butt;stroke-linejoin:miter;stroke-opacity:1\"/>\n",
       "<path class=\"bond-0 atom-0 atom-1\" d=\"M 140.3,130.8 L 75.9,130.8\" style=\"fill:none;fill-rule:evenodd;stroke:#000000;stroke-width:2.0px;stroke-linecap:butt;stroke-linejoin:miter;stroke-opacity:1\"/>\n",
       "<path class=\"bond-1 atom-1 atom-2\" d=\"M 69.1,142.5 L 30.1,75.0\" style=\"fill:none;fill-rule:evenodd;stroke:#000000;stroke-width:2.0px;stroke-linecap:butt;stroke-linejoin:miter;stroke-opacity:1\"/>\n",
       "<path class=\"bond-2 atom-2 atom-3\" d=\"M 30.1,75.0 L 69.1,7.5\" style=\"fill:none;fill-rule:evenodd;stroke:#000000;stroke-width:2.0px;stroke-linecap:butt;stroke-linejoin:miter;stroke-opacity:1\"/>\n",
       "<path class=\"bond-2 atom-2 atom-3\" d=\"M 43.6,75.0 L 75.9,19.2\" style=\"fill:none;fill-rule:evenodd;stroke:#000000;stroke-width:2.0px;stroke-linecap:butt;stroke-linejoin:miter;stroke-opacity:1\"/>\n",
       "<path class=\"bond-3 atom-3 atom-4\" d=\"M 69.1,7.5 L 147.1,7.5\" style=\"fill:none;fill-rule:evenodd;stroke:#000000;stroke-width:2.0px;stroke-linecap:butt;stroke-linejoin:miter;stroke-opacity:1\"/>\n",
       "<path class=\"bond-4 atom-4 atom-5\" d=\"M 147.1,7.5 L 186.0,75.0\" style=\"fill:none;fill-rule:evenodd;stroke:#000000;stroke-width:2.0px;stroke-linecap:butt;stroke-linejoin:miter;stroke-opacity:1\"/>\n",
       "<path class=\"bond-4 atom-4 atom-5\" d=\"M 140.3,19.2 L 172.5,75.0\" style=\"fill:none;fill-rule:evenodd;stroke:#000000;stroke-width:2.0px;stroke-linecap:butt;stroke-linejoin:miter;stroke-opacity:1\"/>\n",
       "<path class=\"bond-5 atom-5 atom-6\" d=\"M 186.0,75.0 L 264.0,75.0\" style=\"fill:none;fill-rule:evenodd;stroke:#000000;stroke-width:2.0px;stroke-linecap:butt;stroke-linejoin:miter;stroke-opacity:1\"/>\n",
       "<path class=\"bond-6 atom-6 atom-7\" d=\"M 264.0,75.0 L 302.9,142.5\" style=\"fill:none;fill-rule:evenodd;stroke:#000000;stroke-width:2.0px;stroke-linecap:butt;stroke-linejoin:miter;stroke-opacity:1\"/>\n",
       "<path class=\"bond-6 atom-6 atom-7\" d=\"M 277.5,75.0 L 309.7,130.8\" style=\"fill:none;fill-rule:evenodd;stroke:#000000;stroke-width:2.0px;stroke-linecap:butt;stroke-linejoin:miter;stroke-opacity:1\"/>\n",
       "<path class=\"bond-7 atom-7 atom-8\" d=\"M 302.9,142.5 L 380.9,142.5\" style=\"fill:none;fill-rule:evenodd;stroke:#000000;stroke-width:2.0px;stroke-linecap:butt;stroke-linejoin:miter;stroke-opacity:1\"/>\n",
       "<path class=\"bond-8 atom-8 atom-9\" d=\"M 380.9,142.5 L 419.9,75.0\" style=\"fill:none;fill-rule:evenodd;stroke:#000000;stroke-width:2.0px;stroke-linecap:butt;stroke-linejoin:miter;stroke-opacity:1\"/>\n",
       "<path class=\"bond-8 atom-8 atom-9\" d=\"M 374.1,130.8 L 406.4,75.0\" style=\"fill:none;fill-rule:evenodd;stroke:#000000;stroke-width:2.0px;stroke-linecap:butt;stroke-linejoin:miter;stroke-opacity:1\"/>\n",
       "<path class=\"bond-9 atom-9 atom-10\" d=\"M 419.9,75.0 L 380.9,7.5\" style=\"fill:none;fill-rule:evenodd;stroke:#000000;stroke-width:2.0px;stroke-linecap:butt;stroke-linejoin:miter;stroke-opacity:1\"/>\n",
       "<path class=\"bond-10 atom-10 atom-11\" d=\"M 380.9,7.5 L 302.9,7.5\" style=\"fill:none;fill-rule:evenodd;stroke:#000000;stroke-width:2.0px;stroke-linecap:butt;stroke-linejoin:miter;stroke-opacity:1\"/>\n",
       "<path class=\"bond-10 atom-10 atom-11\" d=\"M 374.1,19.2 L 309.7,19.2\" style=\"fill:none;fill-rule:evenodd;stroke:#000000;stroke-width:2.0px;stroke-linecap:butt;stroke-linejoin:miter;stroke-opacity:1\"/>\n",
       "<path class=\"bond-11 atom-5 atom-0\" d=\"M 186.0,75.0 L 147.1,142.5\" style=\"fill:none;fill-rule:evenodd;stroke:#000000;stroke-width:2.0px;stroke-linecap:butt;stroke-linejoin:miter;stroke-opacity:1\"/>\n",
       "<path class=\"bond-12 atom-11 atom-6\" d=\"M 302.9,7.5 L 264.0,75.0\" style=\"fill:none;fill-rule:evenodd;stroke:#000000;stroke-width:2.0px;stroke-linecap:butt;stroke-linejoin:miter;stroke-opacity:1\"/>\n",
       "<path d=\"M 143.2,142.5 L 147.1,142.5 L 149.0,139.1\" style=\"fill:none;stroke:#000000;stroke-width:2.0px;stroke-linecap:butt;stroke-linejoin:miter;stroke-opacity:1;\"/>\n",
       "<path d=\"M 73.0,142.5 L 69.1,142.5 L 67.2,139.1\" style=\"fill:none;stroke:#000000;stroke-width:2.0px;stroke-linecap:butt;stroke-linejoin:miter;stroke-opacity:1;\"/>\n",
       "<path d=\"M 32.1,78.4 L 30.1,75.0 L 32.1,71.6\" style=\"fill:none;stroke:#000000;stroke-width:2.0px;stroke-linecap:butt;stroke-linejoin:miter;stroke-opacity:1;\"/>\n",
       "<path d=\"M 67.2,10.9 L 69.1,7.5 L 73.0,7.5\" style=\"fill:none;stroke:#000000;stroke-width:2.0px;stroke-linecap:butt;stroke-linejoin:miter;stroke-opacity:1;\"/>\n",
       "<path d=\"M 143.2,7.5 L 147.1,7.5 L 149.0,10.9\" style=\"fill:none;stroke:#000000;stroke-width:2.0px;stroke-linecap:butt;stroke-linejoin:miter;stroke-opacity:1;\"/>\n",
       "<path d=\"M 301.0,139.1 L 302.9,142.5 L 306.8,142.5\" style=\"fill:none;stroke:#000000;stroke-width:2.0px;stroke-linecap:butt;stroke-linejoin:miter;stroke-opacity:1;\"/>\n",
       "<path d=\"M 377.0,142.5 L 380.9,142.5 L 382.8,139.1\" style=\"fill:none;stroke:#000000;stroke-width:2.0px;stroke-linecap:butt;stroke-linejoin:miter;stroke-opacity:1;\"/>\n",
       "<path d=\"M 417.9,78.4 L 419.9,75.0 L 417.9,71.6\" style=\"fill:none;stroke:#000000;stroke-width:2.0px;stroke-linecap:butt;stroke-linejoin:miter;stroke-opacity:1;\"/>\n",
       "<path d=\"M 382.8,10.9 L 380.9,7.5 L 377.0,7.5\" style=\"fill:none;stroke:#000000;stroke-width:2.0px;stroke-linecap:butt;stroke-linejoin:miter;stroke-opacity:1;\"/>\n",
       "<path d=\"M 306.8,7.5 L 302.9,7.5 L 301.0,10.9\" style=\"fill:none;stroke:#000000;stroke-width:2.0px;stroke-linecap:butt;stroke-linejoin:miter;stroke-opacity:1;\"/>\n",
       "</svg>"
      ],
      "text/plain": [
       "<IPython.core.display.SVG object>"
      ]
     },
     "execution_count": 98,
     "metadata": {},
     "output_type": "execute_result"
    }
   ],
   "source": [
    "smiles = \"c1ccccc1-c2ccccc2\"\n",
    "print(get_iupac_name(smiles), smiles)\n",
    "mol = rdkit.Chem.MolFromSmiles(smiles)\n",
    "render_mol(mol)"
   ]
  },
  {
   "attachments": {
    "7db03486-0598-484c-9b24-cce05877a488.png": {
     "image/png": "[encoded data removed]"
    }
   },
   "cell_type": "markdown",
   "id": "c3ca6ae8-b7a8-4ef0-8771-80e62453a60c",
   "metadata": {},
   "source": [
    "### SMILES Challenge\n",
    "\n",
    "Create the SMILES string for Aspirin, starting with the carbon atom highlighted in green.\n",
    "![image.png](attachment:7db03486-0598-484c-9b24-cce05877a488.png)"
   ]
  },
  {
   "cell_type": "code",
   "execution_count": 111,
   "id": "f96c3d69-d1aa-4478-9a6b-8fac74d2368b",
   "metadata": {},
   "outputs": [
    {
     "name": "stdout",
     "output_type": "stream",
     "text": [
      "methane C\n"
     ]
    },
    {
     "data": {
      "image/svg+xml": [
       "<svg xmlns=\"http://www.w3.org/2000/svg\" xmlns:rdkit=\"http://www.rdkit.org/xml\" xmlns:xlink=\"http://www.w3.org/1999/xlink\" version=\"1.1\" baseProfile=\"full\" xml:space=\"preserve\" width=\"450px\" height=\"150px\" viewBox=\"0 0 450 150\">\n",
       "<!-- END OF HEADER -->\n",
       "<rect style=\"opacity:1.0;fill:#FFFFFF;stroke:none\" width=\"450.0\" height=\"150.0\" x=\"0.0\" y=\"0.0\"> </rect>\n",
       "<path class=\"atom-0\" d=\"M 191.1 68.0 Q 191.1 61.0, 194.4 57.3 Q 197.7 53.6, 204.0 53.6 Q 209.8 53.6, 213.0 57.7 L 210.3 59.9 Q 208.0 56.9, 204.0 56.9 Q 199.7 56.9, 197.4 59.8 Q 195.2 62.6, 195.2 68.0 Q 195.2 73.6, 197.5 76.5 Q 199.9 79.4, 204.4 79.4 Q 207.6 79.4, 211.2 77.5 L 212.3 80.5 Q 210.8 81.5, 208.6 82.0 Q 206.4 82.6, 203.9 82.6 Q 197.7 82.6, 194.4 78.8 Q 191.1 75.1, 191.1 68.0 \" fill=\"#000000\"/>\n",
       "<path class=\"atom-0\" d=\"M 216.7 53.9 L 220.6 53.9 L 220.6 66.0 L 235.1 66.0 L 235.1 53.9 L 238.9 53.9 L 238.9 82.2 L 235.1 82.2 L 235.1 69.2 L 220.6 69.2 L 220.6 82.2 L 216.7 82.2 L 216.7 53.9 \" fill=\"#000000\"/>\n",
       "<path class=\"atom-0\" d=\"M 256.6 90.0 L 258.9 90.0 L 258.9 92.1 L 256.6 92.1 L 256.6 96.4 L 254.2 96.4 L 254.2 92.1 L 244.5 92.1 L 244.5 90.4 L 252.7 77.7 L 256.6 77.7 L 256.6 90.0 M 247.6 90.0 L 254.2 90.0 L 254.2 79.4 L 247.6 90.0 \" fill=\"#000000\"/>\n",
       "</svg>"
      ],
      "text/plain": [
       "<IPython.core.display.SVG object>"
      ]
     },
     "execution_count": 111,
     "metadata": {},
     "output_type": "execute_result"
    }
   ],
   "source": [
    "smiles = \"C\"\n",
    "print(get_iupac_name(smiles), smiles)\n",
    "mol = rdkit.Chem.MolFromSmiles(smiles)\n",
    "render_mol(mol)"
   ]
  },
  {
   "cell_type": "markdown",
   "id": "4c1e8302-846d-4ffb-bc88-9f769e89f2e0",
   "metadata": {},
   "source": [
    "## SELFIES for Machine learning Input\n",
    "\n",
    "Selfies are an alternative to SMILES. They are both a text representation.\n",
    "SMILES is older, more compact but lacks some of the features of SELFIES."
   ]
  },
  {
   "cell_type": "code",
   "execution_count": 113,
   "id": "7869f915-0b7c-464c-9f1c-839436f0eddc",
   "metadata": {},
   "outputs": [
    {
     "data": {
      "text/plain": [
       "'[C][C][O]'"
      ]
     },
     "execution_count": 113,
     "metadata": {},
     "output_type": "execute_result"
    }
   ],
   "source": [
    "import selfies as sf\n",
    "\n",
    "ethanol = \"CCO\"\n",
    "sf.encoder(ethanol)"
   ]
  },
  {
   "cell_type": "code",
   "execution_count": 114,
   "id": "ca30a88f-4c2c-49da-ab31-e48039b1c6bc",
   "metadata": {},
   "outputs": [
    {
     "data": {
      "text/plain": [
       "'[O][C][C]'"
      ]
     },
     "execution_count": 114,
     "metadata": {},
     "output_type": "execute_result"
    }
   ],
   "source": [
    "ethanol = \"OCC\"\n",
    "sf.encoder(ethanol)"
   ]
  },
  {
   "cell_type": "code",
   "execution_count": 115,
   "id": "baee162d-7443-45e9-9ca8-0cc743f23d58",
   "metadata": {},
   "outputs": [
    {
     "data": {
      "text/plain": [
       "'[C][=C][C][=C][C][=C][Ring1][=Branch1]'"
      ]
     },
     "execution_count": 115,
     "metadata": {},
     "output_type": "execute_result"
    }
   ],
   "source": [
    "benzene = \"c1ccccc1\"\n",
    "sf.encoder(benzene)"
   ]
  },
  {
   "cell_type": "markdown",
   "id": "9b71d97b-9049-41b2-85dd-8cde26d3d3f0",
   "metadata": {},
   "source": [
    "It is easy to generate new valid structures with SELFIES by just appending valid alphabet entries."
   ]
  },
  {
   "cell_type": "code",
   "execution_count": 120,
   "id": "19f96f5a-b285-45a1-8948-06c51b4f3cfd",
   "metadata": {},
   "outputs": [
    {
     "name": "stdout",
     "output_type": "stream",
     "text": [
      "SELFIE [=B+1][#P+1][S][Ring1][=B-1][=B][=P][=Ring2][=S][#Branch3][=Branch2]\n",
      "SMILES [B+1]=[P+1]=S=BP\n"
     ]
    },
    {
     "data": {
      "image/svg+xml": [
       "<svg xmlns=\"http://www.w3.org/2000/svg\" xmlns:rdkit=\"http://www.rdkit.org/xml\" xmlns:xlink=\"http://www.w3.org/1999/xlink\" version=\"1.1\" baseProfile=\"full\" xml:space=\"preserve\" width=\"450px\" height=\"150px\" viewBox=\"0 0 450 150\">\n",
       "<!-- END OF HEADER -->\n",
       "<rect style=\"opacity:1.0;fill:#FFFFFF;stroke:none\" width=\"450.0\" height=\"150.0\" x=\"0.0\" y=\"0.0\"> </rect>\n",
       "<path class=\"bond-0 atom-0 atom-1\" d=\"M 386.2,114.7 L 357.1,98.0\" style=\"fill:none;fill-rule:evenodd;stroke:#000000;stroke-width:2.0px;stroke-linecap:butt;stroke-linejoin:miter;stroke-opacity:1\"/>\n",
       "<path class=\"bond-0 atom-0 atom-1\" d=\"M 357.1,98.0 L 328.0,81.2\" style=\"fill:none;fill-rule:evenodd;stroke:#FF7F00;stroke-width:2.0px;stroke-linecap:butt;stroke-linejoin:miter;stroke-opacity:1\"/>\n",
       "<path class=\"bond-0 atom-0 atom-1\" d=\"M 393.3,102.4 L 364.2,85.7\" style=\"fill:none;fill-rule:evenodd;stroke:#000000;stroke-width:2.0px;stroke-linecap:butt;stroke-linejoin:miter;stroke-opacity:1\"/>\n",
       "<path class=\"bond-0 atom-0 atom-1\" d=\"M 364.2,85.7 L 335.1,68.9\" style=\"fill:none;fill-rule:evenodd;stroke:#FF7F00;stroke-width:2.0px;stroke-linecap:butt;stroke-linejoin:miter;stroke-opacity:1\"/>\n",
       "<path class=\"bond-1 atom-1 atom-2\" d=\"M 304.6,67.7 L 275.3,50.7\" style=\"fill:none;fill-rule:evenodd;stroke:#FF7F00;stroke-width:2.0px;stroke-linecap:butt;stroke-linejoin:miter;stroke-opacity:1\"/>\n",
       "<path class=\"bond-1 atom-1 atom-2\" d=\"M 275.3,50.7 L 246.0,33.8\" style=\"fill:none;fill-rule:evenodd;stroke:#CCCC00;stroke-width:2.0px;stroke-linecap:butt;stroke-linejoin:miter;stroke-opacity:1\"/>\n",
       "<path class=\"bond-1 atom-1 atom-2\" d=\"M 311.8,55.4 L 282.4,38.4\" style=\"fill:none;fill-rule:evenodd;stroke:#FF7F00;stroke-width:2.0px;stroke-linecap:butt;stroke-linejoin:miter;stroke-opacity:1\"/>\n",
       "<path class=\"bond-1 atom-1 atom-2\" d=\"M 282.4,38.4 L 253.1,21.5\" style=\"fill:none;fill-rule:evenodd;stroke:#CCCC00;stroke-width:2.0px;stroke-linecap:butt;stroke-linejoin:miter;stroke-opacity:1\"/>\n",
       "<path class=\"bond-2 atom-2 atom-3\" d=\"M 229.6,33.8 L 200.6,50.6\" style=\"fill:none;fill-rule:evenodd;stroke:#CCCC00;stroke-width:2.0px;stroke-linecap:butt;stroke-linejoin:miter;stroke-opacity:1\"/>\n",
       "<path class=\"bond-2 atom-2 atom-3\" d=\"M 200.6,50.6 L 171.5,67.4\" style=\"fill:none;fill-rule:evenodd;stroke:#000000;stroke-width:2.0px;stroke-linecap:butt;stroke-linejoin:miter;stroke-opacity:1\"/>\n",
       "<path class=\"bond-2 atom-2 atom-3\" d=\"M 222.5,21.5 L 193.5,38.3\" style=\"fill:none;fill-rule:evenodd;stroke:#CCCC00;stroke-width:2.0px;stroke-linecap:butt;stroke-linejoin:miter;stroke-opacity:1\"/>\n",
       "<path class=\"bond-2 atom-2 atom-3\" d=\"M 193.5,38.3 L 164.4,55.0\" style=\"fill:none;fill-rule:evenodd;stroke:#000000;stroke-width:2.0px;stroke-linecap:butt;stroke-linejoin:miter;stroke-opacity:1\"/>\n",
       "<path class=\"bond-3 atom-3 atom-4\" d=\"M 143.5,75.3 L 114.4,92.1\" style=\"fill:none;fill-rule:evenodd;stroke:#000000;stroke-width:2.0px;stroke-linecap:butt;stroke-linejoin:miter;stroke-opacity:1\"/>\n",
       "<path class=\"bond-3 atom-3 atom-4\" d=\"M 114.4,92.1 L 85.4,108.9\" style=\"fill:none;fill-rule:evenodd;stroke:#FF7F00;stroke-width:2.0px;stroke-linecap:butt;stroke-linejoin:miter;stroke-opacity:1\"/>\n",
       "<path class=\"atom-0\" d=\"M 405.9 115.0 Q 408.5 115.7, 409.8 117.3 Q 411.1 118.8, 411.1 121.2 Q 411.1 124.9, 408.7 127.0 Q 406.4 129.1, 401.9 129.1 L 392.9 129.1 L 392.9 102.2 L 400.8 102.2 Q 405.4 102.2, 407.7 104.1 Q 410.0 106.0, 410.0 109.4 Q 410.0 113.4, 405.9 115.0 M 396.5 105.3 L 396.5 113.7 L 400.8 113.7 Q 403.4 113.7, 404.8 112.6 Q 406.2 111.5, 406.2 109.4 Q 406.2 105.3, 400.8 105.3 L 396.5 105.3 M 401.9 126.0 Q 404.5 126.0, 405.9 124.8 Q 407.3 123.5, 407.3 121.2 Q 407.3 119.0, 405.7 117.9 Q 404.2 116.7, 401.3 116.7 L 396.5 116.7 L 396.5 126.0 L 401.9 126.0 \" fill=\"#000000\"/>\n",
       "<path class=\"atom-0\" d=\"M 414.6 107.1 L 419.4 107.1 L 419.4 102.1 L 421.5 102.1 L 421.5 107.1 L 426.3 107.1 L 426.3 108.9 L 421.5 108.9 L 421.5 113.9 L 419.4 113.9 L 419.4 108.9 L 414.6 108.9 L 414.6 107.1 \" fill=\"#000000\"/>\n",
       "<path class=\"atom-1\" d=\"M 319.3 54.9 Q 323.8 54.9, 326.2 56.9 Q 328.5 59.0, 328.5 62.7 Q 328.5 66.5, 326.1 68.6 Q 323.7 70.7, 319.3 70.7 L 315.0 70.7 L 315.0 81.7 L 311.3 81.7 L 311.3 54.9 L 319.3 54.9 M 319.3 67.6 Q 321.9 67.6, 323.3 66.4 Q 324.7 65.1, 324.7 62.7 Q 324.7 60.3, 323.3 59.1 Q 321.9 57.9, 319.3 57.9 L 315.0 57.9 L 315.0 67.6 L 319.3 67.6 \" fill=\"#FF7F00\"/>\n",
       "<path class=\"atom-1\" d=\"M 332.0 59.7 L 336.7 59.7 L 336.7 54.7 L 338.8 54.7 L 338.8 59.7 L 343.7 59.7 L 343.7 61.5 L 338.8 61.5 L 338.8 66.5 L 336.7 66.5 L 336.7 61.5 L 332.0 61.5 L 332.0 59.7 \" fill=\"#FF7F00\"/>\n",
       "<path class=\"atom-2\" d=\"M 230.2 30.1 Q 230.5 30.2, 231.8 30.7 Q 233.0 31.3, 234.4 31.6 Q 235.8 31.9, 237.2 31.9 Q 239.7 31.9, 241.2 30.7 Q 242.7 29.5, 242.7 27.3 Q 242.7 25.8, 241.9 24.9 Q 241.2 24.0, 240.1 23.5 Q 238.9 23.0, 237.0 22.4 Q 234.6 21.7, 233.2 21.0 Q 231.8 20.4, 230.8 18.9 Q 229.8 17.5, 229.8 15.0 Q 229.8 11.7, 232.1 9.6 Q 234.4 7.5, 238.9 7.5 Q 242.0 7.5, 245.6 9.0 L 244.7 11.9 Q 241.5 10.6, 239.0 10.6 Q 236.4 10.6, 235.0 11.7 Q 233.5 12.7, 233.6 14.6 Q 233.6 16.0, 234.3 16.9 Q 235.0 17.8, 236.1 18.3 Q 237.2 18.8, 239.0 19.3 Q 241.5 20.1, 242.9 20.8 Q 244.3 21.6, 245.4 23.2 Q 246.4 24.7, 246.4 27.3 Q 246.4 31.0, 243.9 33.0 Q 241.5 35.0, 237.3 35.0 Q 234.9 35.0, 233.1 34.5 Q 231.3 34.0, 229.2 33.1 L 230.2 30.1 \" fill=\"#CCCC00\"/>\n",
       "<path class=\"atom-3\" d=\"M 159.7 67.6 Q 162.2 68.3, 163.5 69.9 Q 164.9 71.5, 164.9 73.8 Q 164.9 77.5, 162.5 79.6 Q 160.1 81.7, 155.6 81.7 L 146.6 81.7 L 146.6 54.9 L 154.5 54.9 Q 159.1 54.9, 161.4 56.7 Q 163.8 58.6, 163.8 62.0 Q 163.8 66.0, 159.7 67.6 M 150.2 57.9 L 150.2 66.3 L 154.5 66.3 Q 157.2 66.3, 158.6 65.2 Q 160.0 64.1, 160.0 62.0 Q 160.0 57.9, 154.5 57.9 L 150.2 57.9 M 155.6 78.7 Q 158.3 78.7, 159.7 77.4 Q 161.1 76.2, 161.1 73.8 Q 161.1 71.6, 159.5 70.5 Q 158.0 69.3, 155.1 69.3 L 150.2 69.3 L 150.2 78.7 L 155.6 78.7 \" fill=\"#000000\"/>\n",
       "<path class=\"atom-4\" d=\"M 23.7 102.2 L 27.3 102.2 L 27.3 113.6 L 41.0 113.6 L 41.0 102.2 L 44.7 102.2 L 44.7 129.1 L 41.0 129.1 L 41.0 116.7 L 27.3 116.7 L 27.3 129.1 L 23.7 129.1 L 23.7 102.2 \" fill=\"#FF7F00\"/>\n",
       "<path class=\"atom-4\" d=\"M 49.8 128.1 Q 50.5 126.5, 52.0 125.5 Q 53.6 124.6, 55.7 124.6 Q 58.4 124.6, 59.9 126.0 Q 61.4 127.5, 61.4 130.1 Q 61.4 132.7, 59.5 135.1 Q 57.5 137.6, 53.5 140.5 L 61.7 140.5 L 61.7 142.5 L 49.8 142.5 L 49.8 140.8 Q 53.1 138.5, 55.0 136.7 Q 57.0 135.0, 58.0 133.4 Q 58.9 131.8, 58.9 130.2 Q 58.9 128.5, 58.1 127.5 Q 57.2 126.6, 55.7 126.6 Q 54.3 126.6, 53.4 127.2 Q 52.4 127.7, 51.7 129.0 L 49.8 128.1 \" fill=\"#FF7F00\"/>\n",
       "<path class=\"atom-4\" d=\"M 73.0 102.2 Q 77.6 102.2, 79.9 104.3 Q 82.2 106.4, 82.2 110.1 Q 82.2 113.8, 79.8 116.0 Q 77.5 118.0, 73.0 118.0 L 68.7 118.0 L 68.7 129.1 L 65.1 129.1 L 65.1 102.2 L 73.0 102.2 M 73.0 115.0 Q 75.6 115.0, 77.0 113.8 Q 78.4 112.5, 78.4 110.1 Q 78.4 107.7, 77.0 106.5 Q 75.7 105.3, 73.0 105.3 L 68.7 105.3 L 68.7 115.0 L 73.0 115.0 \" fill=\"#FF7F00\"/>\n",
       "</svg>"
      ],
      "text/plain": [
       "<IPython.core.display.SVG object>"
      ]
     },
     "execution_count": 120,
     "metadata": {},
     "output_type": "execute_result"
    }
   ],
   "source": [
    "import random\n",
    "\n",
    "alphabet = sf.get_semantic_robust_alphabet()  # Gets the alphabet of robust symbols\n",
    "rnd_selfies = \"\".join(random.sample(list(alphabet), 11))\n",
    "rnd_smiles = sf.decoder(rnd_selfies)\n",
    "print(\"SELFIE\", rnd_selfies)\n",
    "print(\"SMILES\", rnd_smiles)\n",
    "mol = rdkit.Chem.MolFromSmiles(rnd_smiles)\n",
    "render_mol(mol)"
   ]
  },
  {
   "cell_type": "code",
   "execution_count": 121,
   "id": "b4afb717-6afa-4a20-b81c-2c64a3dd149e",
   "metadata": {},
   "outputs": [
    {
     "name": "stdout",
     "output_type": "stream",
     "text": [
      "SELFIE [=Ring2][C][=O+1][#C-1][=O][=B][=C][B][I][O-1][#C][C+1][=P+1][=S][#S+1]\n",
      "SMILES C=[O+1][C-1]=O\n"
     ]
    },
    {
     "data": {
      "image/svg+xml": [
       "<svg xmlns=\"http://www.w3.org/2000/svg\" xmlns:rdkit=\"http://www.rdkit.org/xml\" xmlns:xlink=\"http://www.w3.org/1999/xlink\" version=\"1.1\" baseProfile=\"full\" xml:space=\"preserve\" width=\"450px\" height=\"150px\" viewBox=\"0 0 450 150\">\n",
       "<!-- END OF HEADER -->\n",
       "<rect style=\"opacity:1.0;fill:#FFFFFF;stroke:none\" width=\"450.0\" height=\"150.0\" x=\"0.0\" y=\"0.0\"> </rect>\n",
       "<path class=\"bond-0 atom-0 atom-1\" d=\"M 25.4,78.1 L 83.1,53.6\" style=\"fill:none;fill-rule:evenodd;stroke:#000000;stroke-width:2.0px;stroke-linecap:butt;stroke-linejoin:miter;stroke-opacity:1\"/>\n",
       "<path class=\"bond-0 atom-0 atom-1\" d=\"M 83.1,53.6 L 140.8,29.0\" style=\"fill:none;fill-rule:evenodd;stroke:#FF0000;stroke-width:2.0px;stroke-linecap:butt;stroke-linejoin:miter;stroke-opacity:1\"/>\n",
       "<path class=\"bond-0 atom-0 atom-1\" d=\"M 33.9,98.1 L 91.6,73.5\" style=\"fill:none;fill-rule:evenodd;stroke:#000000;stroke-width:2.0px;stroke-linecap:butt;stroke-linejoin:miter;stroke-opacity:1\"/>\n",
       "<path class=\"bond-0 atom-0 atom-1\" d=\"M 91.6,73.5 L 149.3,49.0\" style=\"fill:none;fill-rule:evenodd;stroke:#FF0000;stroke-width:2.0px;stroke-linecap:butt;stroke-linejoin:miter;stroke-opacity:1\"/>\n",
       "<path class=\"bond-1 atom-1 atom-2\" d=\"M 180.6,44.8 L 221.7,75.7\" style=\"fill:none;fill-rule:evenodd;stroke:#FF0000;stroke-width:2.0px;stroke-linecap:butt;stroke-linejoin:miter;stroke-opacity:1\"/>\n",
       "<path class=\"bond-1 atom-1 atom-2\" d=\"M 221.7,75.7 L 262.8,106.6\" style=\"fill:none;fill-rule:evenodd;stroke:#000000;stroke-width:2.0px;stroke-linecap:butt;stroke-linejoin:miter;stroke-opacity:1\"/>\n",
       "<path class=\"bond-2 atom-2 atom-3\" d=\"M 311.5,116.1 L 354.8,97.7\" style=\"fill:none;fill-rule:evenodd;stroke:#000000;stroke-width:2.0px;stroke-linecap:butt;stroke-linejoin:miter;stroke-opacity:1\"/>\n",
       "<path class=\"bond-2 atom-2 atom-3\" d=\"M 354.8,97.7 L 398.1,79.3\" style=\"fill:none;fill-rule:evenodd;stroke:#FF0000;stroke-width:2.0px;stroke-linecap:butt;stroke-linejoin:miter;stroke-opacity:1\"/>\n",
       "<path class=\"bond-2 atom-2 atom-3\" d=\"M 303.0,96.2 L 346.3,77.8\" style=\"fill:none;fill-rule:evenodd;stroke:#000000;stroke-width:2.0px;stroke-linecap:butt;stroke-linejoin:miter;stroke-opacity:1\"/>\n",
       "<path class=\"bond-2 atom-2 atom-3\" d=\"M 346.3,77.8 L 389.6,59.3\" style=\"fill:none;fill-rule:evenodd;stroke:#FF0000;stroke-width:2.0px;stroke-linecap:butt;stroke-linejoin:miter;stroke-opacity:1\"/>\n",
       "<path class=\"atom-1\" d=\"M 149.8 31.5 Q 149.8 24.7, 153.2 20.9 Q 156.5 17.1, 162.8 17.1 Q 169.1 17.1, 172.4 20.9 Q 175.8 24.7, 175.8 31.5 Q 175.8 38.4, 172.4 42.3 Q 169.0 46.2, 162.8 46.2 Q 156.6 46.2, 153.2 42.3 Q 149.8 38.4, 149.8 31.5 M 162.8 43.0 Q 167.1 43.0, 169.4 40.1 Q 171.8 37.2, 171.8 31.5 Q 171.8 26.0, 169.4 23.2 Q 167.1 20.3, 162.8 20.3 Q 158.5 20.3, 156.1 23.1 Q 153.8 25.9, 153.8 31.5 Q 153.8 37.2, 156.1 40.1 Q 158.5 43.0, 162.8 43.0 \" fill=\"#FF0000\"/>\n",
       "<path class=\"atom-1\" d=\"M 180.0 22.2 L 185.0 22.2 L 185.0 16.9 L 187.2 16.9 L 187.2 22.2 L 192.4 22.2 L 192.4 24.1 L 187.2 24.1 L 187.2 29.3 L 185.0 29.3 L 185.0 24.1 L 180.0 24.1 L 180.0 22.2 \" fill=\"#FF0000\"/>\n",
       "<path class=\"atom-2\" d=\"M 267.5 118.5 Q 267.5 111.5, 270.8 107.8 Q 274.1 104.1, 280.4 104.1 Q 286.2 104.1, 289.4 108.2 L 286.7 110.4 Q 284.4 107.4, 280.4 107.4 Q 276.1 107.4, 273.8 110.3 Q 271.6 113.1, 271.6 118.5 Q 271.6 124.1, 273.9 127.0 Q 276.3 129.9, 280.8 129.9 Q 284.0 129.9, 287.6 128.0 L 288.7 131.0 Q 287.2 132.0, 285.0 132.5 Q 282.8 133.1, 280.3 133.1 Q 274.1 133.1, 270.8 129.3 Q 267.5 125.6, 267.5 118.5 \" fill=\"#000000\"/>\n",
       "<path class=\"atom-2\" d=\"M 292.8 108.8 L 302.5 108.8 L 302.5 110.9 L 292.8 110.9 L 292.8 108.8 \" fill=\"#000000\"/>\n",
       "<path class=\"atom-3\" d=\"M 398.6 61.8 Q 398.6 55.0, 402.0 51.2 Q 405.3 47.4, 411.6 47.4 Q 417.9 47.4, 421.2 51.2 Q 424.6 55.0, 424.6 61.8 Q 424.6 68.7, 421.2 72.6 Q 417.8 76.5, 411.6 76.5 Q 405.4 76.5, 402.0 72.6 Q 398.6 68.8, 398.6 61.8 M 411.6 73.3 Q 415.9 73.3, 418.2 70.4 Q 420.6 67.5, 420.6 61.8 Q 420.6 56.3, 418.2 53.5 Q 415.9 50.6, 411.6 50.6 Q 407.3 50.6, 404.9 53.4 Q 402.6 56.2, 402.6 61.8 Q 402.6 67.6, 404.9 70.4 Q 407.3 73.3, 411.6 73.3 \" fill=\"#FF0000\"/>\n",
       "</svg>"
      ],
      "text/plain": [
       "<IPython.core.display.SVG object>"
      ]
     },
     "execution_count": 121,
     "metadata": {},
     "output_type": "execute_result"
    }
   ],
   "source": [
    "rnd_selfies = \"\".join(random.sample(list(alphabet), 15))\n",
    "rnd_smiles = sf.decoder(rnd_selfies)\n",
    "print(\"SELFIE\", rnd_selfies)\n",
    "print(\"SMILES\", rnd_smiles)\n",
    "mol = rdkit.Chem.MolFromSmiles(rnd_smiles)\n",
    "render_mol(mol)"
   ]
  },
  {
   "cell_type": "code",
   "execution_count": 122,
   "id": "c5197bb4-8628-4c8b-ac3b-878bfe74c711",
   "metadata": {},
   "outputs": [
    {
     "name": "stdout",
     "output_type": "stream",
     "text": [
      "SELFIE [=B][=O+1][#N][S][=S-1][#C][O][Ring1][B][=N+1][H][#B-1][P][=P-1][O+1][#C+1][Branch1][#N+1][Branch2][=P][#P-1][N+1]\n",
      "SMILES B=[O+1]NS=[S-1]#CO\n"
     ]
    },
    {
     "data": {
      "image/svg+xml": [
       "<svg xmlns=\"http://www.w3.org/2000/svg\" xmlns:rdkit=\"http://www.rdkit.org/xml\" xmlns:xlink=\"http://www.w3.org/1999/xlink\" version=\"1.1\" baseProfile=\"full\" xml:space=\"preserve\" width=\"450px\" height=\"150px\" viewBox=\"0 0 450 150\">\n",
       "<!-- END OF HEADER -->\n",
       "<rect style=\"opacity:1.0;fill:#FFFFFF;stroke:none\" width=\"450.0\" height=\"150.0\" x=\"0.0\" y=\"0.0\"> </rect>\n",
       "<path class=\"bond-0 atom-0 atom-1\" d=\"M 396.9,84.7 L 381.3,91.2\" style=\"fill:none;fill-rule:evenodd;stroke:#000000;stroke-width:2.0px;stroke-linecap:butt;stroke-linejoin:miter;stroke-opacity:1\"/>\n",
       "<path class=\"bond-0 atom-0 atom-1\" d=\"M 381.3,91.2 L 365.8,97.7\" style=\"fill:none;fill-rule:evenodd;stroke:#FF0000;stroke-width:2.0px;stroke-linecap:butt;stroke-linejoin:miter;stroke-opacity:1\"/>\n",
       "<path class=\"bond-0 atom-0 atom-1\" d=\"M 393.0,75.4 L 377.5,81.9\" style=\"fill:none;fill-rule:evenodd;stroke:#000000;stroke-width:2.0px;stroke-linecap:butt;stroke-linejoin:miter;stroke-opacity:1\"/>\n",
       "<path class=\"bond-0 atom-0 atom-1\" d=\"M 377.5,81.9 L 361.9,88.4\" style=\"fill:none;fill-rule:evenodd;stroke:#FF0000;stroke-width:2.0px;stroke-linecap:butt;stroke-linejoin:miter;stroke-opacity:1\"/>\n",
       "<path class=\"bond-1 atom-1 atom-2\" d=\"M 330.9,94.0 L 314.4,81.5\" style=\"fill:none;fill-rule:evenodd;stroke:#FF0000;stroke-width:2.0px;stroke-linecap:butt;stroke-linejoin:miter;stroke-opacity:1\"/>\n",
       "<path class=\"bond-1 atom-1 atom-2\" d=\"M 314.4,81.5 L 297.9,68.9\" style=\"fill:none;fill-rule:evenodd;stroke:#0000FF;stroke-width:2.0px;stroke-linecap:butt;stroke-linejoin:miter;stroke-opacity:1\"/>\n",
       "<path class=\"bond-2 atom-2 atom-3\" d=\"M 279.1,65.7 L 257.1,75.0\" style=\"fill:none;fill-rule:evenodd;stroke:#0000FF;stroke-width:2.0px;stroke-linecap:butt;stroke-linejoin:miter;stroke-opacity:1\"/>\n",
       "<path class=\"bond-2 atom-2 atom-3\" d=\"M 257.1,75.0 L 235.1,84.2\" style=\"fill:none;fill-rule:evenodd;stroke:#CCCC00;stroke-width:2.0px;stroke-linecap:butt;stroke-linejoin:miter;stroke-opacity:1\"/>\n",
       "<path class=\"bond-3 atom-3 atom-4\" d=\"M 215.4,85.4 L 178.7,57.5\" style=\"fill:none;fill-rule:evenodd;stroke:#CCCC00;stroke-width:2.0px;stroke-linecap:butt;stroke-linejoin:miter;stroke-opacity:1\"/>\n",
       "<path class=\"bond-3 atom-3 atom-4\" d=\"M 221.5,77.4 L 184.8,49.5\" style=\"fill:none;fill-rule:evenodd;stroke:#CCCC00;stroke-width:2.0px;stroke-linecap:butt;stroke-linejoin:miter;stroke-opacity:1\"/>\n",
       "<path class=\"bond-4 atom-4 atom-5\" d=\"M 165.2,50.7 L 138.4,61.9\" style=\"fill:none;fill-rule:evenodd;stroke:#CCCC00;stroke-width:2.0px;stroke-linecap:butt;stroke-linejoin:miter;stroke-opacity:1\"/>\n",
       "<path class=\"bond-4 atom-4 atom-5\" d=\"M 138.4,61.9 L 111.7,73.1\" style=\"fill:none;fill-rule:evenodd;stroke:#000000;stroke-width:2.0px;stroke-linecap:butt;stroke-linejoin:miter;stroke-opacity:1\"/>\n",
       "<path class=\"bond-4 atom-4 atom-5\" d=\"M 169.0,59.9 L 142.3,71.1\" style=\"fill:none;fill-rule:evenodd;stroke:#CCCC00;stroke-width:2.0px;stroke-linecap:butt;stroke-linejoin:miter;stroke-opacity:1\"/>\n",
       "<path class=\"bond-4 atom-4 atom-5\" d=\"M 142.3,71.1 L 115.6,82.4\" style=\"fill:none;fill-rule:evenodd;stroke:#000000;stroke-width:2.0px;stroke-linecap:butt;stroke-linejoin:miter;stroke-opacity:1\"/>\n",
       "<path class=\"bond-4 atom-4 atom-5\" d=\"M 161.3,41.4 L 134.5,52.6\" style=\"fill:none;fill-rule:evenodd;stroke:#CCCC00;stroke-width:2.0px;stroke-linecap:butt;stroke-linejoin:miter;stroke-opacity:1\"/>\n",
       "<path class=\"bond-4 atom-4 atom-5\" d=\"M 134.5,52.6 L 107.8,63.8\" style=\"fill:none;fill-rule:evenodd;stroke:#000000;stroke-width:2.0px;stroke-linecap:butt;stroke-linejoin:miter;stroke-opacity:1\"/>\n",
       "<path class=\"bond-5 atom-5 atom-6\" d=\"M 111.7,73.1 L 86.3,83.8\" style=\"fill:none;fill-rule:evenodd;stroke:#000000;stroke-width:2.0px;stroke-linecap:butt;stroke-linejoin:miter;stroke-opacity:1\"/>\n",
       "<path class=\"bond-5 atom-5 atom-6\" d=\"M 86.3,83.8 L 60.9,94.4\" style=\"fill:none;fill-rule:evenodd;stroke:#FF0000;stroke-width:2.0px;stroke-linecap:butt;stroke-linejoin:miter;stroke-opacity:1\"/>\n",
       "<path d=\"M 113.0,72.5 L 111.7,73.1 L 110.4,73.6\" style=\"fill:none;stroke:#000000;stroke-width:2.0px;stroke-linecap:butt;stroke-linejoin:miter;stroke-opacity:1;\"/>\n",
       "<path class=\"atom-0\" d=\"M 406.4 75.9 Q 408.2 76.4, 409.1 77.5 Q 410.0 78.6, 410.0 80.3 Q 410.0 82.9, 408.4 84.4 Q 406.7 85.9, 403.5 85.9 L 397.2 85.9 L 397.2 66.9 L 402.8 66.9 Q 406.0 66.9, 407.6 68.2 Q 409.3 69.5, 409.3 71.9 Q 409.3 74.8, 406.4 75.9 M 399.7 69.1 L 399.7 75.0 L 402.8 75.0 Q 404.6 75.0, 405.6 74.3 Q 406.6 73.5, 406.6 71.9 Q 406.6 69.1, 402.8 69.1 L 399.7 69.1 M 403.5 83.7 Q 405.4 83.7, 406.4 82.9 Q 407.4 82.0, 407.4 80.3 Q 407.4 78.7, 406.3 77.9 Q 405.2 77.1, 403.1 77.1 L 399.7 77.1 L 399.7 83.7 L 403.5 83.7 \" fill=\"#000000\"/>\n",
       "<path class=\"atom-0\" d=\"M 412.7 66.9 L 415.2 66.9 L 415.2 75.0 L 424.9 75.0 L 424.9 66.9 L 427.5 66.9 L 427.5 85.9 L 424.9 85.9 L 424.9 77.1 L 415.2 77.1 L 415.2 85.9 L 412.7 85.9 L 412.7 66.9 \" fill=\"#000000\"/>\n",
       "<path class=\"atom-1\" d=\"M 333.1 102.4 Q 333.1 97.8, 335.4 95.3 Q 337.6 92.7, 341.8 92.7 Q 346.0 92.7, 348.3 95.3 Q 350.6 97.8, 350.6 102.4 Q 350.6 107.0, 348.3 109.6 Q 346.0 112.2, 341.8 112.2 Q 337.7 112.2, 335.4 109.6 Q 333.1 107.0, 333.1 102.4 M 341.8 110.1 Q 344.7 110.1, 346.3 108.1 Q 347.9 106.2, 347.9 102.4 Q 347.9 98.6, 346.3 96.8 Q 344.7 94.9, 341.8 94.9 Q 339.0 94.9, 337.4 96.7 Q 335.8 98.6, 335.8 102.4 Q 335.8 106.2, 337.4 108.1 Q 339.0 110.1, 341.8 110.1 \" fill=\"#FF0000\"/>\n",
       "<path class=\"atom-1\" d=\"M 353.4 96.1 L 356.7 96.1 L 356.7 92.6 L 358.2 92.6 L 358.2 96.1 L 361.6 96.1 L 361.6 97.4 L 358.2 97.4 L 358.2 100.9 L 356.7 100.9 L 356.7 97.4 L 353.4 97.4 L 353.4 96.1 \" fill=\"#FF0000\"/>\n",
       "<path class=\"atom-2\" d=\"M 284.3 52.3 L 290.5 62.4 Q 291.2 63.3, 292.2 65.1 Q 293.1 66.9, 293.2 67.0 L 293.2 52.3 L 295.7 52.3 L 295.7 71.3 L 293.1 71.3 L 286.4 60.3 Q 285.7 59.0, 284.8 57.5 Q 284.0 56.1, 283.8 55.6 L 283.8 71.3 L 281.3 71.3 L 281.3 52.3 L 284.3 52.3 \" fill=\"#0000FF\"/>\n",
       "<path class=\"atom-2\" d=\"M 281.1 31.4 L 283.7 31.4 L 283.7 39.5 L 293.4 39.5 L 293.4 31.4 L 295.9 31.4 L 295.9 50.4 L 293.4 50.4 L 293.4 41.7 L 283.7 41.7 L 283.7 50.4 L 281.1 50.4 L 281.1 31.4 \" fill=\"#0000FF\"/>\n",
       "<path class=\"atom-3\" d=\"M 221.4 94.2 Q 221.6 94.3, 222.5 94.7 Q 223.4 95.0, 224.4 95.3 Q 225.3 95.5, 226.3 95.5 Q 228.1 95.5, 229.2 94.6 Q 230.2 93.8, 230.2 92.2 Q 230.2 91.2, 229.7 90.5 Q 229.2 89.9, 228.3 89.6 Q 227.5 89.2, 226.2 88.8 Q 224.5 88.3, 223.5 87.8 Q 222.5 87.3, 221.8 86.3 Q 221.1 85.3, 221.1 83.6 Q 221.1 81.2, 222.7 79.7 Q 224.3 78.3, 227.5 78.3 Q 229.7 78.3, 232.2 79.3 L 231.6 81.4 Q 229.3 80.4, 227.6 80.4 Q 225.8 80.4, 224.8 81.2 Q 223.7 81.9, 223.8 83.3 Q 223.8 84.3, 224.3 84.9 Q 224.8 85.5, 225.6 85.9 Q 226.3 86.2, 227.6 86.6 Q 229.3 87.1, 230.4 87.7 Q 231.4 88.2, 232.1 89.3 Q 232.8 90.4, 232.8 92.2 Q 232.8 94.9, 231.1 96.3 Q 229.3 97.7, 226.4 97.7 Q 224.7 97.7, 223.4 97.3 Q 222.2 97.0, 220.7 96.3 L 221.4 94.2 \" fill=\"#CCCC00\"/>\n",
       "<path class=\"atom-3\" d=\"M 219.3 99.6 L 221.9 99.6 L 221.9 107.7 L 231.6 107.7 L 231.6 99.6 L 234.2 99.6 L 234.2 118.6 L 231.6 118.6 L 231.6 109.8 L 221.9 109.8 L 221.9 118.6 L 219.3 118.6 L 219.3 99.6 \" fill=\"#CCCC00\"/>\n",
       "<path class=\"atom-4\" d=\"M 168.1 53.7 Q 168.3 53.8, 169.2 54.2 Q 170.1 54.5, 171.0 54.8 Q 172.0 55.0, 173.0 55.0 Q 174.8 55.0, 175.8 54.1 Q 176.9 53.2, 176.9 51.7 Q 176.9 50.7, 176.3 50.0 Q 175.8 49.4, 175.0 49.0 Q 174.2 48.7, 172.9 48.3 Q 171.2 47.8, 170.2 47.3 Q 169.2 46.8, 168.5 45.8 Q 167.8 44.8, 167.8 43.1 Q 167.8 40.7, 169.4 39.2 Q 171.0 37.7, 174.2 37.7 Q 176.4 37.7, 178.9 38.8 L 178.3 40.8 Q 176.0 39.9, 174.3 39.9 Q 172.5 39.9, 171.4 40.7 Q 170.4 41.4, 170.4 42.7 Q 170.4 43.8, 171.0 44.4 Q 171.5 45.0, 172.2 45.3 Q 173.0 45.7, 174.3 46.1 Q 176.0 46.6, 177.0 47.2 Q 178.1 47.7, 178.8 48.8 Q 179.5 49.9, 179.5 51.7 Q 179.5 54.3, 177.8 55.8 Q 176.0 57.2, 173.1 57.2 Q 171.4 57.2, 170.1 56.8 Q 168.9 56.4, 167.4 55.8 L 168.1 53.7 \" fill=\"#CCCC00\"/>\n",
       "<path class=\"atom-4\" d=\"M 181.9 40.6 L 188.4 40.6 L 188.4 42.0 L 181.9 42.0 L 181.9 40.6 \" fill=\"#CCCC00\"/>\n",
       "<path class=\"atom-6\" d=\"M 22.5 89.6 L 25.1 89.6 L 25.1 97.7 L 34.8 97.7 L 34.8 89.6 L 37.3 89.6 L 37.3 108.6 L 34.8 108.6 L 34.8 99.9 L 25.1 99.9 L 25.1 108.6 L 22.5 108.6 L 22.5 89.6 \" fill=\"#FF0000\"/>\n",
       "<path class=\"atom-6\" d=\"M 41.2 99.1 Q 41.2 94.5, 43.5 92.0 Q 45.7 89.4, 49.9 89.4 Q 54.1 89.4, 56.4 92.0 Q 58.6 94.5, 58.6 99.1 Q 58.6 103.7, 56.4 106.3 Q 54.1 108.9, 49.9 108.9 Q 45.8 108.9, 43.5 106.3 Q 41.2 103.7, 41.2 99.1 M 49.9 106.8 Q 52.8 106.8, 54.4 104.8 Q 56.0 102.9, 56.0 99.1 Q 56.0 95.4, 54.4 93.5 Q 52.8 91.6, 49.9 91.6 Q 47.0 91.6, 45.5 93.5 Q 43.9 95.3, 43.9 99.1 Q 43.9 102.9, 45.5 104.8 Q 47.0 106.8, 49.9 106.8 \" fill=\"#FF0000\"/>\n",
       "</svg>"
      ],
      "text/plain": [
       "<IPython.core.display.SVG object>"
      ]
     },
     "execution_count": 122,
     "metadata": {},
     "output_type": "execute_result"
    }
   ],
   "source": [
    "rnd_selfies = \"\".join(random.sample(list(alphabet), 22))\n",
    "rnd_smiles = sf.decoder(rnd_selfies)\n",
    "print(\"SELFIE\", rnd_selfies)\n",
    "print(\"SMILES\", rnd_smiles)\n",
    "mol = rdkit.Chem.MolFromSmiles(rnd_smiles)\n",
    "render_mol(mol)"
   ]
  },
  {
   "cell_type": "code",
   "execution_count": 123,
   "id": "bc2688d5-e36d-4091-94aa-baf776b07acb",
   "metadata": {},
   "outputs": [
    {
     "name": "stdout",
     "output_type": "stream",
     "text": [
      "SELFIE [P][#Branch2][=S][=P+1][B+1][#B][S+1][=B][#C-1][=O+1][Ring3][#O+1][#P-1][S-1][#C+1][#C][#S+1][#Branch1][H][Ring2][N+1][B-1][N-1][=P][B][=Branch3]\n",
      "SMILES P([B+1])=B[S+1]=B[C-1]=[O+1]\n"
     ]
    },
    {
     "data": {
      "image/svg+xml": [
       "<svg xmlns=\"http://www.w3.org/2000/svg\" xmlns:rdkit=\"http://www.rdkit.org/xml\" xmlns:xlink=\"http://www.w3.org/1999/xlink\" version=\"1.1\" baseProfile=\"full\" xml:space=\"preserve\" width=\"450px\" height=\"150px\" viewBox=\"0 0 450 150\">\n",
       "<!-- END OF HEADER -->\n",
       "<rect style=\"opacity:1.0;fill:#FFFFFF;stroke:none\" width=\"450.0\" height=\"150.0\" x=\"0.0\" y=\"0.0\"> </rect>\n",
       "<path class=\"bond-0 atom-0 atom-1\" d=\"M 321.0,64.6 L 321.0,45.5\" style=\"fill:none;fill-rule:evenodd;stroke:#FF7F00;stroke-width:2.0px;stroke-linecap:butt;stroke-linejoin:miter;stroke-opacity:1\"/>\n",
       "<path class=\"bond-0 atom-0 atom-1\" d=\"M 321.0,45.5 L 321.0,26.3\" style=\"fill:none;fill-rule:evenodd;stroke:#000000;stroke-width:2.0px;stroke-linecap:butt;stroke-linejoin:miter;stroke-opacity:1\"/>\n",
       "<path class=\"bond-1 atom-0 atom-2\" d=\"M 315.9,82.9 L 297.9,93.3\" style=\"fill:none;fill-rule:evenodd;stroke:#FF7F00;stroke-width:2.0px;stroke-linecap:butt;stroke-linejoin:miter;stroke-opacity:1\"/>\n",
       "<path class=\"bond-1 atom-0 atom-2\" d=\"M 297.9,93.3 L 279.8,103.8\" style=\"fill:none;fill-rule:evenodd;stroke:#000000;stroke-width:2.0px;stroke-linecap:butt;stroke-linejoin:miter;stroke-opacity:1\"/>\n",
       "<path class=\"bond-1 atom-0 atom-2\" d=\"M 311.5,75.3 L 293.5,85.7\" style=\"fill:none;fill-rule:evenodd;stroke:#FF7F00;stroke-width:2.0px;stroke-linecap:butt;stroke-linejoin:miter;stroke-opacity:1\"/>\n",
       "<path class=\"bond-1 atom-0 atom-2\" d=\"M 293.5,85.7 L 275.4,96.1\" style=\"fill:none;fill-rule:evenodd;stroke:#000000;stroke-width:2.0px;stroke-linecap:butt;stroke-linejoin:miter;stroke-opacity:1\"/>\n",
       "<path class=\"bond-2 atom-2 atom-3\" d=\"M 262.4,108.7 L 249.1,116.4\" style=\"fill:none;fill-rule:evenodd;stroke:#000000;stroke-width:2.0px;stroke-linecap:butt;stroke-linejoin:miter;stroke-opacity:1\"/>\n",
       "<path class=\"bond-2 atom-2 atom-3\" d=\"M 249.1,116.4 L 235.8,124.1\" style=\"fill:none;fill-rule:evenodd;stroke:#CCCC00;stroke-width:2.0px;stroke-linecap:butt;stroke-linejoin:miter;stroke-opacity:1\"/>\n",
       "<path class=\"bond-3 atom-3 atom-4\" d=\"M 209.6,133.4 L 191.5,122.9\" style=\"fill:none;fill-rule:evenodd;stroke:#CCCC00;stroke-width:2.0px;stroke-linecap:butt;stroke-linejoin:miter;stroke-opacity:1\"/>\n",
       "<path class=\"bond-3 atom-3 atom-4\" d=\"M 191.5,122.9 L 173.5,112.5\" style=\"fill:none;fill-rule:evenodd;stroke:#000000;stroke-width:2.0px;stroke-linecap:butt;stroke-linejoin:miter;stroke-opacity:1\"/>\n",
       "<path class=\"bond-3 atom-3 atom-4\" d=\"M 214.0,125.7 L 195.9,115.3\" style=\"fill:none;fill-rule:evenodd;stroke:#CCCC00;stroke-width:2.0px;stroke-linecap:butt;stroke-linejoin:miter;stroke-opacity:1\"/>\n",
       "<path class=\"bond-3 atom-3 atom-4\" d=\"M 195.9,115.3 L 177.9,104.9\" style=\"fill:none;fill-rule:evenodd;stroke:#000000;stroke-width:2.0px;stroke-linecap:butt;stroke-linejoin:miter;stroke-opacity:1\"/>\n",
       "<path class=\"bond-4 atom-4 atom-5\" d=\"M 160.5,99.9 L 125.5,79.7\" style=\"fill:none;fill-rule:evenodd;stroke:#000000;stroke-width:2.0px;stroke-linecap:butt;stroke-linejoin:miter;stroke-opacity:1\"/>\n",
       "<path class=\"bond-5 atom-5 atom-6\" d=\"M 121.5,64.5 L 121.5,45.6\" style=\"fill:none;fill-rule:evenodd;stroke:#000000;stroke-width:2.0px;stroke-linecap:butt;stroke-linejoin:miter;stroke-opacity:1\"/>\n",
       "<path class=\"bond-5 atom-5 atom-6\" d=\"M 121.5,45.6 L 121.5,26.7\" style=\"fill:none;fill-rule:evenodd;stroke:#FF0000;stroke-width:2.0px;stroke-linecap:butt;stroke-linejoin:miter;stroke-opacity:1\"/>\n",
       "<path class=\"bond-5 atom-5 atom-6\" d=\"M 112.7,64.5 L 112.7,45.6\" style=\"fill:none;fill-rule:evenodd;stroke:#000000;stroke-width:2.0px;stroke-linecap:butt;stroke-linejoin:miter;stroke-opacity:1\"/>\n",
       "<path class=\"bond-5 atom-5 atom-6\" d=\"M 112.7,45.6 L 112.7,26.7\" style=\"fill:none;fill-rule:evenodd;stroke:#FF0000;stroke-width:2.0px;stroke-linecap:butt;stroke-linejoin:miter;stroke-opacity:1\"/>\n",
       "<path class=\"atom-0\" d=\"M 320.6 66.6 Q 323.4 66.6, 324.9 67.9 Q 326.3 69.1, 326.3 71.5 Q 326.3 73.8, 324.8 75.1 Q 323.4 76.4, 320.6 76.4 L 317.9 76.4 L 317.9 83.2 L 315.7 83.2 L 315.7 66.6 L 320.6 66.6 M 320.6 74.5 Q 322.2 74.5, 323.1 73.7 Q 324.0 72.9, 324.0 71.5 Q 324.0 70.0, 323.1 69.2 Q 322.2 68.4, 320.6 68.4 L 317.9 68.4 L 317.9 74.5 L 320.6 74.5 \" fill=\"#FF7F00\"/>\n",
       "<path class=\"atom-1\" d=\"M 323.4 15.6 Q 325.0 16.1, 325.8 17.1 Q 326.6 18.0, 326.6 19.5 Q 326.6 21.8, 325.2 23.1 Q 323.7 24.4, 320.9 24.4 L 315.3 24.4 L 315.3 7.7 L 320.2 7.7 Q 323.1 7.7, 324.5 8.9 Q 326.0 10.0, 326.0 12.1 Q 326.0 14.7, 323.4 15.6 M 317.6 9.6 L 317.6 14.8 L 320.2 14.8 Q 321.9 14.8, 322.7 14.2 Q 323.6 13.5, 323.6 12.1 Q 323.6 9.6, 320.2 9.6 L 317.6 9.6 M 320.9 22.5 Q 322.6 22.5, 323.4 21.7 Q 324.3 20.9, 324.3 19.5 Q 324.3 18.1, 323.3 17.4 Q 322.4 16.7, 320.6 16.7 L 317.6 16.7 L 317.6 22.5 L 320.9 22.5 \" fill=\"#000000\"/>\n",
       "<path class=\"atom-1\" d=\"M 328.8 10.7 L 331.8 10.7 L 331.8 7.6 L 333.1 7.6 L 333.1 10.7 L 336.1 10.7 L 336.1 11.8 L 333.1 11.8 L 333.1 14.9 L 331.8 14.9 L 331.8 11.8 L 328.8 11.8 L 328.8 10.7 \" fill=\"#000000\"/>\n",
       "<path class=\"atom-2\" d=\"M 272.5 103.9 Q 274.1 104.3, 274.9 105.3 Q 275.7 106.3, 275.7 107.7 Q 275.7 110.0, 274.2 111.4 Q 272.7 112.7, 270.0 112.7 L 264.4 112.7 L 264.4 96.0 L 269.3 96.0 Q 272.1 96.0, 273.6 97.1 Q 275.0 98.3, 275.0 100.4 Q 275.0 102.9, 272.5 103.9 M 266.6 97.9 L 266.6 103.1 L 269.3 103.1 Q 270.9 103.1, 271.8 102.4 Q 272.6 101.8, 272.6 100.4 Q 272.6 97.9, 269.3 97.9 L 266.6 97.9 M 270.0 110.8 Q 271.6 110.8, 272.5 110.0 Q 273.3 109.2, 273.3 107.7 Q 273.3 106.4, 272.4 105.7 Q 271.4 105.0, 269.6 105.0 L 266.6 105.0 L 266.6 110.8 L 270.0 110.8 \" fill=\"#000000\"/>\n",
       "<path class=\"atom-3\" d=\"M 214.4 139.5 Q 214.5 139.5, 215.3 139.9 Q 216.1 140.2, 216.9 140.4 Q 217.8 140.6, 218.7 140.6 Q 220.2 140.6, 221.2 139.8 Q 222.1 139.1, 222.1 137.7 Q 222.1 136.8, 221.6 136.2 Q 221.2 135.7, 220.4 135.4 Q 219.7 135.1, 218.6 134.7 Q 217.1 134.3, 216.2 133.8 Q 215.3 133.4, 214.7 132.5 Q 214.1 131.6, 214.1 130.1 Q 214.1 128.0, 215.5 126.7 Q 216.9 125.4, 219.7 125.4 Q 221.7 125.4, 223.9 126.4 L 223.3 128.2 Q 221.3 127.3, 219.8 127.3 Q 218.2 127.3, 217.3 128.0 Q 216.4 128.7, 216.4 129.8 Q 216.4 130.7, 216.9 131.3 Q 217.3 131.8, 218.0 132.1 Q 218.7 132.4, 219.8 132.8 Q 221.3 133.2, 222.2 133.7 Q 223.1 134.2, 223.7 135.2 Q 224.4 136.1, 224.4 137.7 Q 224.4 140.0, 222.9 141.3 Q 221.3 142.5, 218.8 142.5 Q 217.3 142.5, 216.1 142.2 Q 215.0 141.9, 213.7 141.3 L 214.4 139.5 \" fill=\"#CCCC00\"/>\n",
       "<path class=\"atom-3\" d=\"M 226.6 128.2 L 229.5 128.2 L 229.5 125.1 L 230.8 125.1 L 230.8 128.2 L 233.8 128.2 L 233.8 129.3 L 230.8 129.3 L 230.8 132.4 L 229.5 132.4 L 229.5 129.3 L 226.6 129.3 L 226.6 128.2 \" fill=\"#CCCC00\"/>\n",
       "<path class=\"atom-4\" d=\"M 170.5 103.9 Q 172.1 104.3, 172.9 105.3 Q 173.8 106.3, 173.8 107.7 Q 173.8 110.0, 172.3 111.4 Q 170.8 112.7, 168.0 112.7 L 162.4 112.7 L 162.4 96.0 L 167.4 96.0 Q 170.2 96.0, 171.6 97.1 Q 173.1 98.3, 173.1 100.4 Q 173.1 102.9, 170.5 103.9 M 164.7 97.9 L 164.7 103.1 L 167.4 103.1 Q 169.0 103.1, 169.9 102.4 Q 170.7 101.8, 170.7 100.4 Q 170.7 97.9, 167.4 97.9 L 164.7 97.9 M 168.0 110.8 Q 169.7 110.8, 170.5 110.0 Q 171.4 109.2, 171.4 107.7 Q 171.4 106.4, 170.4 105.7 Q 169.5 105.0, 167.7 105.0 L 164.7 105.0 L 164.7 110.8 L 168.0 110.8 \" fill=\"#000000\"/>\n",
       "<path class=\"atom-5\" d=\"M 110.7 75.0 Q 110.7 70.8, 112.6 68.7 Q 114.6 66.5, 118.3 66.5 Q 121.7 66.5, 123.6 68.9 L 122.0 70.2 Q 120.7 68.4, 118.3 68.4 Q 115.8 68.4, 114.4 70.1 Q 113.1 71.8, 113.1 75.0 Q 113.1 78.3, 114.5 80.0 Q 115.9 81.7, 118.5 81.7 Q 120.4 81.7, 122.5 80.5 L 123.2 82.3 Q 122.3 82.9, 121.0 83.2 Q 119.7 83.5, 118.2 83.5 Q 114.6 83.5, 112.6 81.3 Q 110.7 79.1, 110.7 75.0 \" fill=\"#000000\"/>\n",
       "<path class=\"atom-5\" d=\"M 125.6 69.2 L 131.3 69.2 L 131.3 70.5 L 125.6 70.5 L 125.6 69.2 \" fill=\"#000000\"/>\n",
       "<path class=\"atom-6\" d=\"M 109.5 16.1 Q 109.5 12.1, 111.5 9.9 Q 113.4 7.6, 117.1 7.6 Q 120.8 7.6, 122.8 9.9 Q 124.8 12.1, 124.8 16.1 Q 124.8 20.1, 122.8 22.5 Q 120.8 24.7, 117.1 24.7 Q 113.5 24.7, 111.5 22.5 Q 109.5 20.2, 109.5 16.1 M 117.1 22.9 Q 119.7 22.9, 121.0 21.2 Q 122.4 19.4, 122.4 16.1 Q 122.4 12.8, 121.0 11.2 Q 119.7 9.5, 117.1 9.5 Q 114.6 9.5, 113.2 11.2 Q 111.8 12.8, 111.8 16.1 Q 111.8 19.5, 113.2 21.2 Q 114.6 22.9, 117.1 22.9 \" fill=\"#FF0000\"/>\n",
       "<path class=\"atom-6\" d=\"M 127.3 10.6 L 130.2 10.6 L 130.2 7.5 L 131.5 7.5 L 131.5 10.6 L 134.5 10.6 L 134.5 11.7 L 131.5 11.7 L 131.5 14.8 L 130.2 14.8 L 130.2 11.7 L 127.3 11.7 L 127.3 10.6 \" fill=\"#FF0000\"/>\n",
       "<path class=\"atom-1\" d=\"M 340.8,16.0 L 340.8,16.2 L 340.8,16.3 L 340.8,16.4 L 340.7,16.4 L 340.7,16.5 L 340.7,16.6 L 340.6,16.7 L 340.5,16.8 L 340.5,16.9 L 340.4,16.9 L 340.3,17.0 L 340.2,17.1 L 340.1,17.1 L 340.1,17.1 L 340.0,17.2 L 339.9,17.2 L 339.8,17.2 L 339.7,17.2 L 339.6,17.2 L 339.5,17.2 L 339.4,17.2 L 339.3,17.2 L 339.2,17.1 L 339.1,17.1 L 339.0,17.0 L 338.9,17.0 L 338.8,16.9 L 338.8,16.8 L 338.7,16.8 L 338.6,16.7 L 338.6,16.6 L 338.5,16.5 L 338.5,16.4 L 338.5,16.3 L 338.5,16.2 L 338.5,16.1 L 338.5,16.0 L 338.5,15.9 L 338.5,15.8 L 338.5,15.7 L 338.5,15.6 L 338.6,15.5 L 338.6,15.4 L 338.7,15.3 L 338.8,15.3 L 338.8,15.2 L 338.9,15.1 L 339.0,15.1 L 339.1,15.0 L 339.2,15.0 L 339.3,14.9 L 339.4,14.9 L 339.5,14.9 L 339.6,14.9 L 339.7,14.9 L 339.8,14.9 L 339.9,14.9 L 340.0,14.9 L 340.1,15.0 L 340.1,15.0 L 340.2,15.0 L 340.3,15.1 L 340.4,15.2 L 340.5,15.2 L 340.5,15.3 L 340.6,15.4 L 340.7,15.5 L 340.7,15.6 L 340.7,15.7 L 340.8,15.7 L 340.8,15.8 L 340.8,15.9 L 340.8,16.0 L 339.6,16.0 Z\" style=\"fill:#000000;fill-rule:evenodd;fill-opacity:1;stroke:#000000;stroke-width:0.0px;stroke-linecap:butt;stroke-linejoin:miter;stroke-opacity:1;\"/>\n",
       "<path class=\"atom-6\" d=\"M 139.2,16.0 L 139.2,16.2 L 139.2,16.3 L 139.2,16.4 L 139.2,16.4 L 139.1,16.5 L 139.1,16.6 L 139.0,16.7 L 139.0,16.8 L 138.9,16.9 L 138.8,16.9 L 138.8,17.0 L 138.7,17.1 L 138.6,17.1 L 138.5,17.1 L 138.4,17.2 L 138.3,17.2 L 138.2,17.2 L 138.1,17.2 L 138.0,17.2 L 137.9,17.2 L 137.8,17.2 L 137.7,17.2 L 137.6,17.1 L 137.5,17.1 L 137.4,17.0 L 137.3,17.0 L 137.3,16.9 L 137.2,16.8 L 137.1,16.8 L 137.1,16.7 L 137.0,16.6 L 137.0,16.5 L 136.9,16.4 L 136.9,16.3 L 136.9,16.2 L 136.9,16.1 L 136.9,16.0 L 136.9,15.9 L 136.9,15.8 L 136.9,15.7 L 137.0,15.6 L 137.0,15.5 L 137.1,15.4 L 137.1,15.3 L 137.2,15.3 L 137.3,15.2 L 137.3,15.1 L 137.4,15.1 L 137.5,15.0 L 137.6,15.0 L 137.7,14.9 L 137.8,14.9 L 137.9,14.9 L 138.0,14.9 L 138.1,14.9 L 138.2,14.9 L 138.3,14.9 L 138.4,14.9 L 138.5,15.0 L 138.6,15.0 L 138.7,15.0 L 138.8,15.1 L 138.8,15.2 L 138.9,15.2 L 139.0,15.3 L 139.0,15.4 L 139.1,15.5 L 139.1,15.6 L 139.2,15.7 L 139.2,15.7 L 139.2,15.8 L 139.2,15.9 L 139.2,16.0 L 138.1,16.0 Z\" style=\"fill:#000000;fill-rule:evenodd;fill-opacity:1;stroke:#000000;stroke-width:0.0px;stroke-linecap:butt;stroke-linejoin:miter;stroke-opacity:1;\"/>\n",
       "</svg>"
      ],
      "text/plain": [
       "<IPython.core.display.SVG object>"
      ]
     },
     "execution_count": 123,
     "metadata": {},
     "output_type": "execute_result"
    }
   ],
   "source": [
    "rnd_selfies = \"\".join(random.sample(list(alphabet), 26))\n",
    "rnd_smiles = sf.decoder(rnd_selfies)\n",
    "print(\"SELFIE\", rnd_selfies)\n",
    "print(\"SMILES\", rnd_smiles)\n",
    "mol = rdkit.Chem.MolFromSmiles(rnd_smiles)\n",
    "render_mol(mol)"
   ]
  },
  {
   "cell_type": "code",
   "execution_count": null,
   "id": "5e6158c9-5239-4c91-9d77-1a9e488e9135",
   "metadata": {},
   "outputs": [],
   "source": []
  },
  {
   "cell_type": "code",
   "execution_count": null,
   "id": "c8195581-9039-4714-a96f-c593dc4c3d43",
   "metadata": {},
   "outputs": [],
   "source": []
  }
 ],
 "metadata": {
  "colab": {
   "provenance": []
  },
  "jupytext": {
   "formats": "py,md,ipynb"
  },
  "kernelspec": {
   "display_name": "Python 3 (ipykernel)",
   "language": "python",
   "name": "python3"
  },
  "language_info": {
   "codemirror_mode": {
    "name": "ipython",
    "version": 3
   },
   "file_extension": ".py",
   "mimetype": "text/x-python",
   "name": "python",
   "nbconvert_exporter": "python",
   "pygments_lexer": "ipython3",
   "version": "3.11.2"
  }
 },
 "nbformat": 4,
 "nbformat_minor": 5
}
