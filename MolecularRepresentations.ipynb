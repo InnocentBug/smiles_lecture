{
  "cells": [
    {
      "cell_type": "markdown",
      "source": [
        "# Molecular Representations\n",
        "\n",
        "Please execute the first code cell as soon as you open this Notebook.\n",
        "This installs dependencies, and prepares the Notebookd for later interactive sessions during the lecture."
      ],
      "metadata": {
        "id": "yjUA7r1kIShi"
      },
      "id": "yjUA7r1kIShi"
    },
    {
      "cell_type": "code",
      "execution_count": 11,
      "id": "f95c282a-f1aa-437b-82ed-8a93382a9b6e",
      "metadata": {
        "id": "f95c282a-f1aa-437b-82ed-8a93382a9b6e",
        "outputId": "de52f4fe-48c0-45ae-cdc8-f8f7c5e6e885",
        "colab": {
          "base_uri": "https://localhost:8080/"
        }
      },
      "outputs": [
        {
          "output_type": "stream",
          "name": "stdout",
          "text": [
            "Cloning into 'smiles_lecture'...\n",
            "remote: Enumerating objects: 18, done.\u001b[K\n",
            "remote: Counting objects: 100% (18/18), done.\u001b[K\n",
            "remote: Compressing objects: 100% (14/14), done.\u001b[K\n",
            "Receiving objects: 100% (18/18), 5.25 KiB | 5.25 MiB/s, done.\n",
            "Resolving deltas: 100% (5/5), done.\n",
            "remote: Total 18 (delta 5), reused 13 (delta 3), pack-reused 0\u001b[K\n",
            "  Installing build dependencies ... \u001b[?25l\u001b[?25hdone\n",
            "  Getting requirements to build wheel ... \u001b[?25l\u001b[?25hdone\n",
            "  Preparing metadata (pyproject.toml) ... \u001b[?25l\u001b[?25hdone\n",
            "  Preparing metadata (setup.py) ... \u001b[?25l\u001b[?25hdone\n"
          ]
        }
      ],
      "source": [
        "!rm -rf smiles_lecture\n",
        "!git clone https://github.com/InnocentBug/smiles_lecture.git\n",
        "!pip install -r smiles_lecture/requirements.txt --quiet\n"
      ]
    },
    {
      "cell_type": "code",
      "source": [
        "from smiles_lecture.util import render_svg, moltosvg\n",
        "import rdkit\n",
        "import rdkit.Chem"
      ],
      "metadata": {
        "id": "PGWVPPRtI0dY"
      },
      "id": "PGWVPPRtI0dY",
      "execution_count": 12,
      "outputs": []
    },
    {
      "cell_type": "markdown",
      "source": [
        "## SMILES\n",
        "\n",
        "This is an introduction into the SMILES line notation.\n",
        "\n",
        "Let's start with some simple alkanes, which have just a carbon backbone.\n",
        "With SMILES we can"
      ],
      "metadata": {
        "id": "mJqX95PvIpMB"
      },
      "id": "mJqX95PvIpMB"
    },
    {
      "cell_type": "code",
      "execution_count": null,
      "id": "03194f7c-e7a9-4ab1-8a19-07c938b7a3bb",
      "metadata": {
        "id": "03194f7c-e7a9-4ab1-8a19-07c938b7a3bb"
      },
      "outputs": [],
      "source": []
    }
  ],
  "metadata": {
    "kernelspec": {
      "display_name": "Python 3 (ipykernel)",
      "language": "python",
      "name": "python3"
    },
    "language_info": {
      "codemirror_mode": {
        "name": "ipython",
        "version": 3
      },
      "file_extension": ".py",
      "mimetype": "text/x-python",
      "name": "python",
      "nbconvert_exporter": "python",
      "pygments_lexer": "ipython3",
      "version": "3.11.2"
    },
    "colab": {
      "provenance": []
    }
  },
  "nbformat": 4,
  "nbformat_minor": 5
}