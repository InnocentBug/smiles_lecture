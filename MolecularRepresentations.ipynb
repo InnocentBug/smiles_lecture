{
 "cells": [
  {
   "cell_type": "markdown",
   "id": "yjUA7r1kIShi",
   "metadata": {
    "id": "yjUA7r1kIShi"
   },
   "source": [
    "# Molecular Representations\n",
    "\n",
    "Please execute the first code cell as soon as you open this Notebook.\n",
    "This installs dependencies, and prepares the Notebookd for later interactive sessions during the lecture."
   ]
  },
  {
   "cell_type": "code",
   "execution_count": 1,
   "id": "f95c282a-f1aa-437b-82ed-8a93382a9b6e",
   "metadata": {
    "colab": {
     "base_uri": "https://localhost:8080/"
    },
    "id": "f95c282a-f1aa-437b-82ed-8a93382a9b6e",
    "outputId": "e0b04222-0261-4f66-cd08-05ea85d26a92"
   },
   "outputs": [
    {
     "output_type": "stream",
     "name": "stdout",
     "text": [
      "Cloning into 'smiles_lecture'...\n",
      "remote: Enumerating objects: 57, done.\u001b[K\n",
      "remote: Counting objects: 100% (57/57), done.\u001b[K\n",
      "remote: Compressing objects: 100% (41/41), done.\u001b[K\n",
      "remote: Total 57 (delta 25), reused 43 (delta 14), pack-reused 0\u001b[K\n",
      "Receiving objects: 100% (57/57), 82.82 KiB | 1.45 MiB/s, done.\n",
      "Resolving deltas: 100% (25/25), done.\n",
      "  Installing build dependencies ... \u001b[?25l\u001b[?25hdone\n",
      "  Getting requirements to build wheel ... \u001b[?25l\u001b[?25hdone\n",
      "  Preparing metadata (pyproject.toml) ... \u001b[?25l\u001b[?25hdone\n",
      "  Preparing metadata (setup.py) ... \u001b[?25l\u001b[?25hdone\n",
      "\u001b[2K     \u001b[90m━━━━━━━━━━━━━━━━━━━━━━━━━━━━━━━━━━━━━━━━\u001b[0m \u001b[32m34.4/34.4 MB\u001b[0m \u001b[31m9.0 MB/s\u001b[0m eta \u001b[36m0:00:00\u001b[0m\n",
      "\u001b[?25h  Building wheel for bigsmiles_gen (pyproject.toml) ... \u001b[?25l\u001b[?25hdone\n",
      "  Building wheel for selfies (setup.py) ... \u001b[?25l\u001b[?25hdone\n"
     ]
    }
   ],
   "source": [
    "!rm -rf smiles_lecture\n",
    "!git clone https://github.com/InnocentBug/smiles_lecture.git\n",
    "!pip install -r smiles_lecture/requirements.txt --quiet\n",
    "!cp smiles_lecture/util.py ./\n",
    "\n",
    "import rdkit\n",
    "import rdkit.Chem"
   ]
  },
  {
   "cell_type": "code",
   "execution_count": 2,
   "id": "PGWVPPRtI0dY",
   "metadata": {
    "id": "PGWVPPRtI0dY"
   },
   "outputs": [],
   "source": [
    "from util import get_iupac_name, render_mol"
   ]
  },
  {
   "cell_type": "markdown",
   "id": "mJqX95PvIpMB",
   "metadata": {
    "id": "mJqX95PvIpMB"
   },
   "source": [
    "## SMILES\n",
    "\n",
    "This is an introduction into the SMILES line notation.\n",
    "\n",
    "### Simple linear organic molecules\n",
    "\n",
    "Let's start with some simple alkanes, which have just a carbon backbone.\n",
    "With SMILES we can omit the hydrogens and write carbon simply as `C`."
   ]
  },
  {
   "cell_type": "code",
   "execution_count": 3,
   "id": "03194f7c-e7a9-4ab1-8a19-07c938b7a3bb",
   "metadata": {
    "colab": {
     "base_uri": "https://localhost:8080/",
     "height": 188
    },
    "id": "03194f7c-e7a9-4ab1-8a19-07c938b7a3bb",
    "outputId": "ffca6668-434d-4a32-bf07-fba67cf266be"
   },
   "outputs": [
    {
     "output_type": "stream",
     "name": "stdout",
     "text": [
      "methane C\n"
     ]
    },
    {
     "output_type": "execute_result",
     "data": {
      "text/plain": [
       "<IPython.core.display.SVG object>"
      ],
      "image/svg+xml": "<svg xmlns=\"http://www.w3.org/2000/svg\" xmlns:rdkit=\"http://www.rdkit.org/xml\" xmlns:xlink=\"http://www.w3.org/1999/xlink\" version=\"1.1\" baseProfile=\"full\" xml:space=\"preserve\" width=\"450px\" height=\"150px\" viewBox=\"0 0 450 150\">\n<!-- END OF HEADER -->\n<rect style=\"opacity:1.0;fill:#FFFFFF;stroke:none\" width=\"450.0\" height=\"150.0\" x=\"0.0\" y=\"0.0\"> </rect>\n<path class=\"atom-0\" d=\"M 191.1 68.0 Q 191.1 61.0, 194.4 57.3 Q 197.7 53.6, 204.0 53.6 Q 209.8 53.6, 213.0 57.7 L 210.3 59.9 Q 208.0 56.9, 204.0 56.9 Q 199.7 56.9, 197.4 59.8 Q 195.2 62.6, 195.2 68.0 Q 195.2 73.6, 197.5 76.5 Q 199.9 79.4, 204.4 79.4 Q 207.6 79.4, 211.2 77.5 L 212.3 80.5 Q 210.8 81.5, 208.6 82.0 Q 206.4 82.6, 203.9 82.6 Q 197.7 82.6, 194.4 78.8 Q 191.1 75.1, 191.1 68.0 \" fill=\"#000000\"/>\n<path class=\"atom-0\" d=\"M 216.7 53.9 L 220.6 53.9 L 220.6 66.0 L 235.1 66.0 L 235.1 53.9 L 238.9 53.9 L 238.9 82.2 L 235.1 82.2 L 235.1 69.2 L 220.6 69.2 L 220.6 82.2 L 216.7 82.2 L 216.7 53.9 \" fill=\"#000000\"/>\n<path class=\"atom-0\" d=\"M 256.6 90.0 L 258.9 90.0 L 258.9 92.1 L 256.6 92.1 L 256.6 96.4 L 254.2 96.4 L 254.2 92.1 L 244.5 92.1 L 244.5 90.4 L 252.7 77.7 L 256.6 77.7 L 256.6 90.0 M 247.6 90.0 L 254.2 90.0 L 254.2 79.4 L 247.6 90.0 \" fill=\"#000000\"/>\n</svg>"
     },
     "metadata": {},
     "execution_count": 3
    }
   ],
   "source": [
    "smiles = \"C\"\n",
    "print(get_iupac_name(smiles), smiles)\n",
    "mol = rdkit.Chem.MolFromSmiles(smiles)\n",
    "render_mol(mol)"
   ]
  },
  {
   "cell_type": "code",
   "execution_count": 4,
   "id": "HYCnxaCuKRgO",
   "metadata": {
    "colab": {
     "base_uri": "https://localhost:8080/",
     "height": 188
    },
    "id": "HYCnxaCuKRgO",
    "outputId": "a9734cb4-47c7-4f03-9f93-4d3f4ff3d7e4"
   },
   "outputs": [
    {
     "output_type": "stream",
     "name": "stdout",
     "text": [
      "PROPANE CCC\n"
     ]
    },
    {
     "output_type": "execute_result",
     "data": {
      "text/plain": [
       "<IPython.core.display.SVG object>"
      ],
      "image/svg+xml": "<svg xmlns=\"http://www.w3.org/2000/svg\" xmlns:rdkit=\"http://www.rdkit.org/xml\" xmlns:xlink=\"http://www.w3.org/1999/xlink\" version=\"1.1\" baseProfile=\"full\" xml:space=\"preserve\" width=\"450px\" height=\"150px\" viewBox=\"0 0 450 150\">\n<!-- END OF HEADER -->\n<rect style=\"opacity:1.0;fill:#FFFFFF;stroke:none\" width=\"450.0\" height=\"150.0\" x=\"0.0\" y=\"0.0\"> </rect>\n<path class=\"bond-0 atom-0 atom-1\" d=\"M 22.5,133.5 L 225.0,16.5\" style=\"fill:none;fill-rule:evenodd;stroke:#000000;stroke-width:2.0px;stroke-linecap:butt;stroke-linejoin:miter;stroke-opacity:1\"/>\n<path class=\"bond-1 atom-1 atom-2\" d=\"M 225.0,16.5 L 427.5,133.5\" style=\"fill:none;fill-rule:evenodd;stroke:#000000;stroke-width:2.0px;stroke-linecap:butt;stroke-linejoin:miter;stroke-opacity:1\"/>\n<path d=\"M 214.9,22.4 L 225.0,16.5 L 235.1,22.4\" style=\"fill:none;stroke:#000000;stroke-width:2.0px;stroke-linecap:butt;stroke-linejoin:miter;stroke-opacity:1;\"/>\n</svg>"
     },
     "metadata": {},
     "execution_count": 4
    }
   ],
   "source": [
    "smiles = \"CCC\"\n",
    "print(get_iupac_name(smiles), smiles)\n",
    "mol = rdkit.Chem.MolFromSmiles(smiles)\n",
    "render_mol(mol)"
   ]
  },
  {
   "cell_type": "code",
   "execution_count": 5,
   "id": "IdGSwWj-KhMm",
   "metadata": {
    "colab": {
     "base_uri": "https://localhost:8080/",
     "height": 188
    },
    "id": "IdGSwWj-KhMm",
    "outputId": "f7963ec9-afda-4ba1-a42c-71b351289770"
   },
   "outputs": [
    {
     "output_type": "stream",
     "name": "stdout",
     "text": [
      "Hexane CCCCCC\n"
     ]
    },
    {
     "output_type": "execute_result",
     "data": {
      "text/plain": [
       "<IPython.core.display.SVG object>"
      ],
      "image/svg+xml": "<svg xmlns=\"http://www.w3.org/2000/svg\" xmlns:rdkit=\"http://www.rdkit.org/xml\" xmlns:xlink=\"http://www.w3.org/1999/xlink\" version=\"1.1\" baseProfile=\"full\" xml:space=\"preserve\" width=\"450px\" height=\"150px\" viewBox=\"0 0 450 150\">\n<!-- END OF HEADER -->\n<rect style=\"opacity:1.0;fill:#FFFFFF;stroke:none\" width=\"450.0\" height=\"150.0\" x=\"0.0\" y=\"0.0\"> </rect>\n<path class=\"bond-0 atom-0 atom-1\" d=\"M 22.5,88.0 L 105.4,45.6\" style=\"fill:none;fill-rule:evenodd;stroke:#000000;stroke-width:2.0px;stroke-linecap:butt;stroke-linejoin:miter;stroke-opacity:1\"/>\n<path class=\"bond-1 atom-1 atom-2\" d=\"M 105.4,45.6 L 183.6,96.2\" style=\"fill:none;fill-rule:evenodd;stroke:#000000;stroke-width:2.0px;stroke-linecap:butt;stroke-linejoin:miter;stroke-opacity:1\"/>\n<path class=\"bond-2 atom-2 atom-3\" d=\"M 183.6,96.2 L 266.4,53.8\" style=\"fill:none;fill-rule:evenodd;stroke:#000000;stroke-width:2.0px;stroke-linecap:butt;stroke-linejoin:miter;stroke-opacity:1\"/>\n<path class=\"bond-3 atom-3 atom-4\" d=\"M 266.4,53.8 L 344.6,104.4\" style=\"fill:none;fill-rule:evenodd;stroke:#000000;stroke-width:2.0px;stroke-linecap:butt;stroke-linejoin:miter;stroke-opacity:1\"/>\n<path class=\"bond-4 atom-4 atom-5\" d=\"M 344.6,104.4 L 427.5,62.0\" style=\"fill:none;fill-rule:evenodd;stroke:#000000;stroke-width:2.0px;stroke-linecap:butt;stroke-linejoin:miter;stroke-opacity:1\"/>\n<path d=\"M 101.2,47.7 L 105.4,45.6 L 109.3,48.1\" style=\"fill:none;stroke:#000000;stroke-width:2.0px;stroke-linecap:butt;stroke-linejoin:miter;stroke-opacity:1;\"/>\n<path d=\"M 179.6,93.7 L 183.6,96.2 L 187.7,94.1\" style=\"fill:none;stroke:#000000;stroke-width:2.0px;stroke-linecap:butt;stroke-linejoin:miter;stroke-opacity:1;\"/>\n<path d=\"M 262.3,55.9 L 266.4,53.8 L 270.4,56.3\" style=\"fill:none;stroke:#000000;stroke-width:2.0px;stroke-linecap:butt;stroke-linejoin:miter;stroke-opacity:1;\"/>\n<path d=\"M 340.7,101.9 L 344.6,104.4 L 348.8,102.3\" style=\"fill:none;stroke:#000000;stroke-width:2.0px;stroke-linecap:butt;stroke-linejoin:miter;stroke-opacity:1;\"/>\n</svg>"
     },
     "metadata": {},
     "execution_count": 5
    }
   ],
   "source": [
    "smiles = \"CCCCCC\"\n",
    "print(get_iupac_name(smiles), smiles)\n",
    "mol = rdkit.Chem.MolFromSmiles(smiles)\n",
    "render_mol(mol)"
   ]
  },
  {
   "cell_type": "markdown",
   "id": "zD8NMYA2Kmfd",
   "metadata": {
    "id": "zD8NMYA2Kmfd"
   },
   "source": [
    "Similarly, we can use any of the organic subset as letter: `B, C, N, O, P, S, F, Cl, Br, I`\n",
    "\n",
    "This can create some more interesting molecules."
   ]
  },
  {
   "cell_type": "code",
   "execution_count": 6,
   "id": "s-VmvmAnK661",
   "metadata": {
    "colab": {
     "base_uri": "https://localhost:8080/",
     "height": 188
    },
    "id": "s-VmvmAnK661",
    "outputId": "f9416509-7db0-40cd-b88e-dbc7dbe4b2f0"
   },
   "outputs": [
    {
     "output_type": "stream",
     "name": "stdout",
     "text": [
      "Propane-1,3-diol OCCCO\n"
     ]
    },
    {
     "output_type": "execute_result",
     "data": {
      "text/plain": [
       "<IPython.core.display.SVG object>"
      ],
      "image/svg+xml": "<svg xmlns=\"http://www.w3.org/2000/svg\" xmlns:rdkit=\"http://www.rdkit.org/xml\" xmlns:xlink=\"http://www.w3.org/1999/xlink\" version=\"1.1\" baseProfile=\"full\" xml:space=\"preserve\" width=\"450px\" height=\"150px\" viewBox=\"0 0 450 150\">\n<!-- END OF HEADER -->\n<rect style=\"opacity:1.0;fill:#FFFFFF;stroke:none\" width=\"450.0\" height=\"150.0\" x=\"0.0\" y=\"0.0\"> </rect>\n<path class=\"bond-0 atom-0 atom-1\" d=\"M 76.8,67.0 L 110.2,86.3\" style=\"fill:none;fill-rule:evenodd;stroke:#FF0000;stroke-width:2.0px;stroke-linecap:butt;stroke-linejoin:miter;stroke-opacity:1\"/>\n<path class=\"bond-0 atom-0 atom-1\" d=\"M 110.2,86.3 L 143.5,105.5\" style=\"fill:none;fill-rule:evenodd;stroke:#000000;stroke-width:2.0px;stroke-linecap:butt;stroke-linejoin:miter;stroke-opacity:1\"/>\n<path class=\"bond-1 atom-1 atom-2\" d=\"M 143.5,105.5 L 225.7,58.1\" style=\"fill:none;fill-rule:evenodd;stroke:#000000;stroke-width:2.0px;stroke-linecap:butt;stroke-linejoin:miter;stroke-opacity:1\"/>\n<path class=\"bond-2 atom-2 atom-3\" d=\"M 225.7,58.1 L 307.8,105.5\" style=\"fill:none;fill-rule:evenodd;stroke:#000000;stroke-width:2.0px;stroke-linecap:butt;stroke-linejoin:miter;stroke-opacity:1\"/>\n<path class=\"bond-3 atom-3 atom-4\" d=\"M 307.8,105.5 L 341.2,86.3\" style=\"fill:none;fill-rule:evenodd;stroke:#000000;stroke-width:2.0px;stroke-linecap:butt;stroke-linejoin:miter;stroke-opacity:1\"/>\n<path class=\"bond-3 atom-3 atom-4\" d=\"M 341.2,86.3 L 374.5,67.0\" style=\"fill:none;fill-rule:evenodd;stroke:#FF0000;stroke-width:2.0px;stroke-linecap:butt;stroke-linejoin:miter;stroke-opacity:1\"/>\n<path d=\"M 141.8,104.5 L 143.5,105.5 L 147.6,103.1\" style=\"fill:none;stroke:#000000;stroke-width:2.0px;stroke-linecap:butt;stroke-linejoin:miter;stroke-opacity:1;\"/>\n<path d=\"M 221.6,60.4 L 225.7,58.1 L 229.8,60.4\" style=\"fill:none;stroke:#000000;stroke-width:2.0px;stroke-linecap:butt;stroke-linejoin:miter;stroke-opacity:1;\"/>\n<path d=\"M 303.7,103.1 L 307.8,105.5 L 309.5,104.5\" style=\"fill:none;stroke:#000000;stroke-width:2.0px;stroke-linecap:butt;stroke-linejoin:miter;stroke-opacity:1;\"/>\n<path class=\"atom-0\" d=\"M 22.5 44.8 L 26.1 44.8 L 26.1 56.2 L 39.9 56.2 L 39.9 44.8 L 43.5 44.8 L 43.5 71.7 L 39.9 71.7 L 39.9 59.3 L 26.1 59.3 L 26.1 71.7 L 22.5 71.7 L 22.5 44.8 \" fill=\"#FF0000\"/>\n<path class=\"atom-0\" d=\"M 49.0 58.2 Q 49.0 51.7, 52.2 48.1 Q 55.4 44.5, 61.4 44.5 Q 67.3 44.5, 70.5 48.1 Q 73.7 51.7, 73.7 58.2 Q 73.7 64.7, 70.5 68.4 Q 67.2 72.1, 61.4 72.1 Q 55.4 72.1, 52.2 68.4 Q 49.0 64.7, 49.0 58.2 M 61.4 69.0 Q 65.5 69.0, 67.7 66.3 Q 69.9 63.5, 69.9 58.2 Q 69.9 52.9, 67.7 50.2 Q 65.5 47.5, 61.4 47.5 Q 57.3 47.5, 55.0 50.2 Q 52.8 52.8, 52.8 58.2 Q 52.8 63.6, 55.0 66.3 Q 57.3 69.0, 61.4 69.0 \" fill=\"#FF0000\"/>\n<path class=\"atom-4\" d=\"M 377.6 58.2 Q 377.6 51.7, 380.8 48.1 Q 384.0 44.5, 390.0 44.5 Q 395.9 44.5, 399.1 48.1 Q 402.3 51.7, 402.3 58.2 Q 402.3 64.7, 399.1 68.4 Q 395.8 72.1, 390.0 72.1 Q 384.0 72.1, 380.8 68.4 Q 377.6 64.7, 377.6 58.2 M 390.0 69.0 Q 394.1 69.0, 396.3 66.3 Q 398.5 63.5, 398.5 58.2 Q 398.5 52.9, 396.3 50.2 Q 394.1 47.5, 390.0 47.5 Q 385.9 47.5, 383.6 50.2 Q 381.4 52.8, 381.4 58.2 Q 381.4 63.6, 383.6 66.3 Q 385.9 69.0, 390.0 69.0 \" fill=\"#FF0000\"/>\n<path class=\"atom-4\" d=\"M 406.5 44.8 L 410.1 44.8 L 410.1 56.2 L 423.9 56.2 L 423.9 44.8 L 427.5 44.8 L 427.5 71.7 L 423.9 71.7 L 423.9 59.3 L 410.1 59.3 L 410.1 71.7 L 406.5 71.7 L 406.5 44.8 \" fill=\"#FF0000\"/>\n</svg>"
     },
     "metadata": {},
     "execution_count": 6
    }
   ],
   "source": [
    "smiles = \"OCCCO\"\n",
    "print(get_iupac_name(smiles), smiles)\n",
    "mol = rdkit.Chem.MolFromSmiles(smiles)\n",
    "render_mol(mol)"
   ]
  },
  {
   "cell_type": "code",
   "execution_count": 7,
   "id": "3_IXyhwNLJs_",
   "metadata": {
    "colab": {
     "base_uri": "https://localhost:8080/",
     "height": 188
    },
    "id": "3_IXyhwNLJs_",
    "outputId": "350f81b4-6844-46b3-a490-98714ef30b36"
   },
   "outputs": [
    {
     "output_type": "stream",
     "name": "stdout",
     "text": [
      "Ethanamine CCN\n"
     ]
    },
    {
     "output_type": "execute_result",
     "data": {
      "text/plain": [
       "<IPython.core.display.SVG object>"
      ],
      "image/svg+xml": "<svg xmlns=\"http://www.w3.org/2000/svg\" xmlns:rdkit=\"http://www.rdkit.org/xml\" xmlns:xlink=\"http://www.w3.org/1999/xlink\" version=\"1.1\" baseProfile=\"full\" xml:space=\"preserve\" width=\"450px\" height=\"150px\" viewBox=\"0 0 450 150\">\n<!-- END OF HEADER -->\n<rect style=\"opacity:1.0;fill:#FFFFFF;stroke:none\" width=\"450.0\" height=\"150.0\" x=\"0.0\" y=\"0.0\"> </rect>\n<path class=\"bond-0 atom-0 atom-1\" d=\"M 47.5,103.9 L 196.8,17.7\" style=\"fill:none;fill-rule:evenodd;stroke:#000000;stroke-width:2.0px;stroke-linecap:butt;stroke-linejoin:miter;stroke-opacity:1\"/>\n<path class=\"bond-1 atom-1 atom-2\" d=\"M 196.8,17.7 L 263.2,56.1\" style=\"fill:none;fill-rule:evenodd;stroke:#000000;stroke-width:2.0px;stroke-linecap:butt;stroke-linejoin:miter;stroke-opacity:1\"/>\n<path class=\"bond-1 atom-1 atom-2\" d=\"M 263.2,56.1 L 329.7,94.4\" style=\"fill:none;fill-rule:evenodd;stroke:#0000FF;stroke-width:2.0px;stroke-linecap:butt;stroke-linejoin:miter;stroke-opacity:1\"/>\n<path d=\"M 189.3,22.1 L 196.8,17.7 L 200.1,19.7\" style=\"fill:none;stroke:#000000;stroke-width:2.0px;stroke-linecap:butt;stroke-linejoin:miter;stroke-opacity:1;\"/>\n<path class=\"atom-2\" d=\"M 339.8 89.8 L 349.1 104.8 Q 350.0 106.3, 351.5 108.9 Q 353.0 111.6, 353.1 111.8 L 353.1 89.8 L 356.8 89.8 L 356.8 118.1 L 352.9 118.1 L 343.0 101.7 Q 341.8 99.8, 340.6 97.6 Q 339.4 95.4, 339.0 94.7 L 339.0 118.1 L 335.3 118.1 L 335.3 89.8 L 339.8 89.8 \" fill=\"#0000FF\"/>\n<path class=\"atom-2\" d=\"M 362.2 89.8 L 366.1 89.8 L 366.1 101.8 L 380.6 101.8 L 380.6 89.8 L 384.4 89.8 L 384.4 118.1 L 380.6 118.1 L 380.6 105.0 L 366.1 105.0 L 366.1 118.1 L 362.2 118.1 L 362.2 89.8 \" fill=\"#0000FF\"/>\n<path class=\"atom-2\" d=\"M 389.9 117.1 Q 390.6 115.3, 392.3 114.4 Q 393.9 113.4, 396.2 113.4 Q 399.0 113.4, 400.6 114.9 Q 402.2 116.4, 402.2 119.1 Q 402.2 121.9, 400.1 124.5 Q 398.1 127.1, 393.8 130.1 L 402.5 130.1 L 402.5 132.3 L 389.9 132.3 L 389.9 130.5 Q 393.4 128.0, 395.4 126.2 Q 397.5 124.3, 398.5 122.6 Q 399.5 121.0, 399.5 119.3 Q 399.5 117.5, 398.6 116.5 Q 397.7 115.5, 396.2 115.5 Q 394.7 115.5, 393.7 116.1 Q 392.7 116.7, 391.9 118.0 L 389.9 117.1 \" fill=\"#0000FF\"/>\n</svg>"
     },
     "metadata": {},
     "execution_count": 7
    }
   ],
   "source": [
    "smiles = \"CCN\"\n",
    "print(get_iupac_name(smiles), smiles)\n",
    "mol = rdkit.Chem.MolFromSmiles(smiles)\n",
    "render_mol(mol)"
   ]
  },
  {
   "cell_type": "markdown",
   "id": "DD0ZZFweLbMV",
   "metadata": {
    "id": "DD0ZZFweLbMV"
   },
   "source": [
    "### More complicated atoms\n",
    "\n",
    "All other atoms have to be enclosed in square brackets:"
   ]
  },
  {
   "cell_type": "code",
   "execution_count": 8,
   "id": "HqImHnaFLo1y",
   "metadata": {
    "colab": {
     "base_uri": "https://localhost:8080/",
     "height": 188
    },
    "id": "HqImHnaFLo1y",
    "outputId": "dd3cc32c-fe18-4e16-b275-a08444f592e7"
   },
   "outputs": [
    {
     "output_type": "stream",
     "name": "stdout",
     "text": [
      "Sodium [Na]\n"
     ]
    },
    {
     "output_type": "execute_result",
     "data": {
      "text/plain": [
       "<IPython.core.display.SVG object>"
      ],
      "image/svg+xml": "<svg xmlns=\"http://www.w3.org/2000/svg\" xmlns:rdkit=\"http://www.rdkit.org/xml\" xmlns:xlink=\"http://www.w3.org/1999/xlink\" version=\"1.1\" baseProfile=\"full\" xml:space=\"preserve\" width=\"450px\" height=\"150px\" viewBox=\"0 0 450 150\">\n<!-- END OF HEADER -->\n<rect style=\"opacity:1.0;fill:#FFFFFF;stroke:none\" width=\"450.0\" height=\"150.0\" x=\"0.0\" y=\"0.0\"> </rect>\n<path class=\"atom-0\" d=\"M 203.9 60.6 L 213.2 75.6 Q 214.1 77.1, 215.6 79.8 Q 217.1 82.4, 217.2 82.6 L 217.2 60.6 L 220.9 60.6 L 220.9 88.9 L 217.0 88.9 L 207.1 72.5 Q 205.9 70.6, 204.7 68.4 Q 203.5 66.2, 203.1 65.5 L 203.1 88.9 L 199.4 88.9 L 199.4 60.6 L 203.9 60.6 \" fill=\"#000000\"/>\n<path class=\"atom-0\" d=\"M 226.2 83.4 Q 226.2 80.1, 228.8 78.3 Q 231.4 76.5, 236.3 76.5 L 239.3 76.5 L 239.3 75.7 Q 239.3 73.1, 238.2 72.0 Q 237.2 71.0, 234.6 71.0 Q 233.0 71.0, 231.7 71.3 Q 230.4 71.6, 228.4 72.4 L 227.3 69.8 Q 231.1 68.0, 234.7 68.0 Q 239.1 68.0, 241.1 69.9 Q 243.1 71.7, 243.1 75.8 L 243.1 88.9 L 240.2 88.9 Q 240.1 88.8, 240.0 88.2 Q 239.9 87.5, 239.6 86.5 Q 236.8 89.4, 232.9 89.4 Q 229.8 89.4, 228.0 87.8 Q 226.2 86.1, 226.2 83.4 M 229.9 83.3 Q 229.9 84.8, 230.9 85.6 Q 231.8 86.4, 233.6 86.4 Q 235.2 86.4, 236.8 85.7 Q 238.3 85.0, 239.3 83.7 L 239.3 79.3 L 236.5 79.3 Q 233.2 79.3, 231.6 80.3 Q 229.9 81.3, 229.9 83.3 \" fill=\"#000000\"/>\n<path class=\"atom-0\" d=\"M 251.1,74.8 L 251.1,74.9 L 251.0,75.1 L 251.0,75.3 L 251.0,75.4 L 250.9,75.6 L 250.8,75.7 L 250.7,75.9 L 250.6,76.0 L 250.5,76.2 L 250.4,76.3 L 250.2,76.4 L 250.1,76.5 L 249.9,76.6 L 249.8,76.6 L 249.6,76.7 L 249.5,76.7 L 249.3,76.7 L 249.1,76.8 L 248.9,76.8 L 248.8,76.7 L 248.6,76.7 L 248.4,76.7 L 248.3,76.6 L 248.1,76.5 L 248.0,76.4 L 247.8,76.3 L 247.7,76.2 L 247.6,76.1 L 247.5,76.0 L 247.4,75.8 L 247.3,75.7 L 247.2,75.5 L 247.2,75.4 L 247.1,75.2 L 247.1,75.0 L 247.1,74.8 L 247.1,74.7 L 247.1,74.5 L 247.1,74.3 L 247.2,74.2 L 247.2,74.0 L 247.3,73.8 L 247.4,73.7 L 247.5,73.6 L 247.6,73.4 L 247.7,73.3 L 247.8,73.2 L 248.0,73.1 L 248.1,73.0 L 248.3,72.9 L 248.4,72.9 L 248.6,72.8 L 248.8,72.8 L 248.9,72.8 L 249.1,72.8 L 249.3,72.8 L 249.5,72.8 L 249.6,72.8 L 249.8,72.9 L 249.9,73.0 L 250.1,73.0 L 250.2,73.1 L 250.4,73.2 L 250.5,73.4 L 250.6,73.5 L 250.7,73.6 L 250.8,73.8 L 250.9,73.9 L 251.0,74.1 L 251.0,74.2 L 251.0,74.4 L 251.1,74.6 L 251.1,74.8 L 249.1,74.8 Z\" style=\"fill:#000000;fill-rule:evenodd;fill-opacity:1;stroke:#000000;stroke-width:0.0px;stroke-linecap:butt;stroke-linejoin:miter;stroke-opacity:1;\"/>\n</svg>"
     },
     "metadata": {},
     "execution_count": 8
    }
   ],
   "source": [
    "smiles = \"[Na]\"\n",
    "print(get_iupac_name(smiles), smiles)\n",
    "mol = rdkit.Chem.MolFromSmiles(smiles)\n",
    "render_mol(mol)"
   ]
  },
  {
   "cell_type": "markdown",
   "id": "FEJuSeKiLvxU",
   "metadata": {
    "id": "FEJuSeKiLvxU"
   },
   "source": [
    "Charged atoms append the charge as `+` or `-` at the end inside the square brackets."
   ]
  },
  {
   "cell_type": "code",
   "execution_count": 9,
   "id": "ozZjTJs2MFgM",
   "metadata": {
    "colab": {
     "base_uri": "https://localhost:8080/",
     "height": 188
    },
    "id": "ozZjTJs2MFgM",
    "outputId": "51fa667c-53da-4568-89d0-9ce8dff5e6f3"
   },
   "outputs": [
    {
     "output_type": "stream",
     "name": "stdout",
     "text": [
      "sodium(+1) cation [Na+]\n"
     ]
    },
    {
     "output_type": "execute_result",
     "data": {
      "text/plain": [
       "<IPython.core.display.SVG object>"
      ],
      "image/svg+xml": "<svg xmlns=\"http://www.w3.org/2000/svg\" xmlns:rdkit=\"http://www.rdkit.org/xml\" xmlns:xlink=\"http://www.w3.org/1999/xlink\" version=\"1.1\" baseProfile=\"full\" xml:space=\"preserve\" width=\"450px\" height=\"150px\" viewBox=\"0 0 450 150\">\n<!-- END OF HEADER -->\n<rect style=\"opacity:1.0;fill:#FFFFFF;stroke:none\" width=\"450.0\" height=\"150.0\" x=\"0.0\" y=\"0.0\"> </rect>\n<path class=\"atom-0\" d=\"M 199.0 60.6 L 208.3 75.6 Q 209.2 77.1, 210.7 79.8 Q 212.2 82.4, 212.3 82.6 L 212.3 60.6 L 216.0 60.6 L 216.0 88.9 L 212.1 88.9 L 202.2 72.5 Q 201.0 70.6, 199.8 68.4 Q 198.6 66.2, 198.2 65.5 L 198.2 88.9 L 194.5 88.9 L 194.5 60.6 L 199.0 60.6 \" fill=\"#000000\"/>\n<path class=\"atom-0\" d=\"M 221.2 83.4 Q 221.2 80.1, 223.9 78.3 Q 226.5 76.5, 231.4 76.5 L 234.4 76.5 L 234.4 75.7 Q 234.4 73.1, 233.3 72.0 Q 232.3 71.0, 229.7 71.0 Q 228.1 71.0, 226.8 71.3 Q 225.5 71.6, 223.5 72.4 L 222.4 69.8 Q 226.2 68.0, 229.8 68.0 Q 234.2 68.0, 236.2 69.9 Q 238.2 71.7, 238.2 75.8 L 238.2 88.9 L 235.2 88.9 Q 235.2 88.8, 235.1 88.2 Q 235.0 87.5, 234.7 86.5 Q 231.8 89.4, 228.0 89.4 Q 224.9 89.4, 223.1 87.8 Q 221.2 86.1, 221.2 83.4 M 225.0 83.3 Q 225.0 84.8, 226.0 85.6 Q 226.9 86.4, 228.7 86.4 Q 230.3 86.4, 231.8 85.7 Q 233.4 85.0, 234.4 83.7 L 234.4 79.3 L 231.6 79.3 Q 228.3 79.3, 226.6 80.3 Q 225.0 81.3, 225.0 83.3 \" fill=\"#000000\"/>\n<path class=\"atom-0\" d=\"M 243.1 69.2 L 248.1 69.2 L 248.1 63.9 L 250.3 63.9 L 250.3 69.2 L 255.5 69.2 L 255.5 71.1 L 250.3 71.1 L 250.3 76.3 L 248.1 76.3 L 248.1 71.1 L 243.1 71.1 L 243.1 69.2 \" fill=\"#000000\"/>\n</svg>"
     },
     "metadata": {},
     "execution_count": 9
    }
   ],
   "source": [
    "smiles = \"[Na+]\"\n",
    "print(get_iupac_name(smiles), smiles)\n",
    "mol = rdkit.Chem.MolFromSmiles(smiles)\n",
    "render_mol(mol)"
   ]
  },
  {
   "cell_type": "code",
   "execution_count": 10,
   "id": "3QEidKqyMQMj",
   "metadata": {
    "colab": {
     "base_uri": "https://localhost:8080/",
     "height": 188
    },
    "id": "3QEidKqyMQMj",
    "outputId": "b71b5ccb-269f-4119-f446-87a75ebfadbc"
   },
   "outputs": [
    {
     "output_type": "stream",
     "name": "stdout",
     "text": [
      "chloride [Cl-]\n"
     ]
    },
    {
     "output_type": "execute_result",
     "data": {
      "text/plain": [
       "<IPython.core.display.SVG object>"
      ],
      "image/svg+xml": "<svg xmlns=\"http://www.w3.org/2000/svg\" xmlns:rdkit=\"http://www.rdkit.org/xml\" xmlns:xlink=\"http://www.w3.org/1999/xlink\" version=\"1.1\" baseProfile=\"full\" xml:space=\"preserve\" width=\"450px\" height=\"150px\" viewBox=\"0 0 450 150\">\n<!-- END OF HEADER -->\n<rect style=\"opacity:1.0;fill:#FFFFFF;stroke:none\" width=\"450.0\" height=\"150.0\" x=\"0.0\" y=\"0.0\"> </rect>\n<path class=\"atom-0\" d=\"M 203.5 75.8 Q 203.5 68.8, 206.8 65.1 Q 210.1 61.4, 216.4 61.4 Q 222.3 61.4, 225.4 65.5 L 222.7 67.6 Q 220.5 64.6, 216.4 64.6 Q 212.1 64.6, 209.9 67.5 Q 207.6 70.4, 207.6 75.8 Q 207.6 81.4, 209.9 84.3 Q 212.3 87.2, 216.9 87.2 Q 220.0 87.2, 223.6 85.3 L 224.7 88.3 Q 223.3 89.2, 221.0 89.8 Q 218.8 90.4, 216.3 90.4 Q 210.1 90.4, 206.8 86.6 Q 203.5 82.8, 203.5 75.8 \" fill=\"#00CC00\"/>\n<path class=\"atom-0\" d=\"M 228.3 59.6 L 232.0 59.6 L 232.0 90.0 L 228.3 90.0 L 228.3 59.6 \" fill=\"#00CC00\"/>\n<path class=\"atom-0\" d=\"M 236.8 65.3 L 246.5 65.3 L 246.5 67.5 L 236.8 67.5 L 236.8 65.3 \" fill=\"#00CC00\"/>\n</svg>"
     },
     "metadata": {},
     "execution_count": 10
    }
   ],
   "source": [
    "smiles = \"[Cl-]\"\n",
    "print(get_iupac_name(smiles), smiles)\n",
    "mol = rdkit.Chem.MolFromSmiles(smiles)\n",
    "render_mol(mol)"
   ]
  },
  {
   "cell_type": "markdown",
   "id": "huXKfHbAMYE8",
   "metadata": {
    "id": "huXKfHbAMYE8"
   },
   "source": [
    "Hydrogens, can be explictly listed either stand alone, or explictly listed for an atom."
   ]
  },
  {
   "cell_type": "code",
   "execution_count": 11,
   "id": "-nNMsiHKMh7r",
   "metadata": {
    "colab": {
     "base_uri": "https://localhost:8080/",
     "height": 206
    },
    "id": "-nNMsiHKMh7r",
    "outputId": "7ea049a4-66b4-43d4-d1ce-9250d5e6ce5f"
   },
   "outputs": [
    {
     "output_type": "stream",
     "name": "stdout",
     "text": [
      "Hydrogen [H]\n"
     ]
    },
    {
     "output_type": "stream",
     "name": "stderr",
     "text": [
      "[21:04:54] WARNING: not removing hydrogen atom without neighbors\n"
     ]
    },
    {
     "output_type": "execute_result",
     "data": {
      "text/plain": [
       "<IPython.core.display.SVG object>"
      ],
      "image/svg+xml": "<svg xmlns=\"http://www.w3.org/2000/svg\" xmlns:rdkit=\"http://www.rdkit.org/xml\" xmlns:xlink=\"http://www.w3.org/1999/xlink\" version=\"1.1\" baseProfile=\"full\" xml:space=\"preserve\" width=\"450px\" height=\"150px\" viewBox=\"0 0 450 150\">\n<!-- END OF HEADER -->\n<rect style=\"opacity:1.0;fill:#FFFFFF;stroke:none\" width=\"450.0\" height=\"150.0\" x=\"0.0\" y=\"0.0\"> </rect>\n<path class=\"atom-0\" d=\"M 210.2 60.8 L 214.0 60.8 L 214.0 72.9 L 228.5 72.9 L 228.5 60.8 L 232.3 60.8 L 232.3 89.2 L 228.5 89.2 L 228.5 76.1 L 214.0 76.1 L 214.0 89.2 L 210.2 89.2 L 210.2 60.8 \" fill=\"#000000\"/>\n<path class=\"atom-0\" d=\"M 240.3,75.0 L 240.3,75.2 L 240.3,75.3 L 240.3,75.5 L 240.2,75.7 L 240.1,75.8 L 240.1,76.0 L 240.0,76.1 L 239.9,76.3 L 239.8,76.4 L 239.6,76.5 L 239.5,76.6 L 239.4,76.7 L 239.2,76.8 L 239.0,76.9 L 238.9,76.9 L 238.7,77.0 L 238.5,77.0 L 238.4,77.0 L 238.2,77.0 L 238.0,77.0 L 237.9,76.9 L 237.7,76.9 L 237.5,76.8 L 237.4,76.8 L 237.2,76.7 L 237.1,76.6 L 237.0,76.5 L 236.8,76.3 L 236.7,76.2 L 236.6,76.1 L 236.5,75.9 L 236.5,75.8 L 236.4,75.6 L 236.4,75.4 L 236.3,75.3 L 236.3,75.1 L 236.3,74.9 L 236.3,74.7 L 236.4,74.6 L 236.4,74.4 L 236.5,74.2 L 236.5,74.1 L 236.6,73.9 L 236.7,73.8 L 236.8,73.7 L 237.0,73.5 L 237.1,73.4 L 237.2,73.3 L 237.4,73.2 L 237.5,73.2 L 237.7,73.1 L 237.9,73.1 L 238.0,73.0 L 238.2,73.0 L 238.4,73.0 L 238.5,73.0 L 238.7,73.0 L 238.9,73.1 L 239.0,73.1 L 239.2,73.2 L 239.4,73.3 L 239.5,73.4 L 239.6,73.5 L 239.8,73.6 L 239.9,73.7 L 240.0,73.9 L 240.1,74.0 L 240.1,74.2 L 240.2,74.3 L 240.3,74.5 L 240.3,74.7 L 240.3,74.8 L 240.3,75.0 L 238.3,75.0 Z\" style=\"fill:#000000;fill-rule:evenodd;fill-opacity:1;stroke:#000000;stroke-width:0.0px;stroke-linecap:butt;stroke-linejoin:miter;stroke-opacity:1;\"/>\n</svg>"
     },
     "metadata": {},
     "execution_count": 11
    }
   ],
   "source": [
    "smiles = \"[H]\"\n",
    "print(get_iupac_name(smiles), smiles)\n",
    "mol = rdkit.Chem.MolFromSmiles(smiles)\n",
    "render_mol(mol)"
   ]
  },
  {
   "cell_type": "code",
   "execution_count": 12,
   "id": "oxJeA2NLMmZq",
   "metadata": {
    "colab": {
     "base_uri": "https://localhost:8080/",
     "height": 188
    },
    "id": "oxJeA2NLMmZq",
    "outputId": "f50d5dad-fa9f-471f-9855-ae6e87ebf6b5"
   },
   "outputs": [
    {
     "output_type": "stream",
     "name": "stdout",
     "text": [
      "Molecular hydrogen [H][H]\n"
     ]
    },
    {
     "output_type": "execute_result",
     "data": {
      "text/plain": [
       "<IPython.core.display.SVG object>"
      ],
      "image/svg+xml": "<svg xmlns=\"http://www.w3.org/2000/svg\" xmlns:rdkit=\"http://www.rdkit.org/xml\" xmlns:xlink=\"http://www.w3.org/1999/xlink\" version=\"1.1\" baseProfile=\"full\" xml:space=\"preserve\" width=\"450px\" height=\"150px\" viewBox=\"0 0 450 150\">\n<!-- END OF HEADER -->\n<rect style=\"opacity:1.0;fill:#FFFFFF;stroke:none\" width=\"450.0\" height=\"150.0\" x=\"0.0\" y=\"0.0\"> </rect>\n<path class=\"bond-0 atom-0 atom-1\" d=\"M 368.7,75.0 L 81.3,75.0\" style=\"fill:none;fill-rule:evenodd;stroke:#000000;stroke-width:2.0px;stroke-linecap:butt;stroke-linejoin:miter;stroke-opacity:1\"/>\n<path class=\"atom-0\" d=\"M 379.7 60.8 L 383.5 60.8 L 383.5 72.9 L 398.0 72.9 L 398.0 60.8 L 401.8 60.8 L 401.8 89.2 L 398.0 89.2 L 398.0 76.1 L 383.5 76.1 L 383.5 89.2 L 379.7 89.2 L 379.7 60.8 \" fill=\"#000000\"/>\n<path class=\"atom-1\" d=\"M 48.2 60.8 L 52.0 60.8 L 52.0 72.9 L 66.5 72.9 L 66.5 60.8 L 70.3 60.8 L 70.3 89.2 L 66.5 89.2 L 66.5 76.1 L 52.0 76.1 L 52.0 89.2 L 48.2 89.2 L 48.2 60.8 \" fill=\"#000000\"/>\n</svg>"
     },
     "metadata": {},
     "execution_count": 12
    }
   ],
   "source": [
    "smiles = \"[H][H]\"\n",
    "print(get_iupac_name(smiles), smiles)\n",
    "mol = rdkit.Chem.MolFromSmiles(smiles)\n",
    "render_mol(mol)"
   ]
  },
  {
   "cell_type": "code",
   "execution_count": 13,
   "id": "aAZz3UXSMvWb",
   "metadata": {
    "colab": {
     "base_uri": "https://localhost:8080/",
     "height": 206
    },
    "id": "aAZz3UXSMvWb",
    "outputId": "bc97607a-0fa0-4349-a7d6-20a3282b3f37"
   },
   "outputs": [
    {
     "output_type": "stream",
     "name": "stdout",
     "text": [
      "$l^{1}-azane\n",
      "azane [NH3]\n"
     ]
    },
    {
     "output_type": "execute_result",
     "data": {
      "text/plain": [
       "<IPython.core.display.SVG object>"
      ],
      "image/svg+xml": "<svg xmlns=\"http://www.w3.org/2000/svg\" xmlns:rdkit=\"http://www.rdkit.org/xml\" xmlns:xlink=\"http://www.w3.org/1999/xlink\" version=\"1.1\" baseProfile=\"full\" xml:space=\"preserve\" width=\"450px\" height=\"150px\" viewBox=\"0 0 450 150\">\n<!-- END OF HEADER -->\n<rect style=\"opacity:1.0;fill:#FFFFFF;stroke:none\" width=\"450.0\" height=\"150.0\" x=\"0.0\" y=\"0.0\"> </rect>\n<path class=\"atom-0\" d=\"M 195.9 53.6 L 205.2 68.6 Q 206.1 70.1, 207.6 72.8 Q 209.1 75.5, 209.2 75.6 L 209.2 53.6 L 212.9 53.6 L 212.9 81.9 L 209.0 81.9 L 199.1 65.5 Q 197.9 63.6, 196.7 61.4 Q 195.5 59.2, 195.1 58.5 L 195.1 81.9 L 191.4 81.9 L 191.4 53.6 L 195.9 53.6 \" fill=\"#0000FF\"/>\n<path class=\"atom-0\" d=\"M 218.3 53.6 L 222.2 53.6 L 222.2 65.7 L 236.7 65.7 L 236.7 53.6 L 240.5 53.6 L 240.5 81.9 L 236.7 81.9 L 236.7 68.9 L 222.2 68.9 L 222.2 81.9 L 218.3 81.9 L 218.3 53.6 \" fill=\"#0000FF\"/>\n<path class=\"atom-0\" d=\"M 255.0 86.3 Q 256.8 86.8, 257.7 88.0 Q 258.6 89.1, 258.6 91.0 Q 258.6 92.6, 257.8 93.8 Q 257.0 95.0, 255.5 95.7 Q 254.1 96.4, 252.2 96.4 Q 250.2 96.4, 248.7 95.7 Q 247.2 95.0, 246.0 93.5 L 247.5 92.0 Q 248.7 93.3, 249.6 93.8 Q 250.6 94.3, 252.2 94.3 Q 253.9 94.3, 254.9 93.4 Q 255.9 92.4, 255.9 91.0 Q 255.9 89.1, 254.8 88.2 Q 253.8 87.3, 251.5 87.3 L 250.1 87.3 L 250.1 85.4 L 251.3 85.4 Q 253.4 85.4, 254.4 84.5 Q 255.5 83.6, 255.5 82.0 Q 255.5 80.8, 254.6 80.1 Q 253.7 79.3, 252.2 79.3 Q 250.6 79.3, 249.7 79.9 Q 248.7 80.4, 248.0 81.8 L 246.1 80.8 Q 246.8 79.3, 248.4 78.3 Q 250.0 77.2, 252.2 77.2 Q 254.9 77.2, 256.5 78.5 Q 258.2 79.8, 258.2 82.0 Q 258.2 83.5, 257.3 84.6 Q 256.5 85.7, 255.0 86.3 \" fill=\"#0000FF\"/>\n</svg>"
     },
     "metadata": {},
     "execution_count": 13
    }
   ],
   "source": [
    "smiles = \"[NH3]\"\n",
    "print(get_iupac_name(smiles), smiles)\n",
    "mol = rdkit.Chem.MolFromSmiles(smiles)\n",
    "render_mol(mol)"
   ]
  },
  {
   "cell_type": "code",
   "execution_count": 14,
   "id": "7ZuaN9isNMfo",
   "metadata": {
    "colab": {
     "base_uri": "https://localhost:8080/",
     "height": 206
    },
    "id": "7ZuaN9isNMfo",
    "outputId": "db883592-7865-4ce9-a019-026d4e44818f"
   },
   "outputs": [
    {
     "output_type": "stream",
     "name": "stdout",
     "text": [
      "azanium\n",
      "nitrogen(+1) dihydride cation [NH4+]\n"
     ]
    },
    {
     "output_type": "execute_result",
     "data": {
      "text/plain": [
       "<IPython.core.display.SVG object>"
      ],
      "image/svg+xml": "<svg xmlns=\"http://www.w3.org/2000/svg\" xmlns:rdkit=\"http://www.rdkit.org/xml\" xmlns:xlink=\"http://www.w3.org/1999/xlink\" version=\"1.1\" baseProfile=\"full\" xml:space=\"preserve\" width=\"450px\" height=\"150px\" viewBox=\"0 0 450 150\">\n<!-- END OF HEADER -->\n<rect style=\"opacity:1.0;fill:#FFFFFF;stroke:none\" width=\"450.0\" height=\"150.0\" x=\"0.0\" y=\"0.0\"> </rect>\n<path class=\"atom-0\" d=\"M 195.0 53.8 L 204.3 68.8 Q 205.2 70.3, 206.7 73.0 Q 208.2 75.7, 208.2 75.8 L 208.2 53.8 L 212.0 53.8 L 212.0 82.2 L 208.1 82.2 L 198.2 65.8 Q 197.0 63.8, 195.8 61.6 Q 194.6 59.4, 194.2 58.8 L 194.2 82.2 L 190.5 82.2 L 190.5 53.8 L 195.0 53.8 \" fill=\"#0000FF\"/>\n<path class=\"atom-0\" d=\"M 217.4 53.8 L 221.3 53.8 L 221.3 65.9 L 235.7 65.9 L 235.7 53.8 L 239.6 53.8 L 239.6 82.2 L 235.7 82.2 L 235.7 69.1 L 221.3 69.1 L 221.3 82.2 L 217.4 82.2 L 217.4 53.8 \" fill=\"#0000FF\"/>\n<path class=\"atom-0\" d=\"M 257.2 89.9 L 259.5 89.9 L 259.5 92.0 L 257.2 92.0 L 257.2 96.3 L 254.8 96.3 L 254.8 92.0 L 245.1 92.0 L 245.1 90.3 L 253.3 77.6 L 257.2 77.6 L 257.2 89.9 M 248.2 89.9 L 254.8 89.9 L 254.8 79.3 L 248.2 89.9 \" fill=\"#0000FF\"/>\n<path class=\"atom-0\" d=\"M 246.1 58.9 L 251.1 58.9 L 251.1 53.7 L 253.3 53.7 L 253.3 58.9 L 258.4 58.9 L 258.4 60.8 L 253.3 60.8 L 253.3 66.1 L 251.1 66.1 L 251.1 60.8 L 246.1 60.8 L 246.1 58.9 \" fill=\"#0000FF\"/>\n</svg>"
     },
     "metadata": {},
     "execution_count": 14
    }
   ],
   "source": [
    "smiles = \"[NH4+]\"\n",
    "print(get_iupac_name(smiles), smiles)\n",
    "mol = rdkit.Chem.MolFromSmiles(smiles)\n",
    "render_mol(mol)"
   ]
  },
  {
   "cell_type": "markdown",
   "id": "1683c490-0978-4fbe-9831-95dd37c02ac6",
   "metadata": {
    "id": "1683c490-0978-4fbe-9831-95dd37c02ac6"
   },
   "source": [
    "### SMILES Bond Notation\n",
    "\n",
    "With SMILES we can define bonds with special charactes.\n",
    "\n",
    " - `-` is the single bond, it can usually be omitted"
   ]
  },
  {
   "cell_type": "code",
   "execution_count": 15,
   "id": "9acfda2c-99cd-4f9c-83c7-5c8a604f8863",
   "metadata": {
    "id": "9acfda2c-99cd-4f9c-83c7-5c8a604f8863",
    "outputId": "2fd422ff-2690-4cc5-e71e-097f00d86861",
    "colab": {
     "base_uri": "https://localhost:8080/",
     "height": 188
    }
   },
   "outputs": [
    {
     "output_type": "stream",
     "name": "stdout",
     "text": [
      "BUTANE C-C-CC\n"
     ]
    },
    {
     "output_type": "execute_result",
     "data": {
      "text/plain": [
       "<IPython.core.display.SVG object>"
      ],
      "image/svg+xml": "<svg xmlns=\"http://www.w3.org/2000/svg\" xmlns:rdkit=\"http://www.rdkit.org/xml\" xmlns:xlink=\"http://www.w3.org/1999/xlink\" version=\"1.1\" baseProfile=\"full\" xml:space=\"preserve\" width=\"450px\" height=\"150px\" viewBox=\"0 0 450 150\">\n<!-- END OF HEADER -->\n<rect style=\"opacity:1.0;fill:#FFFFFF;stroke:none\" width=\"450.0\" height=\"150.0\" x=\"0.0\" y=\"0.0\"> </rect>\n<path class=\"bond-0 atom-0 atom-1\" d=\"M 22.5,89.0 L 163.7,28.9\" style=\"fill:none;fill-rule:evenodd;stroke:#000000;stroke-width:2.0px;stroke-linecap:butt;stroke-linejoin:miter;stroke-opacity:1\"/>\n<path class=\"bond-1 atom-1 atom-2\" d=\"M 163.7,28.9 L 286.3,121.1\" style=\"fill:none;fill-rule:evenodd;stroke:#000000;stroke-width:2.0px;stroke-linecap:butt;stroke-linejoin:miter;stroke-opacity:1\"/>\n<path class=\"bond-2 atom-2 atom-3\" d=\"M 286.3,121.1 L 427.5,61.0\" style=\"fill:none;fill-rule:evenodd;stroke:#000000;stroke-width:2.0px;stroke-linecap:butt;stroke-linejoin:miter;stroke-opacity:1\"/>\n<path d=\"M 156.6,31.9 L 163.7,28.9 L 169.8,33.5\" style=\"fill:none;stroke:#000000;stroke-width:2.0px;stroke-linecap:butt;stroke-linejoin:miter;stroke-opacity:1;\"/>\n<path d=\"M 280.2,116.5 L 286.3,121.1 L 293.4,118.1\" style=\"fill:none;stroke:#000000;stroke-width:2.0px;stroke-linecap:butt;stroke-linejoin:miter;stroke-opacity:1;\"/>\n</svg>"
     },
     "metadata": {},
     "execution_count": 15
    }
   ],
   "source": [
    "smiles = \"C-C-CC\"\n",
    "print(get_iupac_name(smiles), smiles)\n",
    "mol = rdkit.Chem.MolFromSmiles(smiles)\n",
    "render_mol(mol)"
   ]
  },
  {
   "cell_type": "markdown",
   "id": "1da82afc-a4b0-47d2-82b5-41b9c18ee3b8",
   "metadata": {
    "id": "1da82afc-a4b0-47d2-82b5-41b9c18ee3b8"
   },
   "source": [
    "- `.` is the no bond marker. Usually atoms adjacent to one another are bonded, but we can prevent this.smiles = \"[NH4+]\"\n",
    "print(get_iupac_name(smiles), smiles)\n",
    "mol = rdkit.Chem.MolFromSmiles(smiles)\n",
    "render_mol(mol)"
   ]
  },
  {
   "cell_type": "code",
   "execution_count": 16,
   "id": "da9ba299-f80d-43f1-9278-72e4be45b69b",
   "metadata": {
    "id": "da9ba299-f80d-43f1-9278-72e4be45b69b",
    "outputId": "f5705077-0a37-456a-d704-7865c3bb56b1",
    "colab": {
     "base_uri": "https://localhost:8080/",
     "height": 171
    }
   },
   "outputs": [
    {
     "output_type": "execute_result",
     "data": {
      "text/plain": [
       "<IPython.core.display.SVG object>"
      ],
      "image/svg+xml": "<svg xmlns=\"http://www.w3.org/2000/svg\" xmlns:rdkit=\"http://www.rdkit.org/xml\" xmlns:xlink=\"http://www.w3.org/1999/xlink\" version=\"1.1\" baseProfile=\"full\" xml:space=\"preserve\" width=\"450px\" height=\"150px\" viewBox=\"0 0 450 150\">\n<!-- END OF HEADER -->\n<rect style=\"opacity:1.0;fill:#FFFFFF;stroke:none\" width=\"450.0\" height=\"150.0\" x=\"0.0\" y=\"0.0\"> </rect>\n<path class=\"bond-0 atom-0 atom-1\" d=\"M 158.9,142.5 L 225.0,104.3\" style=\"fill:none;fill-rule:evenodd;stroke:#000000;stroke-width:2.0px;stroke-linecap:butt;stroke-linejoin:miter;stroke-opacity:1\"/>\n<path class=\"bond-1 atom-1 atom-2\" d=\"M 225.0,104.3 L 291.1,142.5\" style=\"fill:none;fill-rule:evenodd;stroke:#000000;stroke-width:2.0px;stroke-linecap:butt;stroke-linejoin:miter;stroke-opacity:1\"/>\n<path class=\"bond-2 atom-3 atom-4\" d=\"M 124.2,37.4 L 194.5,7.5\" style=\"fill:none;fill-rule:evenodd;stroke:#000000;stroke-width:2.0px;stroke-linecap:butt;stroke-linejoin:miter;stroke-opacity:1\"/>\n<path class=\"bond-3 atom-4 atom-5\" d=\"M 194.5,7.5 L 255.5,53.4\" style=\"fill:none;fill-rule:evenodd;stroke:#000000;stroke-width:2.0px;stroke-linecap:butt;stroke-linejoin:miter;stroke-opacity:1\"/>\n<path class=\"bond-4 atom-5 atom-6\" d=\"M 255.5,53.4 L 325.8,23.5\" style=\"fill:none;fill-rule:evenodd;stroke:#000000;stroke-width:2.0px;stroke-linecap:butt;stroke-linejoin:miter;stroke-opacity:1\"/>\n<path d=\"M 221.7,106.2 L 225.0,104.3 L 228.3,106.2\" style=\"fill:none;stroke:#000000;stroke-width:2.0px;stroke-linecap:butt;stroke-linejoin:miter;stroke-opacity:1;\"/>\n<path d=\"M 191.0,9.0 L 194.5,7.5 L 197.5,9.8\" style=\"fill:none;stroke:#000000;stroke-width:2.0px;stroke-linecap:butt;stroke-linejoin:miter;stroke-opacity:1;\"/>\n<path d=\"M 252.5,51.1 L 255.5,53.4 L 259.0,51.9\" style=\"fill:none;stroke:#000000;stroke-width:2.0px;stroke-linecap:butt;stroke-linejoin:miter;stroke-opacity:1;\"/>\n</svg>"
     },
     "metadata": {},
     "execution_count": 16
    }
   ],
   "source": [
    "smiles = \"CCC.CCCC\"\n",
    "mol = rdkit.Chem.MolFromSmiles(smiles)\n",
    "render_mol(mol)"
   ]
  },
  {
   "cell_type": "markdown",
   "id": "dfcab9f1-4eab-4eea-8244-918d31758608",
   "metadata": {
    "id": "dfcab9f1-4eab-4eea-8244-918d31758608"
   },
   "source": [
    "This can be usefule for example to write down ionic bonds, like table salt."
   ]
  },
  {
   "cell_type": "code",
   "execution_count": 17,
   "id": "c352f1e8-fdc6-4cc4-a859-41797fd2de22",
   "metadata": {
    "id": "c352f1e8-fdc6-4cc4-a859-41797fd2de22",
    "outputId": "ea34495c-4f12-4f1e-f9b0-bff726959e1b",
    "colab": {
     "base_uri": "https://localhost:8080/",
     "height": 188
    }
   },
   "outputs": [
    {
     "output_type": "stream",
     "name": "stdout",
     "text": [
      "Sodium chloride [Na+].[Cl-]\n"
     ]
    },
    {
     "output_type": "execute_result",
     "data": {
      "text/plain": [
       "<IPython.core.display.SVG object>"
      ],
      "image/svg+xml": "<svg xmlns=\"http://www.w3.org/2000/svg\" xmlns:rdkit=\"http://www.rdkit.org/xml\" xmlns:xlink=\"http://www.w3.org/1999/xlink\" version=\"1.1\" baseProfile=\"full\" xml:space=\"preserve\" width=\"450px\" height=\"150px\" viewBox=\"0 0 450 150\">\n<!-- END OF HEADER -->\n<rect style=\"opacity:1.0;fill:#FFFFFF;stroke:none\" width=\"450.0\" height=\"150.0\" x=\"0.0\" y=\"0.0\"> </rect>\n<path class=\"atom-0\" d=\"M 71.9 60.7 L 81.2 75.7 Q 82.1 77.1, 83.6 79.8 Q 85.1 82.5, 85.1 82.7 L 85.1 60.7 L 88.9 60.7 L 88.9 89.0 L 85.0 89.0 L 75.1 72.6 Q 73.9 70.7, 72.7 68.5 Q 71.5 66.3, 71.1 65.6 L 71.1 89.0 L 67.4 89.0 L 67.4 60.7 L 71.9 60.7 \" fill=\"#000000\"/>\n<path class=\"atom-0\" d=\"M 94.1 83.4 Q 94.1 80.1, 96.8 78.3 Q 99.4 76.5, 104.2 76.5 L 107.3 76.5 L 107.3 75.7 Q 107.3 73.2, 106.2 72.1 Q 105.2 71.0, 102.6 71.0 Q 101.0 71.0, 99.7 71.3 Q 98.4 71.6, 96.4 72.5 L 95.3 69.9 Q 99.0 68.1, 102.7 68.1 Q 107.0 68.1, 109.0 69.9 Q 111.0 71.8, 111.0 75.8 L 111.0 89.0 L 108.1 89.0 Q 108.1 88.8, 108.0 88.2 Q 107.8 87.6, 107.6 86.6 Q 104.7 89.5, 100.9 89.5 Q 97.8 89.5, 96.0 87.8 Q 94.1 86.2, 94.1 83.4 M 97.9 83.3 Q 97.9 84.9, 98.8 85.7 Q 99.8 86.5, 101.6 86.5 Q 103.2 86.5, 104.7 85.8 Q 106.2 85.0, 107.3 83.7 L 107.3 79.3 L 104.5 79.3 Q 101.2 79.3, 99.5 80.3 Q 97.9 81.3, 97.9 83.3 \" fill=\"#000000\"/>\n<path class=\"atom-0\" d=\"M 116.0 69.2 L 121.0 69.2 L 121.0 64.0 L 123.2 64.0 L 123.2 69.2 L 128.4 69.2 L 128.4 71.1 L 123.2 71.1 L 123.2 76.4 L 121.0 76.4 L 121.0 71.1 L 116.0 71.1 L 116.0 69.2 \" fill=\"#000000\"/>\n<path class=\"atom-1\" d=\"M 339.6 75.8 Q 339.6 68.8, 342.9 65.1 Q 346.2 61.4, 352.5 61.4 Q 358.4 61.4, 361.5 65.5 L 358.8 67.6 Q 356.6 64.6, 352.5 64.6 Q 348.2 64.6, 346.0 67.5 Q 343.7 70.4, 343.7 75.8 Q 343.7 81.4, 346.0 84.3 Q 348.4 87.2, 353.0 87.2 Q 356.1 87.2, 359.7 85.3 L 360.8 88.3 Q 359.4 89.2, 357.1 89.8 Q 354.9 90.4, 352.4 90.4 Q 346.2 90.4, 342.9 86.6 Q 339.6 82.8, 339.6 75.8 \" fill=\"#00CC00\"/>\n<path class=\"atom-1\" d=\"M 364.4 59.6 L 368.1 59.6 L 368.1 90.0 L 364.4 90.0 L 364.4 59.6 \" fill=\"#00CC00\"/>\n<path class=\"atom-1\" d=\"M 372.9 65.3 L 382.6 65.3 L 382.6 67.5 L 372.9 67.5 L 372.9 65.3 \" fill=\"#00CC00\"/>\n</svg>"
     },
     "metadata": {},
     "execution_count": 17
    }
   ],
   "source": [
    "smiles = \"[Na+].[Cl-]\"\n",
    "print(get_iupac_name(smiles), smiles)\n",
    "mol = rdkit.Chem.MolFromSmiles(smiles)\n",
    "render_mol(mol)"
   ]
  },
  {
   "cell_type": "markdown",
   "id": "8a23d02f-99c3-42ff-a030-ceb275343667",
   "metadata": {
    "id": "8a23d02f-99c3-42ff-a030-ceb275343667"
   },
   "source": [
    "Further bonds are:\n",
    " - `=` double bond\n",
    " - `#` triple bond\n",
    " - `$` quadruple bond\n",
    " - `:` aromatic bond\n",
    " - `/`, `\\` stereochemistry bonds"
   ]
  },
  {
   "cell_type": "code",
   "execution_count": 18,
   "id": "fe62e1df-230c-4980-b802-14d4b5089370",
   "metadata": {
    "id": "fe62e1df-230c-4980-b802-14d4b5089370",
    "outputId": "13b38f15-bdee-4450-c9cf-1b1f4816e800",
    "colab": {
     "base_uri": "https://localhost:8080/",
     "height": 188
    }
   },
   "outputs": [
    {
     "output_type": "stream",
     "name": "stdout",
     "text": [
      "carbon dioxide O=C=O\n"
     ]
    },
    {
     "output_type": "execute_result",
     "data": {
      "text/plain": [
       "<IPython.core.display.SVG object>"
      ],
      "image/svg+xml": "<svg xmlns=\"http://www.w3.org/2000/svg\" xmlns:rdkit=\"http://www.rdkit.org/xml\" xmlns:xlink=\"http://www.w3.org/1999/xlink\" version=\"1.1\" baseProfile=\"full\" xml:space=\"preserve\" width=\"450px\" height=\"150px\" viewBox=\"0 0 450 150\">\n<!-- END OF HEADER -->\n<rect style=\"opacity:1.0;fill:#FFFFFF;stroke:none\" width=\"450.0\" height=\"150.0\" x=\"0.0\" y=\"0.0\"> </rect>\n<path class=\"bond-0 atom-0 atom-1\" d=\"M 385.3,88.2 L 313.6,88.2\" style=\"fill:none;fill-rule:evenodd;stroke:#FF0000;stroke-width:2.0px;stroke-linecap:butt;stroke-linejoin:miter;stroke-opacity:1\"/>\n<path class=\"bond-0 atom-0 atom-1\" d=\"M 313.6,88.2 L 241.8,88.2\" style=\"fill:none;fill-rule:evenodd;stroke:#000000;stroke-width:2.0px;stroke-linecap:butt;stroke-linejoin:miter;stroke-opacity:1\"/>\n<path class=\"bond-0 atom-0 atom-1\" d=\"M 385.3,61.3 L 313.6,61.3\" style=\"fill:none;fill-rule:evenodd;stroke:#FF0000;stroke-width:2.0px;stroke-linecap:butt;stroke-linejoin:miter;stroke-opacity:1\"/>\n<path class=\"bond-0 atom-0 atom-1\" d=\"M 313.6,61.3 L 241.8,61.3\" style=\"fill:none;fill-rule:evenodd;stroke:#000000;stroke-width:2.0px;stroke-linecap:butt;stroke-linejoin:miter;stroke-opacity:1\"/>\n<path class=\"bond-1 atom-1 atom-2\" d=\"M 208.2,88.2 L 136.4,88.2\" style=\"fill:none;fill-rule:evenodd;stroke:#000000;stroke-width:2.0px;stroke-linecap:butt;stroke-linejoin:miter;stroke-opacity:1\"/>\n<path class=\"bond-1 atom-1 atom-2\" d=\"M 136.4,88.2 L 64.7,88.2\" style=\"fill:none;fill-rule:evenodd;stroke:#FF0000;stroke-width:2.0px;stroke-linecap:butt;stroke-linejoin:miter;stroke-opacity:1\"/>\n<path class=\"bond-1 atom-1 atom-2\" d=\"M 208.2,61.3 L 136.4,61.3\" style=\"fill:none;fill-rule:evenodd;stroke:#000000;stroke-width:2.0px;stroke-linecap:butt;stroke-linejoin:miter;stroke-opacity:1\"/>\n<path class=\"bond-1 atom-1 atom-2\" d=\"M 136.4,61.3 L 64.7,61.3\" style=\"fill:none;fill-rule:evenodd;stroke:#FF0000;stroke-width:2.0px;stroke-linecap:butt;stroke-linejoin:miter;stroke-opacity:1\"/>\n<path class=\"atom-0\" d=\"M 391.2 74.9 Q 391.2 68.1, 394.6 64.3 Q 397.9 60.5, 404.2 60.5 Q 410.5 60.5, 413.8 64.3 Q 417.2 68.1, 417.2 74.9 Q 417.2 81.7, 413.8 85.7 Q 410.4 89.5, 404.2 89.5 Q 398.0 89.5, 394.6 85.7 Q 391.2 81.8, 391.2 74.9 M 404.2 86.3 Q 408.5 86.3, 410.8 83.5 Q 413.2 80.5, 413.2 74.9 Q 413.2 69.3, 410.8 66.5 Q 408.5 63.7, 404.2 63.7 Q 399.9 63.7, 397.5 66.5 Q 395.2 69.3, 395.2 74.9 Q 395.2 80.6, 397.5 83.5 Q 399.9 86.3, 404.2 86.3 \" fill=\"#FF0000\"/>\n<path class=\"atom-1\" d=\"M 214.1 74.9 Q 214.1 67.9, 217.4 64.2 Q 220.7 60.5, 227.0 60.5 Q 232.8 60.5, 235.9 64.6 L 233.3 66.7 Q 231.0 63.7, 227.0 63.7 Q 222.7 63.7, 220.4 66.6 Q 218.2 69.5, 218.2 74.9 Q 218.2 80.5, 220.5 83.4 Q 222.8 86.3, 227.4 86.3 Q 230.5 86.3, 234.2 84.4 L 235.3 87.4 Q 233.8 88.3, 231.6 88.9 Q 229.3 89.5, 226.8 89.5 Q 220.7 89.5, 217.4 85.7 Q 214.1 81.9, 214.1 74.9 \" fill=\"#000000\"/>\n<path class=\"atom-2\" d=\"M 32.8 74.9 Q 32.8 68.1, 36.2 64.3 Q 39.5 60.5, 45.8 60.5 Q 52.1 60.5, 55.4 64.3 Q 58.8 68.1, 58.8 74.9 Q 58.8 81.7, 55.4 85.7 Q 52.0 89.5, 45.8 89.5 Q 39.6 89.5, 36.2 85.7 Q 32.8 81.8, 32.8 74.9 M 45.8 86.3 Q 50.1 86.3, 52.4 83.5 Q 54.8 80.5, 54.8 74.9 Q 54.8 69.3, 52.4 66.5 Q 50.1 63.7, 45.8 63.7 Q 41.5 63.7, 39.1 66.5 Q 36.8 69.3, 36.8 74.9 Q 36.8 80.6, 39.1 83.5 Q 41.5 86.3, 45.8 86.3 \" fill=\"#FF0000\"/>\n</svg>"
     },
     "metadata": {},
     "execution_count": 18
    }
   ],
   "source": [
    "smiles = \"O=C=O\"\n",
    "print(get_iupac_name(smiles), smiles)\n",
    "mol = rdkit.Chem.MolFromSmiles(smiles)\n",
    "render_mol(mol)"
   ]
  },
  {
   "cell_type": "code",
   "execution_count": 19,
   "id": "741f385a-0a9d-46ea-b006-72010b1f773f",
   "metadata": {
    "id": "741f385a-0a9d-46ea-b006-72010b1f773f",
    "outputId": "b710965e-7beb-49d9-a962-9c979fcee813",
    "colab": {
     "base_uri": "https://localhost:8080/",
     "height": 188
    }
   },
   "outputs": [
    {
     "output_type": "stream",
     "name": "stdout",
     "text": [
      "Acetylene C#C\n"
     ]
    },
    {
     "output_type": "execute_result",
     "data": {
      "text/plain": [
       "<IPython.core.display.SVG object>"
      ],
      "image/svg+xml": "<svg xmlns=\"http://www.w3.org/2000/svg\" xmlns:rdkit=\"http://www.rdkit.org/xml\" xmlns:xlink=\"http://www.w3.org/1999/xlink\" version=\"1.1\" baseProfile=\"full\" xml:space=\"preserve\" width=\"450px\" height=\"150px\" viewBox=\"0 0 450 150\">\n<!-- END OF HEADER -->\n<rect style=\"opacity:1.0;fill:#FFFFFF;stroke:none\" width=\"450.0\" height=\"150.0\" x=\"0.0\" y=\"0.0\"> </rect>\n<path class=\"bond-0 atom-0 atom-1\" d=\"M 427.5,75.0 L 22.5,75.0\" style=\"fill:none;fill-rule:evenodd;stroke:#000000;stroke-width:2.0px;stroke-linecap:butt;stroke-linejoin:miter;stroke-opacity:1\"/>\n<path class=\"bond-0 atom-0 atom-1\" d=\"M 427.5,135.8 L 22.5,135.8\" style=\"fill:none;fill-rule:evenodd;stroke:#000000;stroke-width:2.0px;stroke-linecap:butt;stroke-linejoin:miter;stroke-opacity:1\"/>\n<path class=\"bond-0 atom-0 atom-1\" d=\"M 427.5,14.3 L 22.5,14.3\" style=\"fill:none;fill-rule:evenodd;stroke:#000000;stroke-width:2.0px;stroke-linecap:butt;stroke-linejoin:miter;stroke-opacity:1\"/>\n</svg>"
     },
     "metadata": {},
     "execution_count": 19
    }
   ],
   "source": [
    "smiles = \"C#C\"\n",
    "print(get_iupac_name(smiles), smiles)\n",
    "mol = rdkit.Chem.MolFromSmiles(smiles)\n",
    "render_mol(mol)"
   ]
  },
  {
   "cell_type": "code",
   "execution_count": 20,
   "id": "de8194b1-009b-413f-b410-1d9a334e4693",
   "metadata": {
    "id": "de8194b1-009b-413f-b410-1d9a334e4693",
    "outputId": "ca2e6a76-f82e-4ac4-86a0-881da7d2f3e0",
    "colab": {
     "base_uri": "https://localhost:8080/",
     "height": 188
    }
   },
   "outputs": [
    {
     "output_type": "stream",
     "name": "stdout",
     "text": [
      "Cyanic acid N#CO\n"
     ]
    },
    {
     "output_type": "execute_result",
     "data": {
      "text/plain": [
       "<IPython.core.display.SVG object>"
      ],
      "image/svg+xml": "<svg xmlns=\"http://www.w3.org/2000/svg\" xmlns:rdkit=\"http://www.rdkit.org/xml\" xmlns:xlink=\"http://www.w3.org/1999/xlink\" version=\"1.1\" baseProfile=\"full\" xml:space=\"preserve\" width=\"450px\" height=\"150px\" viewBox=\"0 0 450 150\">\n<!-- END OF HEADER -->\n<rect style=\"opacity:1.0;fill:#FFFFFF;stroke:none\" width=\"450.0\" height=\"150.0\" x=\"0.0\" y=\"0.0\"> </rect>\n<path class=\"bond-0 atom-0 atom-1\" d=\"M 385.0,75.0 L 312.5,75.0\" style=\"fill:none;fill-rule:evenodd;stroke:#0000FF;stroke-width:2.0px;stroke-linecap:butt;stroke-linejoin:miter;stroke-opacity:1\"/>\n<path class=\"bond-0 atom-0 atom-1\" d=\"M 312.5,75.0 L 240.1,75.0\" style=\"fill:none;fill-rule:evenodd;stroke:#000000;stroke-width:2.0px;stroke-linecap:butt;stroke-linejoin:miter;stroke-opacity:1\"/>\n<path class=\"bond-0 atom-0 atom-1\" d=\"M 385.0,99.1 L 312.5,99.1\" style=\"fill:none;fill-rule:evenodd;stroke:#0000FF;stroke-width:2.0px;stroke-linecap:butt;stroke-linejoin:miter;stroke-opacity:1\"/>\n<path class=\"bond-0 atom-0 atom-1\" d=\"M 312.5,99.1 L 240.1,99.1\" style=\"fill:none;fill-rule:evenodd;stroke:#000000;stroke-width:2.0px;stroke-linecap:butt;stroke-linejoin:miter;stroke-opacity:1\"/>\n<path class=\"bond-0 atom-0 atom-1\" d=\"M 385.0,50.9 L 312.5,50.9\" style=\"fill:none;fill-rule:evenodd;stroke:#0000FF;stroke-width:2.0px;stroke-linecap:butt;stroke-linejoin:miter;stroke-opacity:1\"/>\n<path class=\"bond-0 atom-0 atom-1\" d=\"M 312.5,50.9 L 240.1,50.9\" style=\"fill:none;fill-rule:evenodd;stroke:#000000;stroke-width:2.0px;stroke-linecap:butt;stroke-linejoin:miter;stroke-opacity:1\"/>\n<path class=\"bond-1 atom-1 atom-2\" d=\"M 240.1,75.0 L 168.8,75.0\" style=\"fill:none;fill-rule:evenodd;stroke:#000000;stroke-width:2.0px;stroke-linecap:butt;stroke-linejoin:miter;stroke-opacity:1\"/>\n<path class=\"bond-1 atom-1 atom-2\" d=\"M 168.8,75.0 L 97.5,75.0\" style=\"fill:none;fill-rule:evenodd;stroke:#FF0000;stroke-width:2.0px;stroke-linecap:butt;stroke-linejoin:miter;stroke-opacity:1\"/>\n<path d=\"M 243.7,75.0 L 240.1,75.0 L 236.5,75.0\" style=\"fill:none;stroke:#000000;stroke-width:2.0px;stroke-linecap:butt;stroke-linejoin:miter;stroke-opacity:1;\"/>\n<path class=\"atom-0\" d=\"M 394.8 60.8 L 404.0 75.8 Q 405.0 77.3, 406.4 80.0 Q 407.9 82.7, 408.0 82.8 L 408.0 60.8 L 411.8 60.8 L 411.8 89.2 L 407.9 89.2 L 397.9 72.8 Q 396.8 70.8, 395.5 68.6 Q 394.3 66.4, 394.0 65.8 L 394.0 89.2 L 390.3 89.2 L 390.3 60.8 L 394.8 60.8 \" fill=\"#0000FF\"/>\n<path class=\"atom-2\" d=\"M 38.2 61.0 L 42.1 61.0 L 42.1 73.0 L 56.6 73.0 L 56.6 61.0 L 60.4 61.0 L 60.4 89.3 L 56.6 89.3 L 56.6 76.2 L 42.1 76.2 L 42.1 89.3 L 38.2 89.3 L 38.2 61.0 \" fill=\"#FF0000\"/>\n<path class=\"atom-2\" d=\"M 66.2 75.1 Q 66.2 68.3, 69.6 64.5 Q 72.9 60.7, 79.2 60.7 Q 85.5 60.7, 88.9 64.5 Q 92.2 68.3, 92.2 75.1 Q 92.2 82.0, 88.8 85.9 Q 85.4 89.8, 79.2 89.8 Q 73.0 89.8, 69.6 85.9 Q 66.2 82.0, 66.2 75.1 M 79.2 86.6 Q 83.5 86.6, 85.9 83.7 Q 88.2 80.8, 88.2 75.1 Q 88.2 69.5, 85.9 66.7 Q 83.5 63.9, 79.2 63.9 Q 74.9 63.9, 72.5 66.7 Q 70.2 69.5, 70.2 75.1 Q 70.2 80.8, 72.5 83.7 Q 74.9 86.6, 79.2 86.6 \" fill=\"#FF0000\"/>\n</svg>"
     },
     "metadata": {},
     "execution_count": 20
    }
   ],
   "source": [
    "smiles = \"N#CO\"\n",
    "print(get_iupac_name(smiles), smiles)\n",
    "mol = rdkit.Chem.MolFromSmiles(smiles)\n",
    "render_mol(mol)"
   ]
  },
  {
   "cell_type": "markdown",
   "id": "1fd3c2aa-b417-4d1f-939e-2c37ce1f3718",
   "metadata": {
    "id": "1fd3c2aa-b417-4d1f-939e-2c37ce1f3718"
   },
   "source": [
    "### Branches\n",
    "\n",
    "Branches can be marked by enclosing a branch in round brackets.\n",
    "Branches can be nested."
   ]
  },
  {
   "cell_type": "code",
   "execution_count": 21,
   "id": "ead8c954-977b-4653-83db-c25a4a2ddadf",
   "metadata": {
    "id": "ead8c954-977b-4653-83db-c25a4a2ddadf",
    "outputId": "275c3743-bcac-4cc2-d5c3-ac41da10697f",
    "colab": {
     "base_uri": "https://localhost:8080/",
     "height": 188
    }
   },
   "outputs": [
    {
     "output_type": "stream",
     "name": "stdout",
     "text": [
      "3-Ethylpentane CCC(CC)CC\n"
     ]
    },
    {
     "output_type": "execute_result",
     "data": {
      "text/plain": [
       "<IPython.core.display.SVG object>"
      ],
      "image/svg+xml": "<svg xmlns=\"http://www.w3.org/2000/svg\" xmlns:rdkit=\"http://www.rdkit.org/xml\" xmlns:xlink=\"http://www.w3.org/1999/xlink\" version=\"1.1\" baseProfile=\"full\" xml:space=\"preserve\" width=\"450px\" height=\"150px\" viewBox=\"0 0 450 150\">\n<!-- END OF HEADER -->\n<rect style=\"opacity:1.0;fill:#FFFFFF;stroke:none\" width=\"450.0\" height=\"150.0\" x=\"0.0\" y=\"0.0\"> </rect>\n<path class=\"bond-0 atom-0 atom-1\" d=\"M 341.9,69.4 L 291.0,116.3\" style=\"fill:none;fill-rule:evenodd;stroke:#000000;stroke-width:2.0px;stroke-linecap:butt;stroke-linejoin:miter;stroke-opacity:1\"/>\n<path class=\"bond-1 atom-1 atom-2\" d=\"M 291.0,116.3 L 225.0,95.6\" style=\"fill:none;fill-rule:evenodd;stroke:#000000;stroke-width:2.0px;stroke-linecap:butt;stroke-linejoin:miter;stroke-opacity:1\"/>\n<path class=\"bond-2 atom-2 atom-3\" d=\"M 225.0,95.6 L 174.1,142.5\" style=\"fill:none;fill-rule:evenodd;stroke:#000000;stroke-width:2.0px;stroke-linecap:butt;stroke-linejoin:miter;stroke-opacity:1\"/>\n<path class=\"bond-3 atom-3 atom-4\" d=\"M 174.1,142.5 L 108.1,121.9\" style=\"fill:none;fill-rule:evenodd;stroke:#000000;stroke-width:2.0px;stroke-linecap:butt;stroke-linejoin:miter;stroke-opacity:1\"/>\n<path class=\"bond-4 atom-2 atom-5\" d=\"M 225.0,95.6 L 209.9,28.1\" style=\"fill:none;fill-rule:evenodd;stroke:#000000;stroke-width:2.0px;stroke-linecap:butt;stroke-linejoin:miter;stroke-opacity:1\"/>\n<path class=\"bond-5 atom-5 atom-6\" d=\"M 209.9,28.1 L 143.8,7.5\" style=\"fill:none;fill-rule:evenodd;stroke:#000000;stroke-width:2.0px;stroke-linecap:butt;stroke-linejoin:miter;stroke-opacity:1\"/>\n<path d=\"M 293.6,113.9 L 291.0,116.3 L 287.7,115.2\" style=\"fill:none;stroke:#000000;stroke-width:2.0px;stroke-linecap:butt;stroke-linejoin:miter;stroke-opacity:1;\"/>\n<path d=\"M 176.7,140.2 L 174.1,142.5 L 170.8,141.5\" style=\"fill:none;stroke:#000000;stroke-width:2.0px;stroke-linecap:butt;stroke-linejoin:miter;stroke-opacity:1;\"/>\n<path d=\"M 210.6,31.5 L 209.9,28.1 L 206.6,27.1\" style=\"fill:none;stroke:#000000;stroke-width:2.0px;stroke-linecap:butt;stroke-linejoin:miter;stroke-opacity:1;\"/>\n</svg>"
     },
     "metadata": {},
     "execution_count": 21
    }
   ],
   "source": [
    "smiles = \"CCC(CC)CC\"\n",
    "print(get_iupac_name(smiles), smiles)\n",
    "mol = rdkit.Chem.MolFromSmiles(smiles)\n",
    "render_mol(mol)"
   ]
  },
  {
   "cell_type": "code",
   "execution_count": 22,
   "id": "8acd014d-5232-4902-8ee7-74da4ab7e77e",
   "metadata": {
    "id": "8acd014d-5232-4902-8ee7-74da4ab7e77e",
    "outputId": "ac6f1612-7416-498d-d83a-6fac7de8d7c7",
    "colab": {
     "base_uri": "https://localhost:8080/",
     "height": 224
    }
   },
   "outputs": [
    {
     "output_type": "stream",
     "name": "stdout",
     "text": [
      "<h1>Page not found (404)</h1>\n",
      "\n",
      " CC(=CCCC(=CCCC(=CCCC(=CCCC(=CCCC=C(C)C)C)C)C)C)C Squalene\n"
     ]
    },
    {
     "output_type": "execute_result",
     "data": {
      "text/plain": [
       "<IPython.core.display.SVG object>"
      ],
      "image/svg+xml": "<svg xmlns=\"http://www.w3.org/2000/svg\" xmlns:rdkit=\"http://www.rdkit.org/xml\" xmlns:xlink=\"http://www.w3.org/1999/xlink\" version=\"1.1\" baseProfile=\"full\" xml:space=\"preserve\" width=\"450px\" height=\"150px\" viewBox=\"0 0 450 150\">\n<!-- END OF HEADER -->\n<rect style=\"opacity:1.0;fill:#FFFFFF;stroke:none\" width=\"450.0\" height=\"150.0\" x=\"0.0\" y=\"0.0\"> </rect>\n<path class=\"bond-0 atom-0 atom-1\" d=\"M 22.5,77.4 L 45.4,79.3\" style=\"fill:none;fill-rule:evenodd;stroke:#000000;stroke-width:2.0px;stroke-linecap:butt;stroke-linejoin:miter;stroke-opacity:1\"/>\n<path class=\"bond-1 atom-1 atom-2\" d=\"M 45.4,79.3 L 58.5,60.5\" style=\"fill:none;fill-rule:evenodd;stroke:#000000;stroke-width:2.0px;stroke-linecap:butt;stroke-linejoin:miter;stroke-opacity:1\"/>\n<path class=\"bond-1 atom-1 atom-2\" d=\"M 49.3,79.7 L 60.1,64.1\" style=\"fill:none;fill-rule:evenodd;stroke:#000000;stroke-width:2.0px;stroke-linecap:butt;stroke-linejoin:miter;stroke-opacity:1\"/>\n<path class=\"bond-2 atom-2 atom-3\" d=\"M 58.5,60.5 L 81.3,62.4\" style=\"fill:none;fill-rule:evenodd;stroke:#000000;stroke-width:2.0px;stroke-linecap:butt;stroke-linejoin:miter;stroke-opacity:1\"/>\n<path class=\"bond-3 atom-3 atom-4\" d=\"M 81.3,62.4 L 94.4,43.6\" style=\"fill:none;fill-rule:evenodd;stroke:#000000;stroke-width:2.0px;stroke-linecap:butt;stroke-linejoin:miter;stroke-opacity:1\"/>\n<path class=\"bond-4 atom-4 atom-5\" d=\"M 94.4,43.6 L 117.3,45.5\" style=\"fill:none;fill-rule:evenodd;stroke:#000000;stroke-width:2.0px;stroke-linecap:butt;stroke-linejoin:miter;stroke-opacity:1\"/>\n<path class=\"bond-5 atom-5 atom-6\" d=\"M 117.3,45.5 L 127.0,66.3\" style=\"fill:none;fill-rule:evenodd;stroke:#000000;stroke-width:2.0px;stroke-linecap:butt;stroke-linejoin:miter;stroke-opacity:1\"/>\n<path class=\"bond-5 atom-5 atom-6\" d=\"M 121.2,45.9 L 129.3,63.0\" style=\"fill:none;fill-rule:evenodd;stroke:#000000;stroke-width:2.0px;stroke-linecap:butt;stroke-linejoin:miter;stroke-opacity:1\"/>\n<path class=\"bond-6 atom-6 atom-7\" d=\"M 127.0,66.3 L 149.9,68.2\" style=\"fill:none;fill-rule:evenodd;stroke:#000000;stroke-width:2.0px;stroke-linecap:butt;stroke-linejoin:miter;stroke-opacity:1\"/>\n<path class=\"bond-7 atom-7 atom-8\" d=\"M 149.9,68.2 L 159.6,89.0\" style=\"fill:none;fill-rule:evenodd;stroke:#000000;stroke-width:2.0px;stroke-linecap:butt;stroke-linejoin:miter;stroke-opacity:1\"/>\n<path class=\"bond-8 atom-8 atom-9\" d=\"M 159.6,89.0 L 182.5,90.9\" style=\"fill:none;fill-rule:evenodd;stroke:#000000;stroke-width:2.0px;stroke-linecap:butt;stroke-linejoin:miter;stroke-opacity:1\"/>\n<path class=\"bond-9 atom-9 atom-10\" d=\"M 182.5,90.9 L 195.6,72.1\" style=\"fill:none;fill-rule:evenodd;stroke:#000000;stroke-width:2.0px;stroke-linecap:butt;stroke-linejoin:miter;stroke-opacity:1\"/>\n<path class=\"bond-9 atom-9 atom-10\" d=\"M 186.5,91.3 L 197.3,75.7\" style=\"fill:none;fill-rule:evenodd;stroke:#000000;stroke-width:2.0px;stroke-linecap:butt;stroke-linejoin:miter;stroke-opacity:1\"/>\n<path class=\"bond-10 atom-10 atom-11\" d=\"M 195.6,72.1 L 218.4,74.0\" style=\"fill:none;fill-rule:evenodd;stroke:#000000;stroke-width:2.0px;stroke-linecap:butt;stroke-linejoin:miter;stroke-opacity:1\"/>\n<path class=\"bond-11 atom-11 atom-12\" d=\"M 218.4,74.0 L 231.6,55.2\" style=\"fill:none;fill-rule:evenodd;stroke:#000000;stroke-width:2.0px;stroke-linecap:butt;stroke-linejoin:miter;stroke-opacity:1\"/>\n<path class=\"bond-12 atom-12 atom-13\" d=\"M 231.6,55.2 L 254.4,57.1\" style=\"fill:none;fill-rule:evenodd;stroke:#000000;stroke-width:2.0px;stroke-linecap:butt;stroke-linejoin:miter;stroke-opacity:1\"/>\n<path class=\"bond-13 atom-13 atom-14\" d=\"M 254.4,57.1 L 264.2,77.9\" style=\"fill:none;fill-rule:evenodd;stroke:#000000;stroke-width:2.0px;stroke-linecap:butt;stroke-linejoin:miter;stroke-opacity:1\"/>\n<path class=\"bond-13 atom-13 atom-14\" d=\"M 258.4,57.5 L 266.4,74.6\" style=\"fill:none;fill-rule:evenodd;stroke:#000000;stroke-width:2.0px;stroke-linecap:butt;stroke-linejoin:miter;stroke-opacity:1\"/>\n<path class=\"bond-14 atom-14 atom-15\" d=\"M 264.2,77.9 L 287.0,79.8\" style=\"fill:none;fill-rule:evenodd;stroke:#000000;stroke-width:2.0px;stroke-linecap:butt;stroke-linejoin:miter;stroke-opacity:1\"/>\n<path class=\"bond-15 atom-15 atom-16\" d=\"M 287.0,79.8 L 296.8,100.6\" style=\"fill:none;fill-rule:evenodd;stroke:#000000;stroke-width:2.0px;stroke-linecap:butt;stroke-linejoin:miter;stroke-opacity:1\"/>\n<path class=\"bond-16 atom-16 atom-17\" d=\"M 296.8,100.6 L 319.6,102.5\" style=\"fill:none;fill-rule:evenodd;stroke:#000000;stroke-width:2.0px;stroke-linecap:butt;stroke-linejoin:miter;stroke-opacity:1\"/>\n<path class=\"bond-17 atom-17 atom-18\" d=\"M 319.6,102.5 L 332.7,83.7\" style=\"fill:none;fill-rule:evenodd;stroke:#000000;stroke-width:2.0px;stroke-linecap:butt;stroke-linejoin:miter;stroke-opacity:1\"/>\n<path class=\"bond-17 atom-17 atom-18\" d=\"M 323.6,102.9 L 334.4,87.3\" style=\"fill:none;fill-rule:evenodd;stroke:#000000;stroke-width:2.0px;stroke-linecap:butt;stroke-linejoin:miter;stroke-opacity:1\"/>\n<path class=\"bond-18 atom-18 atom-19\" d=\"M 332.7,83.7 L 355.6,85.6\" style=\"fill:none;fill-rule:evenodd;stroke:#000000;stroke-width:2.0px;stroke-linecap:butt;stroke-linejoin:miter;stroke-opacity:1\"/>\n<path class=\"bond-19 atom-19 atom-20\" d=\"M 355.6,85.6 L 368.7,66.8\" style=\"fill:none;fill-rule:evenodd;stroke:#000000;stroke-width:2.0px;stroke-linecap:butt;stroke-linejoin:miter;stroke-opacity:1\"/>\n<path class=\"bond-20 atom-20 atom-21\" d=\"M 368.7,66.8 L 391.5,68.7\" style=\"fill:none;fill-rule:evenodd;stroke:#000000;stroke-width:2.0px;stroke-linecap:butt;stroke-linejoin:miter;stroke-opacity:1\"/>\n<path class=\"bond-21 atom-21 atom-22\" d=\"M 391.5,68.7 L 404.6,49.9\" style=\"fill:none;fill-rule:evenodd;stroke:#000000;stroke-width:2.0px;stroke-linecap:butt;stroke-linejoin:miter;stroke-opacity:1\"/>\n<path class=\"bond-21 atom-21 atom-22\" d=\"M 389.9,65.1 L 400.7,49.6\" style=\"fill:none;fill-rule:evenodd;stroke:#000000;stroke-width:2.0px;stroke-linecap:butt;stroke-linejoin:miter;stroke-opacity:1\"/>\n<path class=\"bond-22 atom-22 atom-23\" d=\"M 404.6,49.9 L 427.5,51.8\" style=\"fill:none;fill-rule:evenodd;stroke:#000000;stroke-width:2.0px;stroke-linecap:butt;stroke-linejoin:miter;stroke-opacity:1\"/>\n<path class=\"bond-23 atom-22 atom-24\" d=\"M 404.6,49.9 L 394.9,29.1\" style=\"fill:none;fill-rule:evenodd;stroke:#000000;stroke-width:2.0px;stroke-linecap:butt;stroke-linejoin:miter;stroke-opacity:1\"/>\n<path class=\"bond-24 atom-17 atom-25\" d=\"M 319.6,102.5 L 329.4,123.3\" style=\"fill:none;fill-rule:evenodd;stroke:#000000;stroke-width:2.0px;stroke-linecap:butt;stroke-linejoin:miter;stroke-opacity:1\"/>\n<path class=\"bond-25 atom-13 atom-26\" d=\"M 254.4,57.1 L 267.5,38.3\" style=\"fill:none;fill-rule:evenodd;stroke:#000000;stroke-width:2.0px;stroke-linecap:butt;stroke-linejoin:miter;stroke-opacity:1\"/>\n<path class=\"bond-26 atom-9 atom-27\" d=\"M 182.5,90.9 L 192.2,111.7\" style=\"fill:none;fill-rule:evenodd;stroke:#000000;stroke-width:2.0px;stroke-linecap:butt;stroke-linejoin:miter;stroke-opacity:1\"/>\n<path class=\"bond-27 atom-5 atom-28\" d=\"M 117.3,45.5 L 130.4,26.7\" style=\"fill:none;fill-rule:evenodd;stroke:#000000;stroke-width:2.0px;stroke-linecap:butt;stroke-linejoin:miter;stroke-opacity:1\"/>\n<path class=\"bond-28 atom-1 atom-29\" d=\"M 45.4,79.3 L 55.1,100.1\" style=\"fill:none;fill-rule:evenodd;stroke:#000000;stroke-width:2.0px;stroke-linecap:butt;stroke-linejoin:miter;stroke-opacity:1\"/>\n<path d=\"M 57.8,61.5 L 58.5,60.5 L 59.6,60.6\" style=\"fill:none;stroke:#000000;stroke-width:2.0px;stroke-linecap:butt;stroke-linejoin:miter;stroke-opacity:1;\"/>\n<path d=\"M 80.2,62.3 L 81.3,62.4 L 82.0,61.5\" style=\"fill:none;stroke:#000000;stroke-width:2.0px;stroke-linecap:butt;stroke-linejoin:miter;stroke-opacity:1;\"/>\n<path d=\"M 93.8,44.6 L 94.4,43.6 L 95.6,43.7\" style=\"fill:none;stroke:#000000;stroke-width:2.0px;stroke-linecap:butt;stroke-linejoin:miter;stroke-opacity:1;\"/>\n<path d=\"M 126.5,65.3 L 127.0,66.3 L 128.2,66.4\" style=\"fill:none;stroke:#000000;stroke-width:2.0px;stroke-linecap:butt;stroke-linejoin:miter;stroke-opacity:1;\"/>\n<path d=\"M 148.7,68.1 L 149.9,68.2 L 150.4,69.3\" style=\"fill:none;stroke:#000000;stroke-width:2.0px;stroke-linecap:butt;stroke-linejoin:miter;stroke-opacity:1;\"/>\n<path d=\"M 159.1,88.0 L 159.6,89.0 L 160.8,89.1\" style=\"fill:none;stroke:#000000;stroke-width:2.0px;stroke-linecap:butt;stroke-linejoin:miter;stroke-opacity:1;\"/>\n<path d=\"M 194.9,73.0 L 195.6,72.1 L 196.7,72.2\" style=\"fill:none;stroke:#000000;stroke-width:2.0px;stroke-linecap:butt;stroke-linejoin:miter;stroke-opacity:1;\"/>\n<path d=\"M 217.3,73.9 L 218.4,74.0 L 219.1,73.1\" style=\"fill:none;stroke:#000000;stroke-width:2.0px;stroke-linecap:butt;stroke-linejoin:miter;stroke-opacity:1;\"/>\n<path d=\"M 230.9,56.1 L 231.6,55.2 L 232.7,55.3\" style=\"fill:none;stroke:#000000;stroke-width:2.0px;stroke-linecap:butt;stroke-linejoin:miter;stroke-opacity:1;\"/>\n<path d=\"M 263.7,76.9 L 264.2,77.9 L 265.3,78.0\" style=\"fill:none;stroke:#000000;stroke-width:2.0px;stroke-linecap:butt;stroke-linejoin:miter;stroke-opacity:1;\"/>\n<path d=\"M 285.9,79.7 L 287.0,79.8 L 287.5,80.9\" style=\"fill:none;stroke:#000000;stroke-width:2.0px;stroke-linecap:butt;stroke-linejoin:miter;stroke-opacity:1;\"/>\n<path d=\"M 296.3,99.6 L 296.8,100.6 L 297.9,100.7\" style=\"fill:none;stroke:#000000;stroke-width:2.0px;stroke-linecap:butt;stroke-linejoin:miter;stroke-opacity:1;\"/>\n<path d=\"M 332.1,84.6 L 332.7,83.7 L 333.9,83.8\" style=\"fill:none;stroke:#000000;stroke-width:2.0px;stroke-linecap:butt;stroke-linejoin:miter;stroke-opacity:1;\"/>\n<path d=\"M 354.4,85.5 L 355.6,85.6 L 356.2,84.7\" style=\"fill:none;stroke:#000000;stroke-width:2.0px;stroke-linecap:butt;stroke-linejoin:miter;stroke-opacity:1;\"/>\n<path d=\"M 368.0,67.7 L 368.7,66.8 L 369.8,66.9\" style=\"fill:none;stroke:#000000;stroke-width:2.0px;stroke-linecap:butt;stroke-linejoin:miter;stroke-opacity:1;\"/>\n<path d=\"M 390.4,68.6 L 391.5,68.7 L 392.2,67.8\" style=\"fill:none;stroke:#000000;stroke-width:2.0px;stroke-linecap:butt;stroke-linejoin:miter;stroke-opacity:1;\"/>\n</svg>"
     },
     "metadata": {},
     "execution_count": 22
    }
   ],
   "source": [
    "smiles = \"CC(=CCCC(=CCCC(=CCCC(=CCCC(=CCCC=C(C)C)C)C)C)C)C\"\n",
    "print(get_iupac_name(smiles), smiles, \"Squalene\")\n",
    "mol = rdkit.Chem.MolFromSmiles(smiles)\n",
    "render_mol(mol)"
   ]
  },
  {
   "cell_type": "markdown",
   "id": "e9cc51b2-d9d2-4059-bdfa-ee6acfbaed42",
   "metadata": {
    "id": "e9cc51b2-d9d2-4059-bdfa-ee6acfbaed42"
   },
   "source": [
    "### Rings\n",
    "\n",
    "Rings are created by breaking a ring at an arbritrary point. And inserting an integer number at that point."
   ]
  },
  {
   "cell_type": "code",
   "execution_count": 23,
   "id": "9ec1ee84-fdc4-491a-8258-f93ab6c981c1",
   "metadata": {
    "id": "9ec1ee84-fdc4-491a-8258-f93ab6c981c1",
    "outputId": "89ed6a41-e50a-4002-f247-b2a700c187be",
    "colab": {
     "base_uri": "https://localhost:8080/",
     "height": 188
    }
   },
   "outputs": [
    {
     "output_type": "stream",
     "name": "stdout",
     "text": [
      "Cyclohexane C1CCCCC1\n"
     ]
    },
    {
     "output_type": "execute_result",
     "data": {
      "text/plain": [
       "<IPython.core.display.SVG object>"
      ],
      "image/svg+xml": "<svg xmlns=\"http://www.w3.org/2000/svg\" xmlns:rdkit=\"http://www.rdkit.org/xml\" xmlns:xlink=\"http://www.w3.org/1999/xlink\" version=\"1.1\" baseProfile=\"full\" xml:space=\"preserve\" width=\"450px\" height=\"150px\" viewBox=\"0 0 450 150\">\n<!-- END OF HEADER -->\n<rect style=\"opacity:1.0;fill:#FFFFFF;stroke:none\" width=\"450.0\" height=\"150.0\" x=\"0.0\" y=\"0.0\"> </rect>\n<path class=\"bond-0 atom-0 atom-1\" d=\"M 302.9,75.0 L 264.0,142.5\" style=\"fill:none;fill-rule:evenodd;stroke:#000000;stroke-width:2.0px;stroke-linecap:butt;stroke-linejoin:miter;stroke-opacity:1\"/>\n<path class=\"bond-1 atom-1 atom-2\" d=\"M 264.0,142.5 L 186.0,142.5\" style=\"fill:none;fill-rule:evenodd;stroke:#000000;stroke-width:2.0px;stroke-linecap:butt;stroke-linejoin:miter;stroke-opacity:1\"/>\n<path class=\"bond-2 atom-2 atom-3\" d=\"M 186.0,142.5 L 147.1,75.0\" style=\"fill:none;fill-rule:evenodd;stroke:#000000;stroke-width:2.0px;stroke-linecap:butt;stroke-linejoin:miter;stroke-opacity:1\"/>\n<path class=\"bond-3 atom-3 atom-4\" d=\"M 147.1,75.0 L 186.0,7.5\" style=\"fill:none;fill-rule:evenodd;stroke:#000000;stroke-width:2.0px;stroke-linecap:butt;stroke-linejoin:miter;stroke-opacity:1\"/>\n<path class=\"bond-4 atom-4 atom-5\" d=\"M 186.0,7.5 L 264.0,7.5\" style=\"fill:none;fill-rule:evenodd;stroke:#000000;stroke-width:2.0px;stroke-linecap:butt;stroke-linejoin:miter;stroke-opacity:1\"/>\n<path class=\"bond-5 atom-5 atom-0\" d=\"M 264.0,7.5 L 302.9,75.0\" style=\"fill:none;fill-rule:evenodd;stroke:#000000;stroke-width:2.0px;stroke-linecap:butt;stroke-linejoin:miter;stroke-opacity:1\"/>\n<path d=\"M 301.0,78.4 L 302.9,75.0 L 301.0,71.6\" style=\"fill:none;stroke:#000000;stroke-width:2.0px;stroke-linecap:butt;stroke-linejoin:miter;stroke-opacity:1;\"/>\n<path d=\"M 265.9,139.1 L 264.0,142.5 L 260.1,142.5\" style=\"fill:none;stroke:#000000;stroke-width:2.0px;stroke-linecap:butt;stroke-linejoin:miter;stroke-opacity:1;\"/>\n<path d=\"M 189.9,142.5 L 186.0,142.5 L 184.1,139.1\" style=\"fill:none;stroke:#000000;stroke-width:2.0px;stroke-linecap:butt;stroke-linejoin:miter;stroke-opacity:1;\"/>\n<path d=\"M 149.0,78.4 L 147.1,75.0 L 149.0,71.6\" style=\"fill:none;stroke:#000000;stroke-width:2.0px;stroke-linecap:butt;stroke-linejoin:miter;stroke-opacity:1;\"/>\n<path d=\"M 184.1,10.9 L 186.0,7.5 L 189.9,7.5\" style=\"fill:none;stroke:#000000;stroke-width:2.0px;stroke-linecap:butt;stroke-linejoin:miter;stroke-opacity:1;\"/>\n<path d=\"M 260.1,7.5 L 264.0,7.5 L 265.9,10.9\" style=\"fill:none;stroke:#000000;stroke-width:2.0px;stroke-linecap:butt;stroke-linejoin:miter;stroke-opacity:1;\"/>\n</svg>"
     },
     "metadata": {},
     "execution_count": 23
    }
   ],
   "source": [
    "smiles = \"C1CCCCC1\"\n",
    "print(get_iupac_name(smiles), smiles)\n",
    "mol = rdkit.Chem.MolFromSmiles(smiles)\n",
    "render_mol(mol)"
   ]
  },
  {
   "cell_type": "markdown",
   "id": "8cf1ac61-55aa-45d9-bc8b-655d0db997b2",
   "metadata": {
    "id": "8cf1ac61-55aa-45d9-bc8b-655d0db997b2"
   },
   "source": [
    "It is possible to use multiple and nested rings.\n",
    "But structures with rings, can easily challenge the 2D representation of"
   ]
  },
  {
   "cell_type": "code",
   "execution_count": 24,
   "id": "a4f5ad42-ee1c-4863-bf4e-37ed2e8140a3",
   "metadata": {
    "lines_to_next_cell": 2,
    "id": "a4f5ad42-ee1c-4863-bf4e-37ed2e8140a3",
    "outputId": "a87a578f-0fdd-4ad3-9a9e-6ca90a00d75c",
    "colab": {
     "base_uri": "https://localhost:8080/",
     "height": 188
    }
   },
   "outputs": [
    {
     "output_type": "stream",
     "name": "stdout",
     "text": [
      "cubane C12C3C4C1C5C2C3C45\n"
     ]
    },
    {
     "output_type": "execute_result",
     "data": {
      "text/plain": [
       "<IPython.core.display.SVG object>"
      ],
      "image/svg+xml": "<svg xmlns=\"http://www.w3.org/2000/svg\" xmlns:rdkit=\"http://www.rdkit.org/xml\" xmlns:xlink=\"http://www.w3.org/1999/xlink\" version=\"1.1\" baseProfile=\"full\" xml:space=\"preserve\" width=\"450px\" height=\"150px\" viewBox=\"0 0 450 150\">\n<!-- END OF HEADER -->\n<rect style=\"opacity:1.0;fill:#FFFFFF;stroke:none\" width=\"450.0\" height=\"150.0\" x=\"0.0\" y=\"0.0\"> </rect>\n<path class=\"bond-0 atom-0 atom-1\" d=\"M 292.5,142.5 L 157.5,142.5\" style=\"fill:none;fill-rule:evenodd;stroke:#000000;stroke-width:2.0px;stroke-linecap:butt;stroke-linejoin:miter;stroke-opacity:1\"/>\n<path class=\"bond-1 atom-1 atom-2\" d=\"M 157.5,142.5 L 157.5,7.5\" style=\"fill:none;fill-rule:evenodd;stroke:#000000;stroke-width:2.0px;stroke-linecap:butt;stroke-linejoin:miter;stroke-opacity:1\"/>\n<path class=\"bond-2 atom-2 atom-3\" d=\"M 157.5,7.5 L 292.5,7.5\" style=\"fill:none;fill-rule:evenodd;stroke:#000000;stroke-width:2.0px;stroke-linecap:butt;stroke-linejoin:miter;stroke-opacity:1\"/>\n<path class=\"bond-3 atom-3 atom-4\" d=\"M 292.5,7.5 L 427.5,7.5\" style=\"fill:none;fill-rule:evenodd;stroke:#000000;stroke-width:2.0px;stroke-linecap:butt;stroke-linejoin:miter;stroke-opacity:1\"/>\n<path class=\"bond-4 atom-4 atom-5\" d=\"M 427.5,7.5 L 427.5,142.5\" style=\"fill:none;fill-rule:evenodd;stroke:#000000;stroke-width:2.0px;stroke-linecap:butt;stroke-linejoin:miter;stroke-opacity:1\"/>\n<path class=\"bond-5 atom-5 atom-6\" d=\"M 427.5,142.5 L 22.5,142.5\" style=\"fill:none;fill-rule:evenodd;stroke:#000000;stroke-width:2.0px;stroke-linecap:butt;stroke-linejoin:miter;stroke-opacity:1\"/>\n<path class=\"bond-6 atom-6 atom-7\" d=\"M 22.5,142.5 L 22.5,7.5\" style=\"fill:none;fill-rule:evenodd;stroke:#000000;stroke-width:2.0px;stroke-linecap:butt;stroke-linejoin:miter;stroke-opacity:1\"/>\n<path class=\"bond-7 atom-3 atom-0\" d=\"M 292.5,7.5 L 292.5,142.5\" style=\"fill:none;fill-rule:evenodd;stroke:#000000;stroke-width:2.0px;stroke-linecap:butt;stroke-linejoin:miter;stroke-opacity:1\"/>\n<path class=\"bond-8 atom-5 atom-0\" d=\"M 427.5,142.5 L 292.5,142.5\" style=\"fill:none;fill-rule:evenodd;stroke:#000000;stroke-width:2.0px;stroke-linecap:butt;stroke-linejoin:miter;stroke-opacity:1\"/>\n<path class=\"bond-9 atom-6 atom-1\" d=\"M 22.5,142.5 L 157.5,142.5\" style=\"fill:none;fill-rule:evenodd;stroke:#000000;stroke-width:2.0px;stroke-linecap:butt;stroke-linejoin:miter;stroke-opacity:1\"/>\n<path class=\"bond-10 atom-7 atom-2\" d=\"M 22.5,7.5 L 157.5,7.5\" style=\"fill:none;fill-rule:evenodd;stroke:#000000;stroke-width:2.0px;stroke-linecap:butt;stroke-linejoin:miter;stroke-opacity:1\"/>\n<path class=\"bond-11 atom-7 atom-4\" d=\"M 22.5,7.5 L 427.5,7.5\" style=\"fill:none;fill-rule:evenodd;stroke:#000000;stroke-width:2.0px;stroke-linecap:butt;stroke-linejoin:miter;stroke-opacity:1\"/>\n</svg>"
     },
     "metadata": {},
     "execution_count": 24
    }
   ],
   "source": [
    "smiles = \"C12C3C4C1C5C2C3C45\"\n",
    "print(get_iupac_name(smiles), smiles)\n",
    "mol = rdkit.Chem.MolFromSmiles(smiles)\n",
    "render_mol(mol)"
   ]
  },
  {
   "cell_type": "code",
   "execution_count": 25,
   "id": "2618f100-896c-47f5-a4eb-a495beae4896",
   "metadata": {
    "id": "2618f100-896c-47f5-a4eb-a495beae4896",
    "outputId": "e749b6bb-c13a-4adb-9423-0c038e9eef2b",
    "colab": {
     "base_uri": "https://localhost:8080/",
     "height": 188
    }
   },
   "outputs": [
    {
     "output_type": "stream",
     "name": "stdout",
     "text": [
      "ADAMANTANE C1C3CC2CC(CC1C2)C3\n"
     ]
    },
    {
     "output_type": "execute_result",
     "data": {
      "text/plain": [
       "<IPython.core.display.SVG object>"
      ],
      "image/svg+xml": "<svg xmlns=\"http://www.w3.org/2000/svg\" xmlns:rdkit=\"http://www.rdkit.org/xml\" xmlns:xlink=\"http://www.w3.org/1999/xlink\" version=\"1.1\" baseProfile=\"full\" xml:space=\"preserve\" width=\"450px\" height=\"150px\" viewBox=\"0 0 450 150\">\n<!-- END OF HEADER -->\n<rect style=\"opacity:1.0;fill:#FFFFFF;stroke:none\" width=\"450.0\" height=\"150.0\" x=\"0.0\" y=\"0.0\"> </rect>\n<path class=\"bond-0 atom-0 atom-1\" d=\"M 188.9,77.5 L 220.6,12.5\" style=\"fill:none;fill-rule:evenodd;stroke:#000000;stroke-width:2.0px;stroke-linecap:butt;stroke-linejoin:miter;stroke-opacity:1\"/>\n<path class=\"bond-1 atom-1 atom-2\" d=\"M 220.6,12.5 L 148.5,17.6\" style=\"fill:none;fill-rule:evenodd;stroke:#000000;stroke-width:2.0px;stroke-linecap:butt;stroke-linejoin:miter;stroke-opacity:1\"/>\n<path class=\"bond-2 atom-2 atom-3\" d=\"M 148.5,17.6 L 116.8,82.5\" style=\"fill:none;fill-rule:evenodd;stroke:#000000;stroke-width:2.0px;stroke-linecap:butt;stroke-linejoin:miter;stroke-opacity:1\"/>\n<path class=\"bond-3 atom-3 atom-4\" d=\"M 116.8,82.5 L 273.2,107.9\" style=\"fill:none;fill-rule:evenodd;stroke:#000000;stroke-width:2.0px;stroke-linecap:butt;stroke-linejoin:miter;stroke-opacity:1\"/>\n<path class=\"bond-4 atom-4 atom-5\" d=\"M 273.2,107.9 L 333.2,67.5\" style=\"fill:none;fill-rule:evenodd;stroke:#000000;stroke-width:2.0px;stroke-linecap:butt;stroke-linejoin:miter;stroke-opacity:1\"/>\n<path class=\"bond-5 atom-5 atom-6\" d=\"M 333.2,67.5 L 301.5,132.4\" style=\"fill:none;fill-rule:evenodd;stroke:#000000;stroke-width:2.0px;stroke-linecap:butt;stroke-linejoin:miter;stroke-opacity:1\"/>\n<path class=\"bond-6 atom-6 atom-7\" d=\"M 301.5,132.4 L 229.4,137.5\" style=\"fill:none;fill-rule:evenodd;stroke:#000000;stroke-width:2.0px;stroke-linecap:butt;stroke-linejoin:miter;stroke-opacity:1\"/>\n<path class=\"bond-7 atom-7 atom-8\" d=\"M 229.4,137.5 L 157.2,142.5\" style=\"fill:none;fill-rule:evenodd;stroke:#000000;stroke-width:2.0px;stroke-linecap:butt;stroke-linejoin:miter;stroke-opacity:1\"/>\n<path class=\"bond-8 atom-5 atom-9\" d=\"M 333.2,67.5 L 292.8,7.5\" style=\"fill:none;fill-rule:evenodd;stroke:#000000;stroke-width:2.0px;stroke-linecap:butt;stroke-linejoin:miter;stroke-opacity:1\"/>\n<path class=\"bond-9 atom-7 atom-0\" d=\"M 229.4,137.5 L 188.9,77.5\" style=\"fill:none;fill-rule:evenodd;stroke:#000000;stroke-width:2.0px;stroke-linecap:butt;stroke-linejoin:miter;stroke-opacity:1\"/>\n<path class=\"bond-10 atom-8 atom-3\" d=\"M 157.2,142.5 L 116.8,82.5\" style=\"fill:none;fill-rule:evenodd;stroke:#000000;stroke-width:2.0px;stroke-linecap:butt;stroke-linejoin:miter;stroke-opacity:1\"/>\n<path class=\"bond-11 atom-9 atom-1\" d=\"M 292.8,7.5 L 220.6,12.5\" style=\"fill:none;fill-rule:evenodd;stroke:#000000;stroke-width:2.0px;stroke-linecap:butt;stroke-linejoin:miter;stroke-opacity:1\"/>\n<path d=\"M 190.5,74.3 L 188.9,77.5 L 191.0,80.5\" style=\"fill:none;stroke:#000000;stroke-width:2.0px;stroke-linecap:butt;stroke-linejoin:miter;stroke-opacity:1;\"/>\n<path d=\"M 152.1,17.3 L 148.5,17.6 L 146.9,20.8\" style=\"fill:none;stroke:#000000;stroke-width:2.0px;stroke-linecap:butt;stroke-linejoin:miter;stroke-opacity:1;\"/>\n<path d=\"M 265.4,106.6 L 273.2,107.9 L 276.2,105.9\" style=\"fill:none;stroke:#000000;stroke-width:2.0px;stroke-linecap:butt;stroke-linejoin:miter;stroke-opacity:1;\"/>\n<path d=\"M 303.1,129.2 L 301.5,132.4 L 297.9,132.7\" style=\"fill:none;stroke:#000000;stroke-width:2.0px;stroke-linecap:butt;stroke-linejoin:miter;stroke-opacity:1;\"/>\n<path d=\"M 160.8,142.2 L 157.2,142.5 L 155.2,139.5\" style=\"fill:none;stroke:#000000;stroke-width:2.0px;stroke-linecap:butt;stroke-linejoin:miter;stroke-opacity:1;\"/>\n<path d=\"M 294.8,10.5 L 292.8,7.5 L 289.2,7.8\" style=\"fill:none;stroke:#000000;stroke-width:2.0px;stroke-linecap:butt;stroke-linejoin:miter;stroke-opacity:1;\"/>\n</svg>"
     },
     "metadata": {},
     "execution_count": 25
    }
   ],
   "source": [
    "smiles = \"C1C3CC2CC(CC1C2)C3\"\n",
    "print(get_iupac_name(smiles), smiles)\n",
    "mol = rdkit.Chem.MolFromSmiles(smiles)\n",
    "render_mol(mol)"
   ]
  },
  {
   "cell_type": "markdown",
   "id": "052dad15-35c8-4af0-bd52-216148bc5278",
   "metadata": {
    "id": "052dad15-35c8-4af0-bd52-216148bc5278"
   },
   "source": [
    "2 digit number are preceded by the `%` symbol"
   ]
  },
  {
   "cell_type": "code",
   "execution_count": 26,
   "id": "b1ef9c25-0af7-4ff0-8ea2-21f3eaffe0f3",
   "metadata": {
    "id": "b1ef9c25-0af7-4ff0-8ea2-21f3eaffe0f3",
    "outputId": "61c6c6b5-c9da-4b3c-cde7-f4bc01e70bee",
    "colab": {
     "base_uri": "https://localhost:8080/",
     "height": 188
    }
   },
   "outputs": [
    {
     "output_type": "stream",
     "name": "stdout",
     "text": [
      "1,2,3,4,4a,5,6,7,8,8a-decahydronaphthalene C%32CCC%11CCCCC%11C%32\n"
     ]
    },
    {
     "output_type": "execute_result",
     "data": {
      "text/plain": [
       "<IPython.core.display.SVG object>"
      ],
      "image/svg+xml": "<svg xmlns=\"http://www.w3.org/2000/svg\" xmlns:rdkit=\"http://www.rdkit.org/xml\" xmlns:xlink=\"http://www.w3.org/1999/xlink\" version=\"1.1\" baseProfile=\"full\" xml:space=\"preserve\" width=\"450px\" height=\"150px\" viewBox=\"0 0 450 150\">\n<!-- END OF HEADER -->\n<rect style=\"opacity:1.0;fill:#FFFFFF;stroke:none\" width=\"450.0\" height=\"150.0\" x=\"0.0\" y=\"0.0\"> </rect>\n<path class=\"bond-0 atom-0 atom-1\" d=\"M 108.1,108.8 L 108.1,41.2\" style=\"fill:none;fill-rule:evenodd;stroke:#000000;stroke-width:2.0px;stroke-linecap:butt;stroke-linejoin:miter;stroke-opacity:1\"/>\n<path class=\"bond-1 atom-1 atom-2\" d=\"M 108.1,41.2 L 166.5,7.5\" style=\"fill:none;fill-rule:evenodd;stroke:#000000;stroke-width:2.0px;stroke-linecap:butt;stroke-linejoin:miter;stroke-opacity:1\"/>\n<path class=\"bond-2 atom-2 atom-3\" d=\"M 166.5,7.5 L 225.0,41.2\" style=\"fill:none;fill-rule:evenodd;stroke:#000000;stroke-width:2.0px;stroke-linecap:butt;stroke-linejoin:miter;stroke-opacity:1\"/>\n<path class=\"bond-3 atom-3 atom-4\" d=\"M 225.0,41.2 L 283.5,7.5\" style=\"fill:none;fill-rule:evenodd;stroke:#000000;stroke-width:2.0px;stroke-linecap:butt;stroke-linejoin:miter;stroke-opacity:1\"/>\n<path class=\"bond-4 atom-4 atom-5\" d=\"M 283.5,7.5 L 341.9,41.3\" style=\"fill:none;fill-rule:evenodd;stroke:#000000;stroke-width:2.0px;stroke-linecap:butt;stroke-linejoin:miter;stroke-opacity:1\"/>\n<path class=\"bond-5 atom-5 atom-6\" d=\"M 341.9,41.3 L 341.9,108.8\" style=\"fill:none;fill-rule:evenodd;stroke:#000000;stroke-width:2.0px;stroke-linecap:butt;stroke-linejoin:miter;stroke-opacity:1\"/>\n<path class=\"bond-6 atom-6 atom-7\" d=\"M 341.9,108.8 L 283.5,142.5\" style=\"fill:none;fill-rule:evenodd;stroke:#000000;stroke-width:2.0px;stroke-linecap:butt;stroke-linejoin:miter;stroke-opacity:1\"/>\n<path class=\"bond-7 atom-7 atom-8\" d=\"M 283.5,142.5 L 225.0,108.8\" style=\"fill:none;fill-rule:evenodd;stroke:#000000;stroke-width:2.0px;stroke-linecap:butt;stroke-linejoin:miter;stroke-opacity:1\"/>\n<path class=\"bond-8 atom-8 atom-9\" d=\"M 225.0,108.8 L 166.5,142.5\" style=\"fill:none;fill-rule:evenodd;stroke:#000000;stroke-width:2.0px;stroke-linecap:butt;stroke-linejoin:miter;stroke-opacity:1\"/>\n<path class=\"bond-9 atom-8 atom-3\" d=\"M 225.0,108.8 L 225.0,41.2\" style=\"fill:none;fill-rule:evenodd;stroke:#000000;stroke-width:2.0px;stroke-linecap:butt;stroke-linejoin:miter;stroke-opacity:1\"/>\n<path class=\"bond-10 atom-9 atom-0\" d=\"M 166.5,142.5 L 108.1,108.8\" style=\"fill:none;fill-rule:evenodd;stroke:#000000;stroke-width:2.0px;stroke-linecap:butt;stroke-linejoin:miter;stroke-opacity:1\"/>\n<path d=\"M 108.1,105.4 L 108.1,108.8 L 111.0,110.4\" style=\"fill:none;stroke:#000000;stroke-width:2.0px;stroke-linecap:butt;stroke-linejoin:miter;stroke-opacity:1;\"/>\n<path d=\"M 108.1,44.6 L 108.1,41.2 L 111.0,39.6\" style=\"fill:none;stroke:#000000;stroke-width:2.0px;stroke-linecap:butt;stroke-linejoin:miter;stroke-opacity:1;\"/>\n<path d=\"M 163.6,9.2 L 166.5,7.5 L 169.5,9.2\" style=\"fill:none;stroke:#000000;stroke-width:2.0px;stroke-linecap:butt;stroke-linejoin:miter;stroke-opacity:1;\"/>\n<path d=\"M 280.5,9.2 L 283.5,7.5 L 286.4,9.2\" style=\"fill:none;stroke:#000000;stroke-width:2.0px;stroke-linecap:butt;stroke-linejoin:miter;stroke-opacity:1;\"/>\n<path d=\"M 339.0,39.6 L 341.9,41.3 L 341.9,44.6\" style=\"fill:none;stroke:#000000;stroke-width:2.0px;stroke-linecap:butt;stroke-linejoin:miter;stroke-opacity:1;\"/>\n<path d=\"M 341.9,105.4 L 341.9,108.8 L 339.0,110.4\" style=\"fill:none;stroke:#000000;stroke-width:2.0px;stroke-linecap:butt;stroke-linejoin:miter;stroke-opacity:1;\"/>\n<path d=\"M 286.4,140.8 L 283.5,142.5 L 280.5,140.8\" style=\"fill:none;stroke:#000000;stroke-width:2.0px;stroke-linecap:butt;stroke-linejoin:miter;stroke-opacity:1;\"/>\n<path d=\"M 169.5,140.8 L 166.5,142.5 L 163.6,140.8\" style=\"fill:none;stroke:#000000;stroke-width:2.0px;stroke-linecap:butt;stroke-linejoin:miter;stroke-opacity:1;\"/>\n</svg>"
     },
     "metadata": {},
     "execution_count": 26
    }
   ],
   "source": [
    "smiles = \"C%32CCC%11CCCCC%11C%32\"\n",
    "print(get_iupac_name(smiles), smiles)\n",
    "mol = rdkit.Chem.MolFromSmiles(smiles)\n",
    "render_mol(mol)"
   ]
  },
  {
   "cell_type": "markdown",
   "id": "117e6369-ea84-469a-9e1f-609a353e056c",
   "metadata": {
    "id": "117e6369-ea84-469a-9e1f-609a353e056c"
   },
   "source": [
    "### Aromacity\n",
    "\n",
    "Aromatic rings can be specified in multiple different ways:\n",
    "\n",
    "- with lower case symbols of `b, c, n, o, p, s`"
   ]
  },
  {
   "cell_type": "code",
   "execution_count": 27,
   "id": "c036d883-bb78-4afe-b68a-765505613356",
   "metadata": {
    "id": "c036d883-bb78-4afe-b68a-765505613356",
    "outputId": "4527ba14-c96e-4d67-8355-25bd95c18c9d",
    "colab": {
     "base_uri": "https://localhost:8080/",
     "height": 188
    }
   },
   "outputs": [
    {
     "output_type": "stream",
     "name": "stdout",
     "text": [
      "BENZENE c1ccccc1\n"
     ]
    },
    {
     "output_type": "execute_result",
     "data": {
      "text/plain": [
       "<IPython.core.display.SVG object>"
      ],
      "image/svg+xml": "<svg xmlns=\"http://www.w3.org/2000/svg\" xmlns:rdkit=\"http://www.rdkit.org/xml\" xmlns:xlink=\"http://www.w3.org/1999/xlink\" version=\"1.1\" baseProfile=\"full\" xml:space=\"preserve\" width=\"450px\" height=\"150px\" viewBox=\"0 0 450 150\">\n<!-- END OF HEADER -->\n<rect style=\"opacity:1.0;fill:#FFFFFF;stroke:none\" width=\"450.0\" height=\"150.0\" x=\"0.0\" y=\"0.0\"> </rect>\n<path class=\"bond-0 atom-0 atom-1\" d=\"M 302.9,75.0 L 264.0,142.5\" style=\"fill:none;fill-rule:evenodd;stroke:#000000;stroke-width:2.0px;stroke-linecap:butt;stroke-linejoin:miter;stroke-opacity:1\"/>\n<path class=\"bond-0 atom-0 atom-1\" d=\"M 289.4,75.0 L 257.2,130.8\" style=\"fill:none;fill-rule:evenodd;stroke:#000000;stroke-width:2.0px;stroke-linecap:butt;stroke-linejoin:miter;stroke-opacity:1\"/>\n<path class=\"bond-1 atom-1 atom-2\" d=\"M 264.0,142.5 L 186.0,142.5\" style=\"fill:none;fill-rule:evenodd;stroke:#000000;stroke-width:2.0px;stroke-linecap:butt;stroke-linejoin:miter;stroke-opacity:1\"/>\n<path class=\"bond-2 atom-2 atom-3\" d=\"M 186.0,142.5 L 147.1,75.0\" style=\"fill:none;fill-rule:evenodd;stroke:#000000;stroke-width:2.0px;stroke-linecap:butt;stroke-linejoin:miter;stroke-opacity:1\"/>\n<path class=\"bond-2 atom-2 atom-3\" d=\"M 192.8,130.8 L 160.6,75.0\" style=\"fill:none;fill-rule:evenodd;stroke:#000000;stroke-width:2.0px;stroke-linecap:butt;stroke-linejoin:miter;stroke-opacity:1\"/>\n<path class=\"bond-3 atom-3 atom-4\" d=\"M 147.1,75.0 L 186.0,7.5\" style=\"fill:none;fill-rule:evenodd;stroke:#000000;stroke-width:2.0px;stroke-linecap:butt;stroke-linejoin:miter;stroke-opacity:1\"/>\n<path class=\"bond-4 atom-4 atom-5\" d=\"M 186.0,7.5 L 264.0,7.5\" style=\"fill:none;fill-rule:evenodd;stroke:#000000;stroke-width:2.0px;stroke-linecap:butt;stroke-linejoin:miter;stroke-opacity:1\"/>\n<path class=\"bond-4 atom-4 atom-5\" d=\"M 192.8,19.2 L 257.2,19.2\" style=\"fill:none;fill-rule:evenodd;stroke:#000000;stroke-width:2.0px;stroke-linecap:butt;stroke-linejoin:miter;stroke-opacity:1\"/>\n<path class=\"bond-5 atom-5 atom-0\" d=\"M 264.0,7.5 L 302.9,75.0\" style=\"fill:none;fill-rule:evenodd;stroke:#000000;stroke-width:2.0px;stroke-linecap:butt;stroke-linejoin:miter;stroke-opacity:1\"/>\n<path d=\"M 301.0,78.4 L 302.9,75.0 L 301.0,71.6\" style=\"fill:none;stroke:#000000;stroke-width:2.0px;stroke-linecap:butt;stroke-linejoin:miter;stroke-opacity:1;\"/>\n<path d=\"M 265.9,139.1 L 264.0,142.5 L 260.1,142.5\" style=\"fill:none;stroke:#000000;stroke-width:2.0px;stroke-linecap:butt;stroke-linejoin:miter;stroke-opacity:1;\"/>\n<path d=\"M 189.9,142.5 L 186.0,142.5 L 184.1,139.1\" style=\"fill:none;stroke:#000000;stroke-width:2.0px;stroke-linecap:butt;stroke-linejoin:miter;stroke-opacity:1;\"/>\n<path d=\"M 149.0,78.4 L 147.1,75.0 L 149.0,71.6\" style=\"fill:none;stroke:#000000;stroke-width:2.0px;stroke-linecap:butt;stroke-linejoin:miter;stroke-opacity:1;\"/>\n<path d=\"M 184.1,10.9 L 186.0,7.5 L 189.9,7.5\" style=\"fill:none;stroke:#000000;stroke-width:2.0px;stroke-linecap:butt;stroke-linejoin:miter;stroke-opacity:1;\"/>\n<path d=\"M 260.1,7.5 L 264.0,7.5 L 265.9,10.9\" style=\"fill:none;stroke:#000000;stroke-width:2.0px;stroke-linecap:butt;stroke-linejoin:miter;stroke-opacity:1;\"/>\n</svg>"
     },
     "metadata": {},
     "execution_count": 27
    }
   ],
   "source": [
    "smiles = \"c1ccccc1\"\n",
    "print(get_iupac_name(smiles), smiles)\n",
    "mol = rdkit.Chem.MolFromSmiles(smiles)\n",
    "render_mol(mol)"
   ]
  },
  {
   "cell_type": "markdown",
   "id": "aa3a98cd-1997-46ae-b34d-ab3c31f8bc50",
   "metadata": {
    "id": "aa3a98cd-1997-46ae-b34d-ab3c31f8bc50"
   },
   "source": [
    "- with the aromatic bond symbol"
   ]
  },
  {
   "cell_type": "code",
   "execution_count": 28,
   "id": "1fbc0234-52fd-4b2c-998f-8d62019335d8",
   "metadata": {
    "id": "1fbc0234-52fd-4b2c-998f-8d62019335d8",
    "outputId": "78f092b7-ebe3-4e2a-eaca-91afd726480f",
    "colab": {
     "base_uri": "https://localhost:8080/",
     "height": 206
    }
   },
   "outputs": [
    {
     "output_type": "stream",
     "name": "stdout",
     "text": [
      "<h1>Page not found (404)</h1>\n",
      " C:1C:C:C:C:C1\n"
     ]
    },
    {
     "output_type": "execute_result",
     "data": {
      "text/plain": [
       "<IPython.core.display.SVG object>"
      ],
      "image/svg+xml": "<svg xmlns=\"http://www.w3.org/2000/svg\" xmlns:rdkit=\"http://www.rdkit.org/xml\" xmlns:xlink=\"http://www.w3.org/1999/xlink\" version=\"1.1\" baseProfile=\"full\" xml:space=\"preserve\" width=\"450px\" height=\"150px\" viewBox=\"0 0 450 150\">\n<!-- END OF HEADER -->\n<rect style=\"opacity:1.0;fill:#FFFFFF;stroke:none\" width=\"450.0\" height=\"150.0\" x=\"0.0\" y=\"0.0\"> </rect>\n<path class=\"bond-0 atom-0 atom-1\" d=\"M 302.9,75.0 L 264.0,142.5\" style=\"fill:none;fill-rule:evenodd;stroke:#000000;stroke-width:2.0px;stroke-linecap:butt;stroke-linejoin:miter;stroke-opacity:1\"/>\n<path class=\"bond-0 atom-0 atom-1\" d=\"M 289.4,75.0 L 257.2,130.8\" style=\"fill:none;fill-rule:evenodd;stroke:#000000;stroke-width:2.0px;stroke-linecap:butt;stroke-linejoin:miter;stroke-opacity:1\"/>\n<path class=\"bond-1 atom-1 atom-2\" d=\"M 264.0,142.5 L 186.0,142.5\" style=\"fill:none;fill-rule:evenodd;stroke:#000000;stroke-width:2.0px;stroke-linecap:butt;stroke-linejoin:miter;stroke-opacity:1\"/>\n<path class=\"bond-2 atom-2 atom-3\" d=\"M 186.0,142.5 L 147.1,75.0\" style=\"fill:none;fill-rule:evenodd;stroke:#000000;stroke-width:2.0px;stroke-linecap:butt;stroke-linejoin:miter;stroke-opacity:1\"/>\n<path class=\"bond-2 atom-2 atom-3\" d=\"M 192.8,130.8 L 160.6,75.0\" style=\"fill:none;fill-rule:evenodd;stroke:#000000;stroke-width:2.0px;stroke-linecap:butt;stroke-linejoin:miter;stroke-opacity:1\"/>\n<path class=\"bond-3 atom-3 atom-4\" d=\"M 147.1,75.0 L 186.0,7.5\" style=\"fill:none;fill-rule:evenodd;stroke:#000000;stroke-width:2.0px;stroke-linecap:butt;stroke-linejoin:miter;stroke-opacity:1\"/>\n<path class=\"bond-4 atom-4 atom-5\" d=\"M 186.0,7.5 L 264.0,7.5\" style=\"fill:none;fill-rule:evenodd;stroke:#000000;stroke-width:2.0px;stroke-linecap:butt;stroke-linejoin:miter;stroke-opacity:1\"/>\n<path class=\"bond-4 atom-4 atom-5\" d=\"M 192.8,19.2 L 257.2,19.2\" style=\"fill:none;fill-rule:evenodd;stroke:#000000;stroke-width:2.0px;stroke-linecap:butt;stroke-linejoin:miter;stroke-opacity:1\"/>\n<path class=\"bond-5 atom-0 atom-5\" d=\"M 302.9,75.0 L 264.0,7.5\" style=\"fill:none;fill-rule:evenodd;stroke:#000000;stroke-width:2.0px;stroke-linecap:butt;stroke-linejoin:miter;stroke-opacity:1\"/>\n<path d=\"M 301.0,78.4 L 302.9,75.0 L 301.0,71.6\" style=\"fill:none;stroke:#000000;stroke-width:2.0px;stroke-linecap:butt;stroke-linejoin:miter;stroke-opacity:1;\"/>\n<path d=\"M 265.9,139.1 L 264.0,142.5 L 260.1,142.5\" style=\"fill:none;stroke:#000000;stroke-width:2.0px;stroke-linecap:butt;stroke-linejoin:miter;stroke-opacity:1;\"/>\n<path d=\"M 189.9,142.5 L 186.0,142.5 L 184.1,139.1\" style=\"fill:none;stroke:#000000;stroke-width:2.0px;stroke-linecap:butt;stroke-linejoin:miter;stroke-opacity:1;\"/>\n<path d=\"M 149.0,78.4 L 147.1,75.0 L 149.0,71.6\" style=\"fill:none;stroke:#000000;stroke-width:2.0px;stroke-linecap:butt;stroke-linejoin:miter;stroke-opacity:1;\"/>\n<path d=\"M 184.1,10.9 L 186.0,7.5 L 189.9,7.5\" style=\"fill:none;stroke:#000000;stroke-width:2.0px;stroke-linecap:butt;stroke-linejoin:miter;stroke-opacity:1;\"/>\n<path d=\"M 260.1,7.5 L 264.0,7.5 L 265.9,10.9\" style=\"fill:none;stroke:#000000;stroke-width:2.0px;stroke-linecap:butt;stroke-linejoin:miter;stroke-opacity:1;\"/>\n</svg>"
     },
     "metadata": {},
     "execution_count": 28
    }
   ],
   "source": [
    "smiles = \"C:1C:C:C:C:C1\"\n",
    "print(get_iupac_name(smiles), smiles)\n",
    "mol = rdkit.Chem.MolFromSmiles(smiles)\n",
    "render_mol(mol)"
   ]
  },
  {
   "cell_type": "markdown",
   "id": "dfefce7f-c815-46ca-b685-4778c410d6ef",
   "metadata": {
    "id": "dfefce7f-c815-46ca-b685-4778c410d6ef"
   },
   "source": [
    "- with the Kekule notation of alternating double and single bonds"
   ]
  },
  {
   "cell_type": "code",
   "execution_count": 29,
   "id": "36ad59ab-52b9-4efb-b911-fe83859332f9",
   "metadata": {
    "id": "36ad59ab-52b9-4efb-b911-fe83859332f9",
    "outputId": "6c766371-db69-4497-cd91-a233abd05e28",
    "colab": {
     "base_uri": "https://localhost:8080/",
     "height": 188
    }
   },
   "outputs": [
    {
     "output_type": "stream",
     "name": "stdout",
     "text": [
      "BENZENE C1=CC=CC=C1\n"
     ]
    },
    {
     "output_type": "execute_result",
     "data": {
      "text/plain": [
       "<IPython.core.display.SVG object>"
      ],
      "image/svg+xml": "<svg xmlns=\"http://www.w3.org/2000/svg\" xmlns:rdkit=\"http://www.rdkit.org/xml\" xmlns:xlink=\"http://www.w3.org/1999/xlink\" version=\"1.1\" baseProfile=\"full\" xml:space=\"preserve\" width=\"450px\" height=\"150px\" viewBox=\"0 0 450 150\">\n<!-- END OF HEADER -->\n<rect style=\"opacity:1.0;fill:#FFFFFF;stroke:none\" width=\"450.0\" height=\"150.0\" x=\"0.0\" y=\"0.0\"> </rect>\n<path class=\"bond-0 atom-0 atom-1\" d=\"M 302.9,75.0 L 264.0,142.5\" style=\"fill:none;fill-rule:evenodd;stroke:#000000;stroke-width:2.0px;stroke-linecap:butt;stroke-linejoin:miter;stroke-opacity:1\"/>\n<path class=\"bond-0 atom-0 atom-1\" d=\"M 289.4,75.0 L 257.2,130.8\" style=\"fill:none;fill-rule:evenodd;stroke:#000000;stroke-width:2.0px;stroke-linecap:butt;stroke-linejoin:miter;stroke-opacity:1\"/>\n<path class=\"bond-1 atom-1 atom-2\" d=\"M 264.0,142.5 L 186.0,142.5\" style=\"fill:none;fill-rule:evenodd;stroke:#000000;stroke-width:2.0px;stroke-linecap:butt;stroke-linejoin:miter;stroke-opacity:1\"/>\n<path class=\"bond-2 atom-2 atom-3\" d=\"M 186.0,142.5 L 147.1,75.0\" style=\"fill:none;fill-rule:evenodd;stroke:#000000;stroke-width:2.0px;stroke-linecap:butt;stroke-linejoin:miter;stroke-opacity:1\"/>\n<path class=\"bond-2 atom-2 atom-3\" d=\"M 192.8,130.8 L 160.6,75.0\" style=\"fill:none;fill-rule:evenodd;stroke:#000000;stroke-width:2.0px;stroke-linecap:butt;stroke-linejoin:miter;stroke-opacity:1\"/>\n<path class=\"bond-3 atom-3 atom-4\" d=\"M 147.1,75.0 L 186.0,7.5\" style=\"fill:none;fill-rule:evenodd;stroke:#000000;stroke-width:2.0px;stroke-linecap:butt;stroke-linejoin:miter;stroke-opacity:1\"/>\n<path class=\"bond-4 atom-4 atom-5\" d=\"M 186.0,7.5 L 264.0,7.5\" style=\"fill:none;fill-rule:evenodd;stroke:#000000;stroke-width:2.0px;stroke-linecap:butt;stroke-linejoin:miter;stroke-opacity:1\"/>\n<path class=\"bond-4 atom-4 atom-5\" d=\"M 192.8,19.2 L 257.2,19.2\" style=\"fill:none;fill-rule:evenodd;stroke:#000000;stroke-width:2.0px;stroke-linecap:butt;stroke-linejoin:miter;stroke-opacity:1\"/>\n<path class=\"bond-5 atom-5 atom-0\" d=\"M 264.0,7.5 L 302.9,75.0\" style=\"fill:none;fill-rule:evenodd;stroke:#000000;stroke-width:2.0px;stroke-linecap:butt;stroke-linejoin:miter;stroke-opacity:1\"/>\n<path d=\"M 301.0,78.4 L 302.9,75.0 L 301.0,71.6\" style=\"fill:none;stroke:#000000;stroke-width:2.0px;stroke-linecap:butt;stroke-linejoin:miter;stroke-opacity:1;\"/>\n<path d=\"M 265.9,139.1 L 264.0,142.5 L 260.1,142.5\" style=\"fill:none;stroke:#000000;stroke-width:2.0px;stroke-linecap:butt;stroke-linejoin:miter;stroke-opacity:1;\"/>\n<path d=\"M 189.9,142.5 L 186.0,142.5 L 184.1,139.1\" style=\"fill:none;stroke:#000000;stroke-width:2.0px;stroke-linecap:butt;stroke-linejoin:miter;stroke-opacity:1;\"/>\n<path d=\"M 149.0,78.4 L 147.1,75.0 L 149.0,71.6\" style=\"fill:none;stroke:#000000;stroke-width:2.0px;stroke-linecap:butt;stroke-linejoin:miter;stroke-opacity:1;\"/>\n<path d=\"M 184.1,10.9 L 186.0,7.5 L 189.9,7.5\" style=\"fill:none;stroke:#000000;stroke-width:2.0px;stroke-linecap:butt;stroke-linejoin:miter;stroke-opacity:1;\"/>\n<path d=\"M 260.1,7.5 L 264.0,7.5 L 265.9,10.9\" style=\"fill:none;stroke:#000000;stroke-width:2.0px;stroke-linecap:butt;stroke-linejoin:miter;stroke-opacity:1;\"/>\n</svg>"
     },
     "metadata": {},
     "execution_count": 29
    }
   ],
   "source": [
    "smiles = \"C1=CC=CC=C1\"\n",
    "print(get_iupac_name(smiles), smiles)\n",
    "mol = rdkit.Chem.MolFromSmiles(smiles)\n",
    "render_mol(mol)"
   ]
  },
  {
   "cell_type": "markdown",
   "id": "bf9ee318-c24a-41ff-a4d6-d03d124cc707",
   "metadata": {
    "id": "bf9ee318-c24a-41ff-a4d6-d03d124cc707"
   },
   "source": [
    "Aromatic rings that are bonded with a single bond, need to spell out the single bond. It may not be omitted."
   ]
  },
  {
   "cell_type": "code",
   "execution_count": 30,
   "id": "0b6a2064-2714-43ae-9ded-734055095fcd",
   "metadata": {
    "id": "0b6a2064-2714-43ae-9ded-734055095fcd",
    "outputId": "7f39162a-cd34-422b-a030-2b9711a9a7ee",
    "colab": {
     "base_uri": "https://localhost:8080/",
     "height": 188
    }
   },
   "outputs": [
    {
     "output_type": "stream",
     "name": "stdout",
     "text": [
      "Phenylbenzene c1ccccc1-c2ccccc2\n"
     ]
    },
    {
     "output_type": "execute_result",
     "data": {
      "text/plain": [
       "<IPython.core.display.SVG object>"
      ],
      "image/svg+xml": "<svg xmlns=\"http://www.w3.org/2000/svg\" xmlns:rdkit=\"http://www.rdkit.org/xml\" xmlns:xlink=\"http://www.w3.org/1999/xlink\" version=\"1.1\" baseProfile=\"full\" xml:space=\"preserve\" width=\"450px\" height=\"150px\" viewBox=\"0 0 450 150\">\n<!-- END OF HEADER -->\n<rect style=\"opacity:1.0;fill:#FFFFFF;stroke:none\" width=\"450.0\" height=\"150.0\" x=\"0.0\" y=\"0.0\"> </rect>\n<path class=\"bond-0 atom-0 atom-1\" d=\"M 147.1,142.5 L 69.1,142.5\" style=\"fill:none;fill-rule:evenodd;stroke:#000000;stroke-width:2.0px;stroke-linecap:butt;stroke-linejoin:miter;stroke-opacity:1\"/>\n<path class=\"bond-0 atom-0 atom-1\" d=\"M 140.3,130.8 L 75.9,130.8\" style=\"fill:none;fill-rule:evenodd;stroke:#000000;stroke-width:2.0px;stroke-linecap:butt;stroke-linejoin:miter;stroke-opacity:1\"/>\n<path class=\"bond-1 atom-1 atom-2\" d=\"M 69.1,142.5 L 30.1,75.0\" style=\"fill:none;fill-rule:evenodd;stroke:#000000;stroke-width:2.0px;stroke-linecap:butt;stroke-linejoin:miter;stroke-opacity:1\"/>\n<path class=\"bond-2 atom-2 atom-3\" d=\"M 30.1,75.0 L 69.1,7.5\" style=\"fill:none;fill-rule:evenodd;stroke:#000000;stroke-width:2.0px;stroke-linecap:butt;stroke-linejoin:miter;stroke-opacity:1\"/>\n<path class=\"bond-2 atom-2 atom-3\" d=\"M 43.6,75.0 L 75.9,19.2\" style=\"fill:none;fill-rule:evenodd;stroke:#000000;stroke-width:2.0px;stroke-linecap:butt;stroke-linejoin:miter;stroke-opacity:1\"/>\n<path class=\"bond-3 atom-3 atom-4\" d=\"M 69.1,7.5 L 147.1,7.5\" style=\"fill:none;fill-rule:evenodd;stroke:#000000;stroke-width:2.0px;stroke-linecap:butt;stroke-linejoin:miter;stroke-opacity:1\"/>\n<path class=\"bond-4 atom-4 atom-5\" d=\"M 147.1,7.5 L 186.0,75.0\" style=\"fill:none;fill-rule:evenodd;stroke:#000000;stroke-width:2.0px;stroke-linecap:butt;stroke-linejoin:miter;stroke-opacity:1\"/>\n<path class=\"bond-4 atom-4 atom-5\" d=\"M 140.3,19.2 L 172.5,75.0\" style=\"fill:none;fill-rule:evenodd;stroke:#000000;stroke-width:2.0px;stroke-linecap:butt;stroke-linejoin:miter;stroke-opacity:1\"/>\n<path class=\"bond-5 atom-5 atom-6\" d=\"M 186.0,75.0 L 264.0,75.0\" style=\"fill:none;fill-rule:evenodd;stroke:#000000;stroke-width:2.0px;stroke-linecap:butt;stroke-linejoin:miter;stroke-opacity:1\"/>\n<path class=\"bond-6 atom-6 atom-7\" d=\"M 264.0,75.0 L 302.9,142.5\" style=\"fill:none;fill-rule:evenodd;stroke:#000000;stroke-width:2.0px;stroke-linecap:butt;stroke-linejoin:miter;stroke-opacity:1\"/>\n<path class=\"bond-6 atom-6 atom-7\" d=\"M 277.5,75.0 L 309.7,130.8\" style=\"fill:none;fill-rule:evenodd;stroke:#000000;stroke-width:2.0px;stroke-linecap:butt;stroke-linejoin:miter;stroke-opacity:1\"/>\n<path class=\"bond-7 atom-7 atom-8\" d=\"M 302.9,142.5 L 380.9,142.5\" style=\"fill:none;fill-rule:evenodd;stroke:#000000;stroke-width:2.0px;stroke-linecap:butt;stroke-linejoin:miter;stroke-opacity:1\"/>\n<path class=\"bond-8 atom-8 atom-9\" d=\"M 380.9,142.5 L 419.9,75.0\" style=\"fill:none;fill-rule:evenodd;stroke:#000000;stroke-width:2.0px;stroke-linecap:butt;stroke-linejoin:miter;stroke-opacity:1\"/>\n<path class=\"bond-8 atom-8 atom-9\" d=\"M 374.1,130.8 L 406.4,75.0\" style=\"fill:none;fill-rule:evenodd;stroke:#000000;stroke-width:2.0px;stroke-linecap:butt;stroke-linejoin:miter;stroke-opacity:1\"/>\n<path class=\"bond-9 atom-9 atom-10\" d=\"M 419.9,75.0 L 380.9,7.5\" style=\"fill:none;fill-rule:evenodd;stroke:#000000;stroke-width:2.0px;stroke-linecap:butt;stroke-linejoin:miter;stroke-opacity:1\"/>\n<path class=\"bond-10 atom-10 atom-11\" d=\"M 380.9,7.5 L 302.9,7.5\" style=\"fill:none;fill-rule:evenodd;stroke:#000000;stroke-width:2.0px;stroke-linecap:butt;stroke-linejoin:miter;stroke-opacity:1\"/>\n<path class=\"bond-10 atom-10 atom-11\" d=\"M 374.1,19.2 L 309.7,19.2\" style=\"fill:none;fill-rule:evenodd;stroke:#000000;stroke-width:2.0px;stroke-linecap:butt;stroke-linejoin:miter;stroke-opacity:1\"/>\n<path class=\"bond-11 atom-5 atom-0\" d=\"M 186.0,75.0 L 147.1,142.5\" style=\"fill:none;fill-rule:evenodd;stroke:#000000;stroke-width:2.0px;stroke-linecap:butt;stroke-linejoin:miter;stroke-opacity:1\"/>\n<path class=\"bond-12 atom-11 atom-6\" d=\"M 302.9,7.5 L 264.0,75.0\" style=\"fill:none;fill-rule:evenodd;stroke:#000000;stroke-width:2.0px;stroke-linecap:butt;stroke-linejoin:miter;stroke-opacity:1\"/>\n<path d=\"M 143.2,142.5 L 147.1,142.5 L 149.0,139.1\" style=\"fill:none;stroke:#000000;stroke-width:2.0px;stroke-linecap:butt;stroke-linejoin:miter;stroke-opacity:1;\"/>\n<path d=\"M 73.0,142.5 L 69.1,142.5 L 67.2,139.1\" style=\"fill:none;stroke:#000000;stroke-width:2.0px;stroke-linecap:butt;stroke-linejoin:miter;stroke-opacity:1;\"/>\n<path d=\"M 32.1,78.4 L 30.1,75.0 L 32.1,71.6\" style=\"fill:none;stroke:#000000;stroke-width:2.0px;stroke-linecap:butt;stroke-linejoin:miter;stroke-opacity:1;\"/>\n<path d=\"M 67.2,10.9 L 69.1,7.5 L 73.0,7.5\" style=\"fill:none;stroke:#000000;stroke-width:2.0px;stroke-linecap:butt;stroke-linejoin:miter;stroke-opacity:1;\"/>\n<path d=\"M 143.2,7.5 L 147.1,7.5 L 149.0,10.9\" style=\"fill:none;stroke:#000000;stroke-width:2.0px;stroke-linecap:butt;stroke-linejoin:miter;stroke-opacity:1;\"/>\n<path d=\"M 301.0,139.1 L 302.9,142.5 L 306.8,142.5\" style=\"fill:none;stroke:#000000;stroke-width:2.0px;stroke-linecap:butt;stroke-linejoin:miter;stroke-opacity:1;\"/>\n<path d=\"M 377.0,142.5 L 380.9,142.5 L 382.8,139.1\" style=\"fill:none;stroke:#000000;stroke-width:2.0px;stroke-linecap:butt;stroke-linejoin:miter;stroke-opacity:1;\"/>\n<path d=\"M 417.9,78.4 L 419.9,75.0 L 417.9,71.6\" style=\"fill:none;stroke:#000000;stroke-width:2.0px;stroke-linecap:butt;stroke-linejoin:miter;stroke-opacity:1;\"/>\n<path d=\"M 382.8,10.9 L 380.9,7.5 L 377.0,7.5\" style=\"fill:none;stroke:#000000;stroke-width:2.0px;stroke-linecap:butt;stroke-linejoin:miter;stroke-opacity:1;\"/>\n<path d=\"M 306.8,7.5 L 302.9,7.5 L 301.0,10.9\" style=\"fill:none;stroke:#000000;stroke-width:2.0px;stroke-linecap:butt;stroke-linejoin:miter;stroke-opacity:1;\"/>\n</svg>"
     },
     "metadata": {},
     "execution_count": 30
    }
   ],
   "source": [
    "smiles = \"c1ccccc1-c2ccccc2\"\n",
    "print(get_iupac_name(smiles), smiles)\n",
    "mol = rdkit.Chem.MolFromSmiles(smiles)\n",
    "render_mol(mol)"
   ]
  },
  {
   "cell_type": "markdown",
   "id": "c3ca6ae8-b7a8-4ef0-8771-80e62453a60c",
   "metadata": {
    "id": "c3ca6ae8-b7a8-4ef0-8771-80e62453a60c"
   },
   "source": [
    "### SMILES Challenge\n",
    "\n",
    "Create the SMILES string for Aspirin, starting with the carbon atom highlighted in green.\n",
    "![image.png](attachment:7db03486-0598-484c-9b24-cce05877a488.png)"
   ]
  },
  {
   "cell_type": "code",
   "execution_count": 31,
   "id": "f96c3d69-d1aa-4478-9a6b-8fac74d2368b",
   "metadata": {
    "id": "f96c3d69-d1aa-4478-9a6b-8fac74d2368b",
    "outputId": "b2bfd4fe-d1bc-4a39-b3a5-61078b7dc802",
    "colab": {
     "base_uri": "https://localhost:8080/",
     "height": 188
    }
   },
   "outputs": [
    {
     "output_type": "stream",
     "name": "stdout",
     "text": [
      "methane C\n"
     ]
    },
    {
     "output_type": "execute_result",
     "data": {
      "text/plain": [
       "<IPython.core.display.SVG object>"
      ],
      "image/svg+xml": "<svg xmlns=\"http://www.w3.org/2000/svg\" xmlns:rdkit=\"http://www.rdkit.org/xml\" xmlns:xlink=\"http://www.w3.org/1999/xlink\" version=\"1.1\" baseProfile=\"full\" xml:space=\"preserve\" width=\"450px\" height=\"150px\" viewBox=\"0 0 450 150\">\n<!-- END OF HEADER -->\n<rect style=\"opacity:1.0;fill:#FFFFFF;stroke:none\" width=\"450.0\" height=\"150.0\" x=\"0.0\" y=\"0.0\"> </rect>\n<path class=\"atom-0\" d=\"M 191.1 68.0 Q 191.1 61.0, 194.4 57.3 Q 197.7 53.6, 204.0 53.6 Q 209.8 53.6, 213.0 57.7 L 210.3 59.9 Q 208.0 56.9, 204.0 56.9 Q 199.7 56.9, 197.4 59.8 Q 195.2 62.6, 195.2 68.0 Q 195.2 73.6, 197.5 76.5 Q 199.9 79.4, 204.4 79.4 Q 207.6 79.4, 211.2 77.5 L 212.3 80.5 Q 210.8 81.5, 208.6 82.0 Q 206.4 82.6, 203.9 82.6 Q 197.7 82.6, 194.4 78.8 Q 191.1 75.1, 191.1 68.0 \" fill=\"#000000\"/>\n<path class=\"atom-0\" d=\"M 216.7 53.9 L 220.6 53.9 L 220.6 66.0 L 235.1 66.0 L 235.1 53.9 L 238.9 53.9 L 238.9 82.2 L 235.1 82.2 L 235.1 69.2 L 220.6 69.2 L 220.6 82.2 L 216.7 82.2 L 216.7 53.9 \" fill=\"#000000\"/>\n<path class=\"atom-0\" d=\"M 256.6 90.0 L 258.9 90.0 L 258.9 92.1 L 256.6 92.1 L 256.6 96.4 L 254.2 96.4 L 254.2 92.1 L 244.5 92.1 L 244.5 90.4 L 252.7 77.7 L 256.6 77.7 L 256.6 90.0 M 247.6 90.0 L 254.2 90.0 L 254.2 79.4 L 247.6 90.0 \" fill=\"#000000\"/>\n</svg>"
     },
     "metadata": {},
     "execution_count": 31
    }
   ],
   "source": [
    "smiles = \"C\"\n",
    "print(get_iupac_name(smiles), smiles)\n",
    "mol = rdkit.Chem.MolFromSmiles(smiles)\n",
    "render_mol(mol)"
   ]
  },
  {
   "cell_type": "markdown",
   "id": "4c1e8302-846d-4ffb-bc88-9f769e89f2e0",
   "metadata": {
    "id": "4c1e8302-846d-4ffb-bc88-9f769e89f2e0"
   },
   "source": [
    "## SELFIES for Machine learning Input\n",
    "\n",
    "Selfies are an alternative to SMILES. They are both a text representation.\n",
    "SMILES is older, more compact but lacks some of the features of SELFIES."
   ]
  },
  {
   "cell_type": "code",
   "execution_count": 32,
   "id": "7869f915-0b7c-464c-9f1c-839436f0eddc",
   "metadata": {
    "id": "7869f915-0b7c-464c-9f1c-839436f0eddc",
    "outputId": "a35c2dd2-d91d-46e8-e968-cd8ef07c5de8",
    "colab": {
     "base_uri": "https://localhost:8080/",
     "height": 35
    }
   },
   "outputs": [
    {
     "output_type": "execute_result",
     "data": {
      "text/plain": [
       "'[C][C][O]'"
      ],
      "application/vnd.google.colaboratory.intrinsic+json": {
       "type": "string"
      }
     },
     "metadata": {},
     "execution_count": 32
    }
   ],
   "source": [
    "import selfies as sf\n",
    "\n",
    "ethanol = \"CCO\"\n",
    "sf.encoder(ethanol)"
   ]
  },
  {
   "cell_type": "code",
   "execution_count": 33,
   "id": "ca30a88f-4c2c-49da-ab31-e48039b1c6bc",
   "metadata": {
    "id": "ca30a88f-4c2c-49da-ab31-e48039b1c6bc",
    "outputId": "5b1c35f4-fd2a-46e7-81fe-876fe58b2276",
    "colab": {
     "base_uri": "https://localhost:8080/",
     "height": 35
    }
   },
   "outputs": [
    {
     "output_type": "execute_result",
     "data": {
      "text/plain": [
       "'[O][C][C]'"
      ],
      "application/vnd.google.colaboratory.intrinsic+json": {
       "type": "string"
      }
     },
     "metadata": {},
     "execution_count": 33
    }
   ],
   "source": [
    "ethanol = \"OCC\"\n",
    "sf.encoder(ethanol)"
   ]
  },
  {
   "cell_type": "code",
   "execution_count": 34,
   "id": "baee162d-7443-45e9-9ca8-0cc743f23d58",
   "metadata": {
    "id": "baee162d-7443-45e9-9ca8-0cc743f23d58",
    "outputId": "16617e66-ddfa-48a3-d5c6-601c4e060117",
    "colab": {
     "base_uri": "https://localhost:8080/",
     "height": 35
    }
   },
   "outputs": [
    {
     "output_type": "execute_result",
     "data": {
      "text/plain": [
       "'[C][=C][C][=C][C][=C][Ring1][=Branch1]'"
      ],
      "application/vnd.google.colaboratory.intrinsic+json": {
       "type": "string"
      }
     },
     "metadata": {},
     "execution_count": 34
    }
   ],
   "source": [
    "benzene = \"c1ccccc1\"\n",
    "sf.encoder(benzene)"
   ]
  },
  {
   "cell_type": "markdown",
   "id": "9b71d97b-9049-41b2-85dd-8cde26d3d3f0",
   "metadata": {
    "id": "9b71d97b-9049-41b2-85dd-8cde26d3d3f0"
   },
   "source": [
    "It is easy to generate new valid structures with SELFIES by just appending valid alphabet entries."
   ]
  },
  {
   "cell_type": "code",
   "execution_count": 35,
   "id": "19f96f5a-b285-45a1-8948-06c51b4f3cfd",
   "metadata": {
    "id": "19f96f5a-b285-45a1-8948-06c51b4f3cfd",
    "outputId": "cc67e471-182b-4921-97f8-b81197d565c6",
    "colab": {
     "base_uri": "https://localhost:8080/",
     "height": 206
    }
   },
   "outputs": [
    {
     "output_type": "stream",
     "name": "stdout",
     "text": [
      "SELFIE [O][Ring2][I][=N+1][#Branch3][=C][N+1][H][#S-1][=S+1][#C+1]\n",
      "SMILES OC[N+1][H]\n"
     ]
    },
    {
     "output_type": "execute_result",
     "data": {
      "text/plain": [
       "<IPython.core.display.SVG object>"
      ],
      "image/svg+xml": "<svg xmlns=\"http://www.w3.org/2000/svg\" xmlns:rdkit=\"http://www.rdkit.org/xml\" xmlns:xlink=\"http://www.w3.org/1999/xlink\" version=\"1.1\" baseProfile=\"full\" xml:space=\"preserve\" width=\"450px\" height=\"150px\" viewBox=\"0 0 450 150\">\n<!-- END OF HEADER -->\n<rect style=\"opacity:1.0;fill:#FFFFFF;stroke:none\" width=\"450.0\" height=\"150.0\" x=\"0.0\" y=\"0.0\"> </rect>\n<path class=\"bond-0 atom-0 atom-1\" d=\"M 105.2,56.0 L 159.5,87.3\" style=\"fill:none;fill-rule:evenodd;stroke:#FF0000;stroke-width:2.0px;stroke-linecap:butt;stroke-linejoin:miter;stroke-opacity:1\"/>\n<path class=\"bond-0 atom-0 atom-1\" d=\"M 159.5,87.3 L 213.7,118.6\" style=\"fill:none;fill-rule:evenodd;stroke:#000000;stroke-width:2.0px;stroke-linecap:butt;stroke-linejoin:miter;stroke-opacity:1\"/>\n<path class=\"bond-1 atom-1 atom-2\" d=\"M 213.7,118.6 L 269.0,86.6\" style=\"fill:none;fill-rule:evenodd;stroke:#000000;stroke-width:2.0px;stroke-linecap:butt;stroke-linejoin:miter;stroke-opacity:1\"/>\n<path class=\"bond-1 atom-1 atom-2\" d=\"M 269.0,86.6 L 324.4,54.7\" style=\"fill:none;fill-rule:evenodd;stroke:#0000FF;stroke-width:2.0px;stroke-linecap:butt;stroke-linejoin:miter;stroke-opacity:1\"/>\n<path d=\"M 211.0,117.0 L 213.7,118.6 L 216.5,117.0\" style=\"fill:none;stroke:#000000;stroke-width:2.0px;stroke-linecap:butt;stroke-linejoin:miter;stroke-opacity:1;\"/>\n<path class=\"atom-0\" d=\"M 46.4 31.7 L 50.3 31.7 L 50.3 43.7 L 64.8 43.7 L 64.8 31.7 L 68.6 31.7 L 68.6 60.0 L 64.8 60.0 L 64.8 46.9 L 50.3 46.9 L 50.3 60.0 L 46.4 60.0 L 46.4 31.7 \" fill=\"#FF0000\"/>\n<path class=\"atom-0\" d=\"M 74.4 45.8 Q 74.4 39.0, 77.8 35.2 Q 81.1 31.4, 87.4 31.4 Q 93.7 31.4, 97.1 35.2 Q 100.4 39.0, 100.4 45.8 Q 100.4 52.7, 97.0 56.6 Q 93.6 60.5, 87.4 60.5 Q 81.2 60.5, 77.8 56.6 Q 74.4 52.7, 74.4 45.8 M 87.4 57.3 Q 91.7 57.3, 94.1 54.4 Q 96.4 51.5, 96.4 45.8 Q 96.4 40.2, 94.1 37.4 Q 91.7 34.6, 87.4 34.6 Q 83.1 34.6, 80.7 37.4 Q 78.4 40.2, 78.4 45.8 Q 78.4 51.5, 80.7 54.4 Q 83.1 57.3, 87.4 57.3 \" fill=\"#FF0000\"/>\n<path class=\"atom-2\" d=\"M 333.7 31.5 L 343.0 46.5 Q 343.9 48.0, 345.4 50.7 Q 346.8 53.4, 346.9 53.5 L 346.9 31.5 L 350.7 31.5 L 350.7 59.9 L 346.8 59.9 L 336.8 43.5 Q 335.7 41.5, 334.4 39.3 Q 333.2 37.1, 332.9 36.5 L 332.9 59.9 L 329.2 59.9 L 329.2 31.5 L 333.7 31.5 \" fill=\"#0000FF\"/>\n<path class=\"atom-2\" d=\"M 356.1 31.5 L 359.9 31.5 L 359.9 43.6 L 374.4 43.6 L 374.4 31.5 L 378.2 31.5 L 378.2 59.9 L 374.4 59.9 L 374.4 46.8 L 359.9 46.8 L 359.9 59.9 L 356.1 59.9 L 356.1 31.5 \" fill=\"#0000FF\"/>\n<path class=\"atom-2\" d=\"M 383.7 36.7 L 388.7 36.7 L 388.7 31.4 L 390.9 31.4 L 390.9 36.7 L 396.1 36.7 L 396.1 38.6 L 390.9 38.6 L 390.9 43.8 L 388.7 43.8 L 388.7 38.6 L 383.7 38.6 L 383.7 36.7 \" fill=\"#0000FF\"/>\n<path class=\"atom-2\" d=\"M 404.1,49.7 L 404.0,49.9 L 404.0,50.1 L 404.0,50.2 L 403.9,50.4 L 403.9,50.5 L 403.8,50.7 L 403.7,50.8 L 403.6,51.0 L 403.5,51.1 L 403.4,51.2 L 403.2,51.3 L 403.1,51.4 L 402.9,51.5 L 402.8,51.6 L 402.6,51.6 L 402.4,51.7 L 402.3,51.7 L 402.1,51.7 L 401.9,51.7 L 401.8,51.7 L 401.6,51.7 L 401.4,51.6 L 401.3,51.5 L 401.1,51.5 L 401.0,51.4 L 400.8,51.3 L 400.7,51.2 L 400.6,51.0 L 400.5,50.9 L 400.4,50.8 L 400.3,50.6 L 400.2,50.5 L 400.1,50.3 L 400.1,50.1 L 400.1,50.0 L 400.1,49.8 L 400.1,49.6 L 400.1,49.5 L 400.1,49.3 L 400.1,49.1 L 400.2,49.0 L 400.3,48.8 L 400.4,48.6 L 400.5,48.5 L 400.6,48.4 L 400.7,48.3 L 400.8,48.1 L 401.0,48.0 L 401.1,47.9 L 401.3,47.9 L 401.4,47.8 L 401.6,47.8 L 401.8,47.7 L 401.9,47.7 L 402.1,47.7 L 402.3,47.7 L 402.4,47.7 L 402.6,47.8 L 402.8,47.8 L 402.9,47.9 L 403.1,48.0 L 403.2,48.1 L 403.4,48.2 L 403.5,48.3 L 403.6,48.4 L 403.7,48.6 L 403.8,48.7 L 403.9,48.9 L 403.9,49.0 L 404.0,49.2 L 404.0,49.4 L 404.0,49.5 L 404.1,49.7 L 402.1,49.7 Z\" style=\"fill:#000000;fill-rule:evenodd;fill-opacity:1;stroke:#000000;stroke-width:0.0px;stroke-linecap:butt;stroke-linejoin:miter;stroke-opacity:1;\"/>\n<path class=\"atom-2\" d=\"M 404.1,41.7 L 404.0,41.9 L 404.0,42.1 L 404.0,42.2 L 403.9,42.4 L 403.9,42.5 L 403.8,42.7 L 403.7,42.8 L 403.6,43.0 L 403.5,43.1 L 403.4,43.2 L 403.2,43.3 L 403.1,43.4 L 402.9,43.5 L 402.8,43.6 L 402.6,43.6 L 402.4,43.7 L 402.3,43.7 L 402.1,43.7 L 401.9,43.7 L 401.8,43.7 L 401.6,43.7 L 401.4,43.6 L 401.3,43.5 L 401.1,43.5 L 401.0,43.4 L 400.8,43.3 L 400.7,43.2 L 400.6,43.0 L 400.5,42.9 L 400.4,42.8 L 400.3,42.6 L 400.2,42.5 L 400.1,42.3 L 400.1,42.1 L 400.1,42.0 L 400.1,41.8 L 400.1,41.6 L 400.1,41.5 L 400.1,41.3 L 400.1,41.1 L 400.2,41.0 L 400.3,40.8 L 400.4,40.6 L 400.5,40.5 L 400.6,40.4 L 400.7,40.3 L 400.8,40.1 L 401.0,40.0 L 401.1,39.9 L 401.3,39.9 L 401.4,39.8 L 401.6,39.8 L 401.8,39.7 L 401.9,39.7 L 402.1,39.7 L 402.3,39.7 L 402.4,39.7 L 402.6,39.8 L 402.8,39.8 L 402.9,39.9 L 403.1,40.0 L 403.2,40.1 L 403.4,40.2 L 403.5,40.3 L 403.6,40.4 L 403.7,40.6 L 403.8,40.7 L 403.9,40.9 L 403.9,41.0 L 404.0,41.2 L 404.0,41.4 L 404.0,41.5 L 404.1,41.7 L 402.1,41.7 Z\" style=\"fill:#000000;fill-rule:evenodd;fill-opacity:1;stroke:#000000;stroke-width:0.0px;stroke-linecap:butt;stroke-linejoin:miter;stroke-opacity:1;\"/>\n</svg>"
     },
     "metadata": {},
     "execution_count": 35
    }
   ],
   "source": [
    "import random\n",
    "\n",
    "alphabet = sf.get_semantic_robust_alphabet()  # Gets the alphabet of robust symbols\n",
    "rnd_selfies = \"\".join(random.sample(list(alphabet), 11))\n",
    "rnd_smiles = sf.decoder(rnd_selfies)\n",
    "print(\"SELFIE\", rnd_selfies)\n",
    "print(\"SMILES\", rnd_smiles)\n",
    "mol = rdkit.Chem.MolFromSmiles(rnd_smiles)\n",
    "render_mol(mol)"
   ]
  },
  {
   "cell_type": "code",
   "execution_count": 36,
   "id": "b4afb717-6afa-4a20-b81c-2c64a3dd149e",
   "metadata": {
    "id": "b4afb717-6afa-4a20-b81c-2c64a3dd149e",
    "outputId": "f8ee2255-76a2-4906-cdbf-315b00516874",
    "colab": {
     "base_uri": "https://localhost:8080/",
     "height": 206
    }
   },
   "outputs": [
    {
     "output_type": "stream",
     "name": "stdout",
     "text": [
      "SELFIE [B][=O][I][=Branch3][Branch3][S][#Branch1][#C][N][=S+1][=C][#B][P+1][=Branch2][S-1]\n",
      "SMILES B=O\n"
     ]
    },
    {
     "output_type": "execute_result",
     "data": {
      "text/plain": [
       "<IPython.core.display.SVG object>"
      ],
      "image/svg+xml": "<svg xmlns=\"http://www.w3.org/2000/svg\" xmlns:rdkit=\"http://www.rdkit.org/xml\" xmlns:xlink=\"http://www.w3.org/1999/xlink\" version=\"1.1\" baseProfile=\"full\" xml:space=\"preserve\" width=\"450px\" height=\"150px\" viewBox=\"0 0 450 150\">\n<!-- END OF HEADER -->\n<rect style=\"opacity:1.0;fill:#FFFFFF;stroke:none\" width=\"450.0\" height=\"150.0\" x=\"0.0\" y=\"0.0\"> </rect>\n<path class=\"bond-0 atom-0 atom-1\" d=\"M 331.2,95.4 L 215.3,95.4\" style=\"fill:none;fill-rule:evenodd;stroke:#000000;stroke-width:2.0px;stroke-linecap:butt;stroke-linejoin:miter;stroke-opacity:1\"/>\n<path class=\"bond-0 atom-0 atom-1\" d=\"M 215.3,95.4 L 99.5,95.4\" style=\"fill:none;fill-rule:evenodd;stroke:#FF0000;stroke-width:2.0px;stroke-linecap:butt;stroke-linejoin:miter;stroke-opacity:1\"/>\n<path class=\"bond-0 atom-0 atom-1\" d=\"M 331.2,54.6 L 215.3,54.6\" style=\"fill:none;fill-rule:evenodd;stroke:#000000;stroke-width:2.0px;stroke-linecap:butt;stroke-linejoin:miter;stroke-opacity:1\"/>\n<path class=\"bond-0 atom-0 atom-1\" d=\"M 215.3,54.6 L 99.5,54.6\" style=\"fill:none;fill-rule:evenodd;stroke:#FF0000;stroke-width:2.0px;stroke-linecap:butt;stroke-linejoin:miter;stroke-opacity:1\"/>\n<path class=\"atom-0\" d=\"M 354.0 74.3 Q 356.7 75.0, 358.1 76.7 Q 359.5 78.4, 359.5 80.8 Q 359.5 84.7, 356.9 87.0 Q 354.5 89.2, 349.7 89.2 L 340.2 89.2 L 340.2 60.8 L 348.6 60.8 Q 353.4 60.8, 355.9 62.8 Q 358.3 64.8, 358.3 68.4 Q 358.3 72.6, 354.0 74.3 M 344.0 64.0 L 344.0 72.9 L 348.6 72.9 Q 351.4 72.9, 352.8 71.8 Q 354.3 70.6, 354.3 68.4 Q 354.3 64.0, 348.6 64.0 L 344.0 64.0 M 349.7 86.0 Q 352.5 86.0, 354.0 84.6 Q 355.5 83.3, 355.5 80.8 Q 355.5 78.5, 353.8 77.3 Q 352.2 76.1, 349.1 76.1 L 344.0 76.1 L 344.0 86.0 L 349.7 86.0 \" fill=\"#000000\"/>\n<path class=\"atom-0\" d=\"M 363.4 60.8 L 367.2 60.8 L 367.2 72.9 L 381.7 72.9 L 381.7 60.8 L 385.5 60.8 L 385.5 89.2 L 381.7 89.2 L 381.7 76.1 L 367.2 76.1 L 367.2 89.2 L 363.4 89.2 L 363.4 60.8 \" fill=\"#000000\"/>\n<path class=\"atom-1\" d=\"M 64.5 75.1 Q 64.5 68.3, 67.8 64.5 Q 71.2 60.7, 77.5 60.7 Q 83.7 60.7, 87.1 64.5 Q 90.5 68.3, 90.5 75.1 Q 90.5 82.0, 87.1 85.9 Q 83.7 89.8, 77.5 89.8 Q 71.2 89.8, 67.8 85.9 Q 64.5 82.0, 64.5 75.1 M 77.5 86.6 Q 81.8 86.6, 84.1 83.7 Q 86.5 80.8, 86.5 75.1 Q 86.5 69.5, 84.1 66.7 Q 81.8 63.9, 77.5 63.9 Q 73.1 63.9, 70.8 66.7 Q 68.5 69.5, 68.5 75.1 Q 68.5 80.8, 70.8 83.7 Q 73.1 86.6, 77.5 86.6 \" fill=\"#FF0000\"/>\n</svg>"
     },
     "metadata": {},
     "execution_count": 36
    }
   ],
   "source": [
    "rnd_selfies = \"\".join(random.sample(list(alphabet), 15))\n",
    "rnd_smiles = sf.decoder(rnd_selfies)\n",
    "print(\"SELFIE\", rnd_selfies)\n",
    "print(\"SMILES\", rnd_smiles)\n",
    "mol = rdkit.Chem.MolFromSmiles(rnd_smiles)\n",
    "render_mol(mol)"
   ]
  },
  {
   "cell_type": "code",
   "execution_count": 37,
   "id": "c5197bb4-8628-4c8b-ac3b-878bfe74c711",
   "metadata": {
    "id": "c5197bb4-8628-4c8b-ac3b-878bfe74c711",
    "outputId": "5a64bda4-2f4d-41fd-b516-0bffb66a371c",
    "colab": {
     "base_uri": "https://localhost:8080/",
     "height": 206
    }
   },
   "outputs": [
    {
     "output_type": "stream",
     "name": "stdout",
     "text": [
      "SELFIE [#Branch1][B][=C-1][N][P-1][S][Branch1][#C-1][O+1][=S-1][#Branch3][Br][=C+1][O][#P][#Branch2][#N+1][#S][=S+1][=P][F][I]\n",
      "SMILES B=[C-1]N[P-1]S([O+1])=[S-1]=P(=[S+1])PF\n"
     ]
    },
    {
     "output_type": "execute_result",
     "data": {
      "text/plain": [
       "<IPython.core.display.SVG object>"
      ],
      "image/svg+xml": "<svg xmlns=\"http://www.w3.org/2000/svg\" xmlns:rdkit=\"http://www.rdkit.org/xml\" xmlns:xlink=\"http://www.w3.org/1999/xlink\" version=\"1.1\" baseProfile=\"full\" xml:space=\"preserve\" width=\"450px\" height=\"150px\" viewBox=\"0 0 450 150\">\n<!-- END OF HEADER -->\n<rect style=\"opacity:1.0;fill:#FFFFFF;stroke:none\" width=\"450.0\" height=\"150.0\" x=\"0.0\" y=\"0.0\"> </rect>\n<path class=\"bond-0 atom-0 atom-1\" d=\"M 356.1,23.9 L 342.5,47.9\" style=\"fill:none;fill-rule:evenodd;stroke:#000000;stroke-width:2.0px;stroke-linecap:butt;stroke-linejoin:miter;stroke-opacity:1\"/>\n<path class=\"bond-0 atom-0 atom-1\" d=\"M 350.1,20.4 L 336.4,44.5\" style=\"fill:none;fill-rule:evenodd;stroke:#000000;stroke-width:2.0px;stroke-linecap:butt;stroke-linejoin:miter;stroke-opacity:1\"/>\n<path class=\"bond-1 atom-1 atom-2\" d=\"M 328.2,54.4 L 311.6,54.5\" style=\"fill:none;fill-rule:evenodd;stroke:#000000;stroke-width:2.0px;stroke-linecap:butt;stroke-linejoin:miter;stroke-opacity:1\"/>\n<path class=\"bond-1 atom-1 atom-2\" d=\"M 311.6,54.5 L 295.0,54.7\" style=\"fill:none;fill-rule:evenodd;stroke:#0000FF;stroke-width:2.0px;stroke-linecap:butt;stroke-linejoin:miter;stroke-opacity:1\"/>\n<path class=\"bond-2 atom-2 atom-3\" d=\"M 283.9,62.8 L 277.1,74.9\" style=\"fill:none;fill-rule:evenodd;stroke:#0000FF;stroke-width:2.0px;stroke-linecap:butt;stroke-linejoin:miter;stroke-opacity:1\"/>\n<path class=\"bond-2 atom-2 atom-3\" d=\"M 277.1,74.9 L 270.2,86.9\" style=\"fill:none;fill-rule:evenodd;stroke:#FF7F00;stroke-width:2.0px;stroke-linecap:butt;stroke-linejoin:miter;stroke-opacity:1\"/>\n<path class=\"bond-3 atom-3 atom-4\" d=\"M 259.9,95.1 L 242.5,95.2\" style=\"fill:none;fill-rule:evenodd;stroke:#FF7F00;stroke-width:2.0px;stroke-linecap:butt;stroke-linejoin:miter;stroke-opacity:1\"/>\n<path class=\"bond-3 atom-3 atom-4\" d=\"M 242.5,95.2 L 225.0,95.3\" style=\"fill:none;fill-rule:evenodd;stroke:#CCCC00;stroke-width:2.0px;stroke-linecap:butt;stroke-linejoin:miter;stroke-opacity:1\"/>\n<path class=\"bond-4 atom-4 atom-5\" d=\"M 214.5,103.8 L 207.8,115.6\" style=\"fill:none;fill-rule:evenodd;stroke:#CCCC00;stroke-width:2.0px;stroke-linecap:butt;stroke-linejoin:miter;stroke-opacity:1\"/>\n<path class=\"bond-4 atom-4 atom-5\" d=\"M 207.8,115.6 L 201.1,127.5\" style=\"fill:none;fill-rule:evenodd;stroke:#FF0000;stroke-width:2.0px;stroke-linecap:butt;stroke-linejoin:miter;stroke-opacity:1\"/>\n<path class=\"bond-5 atom-4 atom-6\" d=\"M 211.6,89.1 L 197.8,65.6\" style=\"fill:none;fill-rule:evenodd;stroke:#CCCC00;stroke-width:2.0px;stroke-linecap:butt;stroke-linejoin:miter;stroke-opacity:1\"/>\n<path class=\"bond-5 atom-4 atom-6\" d=\"M 217.6,85.5 L 203.8,62.1\" style=\"fill:none;fill-rule:evenodd;stroke:#CCCC00;stroke-width:2.0px;stroke-linecap:butt;stroke-linejoin:miter;stroke-opacity:1\"/>\n<path class=\"bond-6 atom-6 atom-7\" d=\"M 190.1,58.9 L 172.7,59.1\" style=\"fill:none;fill-rule:evenodd;stroke:#CCCC00;stroke-width:2.0px;stroke-linecap:butt;stroke-linejoin:miter;stroke-opacity:1\"/>\n<path class=\"bond-6 atom-6 atom-7\" d=\"M 172.7,59.1 L 155.2,59.2\" style=\"fill:none;fill-rule:evenodd;stroke:#FF7F00;stroke-width:2.0px;stroke-linecap:butt;stroke-linejoin:miter;stroke-opacity:1\"/>\n<path class=\"bond-6 atom-6 atom-7\" d=\"M 190.1,52.0 L 172.6,52.1\" style=\"fill:none;fill-rule:evenodd;stroke:#CCCC00;stroke-width:2.0px;stroke-linecap:butt;stroke-linejoin:miter;stroke-opacity:1\"/>\n<path class=\"bond-6 atom-6 atom-7\" d=\"M 172.6,52.1 L 155.2,52.3\" style=\"fill:none;fill-rule:evenodd;stroke:#FF7F00;stroke-width:2.0px;stroke-linecap:butt;stroke-linejoin:miter;stroke-opacity:1\"/>\n<path class=\"bond-7 atom-7 atom-8\" d=\"M 141.9,62.2 L 135.1,74.1\" style=\"fill:none;fill-rule:evenodd;stroke:#FF7F00;stroke-width:2.0px;stroke-linecap:butt;stroke-linejoin:miter;stroke-opacity:1\"/>\n<path class=\"bond-7 atom-7 atom-8\" d=\"M 135.1,74.1 L 128.3,86.0\" style=\"fill:none;fill-rule:evenodd;stroke:#CCCC00;stroke-width:2.0px;stroke-linecap:butt;stroke-linejoin:miter;stroke-opacity:1\"/>\n<path class=\"bond-7 atom-7 atom-8\" d=\"M 147.9,65.6 L 141.2,77.5\" style=\"fill:none;fill-rule:evenodd;stroke:#FF7F00;stroke-width:2.0px;stroke-linecap:butt;stroke-linejoin:miter;stroke-opacity:1\"/>\n<path class=\"bond-7 atom-7 atom-8\" d=\"M 141.2,77.5 L 134.4,89.5\" style=\"fill:none;fill-rule:evenodd;stroke:#CCCC00;stroke-width:2.0px;stroke-linecap:butt;stroke-linejoin:miter;stroke-opacity:1\"/>\n<path class=\"bond-8 atom-7 atom-9\" d=\"M 144.7,47.7 L 130.8,23.9\" style=\"fill:none;fill-rule:evenodd;stroke:#FF7F00;stroke-width:2.0px;stroke-linecap:butt;stroke-linejoin:miter;stroke-opacity:1\"/>\n<path class=\"bond-9 atom-9 atom-10\" d=\"M 120.3,15.9 L 102.7,16.0\" style=\"fill:none;fill-rule:evenodd;stroke:#FF7F00;stroke-width:2.0px;stroke-linecap:butt;stroke-linejoin:miter;stroke-opacity:1\"/>\n<path class=\"bond-9 atom-9 atom-10\" d=\"M 102.7,16.0 L 85.1,16.1\" style=\"fill:none;fill-rule:evenodd;stroke:#33CCCC;stroke-width:2.0px;stroke-linecap:butt;stroke-linejoin:miter;stroke-opacity:1\"/>\n<path class=\"atom-0\" d=\"M 359.6 13.7 Q 360.8 14.1, 361.5 14.9 Q 362.1 15.6, 362.1 16.7 Q 362.1 18.6, 361.0 19.6 Q 359.8 20.6, 357.6 20.6 L 353.2 20.6 L 353.2 7.5 L 357.1 7.5 Q 359.3 7.5, 360.5 8.4 Q 361.6 9.3, 361.6 11.0 Q 361.6 13.0, 359.6 13.7 M 355.0 9.0 L 355.0 13.1 L 357.1 13.1 Q 358.4 13.1, 359.0 12.6 Q 359.7 12.0, 359.7 11.0 Q 359.7 9.0, 357.1 9.0 L 355.0 9.0 M 357.6 19.1 Q 358.9 19.1, 359.6 18.5 Q 360.3 17.9, 360.3 16.7 Q 360.3 15.7, 359.5 15.1 Q 358.8 14.6, 357.3 14.6 L 355.0 14.6 L 355.0 19.1 L 357.6 19.1 \" fill=\"#000000\"/>\n<path class=\"atom-0\" d=\"M 363.9 7.5 L 365.7 7.5 L 365.7 13.1 L 372.4 13.1 L 372.4 7.5 L 374.2 7.5 L 374.2 20.6 L 372.4 20.6 L 372.4 14.6 L 365.7 14.6 L 365.7 20.6 L 363.9 20.6 L 363.9 7.5 \" fill=\"#000000\"/>\n<path class=\"atom-1\" d=\"M 329.7 54.4 Q 329.7 51.2, 331.3 49.4 Q 332.8 47.7, 335.7 47.7 Q 338.4 47.7, 339.9 49.6 L 338.6 50.6 Q 337.6 49.2, 335.7 49.2 Q 333.7 49.2, 332.7 50.6 Q 331.6 51.9, 331.6 54.4 Q 331.6 57.0, 332.7 58.3 Q 333.8 59.7, 335.9 59.7 Q 337.4 59.7, 339.1 58.8 L 339.6 60.2 Q 338.9 60.6, 337.8 60.9 Q 336.8 61.2, 335.7 61.2 Q 332.8 61.2, 331.3 59.4 Q 329.7 57.7, 329.7 54.4 \" fill=\"#000000\"/>\n<path class=\"atom-1\" d=\"M 341.5 49.9 L 345.9 49.9 L 345.9 50.9 L 341.5 50.9 L 341.5 49.9 \" fill=\"#000000\"/>\n<path class=\"atom-2\" d=\"M 270.7 48.2 L 272.4 48.2 L 272.4 53.7 L 279.1 53.7 L 279.1 48.2 L 280.9 48.2 L 280.9 61.3 L 279.1 61.3 L 279.1 55.2 L 272.4 55.2 L 272.4 61.3 L 270.7 61.3 L 270.7 48.2 \" fill=\"#0000FF\"/>\n<path class=\"atom-2\" d=\"M 285.6 48.2 L 289.9 55.1 Q 290.3 55.8, 291.0 57.0 Q 291.7 58.3, 291.7 58.3 L 291.7 48.2 L 293.5 48.2 L 293.5 61.3 L 291.7 61.3 L 287.0 53.7 Q 286.5 52.8, 285.9 51.8 Q 285.4 50.7, 285.2 50.4 L 285.2 61.3 L 283.5 61.3 L 283.5 48.2 L 285.6 48.2 \" fill=\"#0000FF\"/>\n<path class=\"atom-3\" d=\"M 265.3 88.4 Q 267.6 88.4, 268.7 89.5 Q 269.8 90.5, 269.8 92.3 Q 269.8 94.1, 268.6 95.2 Q 267.5 96.2, 265.3 96.2 L 263.2 96.2 L 263.2 101.6 L 261.4 101.6 L 261.4 88.4 L 265.3 88.4 M 265.3 94.7 Q 266.6 94.7, 267.3 94.1 Q 268.0 93.5, 268.0 92.3 Q 268.0 91.1, 267.3 90.5 Q 266.6 89.9, 265.3 89.9 L 263.2 89.9 L 263.2 94.7 L 265.3 94.7 \" fill=\"#FF7F00\"/>\n<path class=\"atom-3\" d=\"M 271.4 90.6 L 275.9 90.6 L 275.9 91.6 L 271.4 91.6 L 271.4 90.6 \" fill=\"#FF7F00\"/>\n<path class=\"atom-4\" d=\"M 215.6 99.9 Q 215.7 99.9, 216.4 100.2 Q 217.0 100.4, 217.6 100.6 Q 218.3 100.8, 219.0 100.8 Q 220.2 100.8, 220.9 100.2 Q 221.7 99.6, 221.7 98.5 Q 221.7 97.8, 221.3 97.3 Q 220.9 96.9, 220.4 96.6 Q 219.8 96.4, 218.9 96.1 Q 217.7 95.8, 217.0 95.4 Q 216.4 95.1, 215.9 94.4 Q 215.4 93.7, 215.4 92.5 Q 215.4 90.9, 216.5 89.8 Q 217.6 88.8, 219.8 88.8 Q 221.4 88.8, 223.1 89.5 L 222.7 91.0 Q 221.1 90.3, 219.9 90.3 Q 218.6 90.3, 217.9 90.9 Q 217.2 91.4, 217.2 92.3 Q 217.2 93.0, 217.6 93.4 Q 217.9 93.8, 218.5 94.1 Q 219.0 94.3, 219.9 94.6 Q 221.1 95.0, 221.8 95.3 Q 222.5 95.7, 223.0 96.5 Q 223.5 97.2, 223.5 98.5 Q 223.5 100.3, 222.3 101.3 Q 221.1 102.3, 219.1 102.3 Q 217.9 102.3, 217.0 102.0 Q 216.1 101.8, 215.1 101.3 L 215.6 99.9 \" fill=\"#CCCC00\"/>\n<path class=\"atom-5\" d=\"M 190.4 135.7 Q 190.4 132.5, 192.0 130.8 Q 193.5 129.0, 196.4 129.0 Q 199.4 129.0, 200.9 130.8 Q 202.5 132.5, 202.5 135.7 Q 202.5 138.9, 200.9 140.7 Q 199.3 142.5, 196.4 142.5 Q 193.6 142.5, 192.0 140.7 Q 190.4 138.9, 190.4 135.7 M 196.4 141.0 Q 198.4 141.0, 199.5 139.7 Q 200.6 138.3, 200.6 135.7 Q 200.6 133.1, 199.5 131.8 Q 198.4 130.5, 196.4 130.5 Q 194.4 130.5, 193.3 131.8 Q 192.3 133.1, 192.3 135.7 Q 192.3 138.3, 193.3 139.7 Q 194.4 141.0, 196.4 141.0 \" fill=\"#FF0000\"/>\n<path class=\"atom-5\" d=\"M 204.4 131.4 L 206.7 131.4 L 206.7 128.9 L 207.8 128.9 L 207.8 131.4 L 210.1 131.4 L 210.1 132.2 L 207.8 132.2 L 207.8 134.7 L 206.7 134.7 L 206.7 132.2 L 204.4 132.2 L 204.4 131.4 \" fill=\"#FF0000\"/>\n<path class=\"atom-6\" d=\"M 192.1 59.9 Q 192.3 60.0, 192.9 60.2 Q 193.5 60.5, 194.2 60.7 Q 194.8 60.8, 195.5 60.8 Q 196.8 60.8, 197.5 60.2 Q 198.2 59.6, 198.2 58.6 Q 198.2 57.8, 197.8 57.4 Q 197.5 56.9, 196.9 56.7 Q 196.4 56.5, 195.4 56.2 Q 194.3 55.8, 193.6 55.5 Q 192.9 55.2, 192.4 54.5 Q 191.9 53.8, 191.9 52.6 Q 191.9 50.9, 193.0 49.9 Q 194.1 48.9, 196.4 48.9 Q 197.9 48.9, 199.6 49.6 L 199.2 51.0 Q 197.6 50.4, 196.4 50.4 Q 195.1 50.4, 194.4 50.9 Q 193.7 51.4, 193.8 52.3 Q 193.8 53.1, 194.1 53.5 Q 194.5 53.9, 195.0 54.1 Q 195.5 54.4, 196.4 54.7 Q 197.6 55.0, 198.3 55.4 Q 199.0 55.8, 199.5 56.5 Q 200.0 57.3, 200.0 58.6 Q 200.0 60.4, 198.8 61.4 Q 197.6 62.3, 195.6 62.3 Q 194.4 62.3, 193.5 62.1 Q 192.7 61.8, 191.6 61.4 L 192.1 59.9 \" fill=\"#CCCC00\"/>\n<path class=\"atom-6\" d=\"M 201.7 50.9 L 206.2 50.9 L 206.2 51.8 L 201.7 51.8 L 201.7 50.9 \" fill=\"#CCCC00\"/>\n<path class=\"atom-7\" d=\"M 149.2 49.2 Q 151.4 49.2, 152.6 50.2 Q 153.7 51.2, 153.7 53.1 Q 153.7 54.9, 152.5 55.9 Q 151.4 56.9, 149.2 56.9 L 147.1 56.9 L 147.1 62.3 L 145.3 62.3 L 145.3 49.2 L 149.2 49.2 M 149.2 55.5 Q 150.5 55.5, 151.2 54.9 Q 151.8 54.2, 151.8 53.1 Q 151.8 51.9, 151.2 51.3 Q 150.5 50.7, 149.2 50.7 L 147.1 50.7 L 147.1 55.5 L 149.2 55.5 \" fill=\"#FF7F00\"/>\n<path class=\"atom-8\" d=\"M 122.9 100.6 Q 123.1 100.6, 123.7 100.9 Q 124.3 101.2, 125.0 101.3 Q 125.7 101.5, 126.3 101.5 Q 127.6 101.5, 128.3 100.9 Q 129.0 100.3, 129.0 99.2 Q 129.0 98.5, 128.6 98.0 Q 128.3 97.6, 127.7 97.4 Q 127.2 97.1, 126.3 96.8 Q 125.1 96.5, 124.4 96.1 Q 123.7 95.8, 123.2 95.1 Q 122.7 94.4, 122.7 93.2 Q 122.7 91.6, 123.8 90.6 Q 125.0 89.5, 127.2 89.5 Q 128.7 89.5, 130.4 90.3 L 130.0 91.7 Q 128.4 91.0, 127.2 91.0 Q 126.0 91.0, 125.3 91.6 Q 124.6 92.1, 124.6 93.0 Q 124.6 93.7, 124.9 94.1 Q 125.3 94.6, 125.8 94.8 Q 126.3 95.0, 127.2 95.3 Q 128.4 95.7, 129.1 96.1 Q 129.8 96.4, 130.3 97.2 Q 130.9 97.9, 130.9 99.2 Q 130.9 101.0, 129.6 102.0 Q 128.4 103.0, 126.4 103.0 Q 125.2 103.0, 124.3 102.7 Q 123.5 102.5, 122.4 102.0 L 122.9 100.6 \" fill=\"#CCCC00\"/>\n<path class=\"atom-8\" d=\"M 132.6 91.7 L 134.9 91.7 L 134.9 89.3 L 135.9 89.3 L 135.9 91.7 L 138.3 91.7 L 138.3 92.6 L 135.9 92.6 L 135.9 95.0 L 134.9 95.0 L 134.9 92.6 L 132.6 92.6 L 132.6 91.7 \" fill=\"#CCCC00\"/>\n<path class=\"atom-9\" d=\"M 125.7 9.3 Q 128.0 9.3, 129.1 10.3 Q 130.2 11.3, 130.2 13.1 Q 130.2 14.9, 129.1 16.0 Q 127.9 17.0, 125.7 17.0 L 123.6 17.0 L 123.6 22.4 L 121.8 22.4 L 121.8 9.3 L 125.7 9.3 M 125.7 15.5 Q 127.0 15.5, 127.7 14.9 Q 128.4 14.3, 128.4 13.1 Q 128.4 12.0, 127.7 11.4 Q 127.0 10.8, 125.7 10.8 L 123.6 10.8 L 123.6 15.5 L 125.7 15.5 \" fill=\"#FF7F00\"/>\n<path class=\"atom-9\" d=\"M 132.0 9.3 L 133.8 9.3 L 133.8 14.9 L 140.5 14.9 L 140.5 9.3 L 142.3 9.3 L 142.3 22.4 L 140.5 22.4 L 140.5 16.3 L 133.8 16.3 L 133.8 22.4 L 132.0 22.4 L 132.0 9.3 \" fill=\"#FF7F00\"/>\n<path class=\"atom-10\" d=\"M 75.8 9.6 L 83.6 9.6 L 83.6 11.1 L 77.6 11.1 L 77.6 15.1 L 82.9 15.1 L 82.9 16.6 L 77.6 16.6 L 77.6 22.8 L 75.8 22.8 L 75.8 9.6 \" fill=\"#33CCCC\"/>\n<path class=\"atom-5\" d=\"M 188.6,137.5 L 188.6,137.6 L 188.6,137.7 L 188.5,137.8 L 188.5,137.8 L 188.5,137.9 L 188.4,138.0 L 188.4,138.0 L 188.4,138.1 L 188.3,138.2 L 188.2,138.2 L 188.2,138.3 L 188.1,138.3 L 188.0,138.3 L 188.0,138.4 L 187.9,138.4 L 187.8,138.4 L 187.7,138.4 L 187.7,138.4 L 187.6,138.4 L 187.5,138.4 L 187.4,138.4 L 187.3,138.4 L 187.3,138.4 L 187.2,138.3 L 187.1,138.3 L 187.1,138.2 L 187.0,138.2 L 187.0,138.1 L 186.9,138.1 L 186.9,138.0 L 186.8,137.9 L 186.8,137.9 L 186.8,137.8 L 186.7,137.7 L 186.7,137.6 L 186.7,137.6 L 186.7,137.5 L 186.7,137.4 L 186.7,137.3 L 186.8,137.2 L 186.8,137.2 L 186.8,137.1 L 186.9,137.0 L 186.9,137.0 L 187.0,136.9 L 187.0,136.8 L 187.1,136.8 L 187.1,136.7 L 187.2,136.7 L 187.3,136.7 L 187.3,136.6 L 187.4,136.6 L 187.5,136.6 L 187.6,136.6 L 187.7,136.6 L 187.7,136.6 L 187.8,136.6 L 187.9,136.6 L 188.0,136.6 L 188.0,136.7 L 188.1,136.7 L 188.2,136.8 L 188.2,136.8 L 188.3,136.9 L 188.4,136.9 L 188.4,137.0 L 188.4,137.1 L 188.5,137.1 L 188.5,137.2 L 188.5,137.3 L 188.6,137.4 L 188.6,137.4 L 188.6,137.5 L 187.6,137.5 Z\" style=\"fill:#000000;fill-rule:evenodd;fill-opacity:1;stroke:#000000;stroke-width:0.0px;stroke-linecap:butt;stroke-linejoin:miter;stroke-opacity:1;\"/>\n<path class=\"atom-5\" d=\"M 188.6,133.8 L 188.6,133.9 L 188.6,134.0 L 188.5,134.0 L 188.5,134.1 L 188.5,134.2 L 188.4,134.3 L 188.4,134.3 L 188.4,134.4 L 188.3,134.5 L 188.2,134.5 L 188.2,134.6 L 188.1,134.6 L 188.0,134.6 L 188.0,134.7 L 187.9,134.7 L 187.8,134.7 L 187.7,134.7 L 187.7,134.7 L 187.6,134.7 L 187.5,134.7 L 187.4,134.7 L 187.3,134.7 L 187.3,134.7 L 187.2,134.6 L 187.1,134.6 L 187.1,134.5 L 187.0,134.5 L 187.0,134.4 L 186.9,134.4 L 186.9,134.3 L 186.8,134.2 L 186.8,134.2 L 186.8,134.1 L 186.7,134.0 L 186.7,133.9 L 186.7,133.8 L 186.7,133.8 L 186.7,133.7 L 186.7,133.6 L 186.8,133.5 L 186.8,133.5 L 186.8,133.4 L 186.9,133.3 L 186.9,133.3 L 187.0,133.2 L 187.0,133.1 L 187.1,133.1 L 187.1,133.0 L 187.2,133.0 L 187.3,133.0 L 187.3,132.9 L 187.4,132.9 L 187.5,132.9 L 187.6,132.9 L 187.7,132.9 L 187.7,132.9 L 187.8,132.9 L 187.9,132.9 L 188.0,132.9 L 188.0,133.0 L 188.1,133.0 L 188.2,133.1 L 188.2,133.1 L 188.3,133.2 L 188.4,133.2 L 188.4,133.3 L 188.4,133.4 L 188.5,133.4 L 188.5,133.5 L 188.5,133.6 L 188.6,133.7 L 188.6,133.7 L 188.6,133.8 L 187.6,133.8 Z\" style=\"fill:#000000;fill-rule:evenodd;fill-opacity:1;stroke:#000000;stroke-width:0.0px;stroke-linecap:butt;stroke-linejoin:miter;stroke-opacity:1;\"/>\n<path class=\"atom-6\" d=\"M 209.9,55.4 L 209.9,55.5 L 209.8,55.6 L 209.8,55.7 L 209.8,55.7 L 209.8,55.8 L 209.7,55.9 L 209.7,55.9 L 209.6,56.0 L 209.6,56.1 L 209.5,56.1 L 209.5,56.2 L 209.4,56.2 L 209.3,56.3 L 209.3,56.3 L 209.2,56.3 L 209.1,56.3 L 209.0,56.3 L 209.0,56.3 L 208.9,56.3 L 208.8,56.3 L 208.7,56.3 L 208.6,56.3 L 208.6,56.3 L 208.5,56.2 L 208.4,56.2 L 208.4,56.2 L 208.3,56.1 L 208.2,56.0 L 208.2,56.0 L 208.1,55.9 L 208.1,55.8 L 208.1,55.8 L 208.0,55.7 L 208.0,55.6 L 208.0,55.5 L 208.0,55.5 L 208.0,55.4 L 208.0,55.3 L 208.0,55.2 L 208.0,55.1 L 208.1,55.1 L 208.1,55.0 L 208.1,54.9 L 208.2,54.9 L 208.2,54.8 L 208.3,54.7 L 208.4,54.7 L 208.4,54.6 L 208.5,54.6 L 208.6,54.6 L 208.6,54.5 L 208.7,54.5 L 208.8,54.5 L 208.9,54.5 L 209.0,54.5 L 209.0,54.5 L 209.1,54.5 L 209.2,54.5 L 209.3,54.6 L 209.3,54.6 L 209.4,54.6 L 209.5,54.7 L 209.5,54.7 L 209.6,54.8 L 209.6,54.8 L 209.7,54.9 L 209.7,55.0 L 209.8,55.0 L 209.8,55.1 L 209.8,55.2 L 209.8,55.3 L 209.9,55.3 L 209.9,55.4 L 208.9,55.4 Z\" style=\"fill:#000000;fill-rule:evenodd;fill-opacity:1;stroke:#000000;stroke-width:0.0px;stroke-linecap:butt;stroke-linejoin:miter;stroke-opacity:1;\"/>\n<path class=\"atom-8\" d=\"M 120.6,96.1 L 120.6,96.2 L 120.6,96.2 L 120.6,96.3 L 120.5,96.4 L 120.5,96.5 L 120.5,96.5 L 120.4,96.6 L 120.4,96.7 L 120.3,96.7 L 120.3,96.8 L 120.2,96.8 L 120.1,96.9 L 120.1,96.9 L 120.0,96.9 L 119.9,97.0 L 119.8,97.0 L 119.8,97.0 L 119.7,97.0 L 119.6,97.0 L 119.5,97.0 L 119.4,97.0 L 119.4,97.0 L 119.3,96.9 L 119.2,96.9 L 119.2,96.8 L 119.1,96.8 L 119.0,96.8 L 119.0,96.7 L 118.9,96.6 L 118.9,96.6 L 118.8,96.5 L 118.8,96.4 L 118.8,96.3 L 118.8,96.3 L 118.7,96.2 L 118.7,96.1 L 118.7,96.0 L 118.7,96.0 L 118.8,95.9 L 118.8,95.8 L 118.8,95.7 L 118.8,95.7 L 118.9,95.6 L 118.9,95.5 L 119.0,95.5 L 119.0,95.4 L 119.1,95.3 L 119.2,95.3 L 119.2,95.3 L 119.3,95.2 L 119.4,95.2 L 119.4,95.2 L 119.5,95.2 L 119.6,95.2 L 119.7,95.1 L 119.8,95.2 L 119.8,95.2 L 119.9,95.2 L 120.0,95.2 L 120.1,95.2 L 120.1,95.3 L 120.2,95.3 L 120.3,95.4 L 120.3,95.4 L 120.4,95.5 L 120.4,95.5 L 120.5,95.6 L 120.5,95.7 L 120.5,95.8 L 120.6,95.8 L 120.6,95.9 L 120.6,96.0 L 120.6,96.1 L 119.7,96.1 Z\" style=\"fill:#000000;fill-rule:evenodd;fill-opacity:1;stroke:#000000;stroke-width:0.0px;stroke-linecap:butt;stroke-linejoin:miter;stroke-opacity:1;\"/>\n</svg>"
     },
     "metadata": {},
     "execution_count": 37
    }
   ],
   "source": [
    "rnd_selfies = \"\".join(random.sample(list(alphabet), 22))\n",
    "rnd_smiles = sf.decoder(rnd_selfies)\n",
    "print(\"SELFIE\", rnd_selfies)\n",
    "print(\"SMILES\", rnd_smiles)\n",
    "mol = rdkit.Chem.MolFromSmiles(rnd_smiles)\n",
    "render_mol(mol)"
   ]
  },
  {
   "cell_type": "code",
   "execution_count": 38,
   "id": "bc2688d5-e36d-4091-94aa-baf776b07acb",
   "metadata": {
    "id": "bc2688d5-e36d-4091-94aa-baf776b07acb",
    "outputId": "15b57085-c7bc-43d6-9114-17780938325f",
    "colab": {
     "base_uri": "https://localhost:8080/",
     "height": 206
    }
   },
   "outputs": [
    {
     "output_type": "stream",
     "name": "stdout",
     "text": [
      "SELFIE [N-1][=C+1][#P][=Branch2][#B][#S-1][#Branch1][=C-1][C+1][=N+1][P+1][=C][N][P-1][#Branch3][P][Ring1][H][#P-1][#S+1][S-1][Cl][#O+1][C][Ring2][=S+1]\n",
      "SMILES [N-1]=[C+1]#P[C-1][C+1]=[N+1][P+1]=CN[P-1]=[P-1]=[S+1][S-1]Cl\n"
     ]
    },
    {
     "output_type": "execute_result",
     "data": {
      "text/plain": [
       "<IPython.core.display.SVG object>"
      ],
      "image/svg+xml": "<svg xmlns=\"http://www.w3.org/2000/svg\" xmlns:rdkit=\"http://www.rdkit.org/xml\" xmlns:xlink=\"http://www.w3.org/1999/xlink\" version=\"1.1\" baseProfile=\"full\" xml:space=\"preserve\" width=\"450px\" height=\"150px\" viewBox=\"0 0 450 150\">\n<!-- END OF HEADER -->\n<rect style=\"opacity:1.0;fill:#FFFFFF;stroke:none\" width=\"450.0\" height=\"150.0\" x=\"0.0\" y=\"0.0\"> </rect>\n<path class=\"bond-0 atom-0 atom-1\" d=\"M 414.1,40.4 L 405.0,43.2\" style=\"fill:none;fill-rule:evenodd;stroke:#0000FF;stroke-width:2.0px;stroke-linecap:butt;stroke-linejoin:miter;stroke-opacity:1\"/>\n<path class=\"bond-0 atom-0 atom-1\" d=\"M 405.0,43.2 L 395.8,46.1\" style=\"fill:none;fill-rule:evenodd;stroke:#000000;stroke-width:2.0px;stroke-linecap:butt;stroke-linejoin:miter;stroke-opacity:1\"/>\n<path class=\"bond-0 atom-0 atom-1\" d=\"M 412.5,35.2 L 403.4,38.1\" style=\"fill:none;fill-rule:evenodd;stroke:#0000FF;stroke-width:2.0px;stroke-linecap:butt;stroke-linejoin:miter;stroke-opacity:1\"/>\n<path class=\"bond-0 atom-0 atom-1\" d=\"M 403.4,38.1 L 394.2,41.0\" style=\"fill:none;fill-rule:evenodd;stroke:#000000;stroke-width:2.0px;stroke-linecap:butt;stroke-linejoin:miter;stroke-opacity:1\"/>\n<path class=\"bond-1 atom-1 atom-2\" d=\"M 379.1,48.5 L 366.8,52.3\" style=\"fill:none;fill-rule:evenodd;stroke:#000000;stroke-width:2.0px;stroke-linecap:butt;stroke-linejoin:miter;stroke-opacity:1\"/>\n<path class=\"bond-1 atom-1 atom-2\" d=\"M 366.8,52.3 L 354.5,56.2\" style=\"fill:none;fill-rule:evenodd;stroke:#FF7F00;stroke-width:2.0px;stroke-linecap:butt;stroke-linejoin:miter;stroke-opacity:1\"/>\n<path class=\"bond-1 atom-1 atom-2\" d=\"M 380.7,53.6 L 368.4,57.4\" style=\"fill:none;fill-rule:evenodd;stroke:#000000;stroke-width:2.0px;stroke-linecap:butt;stroke-linejoin:miter;stroke-opacity:1\"/>\n<path class=\"bond-1 atom-1 atom-2\" d=\"M 368.4,57.4 L 356.1,61.3\" style=\"fill:none;fill-rule:evenodd;stroke:#FF7F00;stroke-width:2.0px;stroke-linecap:butt;stroke-linejoin:miter;stroke-opacity:1\"/>\n<path class=\"bond-1 atom-1 atom-2\" d=\"M 377.5,43.4 L 365.2,47.2\" style=\"fill:none;fill-rule:evenodd;stroke:#000000;stroke-width:2.0px;stroke-linecap:butt;stroke-linejoin:miter;stroke-opacity:1\"/>\n<path class=\"bond-1 atom-1 atom-2\" d=\"M 365.2,47.2 L 352.9,51.0\" style=\"fill:none;fill-rule:evenodd;stroke:#FF7F00;stroke-width:2.0px;stroke-linecap:butt;stroke-linejoin:miter;stroke-opacity:1\"/>\n<path class=\"bond-2 atom-2 atom-3\" d=\"M 348.6,63.8 L 346.1,75.0\" style=\"fill:none;fill-rule:evenodd;stroke:#FF7F00;stroke-width:2.0px;stroke-linecap:butt;stroke-linejoin:miter;stroke-opacity:1\"/>\n<path class=\"bond-2 atom-2 atom-3\" d=\"M 346.1,75.0 L 343.6,86.2\" style=\"fill:none;fill-rule:evenodd;stroke:#000000;stroke-width:2.0px;stroke-linecap:butt;stroke-linejoin:miter;stroke-opacity:1\"/>\n<path class=\"bond-3 atom-3 atom-4\" d=\"M 337.1,94.0 L 318.8,99.7\" style=\"fill:none;fill-rule:evenodd;stroke:#000000;stroke-width:2.0px;stroke-linecap:butt;stroke-linejoin:miter;stroke-opacity:1\"/>\n<path class=\"bond-4 atom-4 atom-5\" d=\"M 303.7,107.3 L 294.9,110.0\" style=\"fill:none;fill-rule:evenodd;stroke:#000000;stroke-width:2.0px;stroke-linecap:butt;stroke-linejoin:miter;stroke-opacity:1\"/>\n<path class=\"bond-4 atom-4 atom-5\" d=\"M 294.9,110.0 L 286.0,112.8\" style=\"fill:none;fill-rule:evenodd;stroke:#0000FF;stroke-width:2.0px;stroke-linecap:butt;stroke-linejoin:miter;stroke-opacity:1\"/>\n<path class=\"bond-4 atom-4 atom-5\" d=\"M 302.1,102.1 L 293.3,104.9\" style=\"fill:none;fill-rule:evenodd;stroke:#000000;stroke-width:2.0px;stroke-linecap:butt;stroke-linejoin:miter;stroke-opacity:1\"/>\n<path class=\"bond-4 atom-4 atom-5\" d=\"M 293.3,104.9 L 284.4,107.7\" style=\"fill:none;fill-rule:evenodd;stroke:#0000FF;stroke-width:2.0px;stroke-linecap:butt;stroke-linejoin:miter;stroke-opacity:1\"/>\n<path class=\"bond-5 atom-5 atom-6\" d=\"M 268.8,109.1 L 260.4,101.4\" style=\"fill:none;fill-rule:evenodd;stroke:#0000FF;stroke-width:2.0px;stroke-linecap:butt;stroke-linejoin:miter;stroke-opacity:1\"/>\n<path class=\"bond-5 atom-5 atom-6\" d=\"M 260.4,101.4 L 252.0,93.6\" style=\"fill:none;fill-rule:evenodd;stroke:#FF7F00;stroke-width:2.0px;stroke-linecap:butt;stroke-linejoin:miter;stroke-opacity:1\"/>\n<path class=\"bond-6 atom-6 atom-7\" d=\"M 243.1,90.9 L 228.3,95.5\" style=\"fill:none;fill-rule:evenodd;stroke:#FF7F00;stroke-width:2.0px;stroke-linecap:butt;stroke-linejoin:miter;stroke-opacity:1\"/>\n<path class=\"bond-6 atom-6 atom-7\" d=\"M 228.3,95.5 L 213.4,100.2\" style=\"fill:none;fill-rule:evenodd;stroke:#000000;stroke-width:2.0px;stroke-linecap:butt;stroke-linejoin:miter;stroke-opacity:1\"/>\n<path class=\"bond-6 atom-6 atom-7\" d=\"M 244.7,96.0 L 229.9,100.7\" style=\"fill:none;fill-rule:evenodd;stroke:#FF7F00;stroke-width:2.0px;stroke-linecap:butt;stroke-linejoin:miter;stroke-opacity:1\"/>\n<path class=\"bond-6 atom-6 atom-7\" d=\"M 229.9,100.7 L 215.0,105.3\" style=\"fill:none;fill-rule:evenodd;stroke:#000000;stroke-width:2.0px;stroke-linecap:butt;stroke-linejoin:miter;stroke-opacity:1\"/>\n<path class=\"bond-7 atom-7 atom-8\" d=\"M 213.4,100.2 L 202.8,90.4\" style=\"fill:none;fill-rule:evenodd;stroke:#000000;stroke-width:2.0px;stroke-linecap:butt;stroke-linejoin:miter;stroke-opacity:1\"/>\n<path class=\"bond-7 atom-7 atom-8\" d=\"M 202.8,90.4 L 192.1,80.6\" style=\"fill:none;fill-rule:evenodd;stroke:#0000FF;stroke-width:2.0px;stroke-linecap:butt;stroke-linejoin:miter;stroke-opacity:1\"/>\n<path class=\"bond-8 atom-8 atom-9\" d=\"M 182.1,77.5 L 172.1,80.6\" style=\"fill:none;fill-rule:evenodd;stroke:#0000FF;stroke-width:2.0px;stroke-linecap:butt;stroke-linejoin:miter;stroke-opacity:1\"/>\n<path class=\"bond-8 atom-8 atom-9\" d=\"M 172.1,80.6 L 162.1,83.7\" style=\"fill:none;fill-rule:evenodd;stroke:#FF7F00;stroke-width:2.0px;stroke-linecap:butt;stroke-linejoin:miter;stroke-opacity:1\"/>\n<path class=\"bond-9 atom-9 atom-10\" d=\"M 146.7,84.5 L 129.2,68.4\" style=\"fill:none;fill-rule:evenodd;stroke:#FF7F00;stroke-width:2.0px;stroke-linecap:butt;stroke-linejoin:miter;stroke-opacity:1\"/>\n<path class=\"bond-9 atom-9 atom-10\" d=\"M 150.3,80.5 L 132.9,64.4\" style=\"fill:none;fill-rule:evenodd;stroke:#FF7F00;stroke-width:2.0px;stroke-linecap:butt;stroke-linejoin:miter;stroke-opacity:1\"/>\n<path class=\"bond-10 atom-10 atom-11\" d=\"M 123.0,66.3 L 113.2,69.3\" style=\"fill:none;fill-rule:evenodd;stroke:#FF7F00;stroke-width:2.0px;stroke-linecap:butt;stroke-linejoin:miter;stroke-opacity:1\"/>\n<path class=\"bond-10 atom-10 atom-11\" d=\"M 113.2,69.3 L 103.4,72.4\" style=\"fill:none;fill-rule:evenodd;stroke:#CCCC00;stroke-width:2.0px;stroke-linecap:butt;stroke-linejoin:miter;stroke-opacity:1\"/>\n<path class=\"bond-10 atom-10 atom-11\" d=\"M 121.4,61.1 L 111.6,64.2\" style=\"fill:none;fill-rule:evenodd;stroke:#FF7F00;stroke-width:2.0px;stroke-linecap:butt;stroke-linejoin:miter;stroke-opacity:1\"/>\n<path class=\"bond-10 atom-10 atom-11\" d=\"M 111.6,64.2 L 101.8,67.2\" style=\"fill:none;fill-rule:evenodd;stroke:#CCCC00;stroke-width:2.0px;stroke-linecap:butt;stroke-linejoin:miter;stroke-opacity:1\"/>\n<path class=\"bond-11 atom-11 atom-12\" d=\"M 88.0,68.9 L 70.6,52.8\" style=\"fill:none;fill-rule:evenodd;stroke:#CCCC00;stroke-width:2.0px;stroke-linecap:butt;stroke-linejoin:miter;stroke-opacity:1\"/>\n<path class=\"bond-12 atom-12 atom-13\" d=\"M 61.7,50.1 L 47.8,54.5\" style=\"fill:none;fill-rule:evenodd;stroke:#CCCC00;stroke-width:2.0px;stroke-linecap:butt;stroke-linejoin:miter;stroke-opacity:1\"/>\n<path class=\"bond-12 atom-12 atom-13\" d=\"M 47.8,54.5 L 33.8,58.8\" style=\"fill:none;fill-rule:evenodd;stroke:#00CC00;stroke-width:2.0px;stroke-linecap:butt;stroke-linejoin:miter;stroke-opacity:1\"/>\n<path d=\"M 214.1,99.9 L 213.4,100.2 L 212.9,99.7\" style=\"fill:none;stroke:#000000;stroke-width:2.0px;stroke-linecap:butt;stroke-linejoin:miter;stroke-opacity:1;\"/>\n<path class=\"atom-0\" d=\"M 416.1 31.2 L 419.4 36.5 Q 419.8 37.1, 420.3 38.0 Q 420.8 39.0, 420.9 39.0 L 420.9 31.2 L 422.2 31.2 L 422.2 41.3 L 420.8 41.3 L 417.2 35.4 Q 416.8 34.7, 416.4 34.0 Q 416.0 33.2, 415.8 32.9 L 415.8 41.3 L 414.5 41.3 L 414.5 31.2 L 416.1 31.2 \" fill=\"#0000FF\"/>\n<path class=\"atom-0\" d=\"M 424.0 32.8 L 427.5 32.8 L 427.5 33.6 L 424.0 33.6 L 424.0 32.8 \" fill=\"#0000FF\"/>\n<path class=\"atom-1\" d=\"M 380.3 46.9 Q 380.3 44.4, 381.5 43.1 Q 382.7 41.8, 384.9 41.8 Q 387.0 41.8, 388.1 43.2 L 387.2 44.0 Q 386.3 42.9, 384.9 42.9 Q 383.4 42.9, 382.6 44.0 Q 381.7 45.0, 381.7 46.9 Q 381.7 48.9, 382.6 50.0 Q 383.4 51.0, 385.1 51.0 Q 386.2 51.0, 387.5 50.3 L 387.9 51.4 Q 387.3 51.7, 386.5 51.9 Q 385.7 52.1, 384.9 52.1 Q 382.7 52.1, 381.5 50.8 Q 380.3 49.4, 380.3 46.9 \" fill=\"#000000\"/>\n<path class=\"atom-1\" d=\"M 389.4 43.6 L 391.2 43.6 L 391.2 41.7 L 392.0 41.7 L 392.0 43.6 L 393.8 43.6 L 393.8 44.3 L 392.0 44.3 L 392.0 46.2 L 391.2 46.2 L 391.2 44.3 L 389.4 44.3 L 389.4 43.6 \" fill=\"#000000\"/>\n<path class=\"atom-2\" d=\"M 336.9 52.5 L 338.3 52.5 L 338.3 56.8 L 343.5 56.8 L 343.5 52.5 L 344.9 52.5 L 344.9 62.6 L 343.5 62.6 L 343.5 57.9 L 338.3 57.9 L 338.3 62.6 L 336.9 62.6 L 336.9 52.5 \" fill=\"#FF7F00\"/>\n<path class=\"atom-2\" d=\"M 349.8 52.5 Q 351.5 52.5, 352.4 53.3 Q 353.3 54.0, 353.3 55.5 Q 353.3 56.9, 352.4 57.7 Q 351.5 58.4, 349.8 58.4 L 348.2 58.4 L 348.2 62.6 L 346.8 62.6 L 346.8 52.5 L 349.8 52.5 M 349.8 57.3 Q 350.8 57.3, 351.3 56.8 Q 351.8 56.4, 351.8 55.5 Q 351.8 54.6, 351.3 54.1 Q 350.8 53.6, 349.8 53.6 L 348.2 53.6 L 348.2 57.3 L 349.8 57.3 \" fill=\"#FF7F00\"/>\n<path class=\"atom-3\" d=\"M 338.3 92.5 Q 338.3 90.0, 339.5 88.7 Q 340.6 87.3, 342.9 87.3 Q 345.0 87.3, 346.1 88.8 L 345.2 89.6 Q 344.3 88.5, 342.9 88.5 Q 341.4 88.5, 340.5 89.5 Q 339.7 90.6, 339.7 92.5 Q 339.7 94.5, 340.6 95.5 Q 341.4 96.6, 343.0 96.6 Q 344.2 96.6, 345.5 95.9 L 345.9 97.0 Q 345.3 97.3, 344.5 97.5 Q 343.7 97.7, 342.8 97.7 Q 340.6 97.7, 339.5 96.4 Q 338.3 95.0, 338.3 92.5 \" fill=\"#000000\"/>\n<path class=\"atom-3\" d=\"M 347.3 89.0 L 350.8 89.0 L 350.8 89.8 L 347.3 89.8 L 347.3 89.0 \" fill=\"#000000\"/>\n<path class=\"atom-4\" d=\"M 304.1 103.2 Q 304.1 100.6, 305.3 99.3 Q 306.5 98.0, 308.7 98.0 Q 310.8 98.0, 311.9 99.5 L 311.0 100.2 Q 310.2 99.2, 308.7 99.2 Q 307.2 99.2, 306.4 100.2 Q 305.6 101.2, 305.6 103.2 Q 305.6 105.2, 306.4 106.2 Q 307.3 107.2, 308.9 107.2 Q 310.0 107.2, 311.3 106.5 L 311.7 107.6 Q 311.2 108.0, 310.4 108.2 Q 309.6 108.4, 308.7 108.4 Q 306.5 108.4, 305.3 107.0 Q 304.1 105.7, 304.1 103.2 \" fill=\"#000000\"/>\n<path class=\"atom-4\" d=\"M 313.2 99.8 L 315.0 99.8 L 315.0 97.9 L 315.8 97.9 L 315.8 99.8 L 317.6 99.8 L 317.6 100.5 L 315.8 100.5 L 315.8 102.4 L 315.0 102.4 L 315.0 100.5 L 313.2 100.5 L 313.2 99.8 \" fill=\"#000000\"/>\n<path class=\"atom-5\" d=\"M 271.6 108.7 L 275.0 114.1 Q 275.3 114.6, 275.8 115.6 Q 276.3 116.5, 276.4 116.6 L 276.4 108.7 L 277.7 108.7 L 277.7 118.8 L 276.3 118.8 L 272.8 113.0 Q 272.3 112.3, 271.9 111.5 Q 271.5 110.7, 271.3 110.5 L 271.3 118.8 L 270.0 118.8 L 270.0 108.7 L 271.6 108.7 \" fill=\"#0000FF\"/>\n<path class=\"atom-5\" d=\"M 279.6 110.5 L 281.4 110.5 L 281.4 108.7 L 282.2 108.7 L 282.2 110.5 L 284.0 110.5 L 284.0 111.2 L 282.2 111.2 L 282.2 113.1 L 281.4 113.1 L 281.4 111.2 L 279.6 111.2 L 279.6 110.5 \" fill=\"#0000FF\"/>\n<path class=\"atom-6\" d=\"M 247.3 84.5 Q 249.1 84.5, 249.9 85.2 Q 250.8 86.0, 250.8 87.4 Q 250.8 88.8, 249.9 89.6 Q 249.0 90.4, 247.3 90.4 L 245.7 90.4 L 245.7 94.6 L 244.3 94.6 L 244.3 84.5 L 247.3 84.5 M 247.3 89.3 Q 248.3 89.3, 248.8 88.8 Q 249.4 88.3, 249.4 87.4 Q 249.4 86.5, 248.8 86.1 Q 248.3 85.6, 247.3 85.6 L 245.7 85.6 L 245.7 89.3 L 247.3 89.3 \" fill=\"#FF7F00\"/>\n<path class=\"atom-6\" d=\"M 252.1 86.3 L 253.9 86.3 L 253.9 84.4 L 254.7 84.4 L 254.7 86.3 L 256.5 86.3 L 256.5 87.0 L 254.7 87.0 L 254.7 88.8 L 253.9 88.8 L 253.9 87.0 L 252.1 87.0 L 252.1 86.3 \" fill=\"#FF7F00\"/>\n<path class=\"atom-8\" d=\"M 184.9 70.9 L 188.2 76.2 Q 188.5 76.8, 189.0 77.7 Q 189.6 78.7, 189.6 78.7 L 189.6 70.9 L 190.9 70.9 L 190.9 81.0 L 189.6 81.0 L 186.0 75.1 Q 185.6 74.4, 185.1 73.6 Q 184.7 72.9, 184.6 72.6 L 184.6 81.0 L 183.3 81.0 L 183.3 70.9 L 184.9 70.9 \" fill=\"#0000FF\"/>\n<path class=\"atom-8\" d=\"M 183.1 59.7 L 184.5 59.7 L 184.5 64.0 L 189.7 64.0 L 189.7 59.7 L 191.1 59.7 L 191.1 69.8 L 189.7 69.8 L 189.7 65.2 L 184.5 65.2 L 184.5 69.8 L 183.1 69.8 L 183.1 59.7 \" fill=\"#0000FF\"/>\n<path class=\"atom-9\" d=\"M 152.7 81.5 Q 154.4 81.5, 155.3 82.3 Q 156.2 83.1, 156.2 84.5 Q 156.2 85.9, 155.3 86.7 Q 154.4 87.5, 152.7 87.5 L 151.1 87.5 L 151.1 91.6 L 149.7 91.6 L 149.7 81.5 L 152.7 81.5 M 152.7 86.3 Q 153.7 86.3, 154.2 85.9 Q 154.7 85.4, 154.7 84.5 Q 154.7 83.6, 154.2 83.1 Q 153.7 82.7, 152.7 82.7 L 151.1 82.7 L 151.1 86.3 L 152.7 86.3 \" fill=\"#FF7F00\"/>\n<path class=\"atom-9\" d=\"M 157.4 83.2 L 160.9 83.2 L 160.9 83.9 L 157.4 83.9 L 157.4 83.2 \" fill=\"#FF7F00\"/>\n<path class=\"atom-10\" d=\"M 126.4 57.3 Q 128.1 57.3, 129.0 58.0 Q 129.9 58.8, 129.9 60.2 Q 129.9 61.6, 129.0 62.4 Q 128.1 63.2, 126.4 63.2 L 124.8 63.2 L 124.8 67.4 L 123.4 67.4 L 123.4 57.3 L 126.4 57.3 M 126.4 62.1 Q 127.4 62.1, 127.9 61.6 Q 128.4 61.1, 128.4 60.2 Q 128.4 59.3, 127.9 58.9 Q 127.4 58.4, 126.4 58.4 L 124.8 58.4 L 124.8 62.1 L 126.4 62.1 \" fill=\"#FF7F00\"/>\n<path class=\"atom-10\" d=\"M 131.1 58.9 L 134.6 58.9 L 134.6 59.7 L 131.1 59.7 L 131.1 58.9 \" fill=\"#FF7F00\"/>\n<path class=\"atom-11\" d=\"M 89.6 76.5 Q 89.7 76.5, 90.2 76.7 Q 90.7 76.9, 91.2 77.0 Q 91.7 77.1, 92.2 77.1 Q 93.2 77.1, 93.7 76.7 Q 94.3 76.2, 94.3 75.4 Q 94.3 74.8, 94.0 74.5 Q 93.7 74.2, 93.3 74.0 Q 92.9 73.8, 92.2 73.6 Q 91.3 73.3, 90.7 73.0 Q 90.2 72.8, 89.8 72.2 Q 89.4 71.7, 89.4 70.8 Q 89.4 69.5, 90.3 68.7 Q 91.2 67.9, 92.9 67.9 Q 94.1 67.9, 95.4 68.5 L 95.1 69.6 Q 93.8 69.1, 92.9 69.1 Q 91.9 69.1, 91.4 69.5 Q 90.9 69.9, 90.9 70.6 Q 90.9 71.2, 91.1 71.5 Q 91.4 71.8, 91.8 72.0 Q 92.2 72.2, 92.9 72.4 Q 93.8 72.7, 94.4 73.0 Q 94.9 73.3, 95.3 73.8 Q 95.7 74.4, 95.7 75.4 Q 95.7 76.8, 94.8 77.6 Q 93.8 78.3, 92.3 78.3 Q 91.4 78.3, 90.7 78.1 Q 90.0 77.9, 89.2 77.6 L 89.6 76.5 \" fill=\"#CCCC00\"/>\n<path class=\"atom-11\" d=\"M 97.1 69.6 L 98.8 69.6 L 98.8 67.7 L 99.6 67.7 L 99.6 69.6 L 101.5 69.6 L 101.5 70.3 L 99.6 70.3 L 99.6 72.2 L 98.8 72.2 L 98.8 70.3 L 97.1 70.3 L 97.1 69.6 \" fill=\"#CCCC00\"/>\n<path class=\"atom-12\" d=\"M 63.3 52.2 Q 63.4 52.3, 63.9 52.5 Q 64.4 52.7, 64.9 52.8 Q 65.4 52.9, 65.9 52.9 Q 66.9 52.9, 67.4 52.4 Q 68.0 52.0, 68.0 51.1 Q 68.0 50.6, 67.7 50.2 Q 67.4 49.9, 67.0 49.7 Q 66.6 49.5, 65.9 49.3 Q 65.0 49.0, 64.4 48.8 Q 63.9 48.5, 63.5 48.0 Q 63.1 47.4, 63.1 46.5 Q 63.1 45.3, 64.0 44.5 Q 64.9 43.7, 66.6 43.7 Q 67.7 43.7, 69.1 44.2 L 68.8 45.3 Q 67.5 44.8, 66.6 44.8 Q 65.6 44.8, 65.1 45.3 Q 64.5 45.7, 64.6 46.4 Q 64.6 46.9, 64.8 47.2 Q 65.1 47.6, 65.5 47.7 Q 65.9 47.9, 66.6 48.1 Q 67.5 48.4, 68.1 48.7 Q 68.6 49.0, 69.0 49.6 Q 69.4 50.2, 69.4 51.1 Q 69.4 52.6, 68.5 53.3 Q 67.5 54.1, 66.0 54.1 Q 65.1 54.1, 64.4 53.9 Q 63.7 53.7, 62.9 53.3 L 63.3 52.2 \" fill=\"#CCCC00\"/>\n<path class=\"atom-12\" d=\"M 70.7 45.2 L 74.1 45.2 L 74.1 46.0 L 70.7 46.0 L 70.7 45.2 \" fill=\"#CCCC00\"/>\n<path class=\"atom-13\" d=\"M 22.5 59.7 Q 22.5 57.2, 23.7 55.9 Q 24.9 54.6, 27.1 54.6 Q 29.2 54.6, 30.3 56.0 L 29.4 56.8 Q 28.6 55.7, 27.1 55.7 Q 25.6 55.7, 24.8 56.8 Q 24.0 57.8, 24.0 59.7 Q 24.0 61.7, 24.8 62.8 Q 25.6 63.8, 27.3 63.8 Q 28.4 63.8, 29.7 63.1 L 30.1 64.2 Q 29.6 64.5, 28.8 64.7 Q 28.0 64.9, 27.1 64.9 Q 24.9 64.9, 23.7 63.6 Q 22.5 62.3, 22.5 59.7 \" fill=\"#00CC00\"/>\n<path class=\"atom-13\" d=\"M 31.3 54.0 L 32.7 54.0 L 32.7 64.8 L 31.3 64.8 L 31.3 54.0 \" fill=\"#00CC00\"/>\n<path class=\"atom-3\" d=\"M 353.7,92.5 L 353.6,92.5 L 353.6,92.6 L 353.6,92.6 L 353.6,92.7 L 353.6,92.8 L 353.6,92.8 L 353.5,92.9 L 353.5,92.9 L 353.4,93.0 L 353.4,93.0 L 353.4,93.0 L 353.3,93.1 L 353.2,93.1 L 353.2,93.1 L 353.1,93.1 L 353.1,93.2 L 353.0,93.2 L 353.0,93.2 L 352.9,93.2 L 352.8,93.2 L 352.8,93.2 L 352.7,93.1 L 352.7,93.1 L 352.6,93.1 L 352.5,93.1 L 352.5,93.0 L 352.4,93.0 L 352.4,92.9 L 352.4,92.9 L 352.3,92.8 L 352.3,92.8 L 352.3,92.7 L 352.3,92.7 L 352.2,92.6 L 352.2,92.5 L 352.2,92.5 L 352.2,92.4 L 352.2,92.4 L 352.2,92.3 L 352.3,92.2 L 352.3,92.2 L 352.3,92.1 L 352.3,92.1 L 352.4,92.0 L 352.4,92.0 L 352.4,91.9 L 352.5,91.9 L 352.5,91.9 L 352.6,91.8 L 352.7,91.8 L 352.7,91.8 L 352.8,91.8 L 352.8,91.7 L 352.9,91.7 L 353.0,91.7 L 353.0,91.7 L 353.1,91.8 L 353.1,91.8 L 353.2,91.8 L 353.2,91.8 L 353.3,91.8 L 353.4,91.9 L 353.4,91.9 L 353.4,92.0 L 353.5,92.0 L 353.5,92.0 L 353.6,92.1 L 353.6,92.2 L 353.6,92.2 L 353.6,92.3 L 353.6,92.3 L 353.6,92.4 L 353.7,92.5 L 352.9,92.5 Z\" style=\"fill:#000000;fill-rule:evenodd;fill-opacity:1;stroke:#000000;stroke-width:0.0px;stroke-linecap:butt;stroke-linejoin:miter;stroke-opacity:1;\"/>\n<path class=\"atom-5\" d=\"M 286.9,113.8 L 286.9,113.8 L 286.9,113.9 L 286.9,114.0 L 286.9,114.0 L 286.8,114.1 L 286.8,114.1 L 286.8,114.2 L 286.7,114.2 L 286.7,114.3 L 286.6,114.3 L 286.6,114.4 L 286.5,114.4 L 286.5,114.4 L 286.4,114.4 L 286.4,114.5 L 286.3,114.5 L 286.3,114.5 L 286.2,114.5 L 286.1,114.5 L 286.1,114.5 L 286.0,114.5 L 286.0,114.4 L 285.9,114.4 L 285.8,114.4 L 285.8,114.4 L 285.7,114.3 L 285.7,114.3 L 285.6,114.2 L 285.6,114.2 L 285.6,114.2 L 285.5,114.1 L 285.5,114.0 L 285.5,114.0 L 285.5,113.9 L 285.5,113.9 L 285.5,113.8 L 285.5,113.7 L 285.5,113.7 L 285.5,113.6 L 285.5,113.6 L 285.5,113.5 L 285.5,113.4 L 285.6,113.4 L 285.6,113.3 L 285.6,113.3 L 285.7,113.2 L 285.7,113.2 L 285.8,113.2 L 285.8,113.1 L 285.9,113.1 L 286.0,113.1 L 286.0,113.1 L 286.1,113.1 L 286.1,113.1 L 286.2,113.1 L 286.3,113.1 L 286.3,113.1 L 286.4,113.1 L 286.4,113.1 L 286.5,113.1 L 286.5,113.2 L 286.6,113.2 L 286.6,113.2 L 286.7,113.3 L 286.7,113.3 L 286.8,113.4 L 286.8,113.4 L 286.8,113.5 L 286.9,113.5 L 286.9,113.6 L 286.9,113.6 L 286.9,113.7 L 286.9,113.8 L 286.2,113.8 Z\" style=\"fill:#000000;fill-rule:evenodd;fill-opacity:1;stroke:#000000;stroke-width:0.0px;stroke-linecap:butt;stroke-linejoin:miter;stroke-opacity:1;\"/>\n<path class=\"atom-6\" d=\"M 248.3,83.3 L 248.3,83.4 L 248.3,83.4 L 248.3,83.5 L 248.2,83.6 L 248.2,83.6 L 248.2,83.7 L 248.2,83.7 L 248.1,83.8 L 248.1,83.8 L 248.0,83.9 L 248.0,83.9 L 247.9,83.9 L 247.9,84.0 L 247.8,84.0 L 247.8,84.0 L 247.7,84.0 L 247.6,84.0 L 247.6,84.0 L 247.5,84.0 L 247.5,84.0 L 247.4,84.0 L 247.3,84.0 L 247.3,84.0 L 247.2,84.0 L 247.2,83.9 L 247.1,83.9 L 247.1,83.8 L 247.0,83.8 L 247.0,83.8 L 247.0,83.7 L 246.9,83.7 L 246.9,83.6 L 246.9,83.5 L 246.9,83.5 L 246.9,83.4 L 246.8,83.4 L 246.8,83.3 L 246.9,83.2 L 246.9,83.2 L 246.9,83.1 L 246.9,83.1 L 246.9,83.0 L 247.0,82.9 L 247.0,82.9 L 247.0,82.8 L 247.1,82.8 L 247.1,82.8 L 247.2,82.7 L 247.2,82.7 L 247.3,82.7 L 247.3,82.6 L 247.4,82.6 L 247.5,82.6 L 247.5,82.6 L 247.6,82.6 L 247.6,82.6 L 247.7,82.6 L 247.8,82.6 L 247.8,82.7 L 247.9,82.7 L 247.9,82.7 L 248.0,82.7 L 248.0,82.8 L 248.1,82.8 L 248.1,82.9 L 248.2,82.9 L 248.2,83.0 L 248.2,83.0 L 248.2,83.1 L 248.3,83.1 L 248.3,83.2 L 248.3,83.3 L 248.3,83.3 L 247.6,83.3 Z\" style=\"fill:#000000;fill-rule:evenodd;fill-opacity:1;stroke:#000000;stroke-width:0.0px;stroke-linecap:butt;stroke-linejoin:miter;stroke-opacity:1;\"/>\n<path class=\"atom-9\" d=\"M 163.8,86.6 L 163.8,86.6 L 163.7,86.7 L 163.7,86.8 L 163.7,86.8 L 163.7,86.9 L 163.7,86.9 L 163.6,87.0 L 163.6,87.0 L 163.6,87.1 L 163.5,87.1 L 163.5,87.2 L 163.4,87.2 L 163.4,87.2 L 163.3,87.2 L 163.2,87.3 L 163.2,87.3 L 163.1,87.3 L 163.1,87.3 L 163.0,87.3 L 162.9,87.3 L 162.9,87.3 L 162.8,87.3 L 162.8,87.2 L 162.7,87.2 L 162.7,87.2 L 162.6,87.1 L 162.6,87.1 L 162.5,87.1 L 162.5,87.0 L 162.4,87.0 L 162.4,86.9 L 162.4,86.8 L 162.4,86.8 L 162.3,86.7 L 162.3,86.7 L 162.3,86.6 L 162.3,86.5 L 162.3,86.5 L 162.3,86.4 L 162.4,86.4 L 162.4,86.3 L 162.4,86.3 L 162.4,86.2 L 162.5,86.1 L 162.5,86.1 L 162.6,86.1 L 162.6,86.0 L 162.7,86.0 L 162.7,85.9 L 162.8,85.9 L 162.8,85.9 L 162.9,85.9 L 162.9,85.9 L 163.0,85.9 L 163.1,85.9 L 163.1,85.9 L 163.2,85.9 L 163.2,85.9 L 163.3,85.9 L 163.4,85.9 L 163.4,86.0 L 163.5,86.0 L 163.5,86.0 L 163.6,86.1 L 163.6,86.1 L 163.6,86.2 L 163.7,86.2 L 163.7,86.3 L 163.7,86.3 L 163.7,86.4 L 163.7,86.5 L 163.8,86.5 L 163.8,86.6 L 163.0,86.6 Z\" style=\"fill:#000000;fill-rule:evenodd;fill-opacity:1;stroke:#000000;stroke-width:0.0px;stroke-linecap:butt;stroke-linejoin:miter;stroke-opacity:1;\"/>\n<path class=\"atom-12\" d=\"M 77.0,48.7 L 77.0,48.8 L 77.0,48.9 L 77.0,48.9 L 77.0,49.0 L 76.9,49.0 L 76.9,49.1 L 76.9,49.1 L 76.8,49.2 L 76.8,49.2 L 76.8,49.3 L 76.7,49.3 L 76.7,49.3 L 76.6,49.4 L 76.5,49.4 L 76.5,49.4 L 76.4,49.4 L 76.4,49.4 L 76.3,49.4 L 76.2,49.4 L 76.2,49.4 L 76.1,49.4 L 76.1,49.4 L 76.0,49.4 L 75.9,49.4 L 75.9,49.3 L 75.8,49.3 L 75.8,49.3 L 75.8,49.2 L 75.7,49.2 L 75.7,49.1 L 75.6,49.1 L 75.6,49.0 L 75.6,48.9 L 75.6,48.9 L 75.6,48.8 L 75.6,48.8 L 75.6,48.7 L 75.6,48.6 L 75.6,48.6 L 75.6,48.5 L 75.6,48.5 L 75.6,48.4 L 75.7,48.4 L 75.7,48.3 L 75.8,48.3 L 75.8,48.2 L 75.8,48.2 L 75.9,48.1 L 75.9,48.1 L 76.0,48.1 L 76.1,48.1 L 76.1,48.0 L 76.2,48.0 L 76.2,48.0 L 76.3,48.0 L 76.4,48.0 L 76.4,48.0 L 76.5,48.0 L 76.5,48.1 L 76.6,48.1 L 76.7,48.1 L 76.7,48.1 L 76.8,48.2 L 76.8,48.2 L 76.8,48.3 L 76.9,48.3 L 76.9,48.4 L 76.9,48.4 L 77.0,48.5 L 77.0,48.5 L 77.0,48.6 L 77.0,48.7 L 77.0,48.7 L 76.3,48.7 Z\" style=\"fill:#000000;fill-rule:evenodd;fill-opacity:1;stroke:#000000;stroke-width:0.0px;stroke-linecap:butt;stroke-linejoin:miter;stroke-opacity:1;\"/>\n</svg>"
     },
     "metadata": {},
     "execution_count": 38
    }
   ],
   "source": [
    "rnd_selfies = \"\".join(random.sample(list(alphabet), 26))\n",
    "rnd_smiles = sf.decoder(rnd_selfies)\n",
    "print(\"SELFIE\", rnd_selfies)\n",
    "print(\"SMILES\", rnd_smiles)\n",
    "mol = rdkit.Chem.MolFromSmiles(rnd_smiles)\n",
    "render_mol(mol)"
   ]
  },
  {
   "cell_type": "markdown",
   "source": [
    "## Large, Stochastic Molecules\n",
    "\n",
    "Polymers are large stochastic molecules, in which parts of the molecular structure is repeated to build the full molecules.\n",
    "We are going to use the [Generative BigSMILES (G-BigSMILES)](nhttps://github.com/InnocentBug/bigSMILESgen) notation to represent and generate these molecules.\n",
    "\n",
    "Let's start with a few molecules, that are known to polymerize.\n",
    "Here is Styrene, which forms poly-styrene by opening the double bond between the carbon atoms."
   ],
   "metadata": {
    "id": "8EJU1AxclYaD"
   },
   "id": "8EJU1AxclYaD"
  },
  {
   "cell_type": "code",
   "source": [
    "smiles = \"c1ccccc1C=C\"\n",
    "print(get_iupac_name(smiles), smiles)\n",
    "mol = rdkit.Chem.MolFromSmiles(smiles)\n",
    "render_mol(mol)"
   ],
   "metadata": {
    "id": "bQmqt6A1lptA",
    "outputId": "1a320229-d022-4831-adea-8b79b0c5bbde",
    "colab": {
     "base_uri": "https://localhost:8080/",
     "height": 188
    }
   },
   "id": "bQmqt6A1lptA",
   "execution_count": 40,
   "outputs": [
    {
     "output_type": "stream",
     "name": "stdout",
     "text": [
      "Ethenylbenzene c1ccccc1C=C\n"
     ]
    },
    {
     "output_type": "execute_result",
     "data": {
      "text/plain": [
       "<IPython.core.display.SVG object>"
      ],
      "image/svg+xml": "<svg xmlns=\"http://www.w3.org/2000/svg\" xmlns:rdkit=\"http://www.rdkit.org/xml\" xmlns:xlink=\"http://www.w3.org/1999/xlink\" version=\"1.1\" baseProfile=\"full\" xml:space=\"preserve\" width=\"450px\" height=\"150px\" viewBox=\"0 0 450 150\">\n<!-- END OF HEADER -->\n<rect style=\"opacity:1.0;fill:#FFFFFF;stroke:none\" width=\"450.0\" height=\"150.0\" x=\"0.0\" y=\"0.0\"> </rect>\n<path class=\"bond-0 atom-0 atom-1\" d=\"M 214.5,126.9 L 145.5,142.5\" style=\"fill:none;fill-rule:evenodd;stroke:#000000;stroke-width:2.0px;stroke-linecap:butt;stroke-linejoin:miter;stroke-opacity:1\"/>\n<path class=\"bond-0 atom-0 atom-1\" d=\"M 206.2,118.0 L 149.2,130.8\" style=\"fill:none;fill-rule:evenodd;stroke:#000000;stroke-width:2.0px;stroke-linecap:butt;stroke-linejoin:miter;stroke-opacity:1\"/>\n<path class=\"bond-1 atom-1 atom-2\" d=\"M 145.5,142.5 L 97.6,90.6\" style=\"fill:none;fill-rule:evenodd;stroke:#000000;stroke-width:2.0px;stroke-linecap:butt;stroke-linejoin:miter;stroke-opacity:1\"/>\n<path class=\"bond-2 atom-2 atom-3\" d=\"M 97.6,90.6 L 118.6,23.1\" style=\"fill:none;fill-rule:evenodd;stroke:#000000;stroke-width:2.0px;stroke-linecap:butt;stroke-linejoin:miter;stroke-opacity:1\"/>\n<path class=\"bond-2 atom-2 atom-3\" d=\"M 109.5,87.9 L 126.9,32.0\" style=\"fill:none;fill-rule:evenodd;stroke:#000000;stroke-width:2.0px;stroke-linecap:butt;stroke-linejoin:miter;stroke-opacity:1\"/>\n<path class=\"bond-3 atom-3 atom-4\" d=\"M 118.6,23.1 L 187.6,7.5\" style=\"fill:none;fill-rule:evenodd;stroke:#000000;stroke-width:2.0px;stroke-linecap:butt;stroke-linejoin:miter;stroke-opacity:1\"/>\n<path class=\"bond-4 atom-4 atom-5\" d=\"M 187.6,7.5 L 235.5,59.4\" style=\"fill:none;fill-rule:evenodd;stroke:#000000;stroke-width:2.0px;stroke-linecap:butt;stroke-linejoin:miter;stroke-opacity:1\"/>\n<path class=\"bond-4 atom-4 atom-5\" d=\"M 183.9,19.2 L 223.6,62.1\" style=\"fill:none;fill-rule:evenodd;stroke:#000000;stroke-width:2.0px;stroke-linecap:butt;stroke-linejoin:miter;stroke-opacity:1\"/>\n<path class=\"bond-5 atom-5 atom-6\" d=\"M 235.5,59.4 L 304.5,43.9\" style=\"fill:none;fill-rule:evenodd;stroke:#000000;stroke-width:2.0px;stroke-linecap:butt;stroke-linejoin:miter;stroke-opacity:1\"/>\n<path class=\"bond-6 atom-6 atom-7\" d=\"M 304.5,43.9 L 352.4,95.8\" style=\"fill:none;fill-rule:evenodd;stroke:#000000;stroke-width:2.0px;stroke-linecap:butt;stroke-linejoin:miter;stroke-opacity:1\"/>\n<path class=\"bond-6 atom-6 atom-7\" d=\"M 300.8,55.6 L 344.6,103.0\" style=\"fill:none;fill-rule:evenodd;stroke:#000000;stroke-width:2.0px;stroke-linecap:butt;stroke-linejoin:miter;stroke-opacity:1\"/>\n<path class=\"bond-7 atom-5 atom-0\" d=\"M 235.5,59.4 L 214.5,126.9\" style=\"fill:none;fill-rule:evenodd;stroke:#000000;stroke-width:2.0px;stroke-linecap:butt;stroke-linejoin:miter;stroke-opacity:1\"/>\n<path d=\"M 211.0,127.7 L 214.5,126.9 L 215.5,123.6\" style=\"fill:none;stroke:#000000;stroke-width:2.0px;stroke-linecap:butt;stroke-linejoin:miter;stroke-opacity:1;\"/>\n<path d=\"M 149.0,141.7 L 145.5,142.5 L 143.1,139.9\" style=\"fill:none;stroke:#000000;stroke-width:2.0px;stroke-linecap:butt;stroke-linejoin:miter;stroke-opacity:1;\"/>\n<path d=\"M 100.0,93.1 L 97.6,90.6 L 98.6,87.2\" style=\"fill:none;stroke:#000000;stroke-width:2.0px;stroke-linecap:butt;stroke-linejoin:miter;stroke-opacity:1;\"/>\n<path d=\"M 117.5,26.4 L 118.6,23.1 L 122.0,22.3\" style=\"fill:none;stroke:#000000;stroke-width:2.0px;stroke-linecap:butt;stroke-linejoin:miter;stroke-opacity:1;\"/>\n<path d=\"M 184.1,8.3 L 187.6,7.5 L 190.0,10.1\" style=\"fill:none;stroke:#000000;stroke-width:2.0px;stroke-linecap:butt;stroke-linejoin:miter;stroke-opacity:1;\"/>\n<path d=\"M 301.0,44.7 L 304.5,43.9 L 306.9,46.5\" style=\"fill:none;stroke:#000000;stroke-width:2.0px;stroke-linecap:butt;stroke-linejoin:miter;stroke-opacity:1;\"/>\n</svg>"
     },
     "metadata": {},
     "execution_count": 40
    }
   ]
  },
  {
   "cell_type": "markdown",
   "source": [
    "With the BigSMILES notation we can describe the repeating unit with clearly marking the reaction sites with bond descriptors `[>]` and `[>]`.\n",
    "\n",
    "`{[] [$]CC([$])c1ccccc1 []}`\n",
    "\n",
    "But that doesn't specify how long the actual molecule is.\n",
    "During the reaction it is a stochastic process, and the resulting chain length follow a distribution.\n",
    "\n",
    "With a few assumption we can describe this size distribution as the [Schulz-Zimm distribution](https://en.wikipedia.org/wiki/Schulz%E2%80%93Zimm_distribution).\n",
    "And we can plot the PMF as a function of the molecular weight by number $M_n$ and weight $M_w$, which are both experimentally accessible."
   ],
   "metadata": {
    "id": "srFU-3qXrADT"
   },
   "id": "srFU-3qXrADT"
  },
  {
   "cell_type": "code",
   "source": [
    "import scipy\n",
    "import numpy as np\n",
    "import matplotlib.pyplot as plt\n",
    "\n",
    "\n",
    "def pmf(M, Mw, Mn):\n",
    "    z = Mn / (Mw - Mn)\n",
    "    value = (\n",
    "        z ** (z + 1)\n",
    "        / scipy.special.gamma(z + 1)\n",
    "        * M ** (z - 1)\n",
    "        / Mn**z\n",
    "        * np.exp(-z * M / Mn)\n",
    "    )\n",
    "    return value\n",
    "\n",
    "\n",
    "fig, ax = plt.subplots()\n",
    "ax.set_xlabel(\"M\")\n",
    "ax.set_ylabel(\"p(M)\")\n",
    "ax.set_xlim((0, 1.5e4))\n",
    "\n",
    "M = np.linspace(0, 1.5e4, 1000)\n",
    "ax.plot(M, pmf(M, 5000, 4800), label=\"$Mw = 5000$ $M_n = 4800$\")\n",
    "ax.plot(M, pmf(M, 5000, 4500), label=\"$M_w= 5000$ $M_n= 4500$\")\n",
    "ax.plot(M, pmf(M, 8000, 5000), label=\"$Mw = 8000$ $M_n = 5000$\")\n",
    "ax.plot(M, pmf(M, 9000, 7000), label=\"$Mw = 7000$ $M_n = 7000$\")\n",
    "\n",
    "ax.legend(loc=\"best\")"
   ],
   "metadata": {
    "id": "QWN2xuQJsdBk",
    "outputId": "5ecbc402-b888-43de-809d-ebe0c0176323",
    "colab": {
     "base_uri": "https://localhost:8080/",
     "height": 467
    }
   },
   "id": "QWN2xuQJsdBk",
   "execution_count": 57,
   "outputs": [
    {
     "output_type": "execute_result",
     "data": {
      "text/plain": [
       "<matplotlib.legend.Legend at 0x7aa1f1d9f760>"
      ]
     },
     "metadata": {},
     "execution_count": 57
    },
    {
     "output_type": "display_data",
     "data": {
      "text/plain": [
       "<Figure size 640x480 with 1 Axes>"
      ],
      "image/png": "[encoded data removed]"
     },
     "metadata": {}
    }
   ]
  },
  {
   "cell_type": "markdown",
   "source": [
    "And we can instruct G-BigSMILES to make an ensemble of molecules that follows excatly this distribution."
   ],
   "metadata": {
    "id": "ikPwfe6tud1z"
   },
   "id": "ikPwfe6tud1z"
  },
  {
   "cell_type": "code",
   "source": [
    "from bigsmiles_gen import Molecule\n",
    "\n",
    "big_smi = \"{[] [$]CC([$])c1ccccc1; [$][H] []}|schulz_zimm(1000, 950)|\"\n",
    "# This represents the entire ensemble, not an individual molecule\n",
    "big_mol = Molecule(big_smi)\n",
    "# Now we can randomly generate molecules from the ensemble\n",
    "mol = big_mol.generate()\n",
    "render_mol(mol.mol)"
   ],
   "metadata": {
    "id": "r5wezh02ul2O",
    "outputId": "b8859f90-14c7-480f-edf3-731fdf86fb3c",
    "colab": {
     "base_uri": "https://localhost:8080/",
     "height": 171
    }
   },
   "id": "r5wezh02ul2O",
   "execution_count": 67,
   "outputs": [
    {
     "output_type": "execute_result",
     "data": {
      "text/plain": [
       "<IPython.core.display.SVG object>"
      ],
      "image/svg+xml": "<svg xmlns=\"http://www.w3.org/2000/svg\" xmlns:rdkit=\"http://www.rdkit.org/xml\" xmlns:xlink=\"http://www.w3.org/1999/xlink\" version=\"1.1\" baseProfile=\"full\" xml:space=\"preserve\" width=\"450px\" height=\"150px\" viewBox=\"0 0 450 150\">\n<!-- END OF HEADER -->\n<rect style=\"opacity:1.0;fill:#FFFFFF;stroke:none\" width=\"450.0\" height=\"150.0\" x=\"0.0\" y=\"0.0\"> </rect>\n<path class=\"bond-0 atom-1 atom-2\" d=\"M 330.6,88.5 L 280.4,50.4\" style=\"fill:none;fill-rule:evenodd;stroke:#000000;stroke-width:2.0px;stroke-linecap:butt;stroke-linejoin:miter;stroke-opacity:1\"/>\n<path class=\"bond-1 atom-2 atom-3\" d=\"M 280.4,50.4 L 194.4,62.8\" style=\"fill:none;fill-rule:evenodd;stroke:#000000;stroke-width:2.0px;stroke-linecap:butt;stroke-linejoin:miter;stroke-opacity:1\"/>\n<path class=\"bond-2 atom-3 atom-4\" d=\"M 194.4,62.8 L 152.7,7.5\" style=\"fill:none;fill-rule:evenodd;stroke:#000000;stroke-width:2.0px;stroke-linecap:butt;stroke-linejoin:miter;stroke-opacity:1\"/>\n<path class=\"bond-2 atom-3 atom-4\" d=\"M 178.9,63.8 L 147.0,21.4\" style=\"fill:none;fill-rule:evenodd;stroke:#000000;stroke-width:2.0px;stroke-linecap:butt;stroke-linejoin:miter;stroke-opacity:1\"/>\n<path class=\"bond-3 atom-4 atom-5\" d=\"M 152.7,7.5 L 72.2,19.6\" style=\"fill:none;fill-rule:evenodd;stroke:#000000;stroke-width:2.0px;stroke-linecap:butt;stroke-linejoin:miter;stroke-opacity:1\"/>\n<path class=\"bond-4 atom-5 atom-6\" d=\"M 72.2,19.6 L 33.4,87.1\" style=\"fill:none;fill-rule:evenodd;stroke:#000000;stroke-width:2.0px;stroke-linecap:butt;stroke-linejoin:miter;stroke-opacity:1\"/>\n<path class=\"bond-4 atom-5 atom-6\" d=\"M 80.3,31.5 L 48.8,86.1\" style=\"fill:none;fill-rule:evenodd;stroke:#000000;stroke-width:2.0px;stroke-linecap:butt;stroke-linejoin:miter;stroke-opacity:1\"/>\n<path class=\"bond-5 atom-6 atom-7\" d=\"M 33.4,87.1 L 75.1,142.5\" style=\"fill:none;fill-rule:evenodd;stroke:#000000;stroke-width:2.0px;stroke-linecap:butt;stroke-linejoin:miter;stroke-opacity:1\"/>\n<path class=\"bond-6 atom-7 atom-8\" d=\"M 75.1,142.5 L 155.6,130.4\" style=\"fill:none;fill-rule:evenodd;stroke:#000000;stroke-width:2.0px;stroke-linecap:butt;stroke-linejoin:miter;stroke-opacity:1\"/>\n<path class=\"bond-6 atom-7 atom-8\" d=\"M 80.8,128.6 L 147.5,118.6\" style=\"fill:none;fill-rule:evenodd;stroke:#000000;stroke-width:2.0px;stroke-linecap:butt;stroke-linejoin:miter;stroke-opacity:1\"/>\n<path class=\"bond-7 atom-8 atom-3\" d=\"M 155.6,130.4 L 194.4,62.8\" style=\"fill:none;fill-rule:evenodd;stroke:#000000;stroke-width:2.0px;stroke-linecap:butt;stroke-linejoin:miter;stroke-opacity:1\"/>\n<path class=\"bond-8 atom-0 atom-1\" d=\"M 231.2,88.5 L 330.6,88.5\" style=\"fill:none;fill-rule:evenodd;stroke:#000000;stroke-width:2.0px;stroke-linecap:butt;stroke-linejoin:miter;stroke-opacity:1\"/>\n<path class=\"bond-9 atom-9 atom-10\" d=\"M 392.6,50.4 L 340.7,118.1\" style=\"fill:none;fill-rule:evenodd;stroke:#000000;stroke-width:2.0px;stroke-linecap:butt;stroke-linejoin:miter;stroke-opacity:1\"/>\n<path class=\"bond-10 atom-10 atom-11\" d=\"M 340.7,118.1 L 255.2,96.1\" style=\"fill:none;fill-rule:evenodd;stroke:#000000;stroke-width:2.0px;stroke-linecap:butt;stroke-linejoin:miter;stroke-opacity:1\"/>\n<path class=\"bond-11 atom-11 atom-12\" d=\"M 255.2,96.1 L 217.1,57.9\" style=\"fill:none;fill-rule:evenodd;stroke:#000000;stroke-width:2.0px;stroke-linecap:butt;stroke-linejoin:miter;stroke-opacity:1\"/>\n<path class=\"bond-11 atom-11 atom-12\" d=\"M 232.0,91.1 L 210.4,69.5\" style=\"fill:none;fill-rule:evenodd;stroke:#000000;stroke-width:2.0px;stroke-linecap:butt;stroke-linejoin:miter;stroke-opacity:1\"/>\n<path class=\"bond-12 atom-12 atom-13\" d=\"M 217.1,57.9 L 137.1,36.4\" style=\"fill:none;fill-rule:evenodd;stroke:#000000;stroke-width:2.0px;stroke-linecap:butt;stroke-linejoin:miter;stroke-opacity:1\"/>\n<path class=\"bond-13 atom-13 atom-14\" d=\"M 137.1,36.4 L 95.1,52.8\" style=\"fill:none;fill-rule:evenodd;stroke:#000000;stroke-width:2.0px;stroke-linecap:butt;stroke-linejoin:miter;stroke-opacity:1\"/>\n<path class=\"bond-13 atom-13 atom-14\" d=\"M 137.8,49.9 L 118.3,57.6\" style=\"fill:none;fill-rule:evenodd;stroke:#000000;stroke-width:2.0px;stroke-linecap:butt;stroke-linejoin:miter;stroke-opacity:1\"/>\n<path class=\"bond-14 atom-14 atom-15\" d=\"M 95.1,52.8 L 133.2,90.7\" style=\"fill:none;fill-rule:evenodd;stroke:#000000;stroke-width:2.0px;stroke-linecap:butt;stroke-linejoin:miter;stroke-opacity:1\"/>\n<path class=\"bond-15 atom-15 atom-16\" d=\"M 133.2,90.7 L 213.2,112.2\" style=\"fill:none;fill-rule:evenodd;stroke:#000000;stroke-width:2.0px;stroke-linecap:butt;stroke-linejoin:miter;stroke-opacity:1\"/>\n<path class=\"bond-15 atom-15 atom-16\" d=\"M 139.9,79.1 L 216.6,99.7\" style=\"fill:none;fill-rule:evenodd;stroke:#000000;stroke-width:2.0px;stroke-linecap:butt;stroke-linejoin:miter;stroke-opacity:1\"/>\n<path class=\"bond-16 atom-16 atom-11\" d=\"M 213.2,112.2 L 255.2,96.1\" style=\"fill:none;fill-rule:evenodd;stroke:#000000;stroke-width:2.0px;stroke-linecap:butt;stroke-linejoin:miter;stroke-opacity:1\"/>\n<path class=\"bond-17 atom-2 atom-9\" d=\"M 280.4,50.4 L 392.6,50.4\" style=\"fill:none;fill-rule:evenodd;stroke:#000000;stroke-width:2.0px;stroke-linecap:butt;stroke-linejoin:miter;stroke-opacity:1\"/>\n<path class=\"bond-18 atom-10 atom-17\" d=\"M 340.7,118.1 L 387.4,118.1\" style=\"fill:none;fill-rule:evenodd;stroke:#000000;stroke-width:2.0px;stroke-linecap:butt;stroke-linejoin:miter;stroke-opacity:1\"/>\n<path d=\"M 328.1,86.6 L 330.6,88.5 L 325.6,88.5\" style=\"fill:none;stroke:#000000;stroke-width:2.0px;stroke-linecap:butt;stroke-linejoin:miter;stroke-opacity:1;\"/>\n<path d=\"M 154.7,10.3 L 152.7,7.5 L 148.6,8.1\" style=\"fill:none;stroke:#000000;stroke-width:2.0px;stroke-linecap:butt;stroke-linejoin:miter;stroke-opacity:1;\"/>\n<path d=\"M 76.2,19.0 L 72.2,19.6 L 70.2,23.0\" style=\"fill:none;stroke:#000000;stroke-width:2.0px;stroke-linecap:butt;stroke-linejoin:miter;stroke-opacity:1;\"/>\n<path d=\"M 35.3,83.7 L 33.4,87.1 L 35.4,89.8\" style=\"fill:none;stroke:#000000;stroke-width:2.0px;stroke-linecap:butt;stroke-linejoin:miter;stroke-opacity:1;\"/>\n<path d=\"M 73.0,139.7 L 75.1,142.5 L 79.1,141.9\" style=\"fill:none;stroke:#000000;stroke-width:2.0px;stroke-linecap:butt;stroke-linejoin:miter;stroke-opacity:1;\"/>\n<path d=\"M 151.5,131.0 L 155.6,130.4 L 157.5,127.1\" style=\"fill:none;stroke:#000000;stroke-width:2.0px;stroke-linecap:butt;stroke-linejoin:miter;stroke-opacity:1;\"/>\n<path d=\"M 390.0,53.8 L 392.6,50.4 L 387.0,50.4\" style=\"fill:none;stroke:#000000;stroke-width:2.0px;stroke-linecap:butt;stroke-linejoin:miter;stroke-opacity:1;\"/>\n<path d=\"M 219.0,59.8 L 217.1,57.9 L 213.1,56.8\" style=\"fill:none;stroke:#000000;stroke-width:2.0px;stroke-linecap:butt;stroke-linejoin:miter;stroke-opacity:1;\"/>\n<path d=\"M 141.1,37.4 L 137.1,36.4 L 135.0,37.2\" style=\"fill:none;stroke:#000000;stroke-width:2.0px;stroke-linecap:butt;stroke-linejoin:miter;stroke-opacity:1;\"/>\n<path d=\"M 97.2,52.0 L 95.1,52.8 L 97.0,54.7\" style=\"fill:none;stroke:#000000;stroke-width:2.0px;stroke-linecap:butt;stroke-linejoin:miter;stroke-opacity:1;\"/>\n<path d=\"M 131.3,88.8 L 133.2,90.7 L 137.2,91.7\" style=\"fill:none;stroke:#000000;stroke-width:2.0px;stroke-linecap:butt;stroke-linejoin:miter;stroke-opacity:1;\"/>\n<path d=\"M 209.2,111.1 L 213.2,112.2 L 215.3,111.4\" style=\"fill:none;stroke:#000000;stroke-width:2.0px;stroke-linecap:butt;stroke-linejoin:miter;stroke-opacity:1;\"/>\n<path class=\"atom-0\" d=\"M 208.6 75.9 L 212.0 75.9 L 212.0 86.6 L 224.9 86.6 L 224.9 75.9 L 228.3 75.9 L 228.3 101.1 L 224.9 101.1 L 224.9 89.5 L 212.0 89.5 L 212.0 101.1 L 208.6 101.1 L 208.6 75.9 \" fill=\"#000000\"/>\n<path class=\"atom-17\" d=\"M 390.2 105.5 L 393.6 105.5 L 393.6 116.2 L 406.5 116.2 L 406.5 105.5 L 410.0 105.5 L 410.0 130.7 L 406.5 130.7 L 406.5 119.1 L 393.6 119.1 L 393.6 130.7 L 390.2 130.7 L 390.2 105.5 \" fill=\"#000000\"/>\n<path class=\"atom-0\" d=\"M 205.0,88.5 L 205.0,88.6 L 205.0,88.8 L 204.9,88.9 L 204.9,89.1 L 204.8,89.2 L 204.8,89.4 L 204.7,89.5 L 204.6,89.6 L 204.5,89.7 L 204.4,89.8 L 204.3,89.9 L 204.1,90.0 L 204.0,90.1 L 203.9,90.2 L 203.7,90.2 L 203.6,90.2 L 203.4,90.3 L 203.3,90.3 L 203.1,90.3 L 202.9,90.3 L 202.8,90.2 L 202.7,90.2 L 202.5,90.1 L 202.4,90.1 L 202.2,90.0 L 202.1,89.9 L 202.0,89.8 L 201.9,89.7 L 201.8,89.6 L 201.7,89.4 L 201.6,89.3 L 201.6,89.2 L 201.5,89.0 L 201.5,88.9 L 201.4,88.7 L 201.4,88.6 L 201.4,88.4 L 201.4,88.3 L 201.5,88.1 L 201.5,88.0 L 201.6,87.8 L 201.6,87.7 L 201.7,87.5 L 201.8,87.4 L 201.9,87.3 L 202.0,87.2 L 202.1,87.1 L 202.2,87.0 L 202.4,86.9 L 202.5,86.9 L 202.7,86.8 L 202.8,86.8 L 202.9,86.7 L 203.1,86.7 L 203.3,86.7 L 203.4,86.7 L 203.6,86.7 L 203.7,86.8 L 203.9,86.8 L 204.0,86.9 L 204.1,87.0 L 204.3,87.0 L 204.4,87.1 L 204.5,87.2 L 204.6,87.4 L 204.7,87.5 L 204.8,87.6 L 204.8,87.7 L 204.9,87.9 L 204.9,88.0 L 205.0,88.2 L 205.0,88.3 L 205.0,88.5 L 203.2,88.5 Z\" style=\"fill:#000000;fill-rule:evenodd;fill-opacity:1;stroke:#000000;stroke-width:0.0px;stroke-linecap:butt;stroke-linejoin:miter;stroke-opacity:1;\"/>\n<path class=\"atom-17\" d=\"M 417.1,118.1 L 417.1,118.3 L 417.1,118.4 L 417.0,118.6 L 417.0,118.7 L 416.9,118.9 L 416.9,119.0 L 416.8,119.1 L 416.7,119.3 L 416.6,119.4 L 416.5,119.5 L 416.3,119.6 L 416.2,119.7 L 416.1,119.7 L 415.9,119.8 L 415.8,119.8 L 415.7,119.9 L 415.5,119.9 L 415.3,119.9 L 415.2,119.9 L 415.0,119.9 L 414.9,119.9 L 414.7,119.8 L 414.6,119.8 L 414.5,119.7 L 414.3,119.6 L 414.2,119.5 L 414.1,119.4 L 414.0,119.3 L 413.9,119.2 L 413.8,119.1 L 413.7,118.9 L 413.7,118.8 L 413.6,118.7 L 413.6,118.5 L 413.5,118.4 L 413.5,118.2 L 413.5,118.0 L 413.5,117.9 L 413.6,117.7 L 413.6,117.6 L 413.7,117.4 L 413.7,117.3 L 413.8,117.2 L 413.9,117.1 L 414.0,116.9 L 414.1,116.8 L 414.2,116.7 L 414.3,116.6 L 414.5,116.6 L 414.6,116.5 L 414.7,116.4 L 414.9,116.4 L 415.0,116.4 L 415.2,116.3 L 415.3,116.3 L 415.5,116.4 L 415.7,116.4 L 415.8,116.4 L 415.9,116.5 L 416.1,116.5 L 416.2,116.6 L 416.3,116.7 L 416.5,116.8 L 416.6,116.9 L 416.7,117.0 L 416.8,117.1 L 416.9,117.2 L 416.9,117.4 L 417.0,117.5 L 417.0,117.7 L 417.1,117.8 L 417.1,118.0 L 417.1,118.1 L 415.3,118.1 Z\" style=\"fill:#000000;fill-rule:evenodd;fill-opacity:1;stroke:#000000;stroke-width:0.0px;stroke-linecap:butt;stroke-linejoin:miter;stroke-opacity:1;\"/>\n</svg>"
     },
     "metadata": {},
     "execution_count": 67
    }
   ]
  },
  {
   "cell_type": "markdown",
   "source": [
    "And here is the Monomer for PMMA."
   ],
   "metadata": {
    "id": "siYcn1cnqaTT"
   },
   "id": "siYcn1cnqaTT"
  },
  {
   "cell_type": "code",
   "source": [
    "smiles = \"COC(=O)C(C)=C\"\n",
    "print(get_iupac_name(smiles), smiles)\n",
    "mol = rdkit.Chem.MolFromSmiles(smiles)\n",
    "render_mol(mol)"
   ],
   "metadata": {
    "id": "Agjspa_PqYwj",
    "outputId": "795336ed-a619-4091-f61b-c62e62392fb5",
    "colab": {
     "base_uri": "https://localhost:8080/",
     "height": 188
    }
   },
   "id": "Agjspa_PqYwj",
   "execution_count": 41,
   "outputs": [
    {
     "output_type": "stream",
     "name": "stdout",
     "text": [
      "methyl 2-methylprop-2-enoate COC(=O)C(C)=C\n"
     ]
    },
    {
     "output_type": "execute_result",
     "data": {
      "text/plain": [
       "<IPython.core.display.SVG object>"
      ],
      "image/svg+xml": "<svg xmlns=\"http://www.w3.org/2000/svg\" xmlns:rdkit=\"http://www.rdkit.org/xml\" xmlns:xlink=\"http://www.w3.org/1999/xlink\" version=\"1.1\" baseProfile=\"full\" xml:space=\"preserve\" width=\"450px\" height=\"150px\" viewBox=\"0 0 450 150\">\n<!-- END OF HEADER -->\n<rect style=\"opacity:1.0;fill:#FFFFFF;stroke:none\" width=\"450.0\" height=\"150.0\" x=\"0.0\" y=\"0.0\"> </rect>\n<path class=\"bond-0 atom-0 atom-1\" d=\"M 130.5,58.5 L 152.6,51.6\" style=\"fill:none;fill-rule:evenodd;stroke:#000000;stroke-width:2.0px;stroke-linecap:butt;stroke-linejoin:miter;stroke-opacity:1\"/>\n<path class=\"bond-0 atom-0 atom-1\" d=\"M 152.6,51.6 L 174.7,44.6\" style=\"fill:none;fill-rule:evenodd;stroke:#FF0000;stroke-width:2.0px;stroke-linecap:butt;stroke-linejoin:miter;stroke-opacity:1\"/>\n<path class=\"bond-1 atom-1 atom-2\" d=\"M 193.0,50.2 L 209.0,64.9\" style=\"fill:none;fill-rule:evenodd;stroke:#FF0000;stroke-width:2.0px;stroke-linecap:butt;stroke-linejoin:miter;stroke-opacity:1\"/>\n<path class=\"bond-1 atom-1 atom-2\" d=\"M 209.0,64.9 L 225.0,79.7\" style=\"fill:none;fill-rule:evenodd;stroke:#000000;stroke-width:2.0px;stroke-linecap:butt;stroke-linejoin:miter;stroke-opacity:1\"/>\n<path class=\"bond-2 atom-2 atom-3\" d=\"M 221.4,76.4 L 216.2,99.9\" style=\"fill:none;fill-rule:evenodd;stroke:#000000;stroke-width:2.0px;stroke-linecap:butt;stroke-linejoin:miter;stroke-opacity:1\"/>\n<path class=\"bond-2 atom-2 atom-3\" d=\"M 216.2,99.9 L 210.9,123.5\" style=\"fill:none;fill-rule:evenodd;stroke:#FF0000;stroke-width:2.0px;stroke-linecap:butt;stroke-linejoin:miter;stroke-opacity:1\"/>\n<path class=\"bond-2 atom-2 atom-3\" d=\"M 229.6,78.2 L 224.3,101.8\" style=\"fill:none;fill-rule:evenodd;stroke:#000000;stroke-width:2.0px;stroke-linecap:butt;stroke-linejoin:miter;stroke-opacity:1\"/>\n<path class=\"bond-2 atom-2 atom-3\" d=\"M 224.3,101.8 L 219.1,125.3\" style=\"fill:none;fill-rule:evenodd;stroke:#FF0000;stroke-width:2.0px;stroke-linecap:butt;stroke-linejoin:miter;stroke-opacity:1\"/>\n<path class=\"bond-3 atom-2 atom-4\" d=\"M 225.0,79.7 L 278.4,63.0\" style=\"fill:none;fill-rule:evenodd;stroke:#000000;stroke-width:2.0px;stroke-linecap:butt;stroke-linejoin:miter;stroke-opacity:1\"/>\n<path class=\"bond-4 atom-4 atom-5\" d=\"M 278.4,63.0 L 319.5,100.9\" style=\"fill:none;fill-rule:evenodd;stroke:#000000;stroke-width:2.0px;stroke-linecap:butt;stroke-linejoin:miter;stroke-opacity:1\"/>\n<path class=\"bond-5 atom-4 atom-6\" d=\"M 281.9,66.3 L 294.7,9.3\" style=\"fill:none;fill-rule:evenodd;stroke:#000000;stroke-width:2.0px;stroke-linecap:butt;stroke-linejoin:miter;stroke-opacity:1\"/>\n<path class=\"bond-5 atom-4 atom-6\" d=\"M 273.8,64.4 L 286.5,7.5\" style=\"fill:none;fill-rule:evenodd;stroke:#000000;stroke-width:2.0px;stroke-linecap:butt;stroke-linejoin:miter;stroke-opacity:1\"/>\n<path d=\"M 224.2,78.9 L 225.0,79.7 L 227.7,78.8\" style=\"fill:none;stroke:#000000;stroke-width:2.0px;stroke-linecap:butt;stroke-linejoin:miter;stroke-opacity:1;\"/>\n<path d=\"M 275.7,63.8 L 278.4,63.0 L 280.4,64.9\" style=\"fill:none;stroke:#000000;stroke-width:2.0px;stroke-linecap:butt;stroke-linejoin:miter;stroke-opacity:1;\"/>\n<path class=\"atom-1\" d=\"M 176.6 41.8 Q 176.6 38.0, 178.5 35.9 Q 180.3 33.8, 183.9 33.8 Q 187.4 33.8, 189.3 35.9 Q 191.1 38.0, 191.1 41.8 Q 191.1 45.7, 189.2 47.9 Q 187.3 50.0, 183.9 50.0 Q 180.4 50.0, 178.5 47.9 Q 176.6 45.7, 176.6 41.8 M 183.9 48.3 Q 186.3 48.3, 187.6 46.6 Q 188.9 45.0, 188.9 41.8 Q 188.9 38.7, 187.6 37.2 Q 186.3 35.6, 183.9 35.6 Q 181.4 35.6, 180.1 37.1 Q 178.8 38.7, 178.8 41.8 Q 178.8 45.0, 180.1 46.6 Q 181.4 48.3, 183.9 48.3 \" fill=\"#FF0000\"/>\n<path class=\"atom-3\" d=\"M 205.5 134.3 Q 205.5 130.5, 207.4 128.4 Q 209.2 126.2, 212.8 126.2 Q 216.3 126.2, 218.2 128.4 Q 220.0 130.5, 220.0 134.3 Q 220.0 138.1, 218.1 140.3 Q 216.2 142.5, 212.8 142.5 Q 209.3 142.5, 207.4 140.3 Q 205.5 138.2, 205.5 134.3 M 212.8 140.7 Q 215.2 140.7, 216.5 139.1 Q 217.8 137.5, 217.8 134.3 Q 217.8 131.2, 216.5 129.6 Q 215.2 128.0, 212.8 128.0 Q 210.3 128.0, 209.0 129.6 Q 207.7 131.2, 207.7 134.3 Q 207.7 137.5, 209.0 139.1 Q 210.3 140.7, 212.8 140.7 \" fill=\"#FF0000\"/>\n</svg>"
     },
     "metadata": {},
     "execution_count": 41
    }
   ]
  },
  {
   "cell_type": "markdown",
   "source": [
    "These two monomers together form some of the mo"
   ],
   "metadata": {
    "id": "jVlrhzjxq6Sk"
   },
   "id": "jVlrhzjxq6Sk"
  }
 ],
 "metadata": {
  "colab": {
   "provenance": [],
   "toc_visible": true
  },
  "kernelspec": {
   "display_name": "Python 3 (ipykernel)",
   "language": "python",
   "name": "python3"
  },
  "language_info": {
   "codemirror_mode": {
    "name": "ipython",
    "version": 3
   },
   "file_extension": ".py",
   "mimetype": "text/x-python",
   "name": "python",
   "nbconvert_exporter": "python",
   "pygments_lexer": "ipython3",
   "version": "3.11.2"
  }
 },
 "nbformat": 4,
 "nbformat_minor": 5
}