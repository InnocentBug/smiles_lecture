{
 "cells": [
  {
   "cell_type": "code",
   "execution_count": 1,
   "id": "f95c282a-f1aa-437b-82ed-8a93382a9b6e",
   "metadata": {},
   "outputs": [],
   "source": [
    "import rdkit\n",
    "import bigsmiles_gen"
   ]
  },
  {
   "cell_type": "code",
   "execution_count": 2,
   "id": "e4e3df45-3f53-4ae8-8b6c-96169cf36da1",
   "metadata": {},
   "outputs": [
    {
     "name": "stdout",
     "output_type": "stream",
     "text": [
      "Hello World\n"
     ]
    }
   ],
   "source": [
    "print(\"Hello World\")"
   ]
  },
  {
   "cell_type": "code",
   "execution_count": null,
   "id": "03194f7c-e7a9-4ab1-8a19-07c938b7a3bb",
   "metadata": {},
   "outputs": [],
   "source": []
  }
 ],
 "metadata": {
  "kernelspec": {
   "display_name": "Python 3 (ipykernel)",
   "language": "python",
   "name": "python3"
  },
  "language_info": {
   "codemirror_mode": {
    "name": "ipython",
    "version": 3
   },
   "file_extension": ".py",
   "mimetype": "text/x-python",
   "name": "python",
   "nbconvert_exporter": "python",
   "pygments_lexer": "ipython3",
   "version": "3.11.2"
  }
 },
 "nbformat": 4,
 "nbformat_minor": 5
}
