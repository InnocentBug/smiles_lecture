{
  "cells": [
    {
      "cell_type": "markdown",
      "id": "yjUA7r1kIShi",
      "metadata": {
        "id": "yjUA7r1kIShi"
      },
      "source": [
        "# Molecular Representations\n",
        "\n",
        "Please execute the first code cell as soon as you open this Notebook.\n",
        "This installs dependencies, and prepares the Notebookd for later interactive sessions during the lecture."
      ]
    },
    {
      "cell_type": "code",
      "execution_count": null,
      "id": "f95c282a-f1aa-437b-82ed-8a93382a9b6e",
      "metadata": {
        "id": "f95c282a-f1aa-437b-82ed-8a93382a9b6e"
      },
      "outputs": [],
      "source": [
        "!rm -rf smiles_lecture\n",
        "!git clone https://github.com/InnocentBug/smiles_lecture.git\n",
        "!pip install -r smiles_lecture/requirements.txt --quiet\n",
        "!cp smiles_lecture/util.py ./\n",
        "\n",
        "import rdkit\n",
        "import rdkit.Chem"
      ]
    },
    {
      "cell_type": "code",
      "execution_count": null,
      "id": "PGWVPPRtI0dY",
      "metadata": {
        "id": "PGWVPPRtI0dY"
      },
      "outputs": [],
      "source": [
        "from util import get_iupac_name, render_mol, render_svg"
      ]
    },
    {
      "cell_type": "markdown",
      "id": "mJqX95PvIpMB",
      "metadata": {
        "id": "mJqX95PvIpMB"
      },
      "source": [
        "## SMILES\n",
        "\n",
        "This is an introduction into the SMILES line notation.\n",
        "\n",
        "### Simple linear organic molecules\n",
        "\n",
        "Let's start with some simple alkanes, which have just a carbon backbone.\n",
        "With SMILES we can omit the hydrogens and write carbon simply as `C`."
      ]
    },
    {
      "cell_type": "code",
      "execution_count": null,
      "id": "03194f7c-e7a9-4ab1-8a19-07c938b7a3bb",
      "metadata": {
        "id": "03194f7c-e7a9-4ab1-8a19-07c938b7a3bb"
      },
      "outputs": [],
      "source": [
        "smiles = \"C\"\n",
        "print(get_iupac_name(smiles), smiles)\n",
        "mol = rdkit.Chem.MolFromSmiles(smiles)\n",
        "render_mol(mol)"
      ]
    },
    {
      "cell_type": "code",
      "execution_count": null,
      "id": "HYCnxaCuKRgO",
      "metadata": {
        "id": "HYCnxaCuKRgO"
      },
      "outputs": [],
      "source": [
        "smiles = \"CCC\"\n",
        "print(get_iupac_name(smiles), smiles)\n",
        "mol = rdkit.Chem.MolFromSmiles(smiles)\n",
        "render_mol(mol)"
      ]
    },
    {
      "cell_type": "code",
      "execution_count": null,
      "id": "IdGSwWj-KhMm",
      "metadata": {
        "id": "IdGSwWj-KhMm"
      },
      "outputs": [],
      "source": [
        "smiles = \"CCCCCC\"\n",
        "print(get_iupac_name(smiles), smiles)\n",
        "mol = rdkit.Chem.MolFromSmiles(smiles)\n",
        "render_mol(mol)"
      ]
    },
    {
      "cell_type": "markdown",
      "id": "zD8NMYA2Kmfd",
      "metadata": {
        "id": "zD8NMYA2Kmfd"
      },
      "source": [
        "Similarly, we can use any of the organic subset as letter: `B, C, N, O, P, S, F, Cl, Br, I`\n",
        "\n",
        "This can create some more interesting molecules."
      ]
    },
    {
      "cell_type": "code",
      "execution_count": null,
      "id": "s-VmvmAnK661",
      "metadata": {
        "id": "s-VmvmAnK661"
      },
      "outputs": [],
      "source": [
        "smiles = \"OCCCO\"\n",
        "print(get_iupac_name(smiles), smiles)\n",
        "mol = rdkit.Chem.MolFromSmiles(smiles)\n",
        "render_mol(mol)"
      ]
    },
    {
      "cell_type": "code",
      "execution_count": null,
      "id": "3_IXyhwNLJs_",
      "metadata": {
        "id": "3_IXyhwNLJs_"
      },
      "outputs": [],
      "source": [
        "smiles = \"CCN\"\n",
        "print(get_iupac_name(smiles), smiles)\n",
        "mol = rdkit.Chem.MolFromSmiles(smiles)\n",
        "render_mol(mol)"
      ]
    },
    {
      "cell_type": "markdown",
      "id": "DD0ZZFweLbMV",
      "metadata": {
        "id": "DD0ZZFweLbMV"
      },
      "source": [
        "### More complicated atoms\n",
        "\n",
        "All other atoms have to be enclosed in square brackets:"
      ]
    },
    {
      "cell_type": "code",
      "execution_count": null,
      "id": "HqImHnaFLo1y",
      "metadata": {
        "id": "HqImHnaFLo1y"
      },
      "outputs": [],
      "source": [
        "smiles = \"[Na]\"\n",
        "print(get_iupac_name(smiles), smiles)\n",
        "mol = rdkit.Chem.MolFromSmiles(smiles)\n",
        "render_mol(mol)"
      ]
    },
    {
      "cell_type": "markdown",
      "id": "FEJuSeKiLvxU",
      "metadata": {
        "id": "FEJuSeKiLvxU"
      },
      "source": [
        "Charged atoms append the charge as `+` or `-` at the end inside the square brackets."
      ]
    },
    {
      "cell_type": "code",
      "execution_count": null,
      "id": "ozZjTJs2MFgM",
      "metadata": {
        "id": "ozZjTJs2MFgM"
      },
      "outputs": [],
      "source": [
        "smiles = \"[Na+]\"\n",
        "print(get_iupac_name(smiles), smiles)\n",
        "mol = rdkit.Chem.MolFromSmiles(smiles)\n",
        "render_mol(mol)"
      ]
    },
    {
      "cell_type": "code",
      "execution_count": null,
      "id": "3QEidKqyMQMj",
      "metadata": {
        "id": "3QEidKqyMQMj"
      },
      "outputs": [],
      "source": [
        "smiles = \"[Cl-]\"\n",
        "print(get_iupac_name(smiles), smiles)\n",
        "mol = rdkit.Chem.MolFromSmiles(smiles)\n",
        "render_mol(mol)"
      ]
    },
    {
      "cell_type": "markdown",
      "id": "huXKfHbAMYE8",
      "metadata": {
        "id": "huXKfHbAMYE8"
      },
      "source": [
        "Hydrogens, can be explictly listed either stand alone, or explictly listed for an atom."
      ]
    },
    {
      "cell_type": "code",
      "execution_count": null,
      "id": "-nNMsiHKMh7r",
      "metadata": {
        "id": "-nNMsiHKMh7r"
      },
      "outputs": [],
      "source": [
        "smiles = \"[H]\"\n",
        "print(get_iupac_name(smiles), smiles)\n",
        "mol = rdkit.Chem.MolFromSmiles(smiles)\n",
        "render_mol(mol)"
      ]
    },
    {
      "cell_type": "code",
      "execution_count": null,
      "id": "oxJeA2NLMmZq",
      "metadata": {
        "id": "oxJeA2NLMmZq"
      },
      "outputs": [],
      "source": [
        "smiles = \"[H][H]\"\n",
        "print(get_iupac_name(smiles), smiles)\n",
        "mol = rdkit.Chem.MolFromSmiles(smiles)\n",
        "render_mol(mol)"
      ]
    },
    {
      "cell_type": "code",
      "execution_count": null,
      "id": "aAZz3UXSMvWb",
      "metadata": {
        "id": "aAZz3UXSMvWb"
      },
      "outputs": [],
      "source": [
        "smiles = \"[NH3]\"\n",
        "print(get_iupac_name(smiles), smiles)\n",
        "mol = rdkit.Chem.MolFromSmiles(smiles)\n",
        "render_mol(mol)"
      ]
    },
    {
      "cell_type": "code",
      "execution_count": null,
      "id": "7ZuaN9isNMfo",
      "metadata": {
        "id": "7ZuaN9isNMfo"
      },
      "outputs": [],
      "source": [
        "smiles = \"[NH4+]\"\n",
        "print(get_iupac_name(smiles), smiles)\n",
        "mol = rdkit.Chem.MolFromSmiles(smiles)\n",
        "render_mol(mol)"
      ]
    },
    {
      "cell_type": "markdown",
      "id": "1683c490-0978-4fbe-9831-95dd37c02ac6",
      "metadata": {
        "id": "1683c490-0978-4fbe-9831-95dd37c02ac6"
      },
      "source": [
        "### SMILES Bond Notation\n",
        "\n",
        "With SMILES we can define bonds with special charactes.\n",
        "\n",
        " - `-` is the single bond, it can usually be omitted"
      ]
    },
    {
      "cell_type": "code",
      "execution_count": null,
      "id": "9acfda2c-99cd-4f9c-83c7-5c8a604f8863",
      "metadata": {
        "id": "9acfda2c-99cd-4f9c-83c7-5c8a604f8863"
      },
      "outputs": [],
      "source": [
        "smiles = \"C-C-CC\"\n",
        "print(get_iupac_name(smiles), smiles)\n",
        "mol = rdkit.Chem.MolFromSmiles(smiles)\n",
        "render_mol(mol)"
      ]
    },
    {
      "cell_type": "markdown",
      "id": "1da82afc-a4b0-47d2-82b5-41b9c18ee3b8",
      "metadata": {
        "id": "1da82afc-a4b0-47d2-82b5-41b9c18ee3b8"
      },
      "source": [
        "- `.` is the no bond marker. Usually atoms adjacent to one another are bonded, but we can prevent this.smiles = \"[NH4+]\"\n",
        "print(get_iupac_name(smiles), smiles)\n",
        "mol = rdkit.Chem.MolFromSmiles(smiles)\n",
        "render_mol(mol)"
      ]
    },
    {
      "cell_type": "code",
      "execution_count": null,
      "id": "da9ba299-f80d-43f1-9278-72e4be45b69b",
      "metadata": {
        "id": "da9ba299-f80d-43f1-9278-72e4be45b69b"
      },
      "outputs": [],
      "source": [
        "smiles = \"CCC.CCCC\"\n",
        "mol = rdkit.Chem.MolFromSmiles(smiles)\n",
        "render_mol(mol)"
      ]
    },
    {
      "cell_type": "markdown",
      "id": "dfcab9f1-4eab-4eea-8244-918d31758608",
      "metadata": {
        "id": "dfcab9f1-4eab-4eea-8244-918d31758608"
      },
      "source": [
        "This can be usefule for example to write down ionic bonds, like table salt."
      ]
    },
    {
      "cell_type": "code",
      "execution_count": null,
      "id": "c352f1e8-fdc6-4cc4-a859-41797fd2de22",
      "metadata": {
        "id": "c352f1e8-fdc6-4cc4-a859-41797fd2de22"
      },
      "outputs": [],
      "source": [
        "smiles = \"[Na+].[Cl-]\"\n",
        "print(get_iupac_name(smiles), smiles)\n",
        "mol = rdkit.Chem.MolFromSmiles(smiles)\n",
        "render_mol(mol)"
      ]
    },
    {
      "cell_type": "markdown",
      "id": "8a23d02f-99c3-42ff-a030-ceb275343667",
      "metadata": {
        "id": "8a23d02f-99c3-42ff-a030-ceb275343667"
      },
      "source": [
        "Further bonds are:\n",
        " - `=` double bond\n",
        " - `#` triple bond\n",
        " - `$` quadruple bond\n",
        " - `:` aromatic bond\n",
        " - `/`, `\\` stereochemistry bonds"
      ]
    },
    {
      "cell_type": "code",
      "execution_count": null,
      "id": "fe62e1df-230c-4980-b802-14d4b5089370",
      "metadata": {
        "id": "fe62e1df-230c-4980-b802-14d4b5089370"
      },
      "outputs": [],
      "source": [
        "smiles = \"O=C=O\"\n",
        "print(get_iupac_name(smiles), smiles)\n",
        "mol = rdkit.Chem.MolFromSmiles(smiles)\n",
        "render_mol(mol)"
      ]
    },
    {
      "cell_type": "code",
      "execution_count": null,
      "id": "741f385a-0a9d-46ea-b006-72010b1f773f",
      "metadata": {
        "id": "741f385a-0a9d-46ea-b006-72010b1f773f"
      },
      "outputs": [],
      "source": [
        "smiles = \"C#C\"\n",
        "print(get_iupac_name(smiles), smiles)\n",
        "mol = rdkit.Chem.MolFromSmiles(smiles)\n",
        "render_mol(mol)"
      ]
    },
    {
      "cell_type": "code",
      "execution_count": null,
      "id": "de8194b1-009b-413f-b410-1d9a334e4693",
      "metadata": {
        "id": "de8194b1-009b-413f-b410-1d9a334e4693"
      },
      "outputs": [],
      "source": [
        "smiles = \"N#CO\"\n",
        "print(get_iupac_name(smiles), smiles)\n",
        "mol = rdkit.Chem.MolFromSmiles(smiles)\n",
        "render_mol(mol)"
      ]
    },
    {
      "cell_type": "markdown",
      "id": "1fd3c2aa-b417-4d1f-939e-2c37ce1f3718",
      "metadata": {
        "id": "1fd3c2aa-b417-4d1f-939e-2c37ce1f3718"
      },
      "source": [
        "### Branches\n",
        "\n",
        "Branches can be marked by enclosing a branch in round brackets.\n",
        "Branches can be nested."
      ]
    },
    {
      "cell_type": "code",
      "execution_count": null,
      "id": "ead8c954-977b-4653-83db-c25a4a2ddadf",
      "metadata": {
        "id": "ead8c954-977b-4653-83db-c25a4a2ddadf"
      },
      "outputs": [],
      "source": [
        "smiles = \"CCC(CC)CC\"\n",
        "print(get_iupac_name(smiles), smiles)\n",
        "mol = rdkit.Chem.MolFromSmiles(smiles)\n",
        "render_mol(mol)"
      ]
    },
    {
      "cell_type": "code",
      "execution_count": null,
      "id": "8acd014d-5232-4902-8ee7-74da4ab7e77e",
      "metadata": {
        "id": "8acd014d-5232-4902-8ee7-74da4ab7e77e"
      },
      "outputs": [],
      "source": [
        "smiles = \"CC(=CCCC(=CCCC(=CCCC(=CCCC(=CCCC=C(C)C)C)C)C)C)C\"\n",
        "print(get_iupac_name(smiles), smiles, \"Squalene\")\n",
        "mol = rdkit.Chem.MolFromSmiles(smiles)\n",
        "render_mol(mol)"
      ]
    },
    {
      "cell_type": "markdown",
      "id": "e9cc51b2-d9d2-4059-bdfa-ee6acfbaed42",
      "metadata": {
        "id": "e9cc51b2-d9d2-4059-bdfa-ee6acfbaed42"
      },
      "source": [
        "### Rings\n",
        "\n",
        "Rings are created by breaking a ring at an arbritrary point. And inserting an integer number at that point."
      ]
    },
    {
      "cell_type": "code",
      "execution_count": null,
      "id": "9ec1ee84-fdc4-491a-8258-f93ab6c981c1",
      "metadata": {
        "id": "9ec1ee84-fdc4-491a-8258-f93ab6c981c1"
      },
      "outputs": [],
      "source": [
        "smiles = \"C1CCCCC1\"\n",
        "print(get_iupac_name(smiles), smiles)\n",
        "mol = rdkit.Chem.MolFromSmiles(smiles)\n",
        "render_mol(mol)"
      ]
    },
    {
      "cell_type": "markdown",
      "id": "8cf1ac61-55aa-45d9-bc8b-655d0db997b2",
      "metadata": {
        "id": "8cf1ac61-55aa-45d9-bc8b-655d0db997b2"
      },
      "source": [
        "It is possible to use multiple and nested rings.\n",
        "But structures with rings, can easily challenge the 2D representation of"
      ]
    },
    {
      "cell_type": "code",
      "execution_count": null,
      "id": "a4f5ad42-ee1c-4863-bf4e-37ed2e8140a3",
      "metadata": {
        "lines_to_next_cell": 2,
        "id": "a4f5ad42-ee1c-4863-bf4e-37ed2e8140a3"
      },
      "outputs": [],
      "source": [
        "smiles = \"C12C3C4C1C5C2C3C45\"\n",
        "print(get_iupac_name(smiles), smiles)\n",
        "mol = rdkit.Chem.MolFromSmiles(smiles)\n",
        "render_mol(mol)"
      ]
    },
    {
      "cell_type": "code",
      "execution_count": null,
      "id": "2618f100-896c-47f5-a4eb-a495beae4896",
      "metadata": {
        "id": "2618f100-896c-47f5-a4eb-a495beae4896"
      },
      "outputs": [],
      "source": [
        "smiles = \"C1C3CC2CC(CC1C2)C3\"\n",
        "print(get_iupac_name(smiles), smiles)\n",
        "mol = rdkit.Chem.MolFromSmiles(smiles)\n",
        "render_mol(mol)"
      ]
    },
    {
      "cell_type": "markdown",
      "id": "052dad15-35c8-4af0-bd52-216148bc5278",
      "metadata": {
        "id": "052dad15-35c8-4af0-bd52-216148bc5278"
      },
      "source": [
        "2 digit number are preceded by the `%` symbol"
      ]
    },
    {
      "cell_type": "code",
      "execution_count": null,
      "id": "b1ef9c25-0af7-4ff0-8ea2-21f3eaffe0f3",
      "metadata": {
        "id": "b1ef9c25-0af7-4ff0-8ea2-21f3eaffe0f3"
      },
      "outputs": [],
      "source": [
        "smiles = \"C%32CCC%11CCCCC%11C%32\"\n",
        "print(get_iupac_name(smiles), smiles)\n",
        "mol = rdkit.Chem.MolFromSmiles(smiles)\n",
        "render_mol(mol)"
      ]
    },
    {
      "cell_type": "markdown",
      "id": "117e6369-ea84-469a-9e1f-609a353e056c",
      "metadata": {
        "id": "117e6369-ea84-469a-9e1f-609a353e056c"
      },
      "source": [
        "### Aromacity\n",
        "\n",
        "Aromatic rings can be specified in multiple different ways:\n",
        "\n",
        "- with lower case symbols of `b, c, n, o, p, s`"
      ]
    },
    {
      "cell_type": "code",
      "execution_count": null,
      "id": "c036d883-bb78-4afe-b68a-765505613356",
      "metadata": {
        "id": "c036d883-bb78-4afe-b68a-765505613356"
      },
      "outputs": [],
      "source": [
        "smiles = \"c1ccccc1\"\n",
        "print(get_iupac_name(smiles), smiles)\n",
        "mol = rdkit.Chem.MolFromSmiles(smiles)\n",
        "render_mol(mol)"
      ]
    },
    {
      "cell_type": "markdown",
      "id": "aa3a98cd-1997-46ae-b34d-ab3c31f8bc50",
      "metadata": {
        "id": "aa3a98cd-1997-46ae-b34d-ab3c31f8bc50"
      },
      "source": [
        "- with the aromatic bond symbol"
      ]
    },
    {
      "cell_type": "code",
      "execution_count": null,
      "id": "1fbc0234-52fd-4b2c-998f-8d62019335d8",
      "metadata": {
        "id": "1fbc0234-52fd-4b2c-998f-8d62019335d8"
      },
      "outputs": [],
      "source": [
        "smiles = \"C:1C:C:C:C:C1\"\n",
        "print(get_iupac_name(smiles), smiles)\n",
        "mol = rdkit.Chem.MolFromSmiles(smiles)\n",
        "render_mol(mol)"
      ]
    },
    {
      "cell_type": "markdown",
      "id": "dfefce7f-c815-46ca-b685-4778c410d6ef",
      "metadata": {
        "id": "dfefce7f-c815-46ca-b685-4778c410d6ef"
      },
      "source": [
        "- with the Kekule notation of alternating double and single bonds"
      ]
    },
    {
      "cell_type": "code",
      "execution_count": null,
      "id": "36ad59ab-52b9-4efb-b911-fe83859332f9",
      "metadata": {
        "id": "36ad59ab-52b9-4efb-b911-fe83859332f9"
      },
      "outputs": [],
      "source": [
        "smiles = \"C1=CC=CC=C1\"\n",
        "print(get_iupac_name(smiles), smiles)\n",
        "mol = rdkit.Chem.MolFromSmiles(smiles)\n",
        "render_mol(mol)"
      ]
    },
    {
      "cell_type": "markdown",
      "id": "bf9ee318-c24a-41ff-a4d6-d03d124cc707",
      "metadata": {
        "id": "bf9ee318-c24a-41ff-a4d6-d03d124cc707"
      },
      "source": [
        "Aromatic rings that are bonded with a single bond, need to spell out the single bond. It may not be omitted."
      ]
    },
    {
      "cell_type": "code",
      "execution_count": null,
      "id": "0b6a2064-2714-43ae-9ded-734055095fcd",
      "metadata": {
        "id": "0b6a2064-2714-43ae-9ded-734055095fcd"
      },
      "outputs": [],
      "source": [
        "smiles = \"c1ccccc1-c2ccccc2\"\n",
        "print(get_iupac_name(smiles), smiles)\n",
        "mol = rdkit.Chem.MolFromSmiles(smiles)\n",
        "render_mol(mol)"
      ]
    },
    {
      "cell_type": "markdown",
      "id": "c3ca6ae8-b7a8-4ef0-8771-80e62453a60c",
      "metadata": {
        "id": "c3ca6ae8-b7a8-4ef0-8771-80e62453a60c"
      },
      "source": [
        "### SMILES Challenge\n",
        "\n",
        "Create the SMILES string for Aspirin, starting with the carbon atom highlighted in green.\n",
        "![aspirin.png](https://raw.githubusercontent.com/InnocentBug/smiles_lecture/main/aspirin.png)"
      ]
    },
    {
      "cell_type": "code",
      "execution_count": null,
      "id": "f96c3d69-d1aa-4478-9a6b-8fac74d2368b",
      "metadata": {
        "id": "f96c3d69-d1aa-4478-9a6b-8fac74d2368b"
      },
      "outputs": [],
      "source": [
        "smiles = \"C\"\n",
        "print(get_iupac_name(smiles), smiles)\n",
        "mol = rdkit.Chem.MolFromSmiles(smiles)\n",
        "render_mol(mol)"
      ]
    },
    {
      "cell_type": "markdown",
      "id": "4c1e8302-846d-4ffb-bc88-9f769e89f2e0",
      "metadata": {
        "id": "4c1e8302-846d-4ffb-bc88-9f769e89f2e0"
      },
      "source": [
        "## SELFIES for Machine learning Input\n",
        "\n",
        "Selfies are an alternative to SMILES. They are both a text representation.\n",
        "SMILES is older, more compact but lacks some of the features of SELFIES."
      ]
    },
    {
      "cell_type": "code",
      "execution_count": null,
      "id": "7869f915-0b7c-464c-9f1c-839436f0eddc",
      "metadata": {
        "id": "7869f915-0b7c-464c-9f1c-839436f0eddc"
      },
      "outputs": [],
      "source": [
        "import selfies as sf\n",
        "\n",
        "ethanol = \"CCO\"\n",
        "sf.encoder(ethanol)"
      ]
    },
    {
      "cell_type": "code",
      "execution_count": null,
      "id": "ca30a88f-4c2c-49da-ab31-e48039b1c6bc",
      "metadata": {
        "id": "ca30a88f-4c2c-49da-ab31-e48039b1c6bc"
      },
      "outputs": [],
      "source": [
        "ethanol = \"OCC\"\n",
        "sf.encoder(ethanol)"
      ]
    },
    {
      "cell_type": "code",
      "execution_count": null,
      "id": "baee162d-7443-45e9-9ca8-0cc743f23d58",
      "metadata": {
        "id": "baee162d-7443-45e9-9ca8-0cc743f23d58"
      },
      "outputs": [],
      "source": [
        "benzene = \"c1ccccc1\"\n",
        "sf.encoder(benzene)"
      ]
    },
    {
      "cell_type": "markdown",
      "id": "9b71d97b-9049-41b2-85dd-8cde26d3d3f0",
      "metadata": {
        "id": "9b71d97b-9049-41b2-85dd-8cde26d3d3f0"
      },
      "source": [
        "It is easy to generate new valid structures with SELFIES by just appending valid alphabet entries."
      ]
    },
    {
      "cell_type": "code",
      "execution_count": null,
      "id": "19f96f5a-b285-45a1-8948-06c51b4f3cfd",
      "metadata": {
        "id": "19f96f5a-b285-45a1-8948-06c51b4f3cfd"
      },
      "outputs": [],
      "source": [
        "import random\n",
        "\n",
        "alphabet = sf.get_semantic_robust_alphabet()  # Gets the alphabet of robust symbols\n",
        "rnd_selfies = \"\".join(random.sample(list(alphabet), 11))\n",
        "rnd_smiles = sf.decoder(rnd_selfies)\n",
        "print(\"SELFIE\", rnd_selfies)\n",
        "print(\"SMILES\", rnd_smiles)\n",
        "mol = rdkit.Chem.MolFromSmiles(rnd_smiles)\n",
        "render_mol(mol)"
      ]
    },
    {
      "cell_type": "code",
      "execution_count": null,
      "id": "b4afb717-6afa-4a20-b81c-2c64a3dd149e",
      "metadata": {
        "id": "b4afb717-6afa-4a20-b81c-2c64a3dd149e"
      },
      "outputs": [],
      "source": [
        "rnd_selfies = \"\".join(random.sample(list(alphabet), 15))\n",
        "rnd_smiles = sf.decoder(rnd_selfies)\n",
        "print(\"SELFIE\", rnd_selfies)\n",
        "print(\"SMILES\", rnd_smiles)\n",
        "mol = rdkit.Chem.MolFromSmiles(rnd_smiles)\n",
        "render_mol(mol)"
      ]
    },
    {
      "cell_type": "code",
      "execution_count": null,
      "id": "c5197bb4-8628-4c8b-ac3b-878bfe74c711",
      "metadata": {
        "id": "c5197bb4-8628-4c8b-ac3b-878bfe74c711"
      },
      "outputs": [],
      "source": [
        "rnd_selfies = \"\".join(random.sample(list(alphabet), 22))\n",
        "rnd_smiles = sf.decoder(rnd_selfies)\n",
        "print(\"SELFIE\", rnd_selfies)\n",
        "print(\"SMILES\", rnd_smiles)\n",
        "mol = rdkit.Chem.MolFromSmiles(rnd_smiles)\n",
        "render_mol(mol)"
      ]
    },
    {
      "cell_type": "code",
      "execution_count": null,
      "id": "bc2688d5-e36d-4091-94aa-baf776b07acb",
      "metadata": {
        "id": "bc2688d5-e36d-4091-94aa-baf776b07acb"
      },
      "outputs": [],
      "source": [
        "rnd_selfies = \"\".join(random.sample(list(alphabet), 26))\n",
        "rnd_smiles = sf.decoder(rnd_selfies)\n",
        "print(\"SELFIE\", rnd_selfies)\n",
        "print(\"SMILES\", rnd_smiles)\n",
        "mol = rdkit.Chem.MolFromSmiles(rnd_smiles)\n",
        "render_mol(mol)"
      ]
    },
    {
      "cell_type": "markdown",
      "source": [
        "## Large, Stochastic Molecules\n",
        "\n",
        "Polymers are large stochastic molecules, in which parts of the molecular structure is repeated to build the full molecules.\n",
        "We are going to use the [Generative BigSMILES (G-BigSMILES)](nhttps://github.com/InnocentBug/bigSMILESgen) notation to represent and generate these molecules.\n",
        "\n",
        "Let's start with a few molecules, that are known to polymerize.\n",
        "Here is Styrene, which forms poly-styrene by opening the double bond between the carbon atoms."
      ],
      "metadata": {
        "id": "8EJU1AxclYaD"
      },
      "id": "8EJU1AxclYaD"
    },
    {
      "cell_type": "code",
      "source": [
        "smiles = \"c1ccccc1C=C\"\n",
        "print(get_iupac_name(smiles), smiles)\n",
        "mol = rdkit.Chem.MolFromSmiles(smiles)\n",
        "render_mol(mol)"
      ],
      "metadata": {
        "id": "bQmqt6A1lptA"
      },
      "id": "bQmqt6A1lptA",
      "execution_count": null,
      "outputs": []
    },
    {
      "cell_type": "markdown",
      "source": [
        "With the BigSMILES notation we can describe the repeating unit with clearly marking the reaction sites with bond descriptors `[>]` and `[>]`.\n",
        "\n",
        "`{[] [$]CC([$])c1ccccc1 []}`\n",
        "\n",
        "But that doesn't specify how long the actual molecule is.\n",
        "During the reaction it is a stochastic process, and the resulting chain length follow a distribution.\n",
        "\n",
        "With a few assumption we can describe this size distribution as the [Schulz-Zimm distribution](https://en.wikipedia.org/wiki/Schulz%E2%80%93Zimm_distribution).\n",
        "And we can plot the PMF as a function of the molecular weight by number $M_n$ and weight $M_w$, which are both experimentally accessible."
      ],
      "metadata": {
        "id": "srFU-3qXrADT"
      },
      "id": "srFU-3qXrADT"
    },
    {
      "cell_type": "code",
      "source": [
        "import scipy\n",
        "import numpy as np\n",
        "import matplotlib.pyplot as plt\n",
        "\n",
        "\n",
        "def pmf(M, Mw, Mn):\n",
        "    z = Mn / (Mw - Mn)\n",
        "    value = (\n",
        "        z ** (z + 1)\n",
        "        / scipy.special.gamma(z + 1)\n",
        "        * M ** (z - 1)\n",
        "        / Mn**z\n",
        "        * np.exp(-z * M / Mn)\n",
        "    )\n",
        "    return value\n",
        "\n",
        "\n",
        "fig, ax = plt.subplots()\n",
        "ax.set_xlabel(\"M\")\n",
        "ax.set_ylabel(\"p(M)\")\n",
        "ax.set_xlim((0, 1.5e4))\n",
        "\n",
        "M = np.linspace(0, 1.5e4, 1000)\n",
        "ax.plot(M, pmf(M, 5000, 4800), label=\"$Mw = 5000$ $M_n = 4800$\")\n",
        "ax.plot(M, pmf(M, 5000, 4500), label=\"$M_w= 5000$ $M_n= 4500$\")\n",
        "ax.plot(M, pmf(M, 8000, 5000), label=\"$Mw = 8000$ $M_n = 5000$\")\n",
        "ax.plot(M, pmf(M, 9000, 7000), label=\"$Mw = 7000$ $M_n = 7000$\")\n",
        "\n",
        "ax.legend(loc=\"best\")"
      ],
      "metadata": {
        "id": "QWN2xuQJsdBk"
      },
      "id": "QWN2xuQJsdBk",
      "execution_count": null,
      "outputs": []
    },
    {
      "cell_type": "markdown",
      "source": [
        "And we can instruct G-BigSMILES to make an ensemble of molecules that follows excatly this distribution."
      ],
      "metadata": {
        "id": "ikPwfe6tud1z"
      },
      "id": "ikPwfe6tud1z"
    },
    {
      "cell_type": "code",
      "source": [
        "from bigsmiles_gen import Molecule\n",
        "\n",
        "big_smi = \"{[] [$]CC([$])c1ccccc1; [$][H] []}|schulz_zimm(1000, 950)|\"\n",
        "# This represents the entire ensemble, not an individual molecule\n",
        "big_mol = Molecule(big_smi)\n",
        "# Now we can randomly generate molecules from the ensemble\n",
        "mol = big_mol.generate()\n",
        "render_mol(mol.mol)"
      ],
      "metadata": {
        "id": "r5wezh02ul2O"
      },
      "id": "r5wezh02ul2O",
      "execution_count": null,
      "outputs": []
    },
    {
      "cell_type": "markdown",
      "source": [
        "And if we repeat this last generation step we get differently sized molecules, just as the Schulz-Zimm distribution specifies.\n"
      ],
      "metadata": {
        "id": "IXffLxp7x72v"
      },
      "id": "IXffLxp7x72v"
    },
    {
      "cell_type": "code",
      "source": [
        "mol = big_mol.generate()\n",
        "render_mol(mol.mol)"
      ],
      "metadata": {
        "id": "5Tf8D1SPyFdb"
      },
      "id": "5Tf8D1SPyFdb",
      "execution_count": null,
      "outputs": []
    },
    {
      "cell_type": "code",
      "source": [
        "mol = big_mol.generate()\n",
        "render_mol(mol.mol)"
      ],
      "metadata": {
        "id": "Q5AjGRj_yIKH"
      },
      "id": "Q5AjGRj_yIKH",
      "execution_count": null,
      "outputs": []
    },
    {
      "cell_type": "markdown",
      "source": [
        "Go ahead, play with the size of the molecule. Notice how the generation takes longer if you request longer molecules, and how the 2D structure diagram is not suitable to display very large molecules.\n",
        "\n",
        "### Real Poly-Styrene\n",
        "\n",
        "To create a description of real polystyrene, we need to add head and tail groups that come from the specific reaction we run to perform the polymerization. And we would need to characterize the resulting material to determine $M_n$ and $M_w$.\n",
        "\n"
      ],
      "metadata": {
        "id": "eAKOkPw1yK6M"
      },
      "id": "eAKOkPw1yK6M"
    },
    {
      "cell_type": "code",
      "source": [
        "big_smi = \"CCOC(=O)C(C)(C){[>][<]CC([>])c1ccccc1, [<]}|schulz_zimm(1500, 1400)|[Br]\"\n",
        "big_mol = Molecule(big_smi)\n",
        "mol = big_mol.generate()\n",
        "render_mol(mol.mol)"
      ],
      "metadata": {
        "id": "pPHuFP4kyy5Z"
      },
      "id": "pPHuFP4kyy5Z",
      "execution_count": null,
      "outputs": []
    },
    {
      "cell_type": "markdown",
      "source": [
        "### Multi-Component Polymer\n",
        "\n",
        "Let's look at the monomer for PMMA."
      ],
      "metadata": {
        "id": "siYcn1cnqaTT"
      },
      "id": "siYcn1cnqaTT"
    },
    {
      "cell_type": "code",
      "source": [
        "smiles = \"COC(=O)C(C)=C\"\n",
        "print(get_iupac_name(smiles), smiles)\n",
        "mol = rdkit.Chem.MolFromSmiles(smiles)\n",
        "render_mol(mol)"
      ],
      "metadata": {
        "id": "Agjspa_PqYwj"
      },
      "id": "Agjspa_PqYwj",
      "execution_count": null,
      "outputs": []
    },
    {
      "cell_type": "markdown",
      "source": [
        "PMMA has the same polymerization reaction as PS, and they both form the back bone by opening the double bond. Combining monomers randomly like this usually blends the properties of the two homopolymers together.\n",
        "\n",
        "Let's look at random copolymer, where both repeat units are mixed together.\n"
      ],
      "metadata": {
        "id": "Q0d1zCFqz85H"
      },
      "id": "Q0d1zCFqz85H"
    },
    {
      "cell_type": "code",
      "source": [
        "big_smi = \"CCOC(=O)C(C)(C){[>][<]CC([>])c1ccccc1, [<]CC([>])C(=O)OC [<]}|schulz_zimm(1500, 1400)|[Br].|5e5|\"\n",
        "big_mol = Molecule(big_smi)\n",
        "mol = big_mol.generate()\n",
        "render_mol(mol.mol)"
      ],
      "metadata": {
        "id": "aEo8ex-A3g-g"
      },
      "id": "aEo8ex-A3g-g",
      "execution_count": null,
      "outputs": []
    },
    {
      "cell_type": "markdown",
      "source": [
        "We can present this stocastic molecule as a graph.\n",
        "It defines the probabilities of how these molecules are created."
      ],
      "metadata": {
        "id": "jVlrhzjxq6Sk"
      },
      "id": "jVlrhzjxq6Sk"
    },
    {
      "cell_type": "code",
      "source": [
        "import pydot\n",
        "import bigsmiles_gen\n",
        "\n",
        "graph = big_mol.gen_reaction_graph()\n",
        "graph_dot = bigsmiles_gen.reaction_graph_to_dot_string(graph, big_smi)\n",
        "pydot_graph = pydot.graph_from_dot_data(graph_dot)[0]\n",
        "graph_svg = pydot_graph.create_svg()\n",
        "render_svg(graph_svg)"
      ],
      "metadata": {
        "id": "psf7Y1cY4nEd"
      },
      "id": "psf7Y1cY4nEd",
      "execution_count": null,
      "outputs": []
    },
    {
      "cell_type": "markdown",
      "source": [
        "Another option is to create diblock-copolymer where the two different monomer are reacted in blocks.\n",
        "Usually these block repel each other, but are bound together by covalent bonds.\n",
        "As a result we observe for example microphase separation and the material properties are very different from the homopolymers or the random copolymer."
      ],
      "metadata": {
        "id": "VpNGfuXF5jOd"
      },
      "id": "VpNGfuXF5jOd"
    },
    {
      "cell_type": "code",
      "source": [
        "big_smi = \"CCOC(=O)C(C)(C){[>][<]CC([>])c1ccccc1 [<]}|schulz_zimm(1000,900)|{[>][<]CC([>])C(=O)OC[<]}|schulz_zimm(1000, 900)|[Br]\"\n",
        "big_mol = Molecule(big_smi)\n",
        "mol = big_mol.generate()\n",
        "render_mol(mol.mol)"
      ],
      "metadata": {
        "id": "FbkSX2X-6NPo"
      },
      "id": "FbkSX2X-6NPo",
      "execution_count": null,
      "outputs": []
    },
    {
      "cell_type": "code",
      "source": [
        "graph = big_mol.gen_reaction_graph()\n",
        "graph_dot = bigsmiles_gen.reaction_graph_to_dot_string(graph, big_smi)\n",
        "pydot_graph = pydot.graph_from_dot_data(graph_dot)[0]\n",
        "graph_svg = pydot_graph.create_svg()\n",
        "render_svg(graph_svg)"
      ],
      "metadata": {
        "id": "IMx1wfQR6i1c"
      },
      "id": "IMx1wfQR6i1c",
      "execution_count": null,
      "outputs": []
    },
    {
      "cell_type": "markdown",
      "source": [
        "And with this graph description, we can apply our Message Passing Graph Neural Network architectures to describe and apply other machine learning tools."
      ],
      "metadata": {
        "id": "ZjRXKW1N6iIy"
      },
      "id": "ZjRXKW1N6iIy"
    }
  ],
  "metadata": {
    "colab": {
      "provenance": [],
      "toc_visible": true
    },
    "kernelspec": {
      "display_name": "Python 3 (ipykernel)",
      "language": "python",
      "name": "python3"
    },
    "language_info": {
      "codemirror_mode": {
        "name": "ipython",
        "version": 3
      },
      "file_extension": ".py",
      "mimetype": "text/x-python",
      "name": "python",
      "nbconvert_exporter": "python",
      "pygments_lexer": "ipython3",
      "version": "3.11.2"
    }
  },
  "nbformat": 4,
  "nbformat_minor": 5
}