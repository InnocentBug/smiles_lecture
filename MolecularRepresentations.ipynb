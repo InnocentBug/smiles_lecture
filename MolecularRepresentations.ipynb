{
 "cells": [
  {
   "cell_type": "markdown",
   "id": "yjUA7r1kIShi",
   "metadata": {
    "id": "yjUA7r1kIShi"
   },
   "source": [
    "# Molecular Representations\n",
    "\n",
    "Please execute the first code cell as soon as you open this Notebook.\n",
    "This installs dependencies, and prepares the Notebookd for later interactive sessions during the lecture."
   ]
  },
  {
   "cell_type": "code",
   "execution_count": 18,
   "id": "f95c282a-f1aa-437b-82ed-8a93382a9b6e",
   "metadata": {
    "colab": {
     "base_uri": "https://localhost:8080/"
    },
    "id": "f95c282a-f1aa-437b-82ed-8a93382a9b6e",
    "outputId": "9d6d6581-aece-4b39-f858-772856201cf2"
   },
   "outputs": [
    {
     "name": "stdout",
     "output_type": "stream",
     "text": [
      "Cloning into 'smiles_lecture'...\n",
      "remote: Enumerating objects: 22, done.\u001b[K\n",
      "remote: Counting objects: 100% (22/22), done.\u001b[K\n",
      "remote: Compressing objects: 100% (17/17), done.\u001b[K\n",
      "Receiving objects: 100% (22/22), 6.72 KiB | 6.72 MiB/s, done.\n",
      "remote: Total 22 (delta 7), reused 16 (delta 4), pack-reused 0\u001b[K\n",
      "Resolving deltas: 100% (7/7), done.\n",
      "  Installing build dependencies ... \u001b[?25l\u001b[?25hdone\n",
      "  Getting requirements to build wheel ... \u001b[?25l\u001b[?25hdone\n",
      "  Preparing metadata (pyproject.toml) ... \u001b[?25l\u001b[?25hdone\n",
      "  Preparing metadata (setup.py) ... \u001b[?25l\u001b[?25hdone\n"
     ]
    }
   ],
   "source": [
    "!rm -rf smiles_lecture\n",
    "!git clone https://github.com/InnocentBug/smiles_lecture.git\n",
    "!pip install -r smiles_lecture/requirements.txt --quiet\n",
    "!cp smiles_lecture/util.py ./\n",
    "\n",
    "import rdkit\n",
    "import rdkit.Chem"
   ]
  },
  {
   "cell_type": "code",
   "execution_count": 3,
   "id": "PGWVPPRtI0dY",
   "metadata": {
    "id": "PGWVPPRtI0dY"
   },
   "outputs": [],
   "source": [
    "from util import get_iupac_name, render_mol\n",
    "import rdkit\n",
    "import rdkit.Chem"
   ]
  },
  {
   "cell_type": "markdown",
   "id": "mJqX95PvIpMB",
   "metadata": {
    "id": "mJqX95PvIpMB"
   },
   "source": [
    "## SMILES\n",
    "\n",
    "This is an introduction into the SMILES line notation.\n",
    "\n",
    "### Simple linear organic molecules\n",
    "\n",
    "Let's start with some simple alkanes, which have just a carbon backbone.\n",
    "With SMILES we can omit the hydrogens and write carbon simply as `C`."
   ]
  },
  {
   "cell_type": "code",
   "execution_count": 5,
   "id": "03194f7c-e7a9-4ab1-8a19-07c938b7a3bb",
   "metadata": {
    "colab": {
     "base_uri": "https://localhost:8080/",
     "height": 188
    },
    "id": "03194f7c-e7a9-4ab1-8a19-07c938b7a3bb",
    "outputId": "c2db0547-c84e-43e8-b4d3-20e620c7d156"
   },
   "outputs": [
    {
     "name": "stdout",
     "output_type": "stream",
     "text": [
      "methane C\n"
     ]
    },
    {
     "data": {
      "image/svg+xml": [
       "<svg xmlns=\"http://www.w3.org/2000/svg\" xmlns:rdkit=\"http://www.rdkit.org/xml\" xmlns:xlink=\"http://www.w3.org/1999/xlink\" version=\"1.1\" baseProfile=\"full\" xml:space=\"preserve\" width=\"450px\" height=\"150px\" viewBox=\"0 0 450 150\">\n",
       "<!-- END OF HEADER -->\n",
       "<rect style=\"opacity:1.0;fill:#FFFFFF;stroke:none\" width=\"450.0\" height=\"150.0\" x=\"0.0\" y=\"0.0\"> </rect>\n",
       "<path class=\"atom-0\" d=\"M 191.1 68.0 Q 191.1 61.0, 194.4 57.3 Q 197.7 53.6, 204.0 53.6 Q 209.8 53.6, 213.0 57.7 L 210.3 59.9 Q 208.0 56.9, 204.0 56.9 Q 199.7 56.9, 197.4 59.8 Q 195.2 62.6, 195.2 68.0 Q 195.2 73.6, 197.5 76.5 Q 199.9 79.4, 204.4 79.4 Q 207.6 79.4, 211.2 77.5 L 212.3 80.5 Q 210.8 81.5, 208.6 82.0 Q 206.4 82.6, 203.9 82.6 Q 197.7 82.6, 194.4 78.8 Q 191.1 75.1, 191.1 68.0 \" fill=\"#000000\"/>\n",
       "<path class=\"atom-0\" d=\"M 216.7 53.9 L 220.6 53.9 L 220.6 66.0 L 235.1 66.0 L 235.1 53.9 L 238.9 53.9 L 238.9 82.2 L 235.1 82.2 L 235.1 69.2 L 220.6 69.2 L 220.6 82.2 L 216.7 82.2 L 216.7 53.9 \" fill=\"#000000\"/>\n",
       "<path class=\"atom-0\" d=\"M 256.6 90.0 L 258.9 90.0 L 258.9 92.1 L 256.6 92.1 L 256.6 96.4 L 254.2 96.4 L 254.2 92.1 L 244.5 92.1 L 244.5 90.4 L 252.7 77.7 L 256.6 77.7 L 256.6 90.0 M 247.6 90.0 L 254.2 90.0 L 254.2 79.4 L 247.6 90.0 \" fill=\"#000000\"/>\n",
       "</svg>"
      ],
      "text/plain": [
       "<IPython.core.display.SVG object>"
      ]
     },
     "execution_count": 5,
     "metadata": {},
     "output_type": "execute_result"
    }
   ],
   "source": [
    "smiles = \"C\"\n",
    "print(get_iupac_name(smiles), smiles)\n",
    "mol = rdkit.Chem.MolFromSmiles(smiles)\n",
    "render_mol(mol)"
   ]
  },
  {
   "cell_type": "code",
   "execution_count": 6,
   "id": "HYCnxaCuKRgO",
   "metadata": {
    "colab": {
     "base_uri": "https://localhost:8080/",
     "height": 188
    },
    "id": "HYCnxaCuKRgO",
    "outputId": "e58bb378-d9ee-48df-85a2-ef7e9098e60d"
   },
   "outputs": [
    {
     "name": "stdout",
     "output_type": "stream",
     "text": [
      "PROPANE CCC\n"
     ]
    },
    {
     "data": {
      "image/svg+xml": [
       "<svg xmlns=\"http://www.w3.org/2000/svg\" xmlns:rdkit=\"http://www.rdkit.org/xml\" xmlns:xlink=\"http://www.w3.org/1999/xlink\" version=\"1.1\" baseProfile=\"full\" xml:space=\"preserve\" width=\"450px\" height=\"150px\" viewBox=\"0 0 450 150\">\n",
       "<!-- END OF HEADER -->\n",
       "<rect style=\"opacity:1.0;fill:#FFFFFF;stroke:none\" width=\"450.0\" height=\"150.0\" x=\"0.0\" y=\"0.0\"> </rect>\n",
       "<path class=\"bond-0 atom-0 atom-1\" d=\"M 22.5,133.5 L 225.0,16.5\" style=\"fill:none;fill-rule:evenodd;stroke:#000000;stroke-width:2.0px;stroke-linecap:butt;stroke-linejoin:miter;stroke-opacity:1\"/>\n",
       "<path class=\"bond-1 atom-1 atom-2\" d=\"M 225.0,16.5 L 427.5,133.5\" style=\"fill:none;fill-rule:evenodd;stroke:#000000;stroke-width:2.0px;stroke-linecap:butt;stroke-linejoin:miter;stroke-opacity:1\"/>\n",
       "<path d=\"M 214.9,22.4 L 225.0,16.5 L 235.1,22.4\" style=\"fill:none;stroke:#000000;stroke-width:2.0px;stroke-linecap:butt;stroke-linejoin:miter;stroke-opacity:1;\"/>\n",
       "</svg>"
      ],
      "text/plain": [
       "<IPython.core.display.SVG object>"
      ]
     },
     "execution_count": 6,
     "metadata": {},
     "output_type": "execute_result"
    }
   ],
   "source": [
    "smiles = \"CCC\"\n",
    "print(get_iupac_name(smiles), smiles)\n",
    "mol = rdkit.Chem.MolFromSmiles(smiles)\n",
    "render_mol(mol)"
   ]
  },
  {
   "cell_type": "code",
   "execution_count": 7,
   "id": "IdGSwWj-KhMm",
   "metadata": {
    "colab": {
     "base_uri": "https://localhost:8080/",
     "height": 188
    },
    "id": "IdGSwWj-KhMm",
    "outputId": "961c7dbb-c8dd-4f36-a182-d4c244ddd217"
   },
   "outputs": [
    {
     "name": "stdout",
     "output_type": "stream",
     "text": [
      "Hexane CCCCCC\n"
     ]
    },
    {
     "data": {
      "image/svg+xml": [
       "<svg xmlns=\"http://www.w3.org/2000/svg\" xmlns:rdkit=\"http://www.rdkit.org/xml\" xmlns:xlink=\"http://www.w3.org/1999/xlink\" version=\"1.1\" baseProfile=\"full\" xml:space=\"preserve\" width=\"450px\" height=\"150px\" viewBox=\"0 0 450 150\">\n",
       "<!-- END OF HEADER -->\n",
       "<rect style=\"opacity:1.0;fill:#FFFFFF;stroke:none\" width=\"450.0\" height=\"150.0\" x=\"0.0\" y=\"0.0\"> </rect>\n",
       "<path class=\"bond-0 atom-0 atom-1\" d=\"M 22.5,88.0 L 105.4,45.6\" style=\"fill:none;fill-rule:evenodd;stroke:#000000;stroke-width:2.0px;stroke-linecap:butt;stroke-linejoin:miter;stroke-opacity:1\"/>\n",
       "<path class=\"bond-1 atom-1 atom-2\" d=\"M 105.4,45.6 L 183.6,96.2\" style=\"fill:none;fill-rule:evenodd;stroke:#000000;stroke-width:2.0px;stroke-linecap:butt;stroke-linejoin:miter;stroke-opacity:1\"/>\n",
       "<path class=\"bond-2 atom-2 atom-3\" d=\"M 183.6,96.2 L 266.4,53.8\" style=\"fill:none;fill-rule:evenodd;stroke:#000000;stroke-width:2.0px;stroke-linecap:butt;stroke-linejoin:miter;stroke-opacity:1\"/>\n",
       "<path class=\"bond-3 atom-3 atom-4\" d=\"M 266.4,53.8 L 344.6,104.4\" style=\"fill:none;fill-rule:evenodd;stroke:#000000;stroke-width:2.0px;stroke-linecap:butt;stroke-linejoin:miter;stroke-opacity:1\"/>\n",
       "<path class=\"bond-4 atom-4 atom-5\" d=\"M 344.6,104.4 L 427.5,62.0\" style=\"fill:none;fill-rule:evenodd;stroke:#000000;stroke-width:2.0px;stroke-linecap:butt;stroke-linejoin:miter;stroke-opacity:1\"/>\n",
       "<path d=\"M 101.2,47.7 L 105.4,45.6 L 109.3,48.1\" style=\"fill:none;stroke:#000000;stroke-width:2.0px;stroke-linecap:butt;stroke-linejoin:miter;stroke-opacity:1;\"/>\n",
       "<path d=\"M 179.6,93.7 L 183.6,96.2 L 187.7,94.1\" style=\"fill:none;stroke:#000000;stroke-width:2.0px;stroke-linecap:butt;stroke-linejoin:miter;stroke-opacity:1;\"/>\n",
       "<path d=\"M 262.3,55.9 L 266.4,53.8 L 270.4,56.3\" style=\"fill:none;stroke:#000000;stroke-width:2.0px;stroke-linecap:butt;stroke-linejoin:miter;stroke-opacity:1;\"/>\n",
       "<path d=\"M 340.7,101.9 L 344.6,104.4 L 348.8,102.3\" style=\"fill:none;stroke:#000000;stroke-width:2.0px;stroke-linecap:butt;stroke-linejoin:miter;stroke-opacity:1;\"/>\n",
       "</svg>"
      ],
      "text/plain": [
       "<IPython.core.display.SVG object>"
      ]
     },
     "execution_count": 7,
     "metadata": {},
     "output_type": "execute_result"
    }
   ],
   "source": [
    "smiles = \"CCCCCC\"\n",
    "print(get_iupac_name(smiles), smiles)\n",
    "mol = rdkit.Chem.MolFromSmiles(smiles)\n",
    "render_mol(mol)"
   ]
  },
  {
   "cell_type": "markdown",
   "id": "zD8NMYA2Kmfd",
   "metadata": {
    "id": "zD8NMYA2Kmfd"
   },
   "source": [
    "Similarly, we can use any of the organic subset as letter: `B, C, N, O, P, S, F, Cl, Br, I`\n",
    "\n",
    "This can create some more interesting molecules."
   ]
  },
  {
   "cell_type": "code",
   "execution_count": 8,
   "id": "s-VmvmAnK661",
   "metadata": {
    "colab": {
     "base_uri": "https://localhost:8080/",
     "height": 188
    },
    "id": "s-VmvmAnK661",
    "outputId": "c70271ad-6259-4244-d492-a4e5d4541bef"
   },
   "outputs": [
    {
     "name": "stdout",
     "output_type": "stream",
     "text": [
      "Propane-1,3-diol OCCCO\n"
     ]
    },
    {
     "data": {
      "image/svg+xml": [
       "<svg xmlns=\"http://www.w3.org/2000/svg\" xmlns:rdkit=\"http://www.rdkit.org/xml\" xmlns:xlink=\"http://www.w3.org/1999/xlink\" version=\"1.1\" baseProfile=\"full\" xml:space=\"preserve\" width=\"450px\" height=\"150px\" viewBox=\"0 0 450 150\">\n",
       "<!-- END OF HEADER -->\n",
       "<rect style=\"opacity:1.0;fill:#FFFFFF;stroke:none\" width=\"450.0\" height=\"150.0\" x=\"0.0\" y=\"0.0\"> </rect>\n",
       "<path class=\"bond-0 atom-0 atom-1\" d=\"M 76.8,67.0 L 110.2,86.3\" style=\"fill:none;fill-rule:evenodd;stroke:#FF0000;stroke-width:2.0px;stroke-linecap:butt;stroke-linejoin:miter;stroke-opacity:1\"/>\n",
       "<path class=\"bond-0 atom-0 atom-1\" d=\"M 110.2,86.3 L 143.5,105.5\" style=\"fill:none;fill-rule:evenodd;stroke:#000000;stroke-width:2.0px;stroke-linecap:butt;stroke-linejoin:miter;stroke-opacity:1\"/>\n",
       "<path class=\"bond-1 atom-1 atom-2\" d=\"M 143.5,105.5 L 225.7,58.1\" style=\"fill:none;fill-rule:evenodd;stroke:#000000;stroke-width:2.0px;stroke-linecap:butt;stroke-linejoin:miter;stroke-opacity:1\"/>\n",
       "<path class=\"bond-2 atom-2 atom-3\" d=\"M 225.7,58.1 L 307.8,105.5\" style=\"fill:none;fill-rule:evenodd;stroke:#000000;stroke-width:2.0px;stroke-linecap:butt;stroke-linejoin:miter;stroke-opacity:1\"/>\n",
       "<path class=\"bond-3 atom-3 atom-4\" d=\"M 307.8,105.5 L 341.2,86.3\" style=\"fill:none;fill-rule:evenodd;stroke:#000000;stroke-width:2.0px;stroke-linecap:butt;stroke-linejoin:miter;stroke-opacity:1\"/>\n",
       "<path class=\"bond-3 atom-3 atom-4\" d=\"M 341.2,86.3 L 374.5,67.0\" style=\"fill:none;fill-rule:evenodd;stroke:#FF0000;stroke-width:2.0px;stroke-linecap:butt;stroke-linejoin:miter;stroke-opacity:1\"/>\n",
       "<path d=\"M 141.8,104.5 L 143.5,105.5 L 147.6,103.1\" style=\"fill:none;stroke:#000000;stroke-width:2.0px;stroke-linecap:butt;stroke-linejoin:miter;stroke-opacity:1;\"/>\n",
       "<path d=\"M 221.6,60.4 L 225.7,58.1 L 229.8,60.4\" style=\"fill:none;stroke:#000000;stroke-width:2.0px;stroke-linecap:butt;stroke-linejoin:miter;stroke-opacity:1;\"/>\n",
       "<path d=\"M 303.7,103.1 L 307.8,105.5 L 309.5,104.5\" style=\"fill:none;stroke:#000000;stroke-width:2.0px;stroke-linecap:butt;stroke-linejoin:miter;stroke-opacity:1;\"/>\n",
       "<path class=\"atom-0\" d=\"M 22.5 44.8 L 26.1 44.8 L 26.1 56.2 L 39.9 56.2 L 39.9 44.8 L 43.5 44.8 L 43.5 71.7 L 39.9 71.7 L 39.9 59.3 L 26.1 59.3 L 26.1 71.7 L 22.5 71.7 L 22.5 44.8 \" fill=\"#FF0000\"/>\n",
       "<path class=\"atom-0\" d=\"M 49.0 58.2 Q 49.0 51.7, 52.2 48.1 Q 55.4 44.5, 61.4 44.5 Q 67.3 44.5, 70.5 48.1 Q 73.7 51.7, 73.7 58.2 Q 73.7 64.7, 70.5 68.4 Q 67.2 72.1, 61.4 72.1 Q 55.4 72.1, 52.2 68.4 Q 49.0 64.7, 49.0 58.2 M 61.4 69.0 Q 65.5 69.0, 67.7 66.3 Q 69.9 63.5, 69.9 58.2 Q 69.9 52.9, 67.7 50.2 Q 65.5 47.5, 61.4 47.5 Q 57.3 47.5, 55.0 50.2 Q 52.8 52.8, 52.8 58.2 Q 52.8 63.6, 55.0 66.3 Q 57.3 69.0, 61.4 69.0 \" fill=\"#FF0000\"/>\n",
       "<path class=\"atom-4\" d=\"M 377.6 58.2 Q 377.6 51.7, 380.8 48.1 Q 384.0 44.5, 390.0 44.5 Q 395.9 44.5, 399.1 48.1 Q 402.3 51.7, 402.3 58.2 Q 402.3 64.7, 399.1 68.4 Q 395.8 72.1, 390.0 72.1 Q 384.0 72.1, 380.8 68.4 Q 377.6 64.7, 377.6 58.2 M 390.0 69.0 Q 394.1 69.0, 396.3 66.3 Q 398.5 63.5, 398.5 58.2 Q 398.5 52.9, 396.3 50.2 Q 394.1 47.5, 390.0 47.5 Q 385.9 47.5, 383.6 50.2 Q 381.4 52.8, 381.4 58.2 Q 381.4 63.6, 383.6 66.3 Q 385.9 69.0, 390.0 69.0 \" fill=\"#FF0000\"/>\n",
       "<path class=\"atom-4\" d=\"M 406.5 44.8 L 410.1 44.8 L 410.1 56.2 L 423.9 56.2 L 423.9 44.8 L 427.5 44.8 L 427.5 71.7 L 423.9 71.7 L 423.9 59.3 L 410.1 59.3 L 410.1 71.7 L 406.5 71.7 L 406.5 44.8 \" fill=\"#FF0000\"/>\n",
       "</svg>"
      ],
      "text/plain": [
       "<IPython.core.display.SVG object>"
      ]
     },
     "execution_count": 8,
     "metadata": {},
     "output_type": "execute_result"
    }
   ],
   "source": [
    "smiles = \"OCCCO\"\n",
    "print(get_iupac_name(smiles), smiles)\n",
    "mol = rdkit.Chem.MolFromSmiles(smiles)\n",
    "render_mol(mol)"
   ]
  },
  {
   "cell_type": "code",
   "execution_count": 9,
   "id": "3_IXyhwNLJs_",
   "metadata": {
    "colab": {
     "base_uri": "https://localhost:8080/",
     "height": 188
    },
    "id": "3_IXyhwNLJs_",
    "outputId": "0c726af2-b3f6-44be-f5f4-df80e7ec3cde"
   },
   "outputs": [
    {
     "name": "stdout",
     "output_type": "stream",
     "text": [
      "Ethanamine CCN\n"
     ]
    },
    {
     "data": {
      "image/svg+xml": [
       "<svg xmlns=\"http://www.w3.org/2000/svg\" xmlns:rdkit=\"http://www.rdkit.org/xml\" xmlns:xlink=\"http://www.w3.org/1999/xlink\" version=\"1.1\" baseProfile=\"full\" xml:space=\"preserve\" width=\"450px\" height=\"150px\" viewBox=\"0 0 450 150\">\n",
       "<!-- END OF HEADER -->\n",
       "<rect style=\"opacity:1.0;fill:#FFFFFF;stroke:none\" width=\"450.0\" height=\"150.0\" x=\"0.0\" y=\"0.0\"> </rect>\n",
       "<path class=\"bond-0 atom-0 atom-1\" d=\"M 47.5,103.9 L 196.8,17.7\" style=\"fill:none;fill-rule:evenodd;stroke:#000000;stroke-width:2.0px;stroke-linecap:butt;stroke-linejoin:miter;stroke-opacity:1\"/>\n",
       "<path class=\"bond-1 atom-1 atom-2\" d=\"M 196.8,17.7 L 263.2,56.1\" style=\"fill:none;fill-rule:evenodd;stroke:#000000;stroke-width:2.0px;stroke-linecap:butt;stroke-linejoin:miter;stroke-opacity:1\"/>\n",
       "<path class=\"bond-1 atom-1 atom-2\" d=\"M 263.2,56.1 L 329.7,94.4\" style=\"fill:none;fill-rule:evenodd;stroke:#0000FF;stroke-width:2.0px;stroke-linecap:butt;stroke-linejoin:miter;stroke-opacity:1\"/>\n",
       "<path d=\"M 189.3,22.1 L 196.8,17.7 L 200.1,19.7\" style=\"fill:none;stroke:#000000;stroke-width:2.0px;stroke-linecap:butt;stroke-linejoin:miter;stroke-opacity:1;\"/>\n",
       "<path class=\"atom-2\" d=\"M 339.8 89.8 L 349.1 104.8 Q 350.0 106.3, 351.5 108.9 Q 353.0 111.6, 353.1 111.8 L 353.1 89.8 L 356.8 89.8 L 356.8 118.1 L 352.9 118.1 L 343.0 101.7 Q 341.8 99.8, 340.6 97.6 Q 339.4 95.4, 339.0 94.7 L 339.0 118.1 L 335.3 118.1 L 335.3 89.8 L 339.8 89.8 \" fill=\"#0000FF\"/>\n",
       "<path class=\"atom-2\" d=\"M 362.2 89.8 L 366.1 89.8 L 366.1 101.8 L 380.6 101.8 L 380.6 89.8 L 384.4 89.8 L 384.4 118.1 L 380.6 118.1 L 380.6 105.0 L 366.1 105.0 L 366.1 118.1 L 362.2 118.1 L 362.2 89.8 \" fill=\"#0000FF\"/>\n",
       "<path class=\"atom-2\" d=\"M 389.9 117.1 Q 390.6 115.3, 392.3 114.4 Q 393.9 113.4, 396.2 113.4 Q 399.0 113.4, 400.6 114.9 Q 402.2 116.4, 402.2 119.1 Q 402.2 121.9, 400.1 124.5 Q 398.1 127.1, 393.8 130.1 L 402.5 130.1 L 402.5 132.3 L 389.9 132.3 L 389.9 130.5 Q 393.4 128.0, 395.4 126.2 Q 397.5 124.3, 398.5 122.6 Q 399.5 121.0, 399.5 119.3 Q 399.5 117.5, 398.6 116.5 Q 397.7 115.5, 396.2 115.5 Q 394.7 115.5, 393.7 116.1 Q 392.7 116.7, 391.9 118.0 L 389.9 117.1 \" fill=\"#0000FF\"/>\n",
       "</svg>"
      ],
      "text/plain": [
       "<IPython.core.display.SVG object>"
      ]
     },
     "execution_count": 9,
     "metadata": {},
     "output_type": "execute_result"
    }
   ],
   "source": [
    "smiles = \"CCN\"\n",
    "print(get_iupac_name(smiles), smiles)\n",
    "mol = rdkit.Chem.MolFromSmiles(smiles)\n",
    "render_mol(mol)"
   ]
  },
  {
   "cell_type": "markdown",
   "id": "DD0ZZFweLbMV",
   "metadata": {
    "id": "DD0ZZFweLbMV"
   },
   "source": [
    "### More complicated atoms\n",
    "\n",
    "All other atoms have to be enclosed in square brackets:"
   ]
  },
  {
   "cell_type": "code",
   "execution_count": 10,
   "id": "HqImHnaFLo1y",
   "metadata": {
    "colab": {
     "base_uri": "https://localhost:8080/",
     "height": 188
    },
    "id": "HqImHnaFLo1y",
    "outputId": "901274c5-761d-4c67-e93c-10e5249f3f4a"
   },
   "outputs": [
    {
     "name": "stdout",
     "output_type": "stream",
     "text": [
      "Sodium [Na]\n"
     ]
    },
    {
     "data": {
      "image/svg+xml": [
       "<svg xmlns=\"http://www.w3.org/2000/svg\" xmlns:rdkit=\"http://www.rdkit.org/xml\" xmlns:xlink=\"http://www.w3.org/1999/xlink\" version=\"1.1\" baseProfile=\"full\" xml:space=\"preserve\" width=\"450px\" height=\"150px\" viewBox=\"0 0 450 150\">\n",
       "<!-- END OF HEADER -->\n",
       "<rect style=\"opacity:1.0;fill:#FFFFFF;stroke:none\" width=\"450.0\" height=\"150.0\" x=\"0.0\" y=\"0.0\"> </rect>\n",
       "<path class=\"atom-0\" d=\"M 203.9 60.6 L 213.2 75.6 Q 214.1 77.1, 215.6 79.8 Q 217.1 82.4, 217.2 82.6 L 217.2 60.6 L 220.9 60.6 L 220.9 88.9 L 217.0 88.9 L 207.1 72.5 Q 205.9 70.6, 204.7 68.4 Q 203.5 66.2, 203.1 65.5 L 203.1 88.9 L 199.4 88.9 L 199.4 60.6 L 203.9 60.6 \" fill=\"#000000\"/>\n",
       "<path class=\"atom-0\" d=\"M 226.2 83.4 Q 226.2 80.1, 228.8 78.3 Q 231.4 76.5, 236.3 76.5 L 239.3 76.5 L 239.3 75.7 Q 239.3 73.1, 238.2 72.0 Q 237.2 71.0, 234.6 71.0 Q 233.0 71.0, 231.7 71.3 Q 230.4 71.6, 228.4 72.4 L 227.3 69.8 Q 231.1 68.0, 234.7 68.0 Q 239.1 68.0, 241.1 69.9 Q 243.1 71.7, 243.1 75.8 L 243.1 88.9 L 240.2 88.9 Q 240.1 88.8, 240.0 88.2 Q 239.9 87.5, 239.6 86.5 Q 236.8 89.4, 232.9 89.4 Q 229.8 89.4, 228.0 87.8 Q 226.2 86.1, 226.2 83.4 M 229.9 83.3 Q 229.9 84.8, 230.9 85.6 Q 231.8 86.4, 233.6 86.4 Q 235.2 86.4, 236.8 85.7 Q 238.3 85.0, 239.3 83.7 L 239.3 79.3 L 236.5 79.3 Q 233.2 79.3, 231.6 80.3 Q 229.9 81.3, 229.9 83.3 \" fill=\"#000000\"/>\n",
       "<path class=\"atom-0\" d=\"M 251.1,74.8 L 251.1,74.9 L 251.0,75.1 L 251.0,75.3 L 251.0,75.4 L 250.9,75.6 L 250.8,75.7 L 250.7,75.9 L 250.6,76.0 L 250.5,76.2 L 250.4,76.3 L 250.2,76.4 L 250.1,76.5 L 249.9,76.6 L 249.8,76.6 L 249.6,76.7 L 249.5,76.7 L 249.3,76.7 L 249.1,76.8 L 248.9,76.8 L 248.8,76.7 L 248.6,76.7 L 248.4,76.7 L 248.3,76.6 L 248.1,76.5 L 248.0,76.4 L 247.8,76.3 L 247.7,76.2 L 247.6,76.1 L 247.5,76.0 L 247.4,75.8 L 247.3,75.7 L 247.2,75.5 L 247.2,75.4 L 247.1,75.2 L 247.1,75.0 L 247.1,74.8 L 247.1,74.7 L 247.1,74.5 L 247.1,74.3 L 247.2,74.2 L 247.2,74.0 L 247.3,73.8 L 247.4,73.7 L 247.5,73.6 L 247.6,73.4 L 247.7,73.3 L 247.8,73.2 L 248.0,73.1 L 248.1,73.0 L 248.3,72.9 L 248.4,72.9 L 248.6,72.8 L 248.8,72.8 L 248.9,72.8 L 249.1,72.8 L 249.3,72.8 L 249.5,72.8 L 249.6,72.8 L 249.8,72.9 L 249.9,73.0 L 250.1,73.0 L 250.2,73.1 L 250.4,73.2 L 250.5,73.4 L 250.6,73.5 L 250.7,73.6 L 250.8,73.8 L 250.9,73.9 L 251.0,74.1 L 251.0,74.2 L 251.0,74.4 L 251.1,74.6 L 251.1,74.8 L 249.1,74.8 Z\" style=\"fill:#000000;fill-rule:evenodd;fill-opacity:1;stroke:#000000;stroke-width:0.0px;stroke-linecap:butt;stroke-linejoin:miter;stroke-opacity:1;\"/>\n",
       "</svg>"
      ],
      "text/plain": [
       "<IPython.core.display.SVG object>"
      ]
     },
     "execution_count": 10,
     "metadata": {},
     "output_type": "execute_result"
    }
   ],
   "source": [
    "smiles = \"[Na]\"\n",
    "print(get_iupac_name(smiles), smiles)\n",
    "mol = rdkit.Chem.MolFromSmiles(smiles)\n",
    "render_mol(mol)"
   ]
  },
  {
   "cell_type": "markdown",
   "id": "FEJuSeKiLvxU",
   "metadata": {
    "id": "FEJuSeKiLvxU"
   },
   "source": [
    "Charged atoms append the charge as `+` or `-` at the end inside the square brackets."
   ]
  },
  {
   "cell_type": "code",
   "execution_count": 11,
   "id": "ozZjTJs2MFgM",
   "metadata": {
    "colab": {
     "base_uri": "https://localhost:8080/",
     "height": 188
    },
    "id": "ozZjTJs2MFgM",
    "outputId": "be1ecb30-c770-4ddc-c11e-5c328f8d04ab"
   },
   "outputs": [
    {
     "name": "stdout",
     "output_type": "stream",
     "text": [
      "sodium(+1) cation [Na+]\n"
     ]
    },
    {
     "data": {
      "image/svg+xml": [
       "<svg xmlns=\"http://www.w3.org/2000/svg\" xmlns:rdkit=\"http://www.rdkit.org/xml\" xmlns:xlink=\"http://www.w3.org/1999/xlink\" version=\"1.1\" baseProfile=\"full\" xml:space=\"preserve\" width=\"450px\" height=\"150px\" viewBox=\"0 0 450 150\">\n",
       "<!-- END OF HEADER -->\n",
       "<rect style=\"opacity:1.0;fill:#FFFFFF;stroke:none\" width=\"450.0\" height=\"150.0\" x=\"0.0\" y=\"0.0\"> </rect>\n",
       "<path class=\"atom-0\" d=\"M 199.0 60.6 L 208.3 75.6 Q 209.2 77.1, 210.7 79.8 Q 212.2 82.4, 212.3 82.6 L 212.3 60.6 L 216.0 60.6 L 216.0 88.9 L 212.1 88.9 L 202.2 72.5 Q 201.0 70.6, 199.8 68.4 Q 198.6 66.2, 198.2 65.5 L 198.2 88.9 L 194.5 88.9 L 194.5 60.6 L 199.0 60.6 \" fill=\"#000000\"/>\n",
       "<path class=\"atom-0\" d=\"M 221.2 83.4 Q 221.2 80.1, 223.9 78.3 Q 226.5 76.5, 231.4 76.5 L 234.4 76.5 L 234.4 75.7 Q 234.4 73.1, 233.3 72.0 Q 232.3 71.0, 229.7 71.0 Q 228.1 71.0, 226.8 71.3 Q 225.5 71.6, 223.5 72.4 L 222.4 69.8 Q 226.2 68.0, 229.8 68.0 Q 234.2 68.0, 236.2 69.9 Q 238.2 71.7, 238.2 75.8 L 238.2 88.9 L 235.2 88.9 Q 235.2 88.8, 235.1 88.2 Q 235.0 87.5, 234.7 86.5 Q 231.8 89.4, 228.0 89.4 Q 224.9 89.4, 223.1 87.8 Q 221.2 86.1, 221.2 83.4 M 225.0 83.3 Q 225.0 84.8, 226.0 85.6 Q 226.9 86.4, 228.7 86.4 Q 230.3 86.4, 231.8 85.7 Q 233.4 85.0, 234.4 83.7 L 234.4 79.3 L 231.6 79.3 Q 228.3 79.3, 226.6 80.3 Q 225.0 81.3, 225.0 83.3 \" fill=\"#000000\"/>\n",
       "<path class=\"atom-0\" d=\"M 243.1 69.2 L 248.1 69.2 L 248.1 63.9 L 250.3 63.9 L 250.3 69.2 L 255.5 69.2 L 255.5 71.1 L 250.3 71.1 L 250.3 76.3 L 248.1 76.3 L 248.1 71.1 L 243.1 71.1 L 243.1 69.2 \" fill=\"#000000\"/>\n",
       "</svg>"
      ],
      "text/plain": [
       "<IPython.core.display.SVG object>"
      ]
     },
     "execution_count": 11,
     "metadata": {},
     "output_type": "execute_result"
    }
   ],
   "source": [
    "smiles = \"[Na+]\"\n",
    "print(get_iupac_name(smiles), smiles)\n",
    "mol = rdkit.Chem.MolFromSmiles(smiles)\n",
    "render_mol(mol)"
   ]
  },
  {
   "cell_type": "code",
   "execution_count": 12,
   "id": "3QEidKqyMQMj",
   "metadata": {
    "colab": {
     "base_uri": "https://localhost:8080/",
     "height": 188
    },
    "id": "3QEidKqyMQMj",
    "outputId": "6f7c305b-c94f-4ff1-9f89-906ae93fd953"
   },
   "outputs": [
    {
     "name": "stdout",
     "output_type": "stream",
     "text": [
      "chloride [Cl-]\n"
     ]
    },
    {
     "data": {
      "image/svg+xml": [
       "<svg xmlns=\"http://www.w3.org/2000/svg\" xmlns:rdkit=\"http://www.rdkit.org/xml\" xmlns:xlink=\"http://www.w3.org/1999/xlink\" version=\"1.1\" baseProfile=\"full\" xml:space=\"preserve\" width=\"450px\" height=\"150px\" viewBox=\"0 0 450 150\">\n",
       "<!-- END OF HEADER -->\n",
       "<rect style=\"opacity:1.0;fill:#FFFFFF;stroke:none\" width=\"450.0\" height=\"150.0\" x=\"0.0\" y=\"0.0\"> </rect>\n",
       "<path class=\"atom-0\" d=\"M 203.5 75.8 Q 203.5 68.8, 206.8 65.1 Q 210.1 61.4, 216.4 61.4 Q 222.3 61.4, 225.4 65.5 L 222.7 67.6 Q 220.5 64.6, 216.4 64.6 Q 212.1 64.6, 209.9 67.5 Q 207.6 70.4, 207.6 75.8 Q 207.6 81.4, 209.9 84.3 Q 212.3 87.2, 216.9 87.2 Q 220.0 87.2, 223.6 85.3 L 224.7 88.3 Q 223.3 89.2, 221.0 89.8 Q 218.8 90.4, 216.3 90.4 Q 210.1 90.4, 206.8 86.6 Q 203.5 82.8, 203.5 75.8 \" fill=\"#00CC00\"/>\n",
       "<path class=\"atom-0\" d=\"M 228.3 59.6 L 232.0 59.6 L 232.0 90.0 L 228.3 90.0 L 228.3 59.6 \" fill=\"#00CC00\"/>\n",
       "<path class=\"atom-0\" d=\"M 236.8 65.3 L 246.5 65.3 L 246.5 67.5 L 236.8 67.5 L 236.8 65.3 \" fill=\"#00CC00\"/>\n",
       "</svg>"
      ],
      "text/plain": [
       "<IPython.core.display.SVG object>"
      ]
     },
     "execution_count": 12,
     "metadata": {},
     "output_type": "execute_result"
    }
   ],
   "source": [
    "smiles = \"[Cl-]\"\n",
    "print(get_iupac_name(smiles), smiles)\n",
    "mol = rdkit.Chem.MolFromSmiles(smiles)\n",
    "render_mol(mol)"
   ]
  },
  {
   "cell_type": "markdown",
   "id": "huXKfHbAMYE8",
   "metadata": {
    "id": "huXKfHbAMYE8"
   },
   "source": [
    "Hydrogens, can be explictly listed either stand alone, or explictly listed for an atom."
   ]
  },
  {
   "cell_type": "code",
   "execution_count": 13,
   "id": "-nNMsiHKMh7r",
   "metadata": {
    "colab": {
     "base_uri": "https://localhost:8080/",
     "height": 206
    },
    "id": "-nNMsiHKMh7r",
    "outputId": "430af9e1-e242-4272-d8e6-d399778f61d4"
   },
   "outputs": [
    {
     "name": "stdout",
     "output_type": "stream",
     "text": [
      "Hydrogen [H]\n"
     ]
    },
    {
     "name": "stderr",
     "output_type": "stream",
     "text": [
      "[12:45:58] WARNING: not removing hydrogen atom without neighbors\n"
     ]
    },
    {
     "data": {
      "image/svg+xml": [
       "<svg xmlns=\"http://www.w3.org/2000/svg\" xmlns:rdkit=\"http://www.rdkit.org/xml\" xmlns:xlink=\"http://www.w3.org/1999/xlink\" version=\"1.1\" baseProfile=\"full\" xml:space=\"preserve\" width=\"450px\" height=\"150px\" viewBox=\"0 0 450 150\">\n",
       "<!-- END OF HEADER -->\n",
       "<rect style=\"opacity:1.0;fill:#FFFFFF;stroke:none\" width=\"450.0\" height=\"150.0\" x=\"0.0\" y=\"0.0\"> </rect>\n",
       "<path class=\"atom-0\" d=\"M 210.2 60.8 L 214.0 60.8 L 214.0 72.9 L 228.5 72.9 L 228.5 60.8 L 232.3 60.8 L 232.3 89.2 L 228.5 89.2 L 228.5 76.1 L 214.0 76.1 L 214.0 89.2 L 210.2 89.2 L 210.2 60.8 \" fill=\"#000000\"/>\n",
       "<path class=\"atom-0\" d=\"M 240.3,75.0 L 240.3,75.2 L 240.3,75.3 L 240.3,75.5 L 240.2,75.7 L 240.1,75.8 L 240.1,76.0 L 240.0,76.1 L 239.9,76.3 L 239.8,76.4 L 239.6,76.5 L 239.5,76.6 L 239.4,76.7 L 239.2,76.8 L 239.0,76.9 L 238.9,76.9 L 238.7,77.0 L 238.5,77.0 L 238.4,77.0 L 238.2,77.0 L 238.0,77.0 L 237.9,76.9 L 237.7,76.9 L 237.5,76.8 L 237.4,76.8 L 237.2,76.7 L 237.1,76.6 L 237.0,76.5 L 236.8,76.3 L 236.7,76.2 L 236.6,76.1 L 236.5,75.9 L 236.5,75.8 L 236.4,75.6 L 236.4,75.4 L 236.3,75.3 L 236.3,75.1 L 236.3,74.9 L 236.3,74.7 L 236.4,74.6 L 236.4,74.4 L 236.5,74.2 L 236.5,74.1 L 236.6,73.9 L 236.7,73.8 L 236.8,73.7 L 237.0,73.5 L 237.1,73.4 L 237.2,73.3 L 237.4,73.2 L 237.5,73.2 L 237.7,73.1 L 237.9,73.1 L 238.0,73.0 L 238.2,73.0 L 238.4,73.0 L 238.5,73.0 L 238.7,73.0 L 238.9,73.1 L 239.0,73.1 L 239.2,73.2 L 239.4,73.3 L 239.5,73.4 L 239.6,73.5 L 239.8,73.6 L 239.9,73.7 L 240.0,73.9 L 240.1,74.0 L 240.1,74.2 L 240.2,74.3 L 240.3,74.5 L 240.3,74.7 L 240.3,74.8 L 240.3,75.0 L 238.3,75.0 Z\" style=\"fill:#000000;fill-rule:evenodd;fill-opacity:1;stroke:#000000;stroke-width:0.0px;stroke-linecap:butt;stroke-linejoin:miter;stroke-opacity:1;\"/>\n",
       "</svg>"
      ],
      "text/plain": [
       "<IPython.core.display.SVG object>"
      ]
     },
     "execution_count": 13,
     "metadata": {},
     "output_type": "execute_result"
    }
   ],
   "source": [
    "smiles = \"[H]\"\n",
    "print(get_iupac_name(smiles), smiles)\n",
    "mol = rdkit.Chem.MolFromSmiles(smiles)\n",
    "render_mol(mol)"
   ]
  },
  {
   "cell_type": "code",
   "execution_count": 14,
   "id": "oxJeA2NLMmZq",
   "metadata": {
    "colab": {
     "base_uri": "https://localhost:8080/",
     "height": 188
    },
    "id": "oxJeA2NLMmZq",
    "outputId": "e9324643-d8b1-4019-dbff-bdb0a0500184"
   },
   "outputs": [
    {
     "name": "stdout",
     "output_type": "stream",
     "text": [
      "Molecular hydrogen [H][H]\n"
     ]
    },
    {
     "data": {
      "image/svg+xml": [
       "<svg xmlns=\"http://www.w3.org/2000/svg\" xmlns:rdkit=\"http://www.rdkit.org/xml\" xmlns:xlink=\"http://www.w3.org/1999/xlink\" version=\"1.1\" baseProfile=\"full\" xml:space=\"preserve\" width=\"450px\" height=\"150px\" viewBox=\"0 0 450 150\">\n",
       "<!-- END OF HEADER -->\n",
       "<rect style=\"opacity:1.0;fill:#FFFFFF;stroke:none\" width=\"450.0\" height=\"150.0\" x=\"0.0\" y=\"0.0\"> </rect>\n",
       "<path class=\"bond-0 atom-0 atom-1\" d=\"M 368.7,75.0 L 81.3,75.0\" style=\"fill:none;fill-rule:evenodd;stroke:#000000;stroke-width:2.0px;stroke-linecap:butt;stroke-linejoin:miter;stroke-opacity:1\"/>\n",
       "<path class=\"atom-0\" d=\"M 379.7 60.8 L 383.5 60.8 L 383.5 72.9 L 398.0 72.9 L 398.0 60.8 L 401.8 60.8 L 401.8 89.2 L 398.0 89.2 L 398.0 76.1 L 383.5 76.1 L 383.5 89.2 L 379.7 89.2 L 379.7 60.8 \" fill=\"#000000\"/>\n",
       "<path class=\"atom-1\" d=\"M 48.2 60.8 L 52.0 60.8 L 52.0 72.9 L 66.5 72.9 L 66.5 60.8 L 70.3 60.8 L 70.3 89.2 L 66.5 89.2 L 66.5 76.1 L 52.0 76.1 L 52.0 89.2 L 48.2 89.2 L 48.2 60.8 \" fill=\"#000000\"/>\n",
       "</svg>"
      ],
      "text/plain": [
       "<IPython.core.display.SVG object>"
      ]
     },
     "execution_count": 14,
     "metadata": {},
     "output_type": "execute_result"
    }
   ],
   "source": [
    "smiles = \"[H][H]\"\n",
    "print(get_iupac_name(smiles), smiles)\n",
    "mol = rdkit.Chem.MolFromSmiles(smiles)\n",
    "render_mol(mol)"
   ]
  },
  {
   "cell_type": "code",
   "execution_count": 15,
   "id": "aAZz3UXSMvWb",
   "metadata": {
    "colab": {
     "base_uri": "https://localhost:8080/",
     "height": 188
    },
    "id": "aAZz3UXSMvWb",
    "outputId": "ed8d9191-b3b4-42d9-c33c-337119ab7b6d"
   },
   "outputs": [
    {
     "name": "stdout",
     "output_type": "stream",
     "text": [
      "$l^{1}-azane\n",
      "azane [NH3]\n"
     ]
    },
    {
     "data": {
      "image/svg+xml": [
       "<svg xmlns=\"http://www.w3.org/2000/svg\" xmlns:rdkit=\"http://www.rdkit.org/xml\" xmlns:xlink=\"http://www.w3.org/1999/xlink\" version=\"1.1\" baseProfile=\"full\" xml:space=\"preserve\" width=\"450px\" height=\"150px\" viewBox=\"0 0 450 150\">\n",
       "<!-- END OF HEADER -->\n",
       "<rect style=\"opacity:1.0;fill:#FFFFFF;stroke:none\" width=\"450.0\" height=\"150.0\" x=\"0.0\" y=\"0.0\"> </rect>\n",
       "<path class=\"atom-0\" d=\"M 195.9 53.6 L 205.2 68.6 Q 206.1 70.1, 207.6 72.8 Q 209.1 75.5, 209.2 75.6 L 209.2 53.6 L 212.9 53.6 L 212.9 81.9 L 209.0 81.9 L 199.1 65.5 Q 197.9 63.6, 196.7 61.4 Q 195.5 59.2, 195.1 58.5 L 195.1 81.9 L 191.4 81.9 L 191.4 53.6 L 195.9 53.6 \" fill=\"#0000FF\"/>\n",
       "<path class=\"atom-0\" d=\"M 218.3 53.6 L 222.2 53.6 L 222.2 65.7 L 236.7 65.7 L 236.7 53.6 L 240.5 53.6 L 240.5 81.9 L 236.7 81.9 L 236.7 68.9 L 222.2 68.9 L 222.2 81.9 L 218.3 81.9 L 218.3 53.6 \" fill=\"#0000FF\"/>\n",
       "<path class=\"atom-0\" d=\"M 255.0 86.3 Q 256.8 86.8, 257.7 88.0 Q 258.6 89.1, 258.6 91.0 Q 258.6 92.6, 257.8 93.8 Q 257.0 95.0, 255.5 95.7 Q 254.1 96.4, 252.2 96.4 Q 250.2 96.4, 248.7 95.7 Q 247.2 95.0, 246.0 93.5 L 247.5 92.0 Q 248.7 93.3, 249.6 93.8 Q 250.6 94.3, 252.2 94.3 Q 253.9 94.3, 254.9 93.4 Q 255.9 92.4, 255.9 91.0 Q 255.9 89.1, 254.8 88.2 Q 253.8 87.3, 251.5 87.3 L 250.1 87.3 L 250.1 85.4 L 251.3 85.4 Q 253.4 85.4, 254.4 84.5 Q 255.5 83.6, 255.5 82.0 Q 255.5 80.8, 254.6 80.1 Q 253.7 79.3, 252.2 79.3 Q 250.6 79.3, 249.7 79.9 Q 248.7 80.4, 248.0 81.8 L 246.1 80.8 Q 246.8 79.3, 248.4 78.3 Q 250.0 77.2, 252.2 77.2 Q 254.9 77.2, 256.5 78.5 Q 258.2 79.8, 258.2 82.0 Q 258.2 83.5, 257.3 84.6 Q 256.5 85.7, 255.0 86.3 \" fill=\"#0000FF\"/>\n",
       "</svg>"
      ],
      "text/plain": [
       "<IPython.core.display.SVG object>"
      ]
     },
     "execution_count": 15,
     "metadata": {},
     "output_type": "execute_result"
    }
   ],
   "source": [
    "smiles = \"[NH3]\"\n",
    "print(get_iupac_name(smiles), smiles)\n",
    "mol = rdkit.Chem.MolFromSmiles(smiles)\n",
    "render_mol(mol)"
   ]
  },
  {
   "cell_type": "code",
   "execution_count": 16,
   "id": "7ZuaN9isNMfo",
   "metadata": {
    "colab": {
     "base_uri": "https://localhost:8080/",
     "height": 188
    },
    "id": "7ZuaN9isNMfo",
    "outputId": "aedfaf86-5aab-4d18-f365-1e7ef77a76d2"
   },
   "outputs": [
    {
     "name": "stdout",
     "output_type": "stream",
     "text": [
      "azanium\n",
      "nitrogen(+1) dihydride cation [NH4+]\n"
     ]
    },
    {
     "data": {
      "image/svg+xml": [
       "<svg xmlns=\"http://www.w3.org/2000/svg\" xmlns:rdkit=\"http://www.rdkit.org/xml\" xmlns:xlink=\"http://www.w3.org/1999/xlink\" version=\"1.1\" baseProfile=\"full\" xml:space=\"preserve\" width=\"450px\" height=\"150px\" viewBox=\"0 0 450 150\">\n",
       "<!-- END OF HEADER -->\n",
       "<rect style=\"opacity:1.0;fill:#FFFFFF;stroke:none\" width=\"450.0\" height=\"150.0\" x=\"0.0\" y=\"0.0\"> </rect>\n",
       "<path class=\"atom-0\" d=\"M 195.0 53.8 L 204.3 68.8 Q 205.2 70.3, 206.7 73.0 Q 208.2 75.7, 208.2 75.8 L 208.2 53.8 L 212.0 53.8 L 212.0 82.2 L 208.1 82.2 L 198.2 65.8 Q 197.0 63.8, 195.8 61.6 Q 194.6 59.4, 194.2 58.8 L 194.2 82.2 L 190.5 82.2 L 190.5 53.8 L 195.0 53.8 \" fill=\"#0000FF\"/>\n",
       "<path class=\"atom-0\" d=\"M 217.4 53.8 L 221.3 53.8 L 221.3 65.9 L 235.7 65.9 L 235.7 53.8 L 239.6 53.8 L 239.6 82.2 L 235.7 82.2 L 235.7 69.1 L 221.3 69.1 L 221.3 82.2 L 217.4 82.2 L 217.4 53.8 \" fill=\"#0000FF\"/>\n",
       "<path class=\"atom-0\" d=\"M 257.2 89.9 L 259.5 89.9 L 259.5 92.0 L 257.2 92.0 L 257.2 96.3 L 254.8 96.3 L 254.8 92.0 L 245.1 92.0 L 245.1 90.3 L 253.3 77.6 L 257.2 77.6 L 257.2 89.9 M 248.2 89.9 L 254.8 89.9 L 254.8 79.3 L 248.2 89.9 \" fill=\"#0000FF\"/>\n",
       "<path class=\"atom-0\" d=\"M 246.1 58.9 L 251.1 58.9 L 251.1 53.7 L 253.3 53.7 L 253.3 58.9 L 258.4 58.9 L 258.4 60.8 L 253.3 60.8 L 253.3 66.1 L 251.1 66.1 L 251.1 60.8 L 246.1 60.8 L 246.1 58.9 \" fill=\"#0000FF\"/>\n",
       "</svg>"
      ],
      "text/plain": [
       "<IPython.core.display.SVG object>"
      ]
     },
     "execution_count": 16,
     "metadata": {},
     "output_type": "execute_result"
    }
   ],
   "source": [
    "smiles = \"[NH4+]\"\n",
    "print(get_iupac_name(smiles), smiles)\n",
    "mol = rdkit.Chem.MolFromSmiles(smiles)\n",
    "render_mol(mol)"
   ]
  },
  {
   "cell_type": "markdown",
   "id": "1683c490-0978-4fbe-9831-95dd37c02ac6",
   "metadata": {},
   "source": [
    "### SMILES Bond Notation\n",
    "\n",
    "With SMILES we can define bonds with special charactes.\n",
    "\n",
    " - `-` is the single bond, it can usually be omitted"
   ]
  },
  {
   "cell_type": "code",
   "execution_count": 18,
   "id": "9acfda2c-99cd-4f9c-83c7-5c8a604f8863",
   "metadata": {},
   "outputs": [
    {
     "name": "stdout",
     "output_type": "stream",
     "text": [
      "BUTANE C-C-CC\n"
     ]
    },
    {
     "data": {
      "image/svg+xml": [
       "<svg xmlns=\"http://www.w3.org/2000/svg\" xmlns:rdkit=\"http://www.rdkit.org/xml\" xmlns:xlink=\"http://www.w3.org/1999/xlink\" version=\"1.1\" baseProfile=\"full\" xml:space=\"preserve\" width=\"450px\" height=\"150px\" viewBox=\"0 0 450 150\">\n",
       "<!-- END OF HEADER -->\n",
       "<rect style=\"opacity:1.0;fill:#FFFFFF;stroke:none\" width=\"450.0\" height=\"150.0\" x=\"0.0\" y=\"0.0\"> </rect>\n",
       "<path class=\"bond-0 atom-0 atom-1\" d=\"M 22.5,89.0 L 163.7,28.9\" style=\"fill:none;fill-rule:evenodd;stroke:#000000;stroke-width:2.0px;stroke-linecap:butt;stroke-linejoin:miter;stroke-opacity:1\"/>\n",
       "<path class=\"bond-1 atom-1 atom-2\" d=\"M 163.7,28.9 L 286.3,121.1\" style=\"fill:none;fill-rule:evenodd;stroke:#000000;stroke-width:2.0px;stroke-linecap:butt;stroke-linejoin:miter;stroke-opacity:1\"/>\n",
       "<path class=\"bond-2 atom-2 atom-3\" d=\"M 286.3,121.1 L 427.5,61.0\" style=\"fill:none;fill-rule:evenodd;stroke:#000000;stroke-width:2.0px;stroke-linecap:butt;stroke-linejoin:miter;stroke-opacity:1\"/>\n",
       "<path d=\"M 156.6,31.9 L 163.7,28.9 L 169.8,33.5\" style=\"fill:none;stroke:#000000;stroke-width:2.0px;stroke-linecap:butt;stroke-linejoin:miter;stroke-opacity:1;\"/>\n",
       "<path d=\"M 280.2,116.5 L 286.3,121.1 L 293.4,118.1\" style=\"fill:none;stroke:#000000;stroke-width:2.0px;stroke-linecap:butt;stroke-linejoin:miter;stroke-opacity:1;\"/>\n",
       "</svg>"
      ],
      "text/plain": [
       "<IPython.core.display.SVG object>"
      ]
     },
     "execution_count": 18,
     "metadata": {},
     "output_type": "execute_result"
    }
   ],
   "source": [
    "smiles = \"C-C-CC\"\n",
    "print(get_iupac_name(smiles), smiles)\n",
    "mol = rdkit.Chem.MolFromSmiles(smiles)\n",
    "render_mol(mol)"
   ]
  },
  {
   "cell_type": "markdown",
   "id": "1da82afc-a4b0-47d2-82b5-41b9c18ee3b8",
   "metadata": {},
   "source": [
    "- `.` is the no bond marker. Usually atoms adjacent to one another are bonded, but we can prevent this.smiles = \"[NH4+]\"\n",
    "print(get_iupac_name(smiles), smiles)\n",
    "mol = rdkit.Chem.MolFromSmiles(smiles)\n",
    "render_mol(mol)"
   ]
  },
  {
   "cell_type": "code",
   "execution_count": 21,
   "id": "da9ba299-f80d-43f1-9278-72e4be45b69b",
   "metadata": {},
   "outputs": [
    {
     "data": {
      "image/svg+xml": [
       "<svg xmlns=\"http://www.w3.org/2000/svg\" xmlns:rdkit=\"http://www.rdkit.org/xml\" xmlns:xlink=\"http://www.w3.org/1999/xlink\" version=\"1.1\" baseProfile=\"full\" xml:space=\"preserve\" width=\"450px\" height=\"150px\" viewBox=\"0 0 450 150\">\n",
       "<!-- END OF HEADER -->\n",
       "<rect style=\"opacity:1.0;fill:#FFFFFF;stroke:none\" width=\"450.0\" height=\"150.0\" x=\"0.0\" y=\"0.0\"> </rect>\n",
       "<path class=\"bond-0 atom-0 atom-1\" d=\"M 158.9,142.5 L 225.0,104.3\" style=\"fill:none;fill-rule:evenodd;stroke:#000000;stroke-width:2.0px;stroke-linecap:butt;stroke-linejoin:miter;stroke-opacity:1\"/>\n",
       "<path class=\"bond-1 atom-1 atom-2\" d=\"M 225.0,104.3 L 291.1,142.5\" style=\"fill:none;fill-rule:evenodd;stroke:#000000;stroke-width:2.0px;stroke-linecap:butt;stroke-linejoin:miter;stroke-opacity:1\"/>\n",
       "<path class=\"bond-2 atom-3 atom-4\" d=\"M 124.2,37.4 L 194.5,7.5\" style=\"fill:none;fill-rule:evenodd;stroke:#000000;stroke-width:2.0px;stroke-linecap:butt;stroke-linejoin:miter;stroke-opacity:1\"/>\n",
       "<path class=\"bond-3 atom-4 atom-5\" d=\"M 194.5,7.5 L 255.5,53.4\" style=\"fill:none;fill-rule:evenodd;stroke:#000000;stroke-width:2.0px;stroke-linecap:butt;stroke-linejoin:miter;stroke-opacity:1\"/>\n",
       "<path class=\"bond-4 atom-5 atom-6\" d=\"M 255.5,53.4 L 325.8,23.5\" style=\"fill:none;fill-rule:evenodd;stroke:#000000;stroke-width:2.0px;stroke-linecap:butt;stroke-linejoin:miter;stroke-opacity:1\"/>\n",
       "<path d=\"M 221.7,106.2 L 225.0,104.3 L 228.3,106.2\" style=\"fill:none;stroke:#000000;stroke-width:2.0px;stroke-linecap:butt;stroke-linejoin:miter;stroke-opacity:1;\"/>\n",
       "<path d=\"M 191.0,9.0 L 194.5,7.5 L 197.5,9.8\" style=\"fill:none;stroke:#000000;stroke-width:2.0px;stroke-linecap:butt;stroke-linejoin:miter;stroke-opacity:1;\"/>\n",
       "<path d=\"M 252.5,51.1 L 255.5,53.4 L 259.0,51.9\" style=\"fill:none;stroke:#000000;stroke-width:2.0px;stroke-linecap:butt;stroke-linejoin:miter;stroke-opacity:1;\"/>\n",
       "</svg>"
      ],
      "text/plain": [
       "<IPython.core.display.SVG object>"
      ]
     },
     "execution_count": 21,
     "metadata": {},
     "output_type": "execute_result"
    }
   ],
   "source": [
    "smiles = \"CCC.CCCC\"\n",
    "mol = rdkit.Chem.MolFromSmiles(smiles)\n",
    "render_mol(mol)"
   ]
  },
  {
   "cell_type": "markdown",
   "id": "dfcab9f1-4eab-4eea-8244-918d31758608",
   "metadata": {},
   "source": [
    "This can be usefule for example to write down ionic bonds, like table salt."
   ]
  },
  {
   "cell_type": "code",
   "execution_count": 23,
   "id": "c352f1e8-fdc6-4cc4-a859-41797fd2de22",
   "metadata": {},
   "outputs": [
    {
     "name": "stdout",
     "output_type": "stream",
     "text": [
      "Sodium chloride [Na+].[Cl-]\n"
     ]
    },
    {
     "data": {
      "image/svg+xml": [
       "<svg xmlns=\"http://www.w3.org/2000/svg\" xmlns:rdkit=\"http://www.rdkit.org/xml\" xmlns:xlink=\"http://www.w3.org/1999/xlink\" version=\"1.1\" baseProfile=\"full\" xml:space=\"preserve\" width=\"450px\" height=\"150px\" viewBox=\"0 0 450 150\">\n",
       "<!-- END OF HEADER -->\n",
       "<rect style=\"opacity:1.0;fill:#FFFFFF;stroke:none\" width=\"450.0\" height=\"150.0\" x=\"0.0\" y=\"0.0\"> </rect>\n",
       "<path class=\"atom-0\" d=\"M 71.9 60.7 L 81.2 75.7 Q 82.1 77.1, 83.6 79.8 Q 85.1 82.5, 85.1 82.7 L 85.1 60.7 L 88.9 60.7 L 88.9 89.0 L 85.0 89.0 L 75.1 72.6 Q 73.9 70.7, 72.7 68.5 Q 71.5 66.3, 71.1 65.6 L 71.1 89.0 L 67.4 89.0 L 67.4 60.7 L 71.9 60.7 \" fill=\"#000000\"/>\n",
       "<path class=\"atom-0\" d=\"M 94.1 83.4 Q 94.1 80.1, 96.8 78.3 Q 99.4 76.5, 104.2 76.5 L 107.3 76.5 L 107.3 75.7 Q 107.3 73.2, 106.2 72.1 Q 105.2 71.0, 102.6 71.0 Q 101.0 71.0, 99.7 71.3 Q 98.4 71.6, 96.4 72.5 L 95.3 69.9 Q 99.0 68.1, 102.7 68.1 Q 107.0 68.1, 109.0 69.9 Q 111.0 71.8, 111.0 75.8 L 111.0 89.0 L 108.1 89.0 Q 108.1 88.8, 108.0 88.2 Q 107.8 87.6, 107.6 86.6 Q 104.7 89.5, 100.9 89.5 Q 97.8 89.5, 96.0 87.8 Q 94.1 86.2, 94.1 83.4 M 97.9 83.3 Q 97.9 84.9, 98.8 85.7 Q 99.8 86.5, 101.6 86.5 Q 103.2 86.5, 104.7 85.8 Q 106.2 85.0, 107.3 83.7 L 107.3 79.3 L 104.5 79.3 Q 101.2 79.3, 99.5 80.3 Q 97.9 81.3, 97.9 83.3 \" fill=\"#000000\"/>\n",
       "<path class=\"atom-0\" d=\"M 116.0 69.2 L 121.0 69.2 L 121.0 64.0 L 123.2 64.0 L 123.2 69.2 L 128.4 69.2 L 128.4 71.1 L 123.2 71.1 L 123.2 76.4 L 121.0 76.4 L 121.0 71.1 L 116.0 71.1 L 116.0 69.2 \" fill=\"#000000\"/>\n",
       "<path class=\"atom-1\" d=\"M 339.6 75.8 Q 339.6 68.8, 342.9 65.1 Q 346.2 61.4, 352.5 61.4 Q 358.4 61.4, 361.5 65.5 L 358.8 67.6 Q 356.6 64.6, 352.5 64.6 Q 348.2 64.6, 346.0 67.5 Q 343.7 70.4, 343.7 75.8 Q 343.7 81.4, 346.0 84.3 Q 348.4 87.2, 353.0 87.2 Q 356.1 87.2, 359.7 85.3 L 360.8 88.3 Q 359.4 89.2, 357.1 89.8 Q 354.9 90.4, 352.4 90.4 Q 346.2 90.4, 342.9 86.6 Q 339.6 82.8, 339.6 75.8 \" fill=\"#00CC00\"/>\n",
       "<path class=\"atom-1\" d=\"M 364.4 59.6 L 368.1 59.6 L 368.1 90.0 L 364.4 90.0 L 364.4 59.6 \" fill=\"#00CC00\"/>\n",
       "<path class=\"atom-1\" d=\"M 372.9 65.3 L 382.6 65.3 L 382.6 67.5 L 372.9 67.5 L 372.9 65.3 \" fill=\"#00CC00\"/>\n",
       "</svg>"
      ],
      "text/plain": [
       "<IPython.core.display.SVG object>"
      ]
     },
     "execution_count": 23,
     "metadata": {},
     "output_type": "execute_result"
    }
   ],
   "source": [
    "smiles = \"[Na+].[Cl-]\"\n",
    "print(get_iupac_name(smiles), smiles)\n",
    "mol = rdkit.Chem.MolFromSmiles(smiles)\n",
    "render_mol(mol)"
   ]
  },
  {
   "cell_type": "markdown",
   "id": "8a23d02f-99c3-42ff-a030-ceb275343667",
   "metadata": {},
   "source": [
    "Further bonds are:\n",
    " - `=` double bond\n",
    " - `#` triple bond\n",
    " - `$` quadruple bond\n",
    " - `:` aromatic bond\n",
    " - `/`, `\\` stereochemistry bonds"
   ]
  },
  {
   "cell_type": "code",
   "execution_count": 25,
   "id": "fe62e1df-230c-4980-b802-14d4b5089370",
   "metadata": {},
   "outputs": [
    {
     "name": "stdout",
     "output_type": "stream",
     "text": [
      "carbon dioxide O=C=O\n"
     ]
    },
    {
     "data": {
      "image/svg+xml": [
       "<svg xmlns=\"http://www.w3.org/2000/svg\" xmlns:rdkit=\"http://www.rdkit.org/xml\" xmlns:xlink=\"http://www.w3.org/1999/xlink\" version=\"1.1\" baseProfile=\"full\" xml:space=\"preserve\" width=\"450px\" height=\"150px\" viewBox=\"0 0 450 150\">\n",
       "<!-- END OF HEADER -->\n",
       "<rect style=\"opacity:1.0;fill:#FFFFFF;stroke:none\" width=\"450.0\" height=\"150.0\" x=\"0.0\" y=\"0.0\"> </rect>\n",
       "<path class=\"bond-0 atom-0 atom-1\" d=\"M 385.3,88.2 L 313.6,88.2\" style=\"fill:none;fill-rule:evenodd;stroke:#FF0000;stroke-width:2.0px;stroke-linecap:butt;stroke-linejoin:miter;stroke-opacity:1\"/>\n",
       "<path class=\"bond-0 atom-0 atom-1\" d=\"M 313.6,88.2 L 241.8,88.2\" style=\"fill:none;fill-rule:evenodd;stroke:#000000;stroke-width:2.0px;stroke-linecap:butt;stroke-linejoin:miter;stroke-opacity:1\"/>\n",
       "<path class=\"bond-0 atom-0 atom-1\" d=\"M 385.3,61.3 L 313.6,61.3\" style=\"fill:none;fill-rule:evenodd;stroke:#FF0000;stroke-width:2.0px;stroke-linecap:butt;stroke-linejoin:miter;stroke-opacity:1\"/>\n",
       "<path class=\"bond-0 atom-0 atom-1\" d=\"M 313.6,61.3 L 241.8,61.3\" style=\"fill:none;fill-rule:evenodd;stroke:#000000;stroke-width:2.0px;stroke-linecap:butt;stroke-linejoin:miter;stroke-opacity:1\"/>\n",
       "<path class=\"bond-1 atom-1 atom-2\" d=\"M 208.2,88.2 L 136.4,88.2\" style=\"fill:none;fill-rule:evenodd;stroke:#000000;stroke-width:2.0px;stroke-linecap:butt;stroke-linejoin:miter;stroke-opacity:1\"/>\n",
       "<path class=\"bond-1 atom-1 atom-2\" d=\"M 136.4,88.2 L 64.7,88.2\" style=\"fill:none;fill-rule:evenodd;stroke:#FF0000;stroke-width:2.0px;stroke-linecap:butt;stroke-linejoin:miter;stroke-opacity:1\"/>\n",
       "<path class=\"bond-1 atom-1 atom-2\" d=\"M 208.2,61.3 L 136.4,61.3\" style=\"fill:none;fill-rule:evenodd;stroke:#000000;stroke-width:2.0px;stroke-linecap:butt;stroke-linejoin:miter;stroke-opacity:1\"/>\n",
       "<path class=\"bond-1 atom-1 atom-2\" d=\"M 136.4,61.3 L 64.7,61.3\" style=\"fill:none;fill-rule:evenodd;stroke:#FF0000;stroke-width:2.0px;stroke-linecap:butt;stroke-linejoin:miter;stroke-opacity:1\"/>\n",
       "<path class=\"atom-0\" d=\"M 391.2 74.9 Q 391.2 68.1, 394.6 64.3 Q 397.9 60.5, 404.2 60.5 Q 410.5 60.5, 413.8 64.3 Q 417.2 68.1, 417.2 74.9 Q 417.2 81.7, 413.8 85.7 Q 410.4 89.5, 404.2 89.5 Q 398.0 89.5, 394.6 85.7 Q 391.2 81.8, 391.2 74.9 M 404.2 86.3 Q 408.5 86.3, 410.8 83.5 Q 413.2 80.5, 413.2 74.9 Q 413.2 69.3, 410.8 66.5 Q 408.5 63.7, 404.2 63.7 Q 399.9 63.7, 397.5 66.5 Q 395.2 69.3, 395.2 74.9 Q 395.2 80.6, 397.5 83.5 Q 399.9 86.3, 404.2 86.3 \" fill=\"#FF0000\"/>\n",
       "<path class=\"atom-1\" d=\"M 214.1 74.9 Q 214.1 67.9, 217.4 64.2 Q 220.7 60.5, 227.0 60.5 Q 232.8 60.5, 235.9 64.6 L 233.3 66.7 Q 231.0 63.7, 227.0 63.7 Q 222.7 63.7, 220.4 66.6 Q 218.2 69.5, 218.2 74.9 Q 218.2 80.5, 220.5 83.4 Q 222.8 86.3, 227.4 86.3 Q 230.5 86.3, 234.2 84.4 L 235.3 87.4 Q 233.8 88.3, 231.6 88.9 Q 229.3 89.5, 226.8 89.5 Q 220.7 89.5, 217.4 85.7 Q 214.1 81.9, 214.1 74.9 \" fill=\"#000000\"/>\n",
       "<path class=\"atom-2\" d=\"M 32.8 74.9 Q 32.8 68.1, 36.2 64.3 Q 39.5 60.5, 45.8 60.5 Q 52.1 60.5, 55.4 64.3 Q 58.8 68.1, 58.8 74.9 Q 58.8 81.7, 55.4 85.7 Q 52.0 89.5, 45.8 89.5 Q 39.6 89.5, 36.2 85.7 Q 32.8 81.8, 32.8 74.9 M 45.8 86.3 Q 50.1 86.3, 52.4 83.5 Q 54.8 80.5, 54.8 74.9 Q 54.8 69.3, 52.4 66.5 Q 50.1 63.7, 45.8 63.7 Q 41.5 63.7, 39.1 66.5 Q 36.8 69.3, 36.8 74.9 Q 36.8 80.6, 39.1 83.5 Q 41.5 86.3, 45.8 86.3 \" fill=\"#FF0000\"/>\n",
       "</svg>"
      ],
      "text/plain": [
       "<IPython.core.display.SVG object>"
      ]
     },
     "execution_count": 25,
     "metadata": {},
     "output_type": "execute_result"
    }
   ],
   "source": [
    "smiles = \"O=C=O\"\n",
    "print(get_iupac_name(smiles), smiles)\n",
    "mol = rdkit.Chem.MolFromSmiles(smiles)\n",
    "render_mol(mol)"
   ]
  },
  {
   "cell_type": "code",
   "execution_count": 30,
   "id": "741f385a-0a9d-46ea-b006-72010b1f773f",
   "metadata": {},
   "outputs": [
    {
     "name": "stdout",
     "output_type": "stream",
     "text": [
      "Acetylene C#C\n"
     ]
    },
    {
     "data": {
      "image/svg+xml": [
       "<svg xmlns=\"http://www.w3.org/2000/svg\" xmlns:rdkit=\"http://www.rdkit.org/xml\" xmlns:xlink=\"http://www.w3.org/1999/xlink\" version=\"1.1\" baseProfile=\"full\" xml:space=\"preserve\" width=\"450px\" height=\"150px\" viewBox=\"0 0 450 150\">\n",
       "<!-- END OF HEADER -->\n",
       "<rect style=\"opacity:1.0;fill:#FFFFFF;stroke:none\" width=\"450.0\" height=\"150.0\" x=\"0.0\" y=\"0.0\"> </rect>\n",
       "<path class=\"bond-0 atom-0 atom-1\" d=\"M 427.5,75.0 L 22.5,75.0\" style=\"fill:none;fill-rule:evenodd;stroke:#000000;stroke-width:2.0px;stroke-linecap:butt;stroke-linejoin:miter;stroke-opacity:1\"/>\n",
       "<path class=\"bond-0 atom-0 atom-1\" d=\"M 427.5,135.8 L 22.5,135.8\" style=\"fill:none;fill-rule:evenodd;stroke:#000000;stroke-width:2.0px;stroke-linecap:butt;stroke-linejoin:miter;stroke-opacity:1\"/>\n",
       "<path class=\"bond-0 atom-0 atom-1\" d=\"M 427.5,14.3 L 22.5,14.3\" style=\"fill:none;fill-rule:evenodd;stroke:#000000;stroke-width:2.0px;stroke-linecap:butt;stroke-linejoin:miter;stroke-opacity:1\"/>\n",
       "</svg>"
      ],
      "text/plain": [
       "<IPython.core.display.SVG object>"
      ]
     },
     "execution_count": 30,
     "metadata": {},
     "output_type": "execute_result"
    }
   ],
   "source": [
    "smiles = \"C#C\"\n",
    "print(get_iupac_name(smiles), smiles)\n",
    "mol = rdkit.Chem.MolFromSmiles(smiles)\n",
    "render_mol(mol)"
   ]
  },
  {
   "cell_type": "code",
   "execution_count": 34,
   "id": "de8194b1-009b-413f-b410-1d9a334e4693",
   "metadata": {},
   "outputs": [
    {
     "name": "stdout",
     "output_type": "stream",
     "text": [
      "Cyanic acid N#CO\n"
     ]
    },
    {
     "data": {
      "image/svg+xml": [
       "<svg xmlns=\"http://www.w3.org/2000/svg\" xmlns:rdkit=\"http://www.rdkit.org/xml\" xmlns:xlink=\"http://www.w3.org/1999/xlink\" version=\"1.1\" baseProfile=\"full\" xml:space=\"preserve\" width=\"450px\" height=\"150px\" viewBox=\"0 0 450 150\">\n",
       "<!-- END OF HEADER -->\n",
       "<rect style=\"opacity:1.0;fill:#FFFFFF;stroke:none\" width=\"450.0\" height=\"150.0\" x=\"0.0\" y=\"0.0\"> </rect>\n",
       "<path class=\"bond-0 atom-0 atom-1\" d=\"M 385.0,75.0 L 312.5,75.0\" style=\"fill:none;fill-rule:evenodd;stroke:#0000FF;stroke-width:2.0px;stroke-linecap:butt;stroke-linejoin:miter;stroke-opacity:1\"/>\n",
       "<path class=\"bond-0 atom-0 atom-1\" d=\"M 312.5,75.0 L 240.1,75.0\" style=\"fill:none;fill-rule:evenodd;stroke:#000000;stroke-width:2.0px;stroke-linecap:butt;stroke-linejoin:miter;stroke-opacity:1\"/>\n",
       "<path class=\"bond-0 atom-0 atom-1\" d=\"M 385.0,99.1 L 312.5,99.1\" style=\"fill:none;fill-rule:evenodd;stroke:#0000FF;stroke-width:2.0px;stroke-linecap:butt;stroke-linejoin:miter;stroke-opacity:1\"/>\n",
       "<path class=\"bond-0 atom-0 atom-1\" d=\"M 312.5,99.1 L 240.1,99.1\" style=\"fill:none;fill-rule:evenodd;stroke:#000000;stroke-width:2.0px;stroke-linecap:butt;stroke-linejoin:miter;stroke-opacity:1\"/>\n",
       "<path class=\"bond-0 atom-0 atom-1\" d=\"M 385.0,50.9 L 312.5,50.9\" style=\"fill:none;fill-rule:evenodd;stroke:#0000FF;stroke-width:2.0px;stroke-linecap:butt;stroke-linejoin:miter;stroke-opacity:1\"/>\n",
       "<path class=\"bond-0 atom-0 atom-1\" d=\"M 312.5,50.9 L 240.1,50.9\" style=\"fill:none;fill-rule:evenodd;stroke:#000000;stroke-width:2.0px;stroke-linecap:butt;stroke-linejoin:miter;stroke-opacity:1\"/>\n",
       "<path class=\"bond-1 atom-1 atom-2\" d=\"M 240.1,75.0 L 168.8,75.0\" style=\"fill:none;fill-rule:evenodd;stroke:#000000;stroke-width:2.0px;stroke-linecap:butt;stroke-linejoin:miter;stroke-opacity:1\"/>\n",
       "<path class=\"bond-1 atom-1 atom-2\" d=\"M 168.8,75.0 L 97.5,75.0\" style=\"fill:none;fill-rule:evenodd;stroke:#FF0000;stroke-width:2.0px;stroke-linecap:butt;stroke-linejoin:miter;stroke-opacity:1\"/>\n",
       "<path d=\"M 243.7,75.0 L 240.1,75.0 L 236.5,75.0\" style=\"fill:none;stroke:#000000;stroke-width:2.0px;stroke-linecap:butt;stroke-linejoin:miter;stroke-opacity:1;\"/>\n",
       "<path class=\"atom-0\" d=\"M 394.8 60.8 L 404.0 75.8 Q 405.0 77.3, 406.4 80.0 Q 407.9 82.7, 408.0 82.8 L 408.0 60.8 L 411.8 60.8 L 411.8 89.2 L 407.9 89.2 L 397.9 72.8 Q 396.8 70.8, 395.5 68.6 Q 394.3 66.4, 394.0 65.8 L 394.0 89.2 L 390.3 89.2 L 390.3 60.8 L 394.8 60.8 \" fill=\"#0000FF\"/>\n",
       "<path class=\"atom-2\" d=\"M 38.2 61.0 L 42.1 61.0 L 42.1 73.0 L 56.6 73.0 L 56.6 61.0 L 60.4 61.0 L 60.4 89.3 L 56.6 89.3 L 56.6 76.2 L 42.1 76.2 L 42.1 89.3 L 38.2 89.3 L 38.2 61.0 \" fill=\"#FF0000\"/>\n",
       "<path class=\"atom-2\" d=\"M 66.2 75.1 Q 66.2 68.3, 69.6 64.5 Q 72.9 60.7, 79.2 60.7 Q 85.5 60.7, 88.9 64.5 Q 92.2 68.3, 92.2 75.1 Q 92.2 82.0, 88.8 85.9 Q 85.4 89.8, 79.2 89.8 Q 73.0 89.8, 69.6 85.9 Q 66.2 82.0, 66.2 75.1 M 79.2 86.6 Q 83.5 86.6, 85.9 83.7 Q 88.2 80.8, 88.2 75.1 Q 88.2 69.5, 85.9 66.7 Q 83.5 63.9, 79.2 63.9 Q 74.9 63.9, 72.5 66.7 Q 70.2 69.5, 70.2 75.1 Q 70.2 80.8, 72.5 83.7 Q 74.9 86.6, 79.2 86.6 \" fill=\"#FF0000\"/>\n",
       "</svg>"
      ],
      "text/plain": [
       "<IPython.core.display.SVG object>"
      ]
     },
     "execution_count": 34,
     "metadata": {},
     "output_type": "execute_result"
    }
   ],
   "source": [
    "smiles = \"N#CO\"\n",
    "print(get_iupac_name(smiles), smiles)\n",
    "mol = rdkit.Chem.MolFromSmiles(smiles)\n",
    "render_mol(mol)"
   ]
  }
 ],
 "metadata": {
  "colab": {
   "provenance": []
  },
  "jupytext": {
   "formats": "py,md,ipynb"
  },
  "kernelspec": {
   "display_name": "Python 3 (ipykernel)",
   "language": "python",
   "name": "python3"
  },
  "language_info": {
   "codemirror_mode": {
    "name": "ipython",
    "version": 3
   },
   "file_extension": ".py",
   "mimetype": "text/x-python",
   "name": "python",
   "nbconvert_exporter": "python",
   "pygments_lexer": "ipython3",
   "version": "3.11.2"
  }
 },
 "nbformat": 4,
 "nbformat_minor": 5
}
